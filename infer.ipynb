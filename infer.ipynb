{
 "cells": [
  {
   "cell_type": "code",
   "metadata": {
    "ExecuteTime": {
     "end_time": "2024-08-23T10:42:39.701429Z",
     "start_time": "2024-08-23T10:42:39.677331Z"
    }
   },
   "source": [
    "import os\n",
    "from time import time\n",
    "from glob import glob\n",
    "import numpy as np\n",
    "import matplotlib.pyplot as plt\n",
    "import SimpleITK as sitk\n",
    "from monai.networks.nets import AttentionUnet\n",
    "from monai.inferers import sliding_window_inference\n",
    "from monai.data import Dataset\n",
    "from monai.transforms import (\n",
    "    Compose,\n",
    "    LoadImage,\n",
    "    EnsureChannelFirst,\n",
    "    EnsureType,\n",
    "    Orientation,\n",
    "    Spacing,\n",
    "    NormalizeIntensity,\n",
    "    Activations,\n",
    "    AsDiscrete\n",
    ")\n",
    "import torch\n",
    "\n",
    "DATA_ROOT = 'D:\\\\github\\\\MICCAI_BraTS2020_ValidationData'\n",
    "MRI_TYPE = 't1ce'\n",
    "EXTENSION = '.nii.gz'\n",
    "DEVICE = torch.device(\"cuda:0\")\n",
    "VAL_AMP = True\n",
    "test_image_paths = glob(os.path.join(DATA_ROOT,'**')+os.sep+'*_'+MRI_TYPE+EXTENSION)\n",
    "print(f\"Found {len(test_image_paths)} test images\")\n",
    "CHOSEN_IDX = 25"
   ],
   "outputs": [
    {
     "name": "stdout",
     "output_type": "stream",
     "text": [
      "Found 125 test images\n"
     ]
    }
   ],
   "execution_count": 15
  },
  {
   "cell_type": "code",
   "metadata": {
    "ExecuteTime": {
     "end_time": "2024-08-23T10:42:39.716451Z",
     "start_time": "2024-08-23T10:42:39.702430Z"
    }
   },
   "source": [
    "test_transform = Compose(\n",
    "    [\n",
    "        LoadImage(),\n",
    "        EnsureChannelFirst(),\n",
    "        EnsureType(),\n",
    "        Orientation(axcodes=\"RAS\"),\n",
    "        Spacing(pixdim=(1.0, 1.0, 1.0), mode=(\"bilinear\", \"nearest\")),\n",
    "        NormalizeIntensity(nonzero=True, channel_wise=True),\n",
    "    ]\n",
    ")\n",
    "post_trans = Compose([Activations(sigmoid=True), AsDiscrete(threshold=0.5)])\n",
    "\n",
    "class BrainTumorDataset(Dataset):\n",
    "    def __init__(self, image_paths, transform=None):\n",
    "        self.image_paths = image_paths\n",
    "        self.transform = transform\n",
    "\n",
    "    def __len__(self):\n",
    "        return len(self.image_paths)\n",
    "\n",
    "    def __getitem__(self, idx):\n",
    "        # Load the image and label\n",
    "        image = self.image_paths[idx]\n",
    "        \n",
    "        # Apply the transform\n",
    "        if self.transform:\n",
    "            image = self.transform(image)\n",
    "\n",
    "        return image\n",
    "\n",
    "def prepare_data(image_path: str):\n",
    "    test_ds = BrainTumorDataset([image_path], transform=test_transform)\n",
    "    test_image = test_ds[0].unsqueeze(0).to(DEVICE)\n",
    "    return test_image"
   ],
   "outputs": [],
   "execution_count": 16
  },
  {
   "cell_type": "code",
   "metadata": {
    "ExecuteTime": {
     "end_time": "2024-08-23T10:42:39.809748Z",
     "start_time": "2024-08-23T10:42:39.717481Z"
    }
   },
   "source": [
    "# define inference method\n",
    "def inference(input, model):\n",
    "    def _compute(input):\n",
    "        return sliding_window_inference(\n",
    "            inputs=input,\n",
    "            roi_size=(240, 240, 160),\n",
    "            sw_batch_size=1,\n",
    "            predictor=model,\n",
    "            overlap=0.5,\n",
    "        )\n",
    "\n",
    "    if VAL_AMP:\n",
    "        with torch.amp.autocast(device_type='cuda'):\n",
    "            return _compute(input)\n",
    "    else:\n",
    "        return _compute(input)\n",
    "\n",
    "def test(output_dir: str):\n",
    "    model = AttentionUnet(spatial_dims=3,\n",
    "        in_channels=1,\n",
    "        out_channels=1,\n",
    "        channels=(16, 32, 64, 128, 256),\n",
    "        strides=(2, 2, 2, 2),\n",
    "        dropout=0.2,\n",
    "    ).to(DEVICE)\n",
    "    model.load_state_dict(torch.load(os.path.join('Checkpoints', \"best_metric_model.pth\"), weights_only=True))\n",
    "    model.eval()\n",
    "    with torch.no_grad():\n",
    "        # select one image to evaluate and visualize the model output\n",
    "        image_name = os.path.basename(test_image_paths[CHOSEN_IDX]).split('.')[0]\n",
    "        image = prepare_data(test_image_paths[CHOSEN_IDX])\n",
    "        output = inference(image, model)\n",
    "        output = post_trans(output[0])\n",
    "        image_array = image.detach().cpu().numpy()\n",
    "        output_array = output.detach().cpu().numpy()\n",
    "        image_array = np.squeeze(np.squeeze(image_array))\n",
    "        output_array = np.squeeze(np.squeeze(output_array))\n",
    "        print(image_array.shape)\n",
    "        print(output_array.shape)\n",
    "        img_sitk = sitk.GetImageFromArray(np.moveaxis(image_array, [0,1,2], [1,2,0]))\n",
    "        output_sitk = sitk.GetImageFromArray(np.moveaxis(output_array, [0,1,2], [1,2,0]))\n",
    "        seg_output_path = os.path.join(output_dir, image_name+\"_seg.nii.gz\")\n",
    "        img_output_path = os.path.join(output_dir, image_name+\".nii.gz\")\n",
    "        # output_sitk.SetSpacing((1.0,1.0,1.0))\n",
    "        sitk.WriteImage(output_sitk, seg_output_path)\n",
    "        sitk.WriteImage(img_sitk, img_output_path)\n",
    "        \n",
    "        # plt.figure(\"image\", (24, 6))\n",
    "        # for i in range(1):\n",
    "        #     plt.subplot(1, 4, i + 1)\n",
    "        #     plt.title(f\"image channel {i}\")\n",
    "        #     plt.imshow(val_ds[6][\"image\"][i, :, :, 70].detach().cpu(), cmap=\"gray\")\n",
    "        # plt.show()\n",
    "        # # visualize the 3 channels model output corresponding to this image\n",
    "        # plt.figure(\"output\", (18, 6))\n",
    "        # for i in range(1):\n",
    "        #     plt.subplot(1, 3, i + 1)\n",
    "        #     plt.title(f\"output channel {i}\")\n",
    "        #     plt.imshow(val_output[i, :, :, 70].detach().cpu())\n",
    "        # plt.show()\n",
    "        "
   ],
   "outputs": [],
   "execution_count": 17
  },
  {
   "cell_type": "code",
   "metadata": {
    "ExecuteTime": {
     "end_time": "2024-08-23T10:42:41.743294Z",
     "start_time": "2024-08-23T10:42:39.814753Z"
    }
   },
   "source": [
    "test(\"./\")"
   ],
   "outputs": [
    {
     "name": "stdout",
     "output_type": "stream",
     "text": [
      "(240, 240, 155)\n",
      "(240, 240, 155)\n"
     ]
    }
   ],
   "execution_count": 18
  },
  {
   "cell_type": "code",
   "metadata": {
    "ExecuteTime": {
     "end_time": "2024-08-23T10:42:41.759322Z",
     "start_time": "2024-08-23T10:42:41.749801Z"
    }
   },
   "source": [],
   "outputs": [],
   "execution_count": 18
  }
 ],
 "metadata": {
  "kernelspec": {
   "display_name": "med",
   "language": "python",
   "name": "python3"
  },
  "language_info": {
   "codemirror_mode": {
    "name": "ipython",
    "version": 3
   },
   "file_extension": ".py",
   "mimetype": "text/x-python",
   "name": "python",
   "nbconvert_exporter": "python",
   "pygments_lexer": "ipython3",
   "version": "3.10.14"
  }
 },
 "nbformat": 4,
 "nbformat_minor": 2
}
