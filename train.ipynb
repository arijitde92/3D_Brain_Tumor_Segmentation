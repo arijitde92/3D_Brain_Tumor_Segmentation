{
 "cells": [
  {
   "cell_type": "code",
   "execution_count": 1,
   "id": "initial_id",
   "metadata": {
    "ExecuteTime": {
     "end_time": "2024-08-20T07:35:22.507390Z",
     "start_time": "2024-08-20T07:35:17.665088Z"
    }
   },
   "outputs": [
    {
     "name": "stdout",
     "output_type": "stream",
     "text": [
      "MONAI version: 1.3.2\n",
      "Numpy version: 1.26.4\n",
      "Pytorch version: 2.4.0\n",
      "MONAI flags: HAS_EXT = False, USE_COMPILED = False, USE_META_DICT = False\n",
      "MONAI rev id: 59a7211070538586369afd4a01eca0a7fe2e742e\n",
      "MONAI __file__: /home/<username>/anaconda3/envs/med/lib/python3.10/site-packages/monai/__init__.py\n",
      "\n",
      "Optional dependencies:\n",
      "Pytorch Ignite version: NOT INSTALLED or UNKNOWN VERSION.\n",
      "ITK version: 5.4.0\n",
      "Nibabel version: 5.2.1\n",
      "scikit-image version: 0.23.2\n",
      "scipy version: 1.13.1\n",
      "Pillow version: 10.4.0\n",
      "Tensorboard version: NOT INSTALLED or UNKNOWN VERSION.\n",
      "gdown version: NOT INSTALLED or UNKNOWN VERSION.\n",
      "TorchVision version: 0.19.0\n",
      "tqdm version: 4.66.4\n",
      "lmdb version: NOT INSTALLED or UNKNOWN VERSION.\n",
      "psutil version: 6.0.0\n",
      "pandas version: 2.2.2\n",
      "einops version: NOT INSTALLED or UNKNOWN VERSION.\n",
      "transformers version: NOT INSTALLED or UNKNOWN VERSION.\n",
      "mlflow version: NOT INSTALLED or UNKNOWN VERSION.\n",
      "pynrrd version: NOT INSTALLED or UNKNOWN VERSION.\n",
      "clearml version: NOT INSTALLED or UNKNOWN VERSION.\n",
      "\n",
      "For details about installing the optional dependencies, please visit:\n",
      "    https://docs.monai.io/en/latest/installation.html#installing-the-recommended-dependencies\n",
      "\n"
     ]
    }
   ],
   "source": [
    "import os\n",
    "from glob import glob\n",
    "from time import time\n",
    "import SimpleITK as sitk\n",
    "from sklearn.model_selection import train_test_split\n",
    "import numpy as np\n",
    "import matplotlib.pyplot as plt\n",
    "from monai.handlers.utils import from_engine\n",
    "from monai.networks.nets import AttentionUnet\n",
    "from monai.networks.layers import Norm\n",
    "from monai.metrics import DiceMetric\n",
    "from monai.losses import DiceLoss\n",
    "from monai.inferers import sliding_window_inference\n",
    "from monai.data import CacheDataset, DataLoader, Dataset, decollate_batch\n",
    "from monai.config import print_config\n",
    "from monai.apps import download_and_extract\n",
    "from monai.transforms import (\n",
    "    Activations,\n",
    "    Activationsd,\n",
    "    AsDiscrete,\n",
    "    AsDiscreted,\n",
    "    Compose,\n",
    "    Invertd,\n",
    "    CropForegroundd,\n",
    "    LoadImaged,\n",
    "    MapTransform,\n",
    "    NormalizeIntensityd,\n",
    "    Orientationd,\n",
    "    RandFlipd,\n",
    "    RandScaleIntensityd,\n",
    "    RandShiftIntensityd,\n",
    "    RandSpatialCropd,\n",
    "    Spacingd,\n",
    "    EnsureTyped,\n",
    "    EnsureChannelFirstd,\n",
    ")\n",
    "from monai.utils import set_determinism\n",
    "import onnxruntime\n",
    "from tqdm.notebook import tqdm\n",
    "\n",
    "import torch\n",
    "\n",
    "print_config()"
   ]
  },
  {
   "cell_type": "code",
   "execution_count": 2,
   "id": "9089cc113f63ad23",
   "metadata": {
    "ExecuteTime": {
     "end_time": "2024-08-20T07:35:24.195222Z",
     "start_time": "2024-08-20T07:35:24.192966Z"
    }
   },
   "outputs": [],
   "source": [
    "def add_channel_dim(data_path: str):\n",
    "    img = sitk.ReadImage(data_path)\n",
    "    array = sitk.GetArrayFromImage(img)\n",
    "    result = np.expand_dims(array, axis=-1)\n",
    "    return result"
   ]
  },
  {
   "cell_type": "code",
   "execution_count": 3,
   "id": "f41eb34661cb376a",
   "metadata": {
    "ExecuteTime": {
     "end_time": "2024-08-20T07:35:26.267564Z",
     "start_time": "2024-08-20T07:35:26.225879Z"
    }
   },
   "outputs": [
    {
     "name": "stdout",
     "output_type": "stream",
     "text": [
      "Found 369 data and 369 labels\n",
      "Splitting dataset in the ratio 0.2\n",
      "Number of training images: 295\n",
      "Number of validation images: 74\n"
     ]
    }
   ],
   "source": [
    "DATA_ROOT = 'Data/MICCAI_BraTS2020_TrainingData'\n",
    "NUMPY_DATA_ROOT = os.path.join('Data', 'BraTS2020_Training_Numpy')\n",
    "MRI_TYPE = 't1ce'\n",
    "LABEL_SUFFIX = 'seg'\n",
    "TEST_RATIO = 0.2\n",
    "data_paths = sorted(glob(os.path.join(DATA_ROOT, '**', f'*_{MRI_TYPE}.nii.gz'), recursive=True))\n",
    "label_paths = sorted(glob(os.path.join(DATA_ROOT, '**', f'*_{LABEL_SUFFIX}.nii.gz'), recursive=True))\n",
    "\n",
    "print(f\"Found {len(data_paths)} data and {len(label_paths)} labels\")\n",
    "assert len(data_paths) == len(label_paths), \"Number of data and labels do not match\"\n",
    "\n",
    "# np_image_paths = []\n",
    "# np_label_paths = []\n",
    "# \n",
    "# if not os.path.exists(NUMPY_DATA_ROOT):\n",
    "#     os.makedirs(NUMPY_DATA_ROOT + os.sep + 'image', exist_ok=True)\n",
    "#     os.makedirs(NUMPY_DATA_ROOT + os.sep + 'label', exist_ok=True)\n",
    "#     for image, label in tqdm(zip(data_paths, label_paths)):\n",
    "#         img_file_name = os.path.basename(image).split('.')[0]+\".npy\"\n",
    "#         lbl_file_name = os.path.basename(label).split('.')[0]+\".npy\"\n",
    "#         image_path = str(os.path.join(NUMPY_DATA_ROOT, 'image', img_file_name))\n",
    "#         label_path = str(os.path.join(NUMPY_DATA_ROOT, 'label', lbl_file_name))\n",
    "#         np_image_paths.append(image_path)\n",
    "#         np_label_paths.append(label_path)\n",
    "#         np.save(image_path, add_channel_dim(image))\n",
    "#         np.save(label_path, add_channel_dim(label))\n",
    "# else:\n",
    "#     np_image_paths = glob(os.path.join(NUMPY_DATA_ROOT, 'image', '*.npy'))\n",
    "#     np_label_paths = glob(os.path.join(NUMPY_DATA_ROOT, 'label', '*.npy'))\n",
    "#     print(\"Found {} numpy images and {} numpy labels\".format(len(np_image_paths), len(np_label_paths)))\n",
    "    \n",
    "# data_dicts = [\n",
    "#     {\"image\": image_name, \"label\": label_name}\n",
    "#     for image_name, label_name in zip(np_image_paths, np_label_paths)\n",
    "# ]\n",
    "data_dicts = [\n",
    "    {\"image\": image_name, \"label\": label_name}\n",
    "    for image_name, label_name in zip(data_paths, label_paths)\n",
    "]\n",
    "train_data, validation_data = train_test_split(data_dicts, test_size=TEST_RATIO, random_state=42)\n",
    "print(\"Splitting dataset in the ratio {}\".format(TEST_RATIO))\n",
    "print(\"Number of training images: {}\".format(len(train_data)))\n",
    "print(\"Number of validation images: {}\".format(len(validation_data)))"
   ]
  },
  {
   "cell_type": "markdown",
   "id": "a0719c25b94d4b8e",
   "metadata": {},
   "source": [
    "## Define a new transform to convert brain tumor labels\n",
    "Here we convert the multi-classes labels into multi-labels segmentation task in One-Hot format."
   ]
  },
  {
   "cell_type": "code",
   "execution_count": 4,
   "id": "9d9e68e3ae00968a",
   "metadata": {
    "ExecuteTime": {
     "end_time": "2024-08-20T07:35:30.251326Z",
     "start_time": "2024-08-20T07:35:30.246985Z"
    }
   },
   "outputs": [],
   "source": [
    "class ConvertToMultiChannelBasedOnBratsClassesd(MapTransform):\n",
    "    \"\"\"\n",
    "    Convert labels to multi channels based on brats classes:\n",
    "    label 1 is the peritumoral edema\n",
    "    label 2 is the GD-enhancing tumor\n",
    "    label 3 is the necrotic and non-enhancing tumor core\n",
    "    The possible classes are TC (Tumor core), WT (Whole tumor)\n",
    "    and ET (Enhancing tumor).\n",
    "\n",
    "    \"\"\"\n",
    "\n",
    "    def __call__(self, data):\n",
    "        d = dict(data)\n",
    "        for key in self.keys:\n",
    "            # result = []\n",
    "            # merge label 2 and label 3 to construct TC\n",
    "            # result.append(torch.logical_or(d[key] == 2, d[key] == 3))\n",
    "            # merge labels 1, 2 and 3 to construct WT\n",
    "            whole_tumor = torch.logical_or(torch.logical_or(d[key] == 2, d[key] == 3), d[key] == 1)\n",
    "            # label 2 is ET\n",
    "            # result.append(d[key] == 2)\n",
    "            d[key] = whole_tumor.float()\n",
    "        return d"
   ]
  },
  {
   "cell_type": "code",
   "execution_count": 5,
   "id": "f9062315b195c2f1",
   "metadata": {
    "ExecuteTime": {
     "end_time": "2024-08-20T07:35:30.858175Z",
     "start_time": "2024-08-20T07:35:30.848576Z"
    }
   },
   "outputs": [],
   "source": [
    "train_transform = Compose(\n",
    "    [\n",
    "        # load 4 Nifti images and stack them together\n",
    "        # LoadImaged(keys=[\"image\", \"label\"], reader='NumpyReader'),\n",
    "        LoadImaged(keys=[\"image\", \"label\"]),\n",
    "        EnsureChannelFirstd(keys=[\"image\", \"label\"]),\n",
    "        EnsureTyped(keys=[\"image\", \"label\"]),\n",
    "        # CropForegroundd(keys=[\"image\", \"label\"], source_key=\"image\", allow_smaller=False),\n",
    "        ConvertToMultiChannelBasedOnBratsClassesd(keys=\"label\"),\n",
    "        Orientationd(keys=[\"image\", \"label\"], axcodes=\"RAS\"),\n",
    "        Spacingd(\n",
    "            keys=[\"image\", \"label\"],\n",
    "            pixdim=(1.0, 1.0, 1.0),\n",
    "            mode=(\"bilinear\", \"nearest\"),\n",
    "        ),\n",
    "        RandSpatialCropd(keys=[\"image\", \"label\"], roi_size=[224, 224, 144], random_size=False),\n",
    "        RandFlipd(keys=[\"image\", \"label\"], prob=0.5, spatial_axis=0),\n",
    "        RandFlipd(keys=[\"image\", \"label\"], prob=0.5, spatial_axis=1),\n",
    "        RandFlipd(keys=[\"image\", \"label\"], prob=0.5, spatial_axis=2),\n",
    "        NormalizeIntensityd(keys=\"image\", nonzero=True, channel_wise=True),\n",
    "        RandScaleIntensityd(keys=\"image\", factors=0.1, prob=1.0),\n",
    "        RandShiftIntensityd(keys=\"image\", offsets=0.1, prob=1.0),\n",
    "    ]\n",
    ")\n",
    "val_transform = Compose(\n",
    "    [\n",
    "        # LoadImaged(keys=[\"image\", \"label\"], reader='NumpyReader'),\n",
    "        LoadImaged(keys=[\"image\", \"label\"], reader=\"nibabelreader\"),\n",
    "        EnsureChannelFirstd(keys=[\"image\", \"label\"]),\n",
    "        EnsureTyped(keys=[\"image\", \"label\"]),\n",
    "        # CropForegroundd(keys=[\"image\", \"label\"], source_key=\"image\", allow_smaller=False),\n",
    "        ConvertToMultiChannelBasedOnBratsClassesd(keys=\"label\"),\n",
    "        Orientationd(keys=[\"image\", \"label\"], axcodes=\"RAS\"),\n",
    "        Spacingd(\n",
    "            keys=[\"image\", \"label\"],\n",
    "            pixdim=(1.0, 1.0, 1.0),\n",
    "            mode=(\"bilinear\", \"nearest\"),\n",
    "        ),\n",
    "        NormalizeIntensityd(keys=\"image\", nonzero=True, channel_wise=True),\n",
    "    ]\n",
    ")"
   ]
  },
  {
   "cell_type": "code",
   "execution_count": 6,
   "id": "2b140bbe936a1779",
   "metadata": {
    "ExecuteTime": {
     "end_time": "2024-08-20T07:35:32.728684Z",
     "start_time": "2024-08-20T07:35:32.726178Z"
    }
   },
   "outputs": [],
   "source": [
    "# here we don't cache any data in case out of memory issue\n",
    "train_ds = Dataset(data=train_data,transform=train_transform)\n",
    "train_loader = DataLoader(train_ds, batch_size=1, shuffle=True, num_workers=4)\n",
    "val_ds = Dataset(data=validation_data,transform=val_transform)\n",
    "val_loader = DataLoader(val_ds, batch_size=1, shuffle=False, num_workers=4)"
   ]
  },
  {
   "cell_type": "code",
   "execution_count": 7,
   "id": "630e986febec4b34",
   "metadata": {
    "ExecuteTime": {
     "end_time": "2024-08-19T14:41:07.814917Z",
     "start_time": "2024-08-19T14:41:07.445629Z"
    }
   },
   "outputs": [
    {
     "name": "stdout",
     "output_type": "stream",
     "text": [
      "image shape: torch.Size([1, 240, 240, 155])\n"
     ]
    },
    {
     "data": {
      "image/png": "[encoded data removed]",
      "text/plain": [
       "<Figure size 2400x600 with 1 Axes>"
      ]
     },
     "metadata": {},
     "output_type": "display_data"
    },
    {
     "name": "stdout",
     "output_type": "stream",
     "text": [
      "label shape: torch.Size([1, 240, 240, 155])\n"
     ]
    },
    {
     "data": {
      "image/png": "[encoded data removed]",
      "text/plain": [
       "<Figure size 1800x600 with 1 Axes>"
      ]
     },
     "metadata": {},
     "output_type": "display_data"
    }
   ],
   "source": [
    "# pick one image from DecathlonDataset to visualize and check the 4 channels\n",
    "val_data_example = val_ds[2]\n",
    "print(f\"image shape: {val_data_example['image'].shape}\")\n",
    "plt.figure(\"image\", (24, 6))\n",
    "for i in range(1):\n",
    "    plt.subplot(1, 4, i + 1)\n",
    "    plt.title(f\"image channel {i}\")\n",
    "    plt.imshow(val_data_example[\"image\"][i, :, :, 60].detach().cpu(), cmap=\"gray\")\n",
    "plt.show()\n",
    "# also visualize the 3 channels label corresponding to this image\n",
    "print(f\"label shape: {val_data_example['label'].shape}\")\n",
    "plt.figure(\"label\", (18, 6))\n",
    "for i in range(1):\n",
    "    plt.subplot(1, 3, i + 1)\n",
    "    plt.title(f\"label channel {i}\")\n",
    "    plt.imshow(val_data_example[\"label\"][i, :, :, 60].detach().cpu(), cmap='gray')\n",
    "plt.show()"
   ]
  },
  {
   "cell_type": "markdown",
   "id": "fccd16cf103dd4f3",
   "metadata": {},
   "source": [
    "## Create Model, Loss and Optimizer"
   ]
  },
  {
   "cell_type": "code",
   "execution_count": 13,
   "id": "50cbc234d2b119f9",
   "metadata": {
    "ExecuteTime": {
     "end_time": "2024-08-20T07:35:55.289108Z",
     "start_time": "2024-08-20T07:35:55.240718Z"
    }
   },
   "outputs": [],
   "source": [
    "max_epochs = 300\n",
    "val_interval = 2\n",
    "VAL_AMP = True\n",
    "\n",
    "# standard PyTorch program style: create SegResNet, DiceLoss and Adam optimizer\n",
    "device = torch.device(\"cuda:0\")\n",
    "model = AttentionUnet(spatial_dims=3,\n",
    "    in_channels=1,\n",
    "    out_channels=1,\n",
    "    channels=(16, 32, 64, 128, 256),\n",
    "    strides=(2, 2, 2, 2),\n",
    "    dropout=0.2,\n",
    ").to(device)\n",
    "loss_function = DiceLoss(smooth_nr=0, smooth_dr=1e-5, squared_pred=True, to_onehot_y=False, sigmoid=True)\n",
    "optimizer = torch.optim.Adam(model.parameters(), 1e-4, weight_decay=1e-5)\n",
    "lr_scheduler = torch.optim.lr_scheduler.CosineAnnealingLR(optimizer, T_max=max_epochs)\n",
    "\n",
    "dice_metric = DiceMetric(include_background=False, reduction=\"mean\")\n",
    "dice_metric_batch = DiceMetric(include_background=True, reduction=\"mean_batch\")\n",
    "\n",
    "post_trans = Compose([Activations(sigmoid=True), AsDiscrete(threshold=0.5)])\n",
    "\n",
    "\n",
    "# define inference method\n",
    "def inference(input):\n",
    "    def _compute(input):\n",
    "        return sliding_window_inference(\n",
    "            inputs=input,\n",
    "            roi_size=(240, 240, 160),\n",
    "            sw_batch_size=1,\n",
    "            predictor=model,\n",
    "            overlap=0.5,\n",
    "        )\n",
    "\n",
    "    if VAL_AMP:\n",
    "        with torch.amp.autocast(device_type='cuda'):\n",
    "            return _compute(input)\n",
    "    else:\n",
    "        return _compute(input)\n",
    "\n",
    "\n",
    "# use amp to accelerate training\n",
    "scaler = torch.amp.GradScaler()\n",
    "# enable cuDNN benchmark\n",
    "torch.backends.cudnn.benchmark = True"
   ]
  },
  {
   "cell_type": "markdown",
   "id": "3991dbdfd3eb9239",
   "metadata": {},
   "source": [
    "## Train"
   ]
  },
  {
   "cell_type": "code",
   "execution_count": 15,
   "id": "f3e2a9114ca1bdd6",
   "metadata": {
    "ExecuteTime": {
     "end_time": "2024-08-20T07:38:38.299412Z",
     "start_time": "2024-08-20T07:36:01.816298Z"
    }
   },
   "outputs": [
    {
     "name": "stdout",
     "output_type": "stream",
     "text": [
      "----------\n",
      "epoch 1/300\n"
     ]
    },
    {
     "data": {
      "application/vnd.jupyter.widget-view+json": {
       "model_id": "f6bda77d13d64cf6987889ebc033fb5d",
       "version_major": 2,
       "version_minor": 0
      },
      "text/plain": [
       "  0%|          | 0/295 [00:00<?, ?it/s]"
      ]
     },
     "metadata": {},
     "output_type": "display_data"
    },
    {
     "name": "stdout",
     "output_type": "stream",
     "text": [
      "epoch 1 average loss: 0.8974\n",
      "time consuming of epoch 1 is: 124.2483\n",
      "----------\n",
      "epoch 2/300\n"
     ]
    },
    {
     "data": {
      "application/vnd.jupyter.widget-view+json": {
       "model_id": "a72dc8831d764c9783dbcc36deeaecce",
       "version_major": 2,
       "version_minor": 0
      },
      "text/plain": [
       "  0%|          | 0/295 [00:00<?, ?it/s]"
      ]
     },
     "metadata": {},
     "output_type": "display_data"
    },
    {
     "name": "stdout",
     "output_type": "stream",
     "text": [
      "epoch 2 average loss: 0.8873\n",
      "saved new best metric model\n",
      "current epoch: 2 current mean dice: 0.0974 wt: 0.0974\n",
      "best mean dice: 0.0974 at epoch: 2\n",
      "time consuming of epoch 2 is: 142.3870\n",
      "----------\n",
      "epoch 3/300\n"
     ]
    },
    {
     "data": {
      "application/vnd.jupyter.widget-view+json": {
       "model_id": "bc4dc0ff997749c0b412229f8756edef",
       "version_major": 2,
       "version_minor": 0
      },
      "text/plain": [
       "  0%|          | 0/295 [00:00<?, ?it/s]"
      ]
     },
     "metadata": {},
     "output_type": "display_data"
    },
    {
     "name": "stdout",
     "output_type": "stream",
     "text": [
      "epoch 3 average loss: 0.8763\n",
      "time consuming of epoch 3 is: 124.6459\n",
      "----------\n",
      "epoch 4/300\n"
     ]
    },
    {
     "data": {
      "application/vnd.jupyter.widget-view+json": {
       "model_id": "b9bc9f6bb6fa49d0a20bbb8accf8c402",
       "version_major": 2,
       "version_minor": 0
      },
      "text/plain": [
       "  0%|          | 0/295 [00:00<?, ?it/s]"
      ]
     },
     "metadata": {},
     "output_type": "display_data"
    },
    {
     "name": "stdout",
     "output_type": "stream",
     "text": [
      "epoch 4 average loss: 0.8658\n",
      "saved new best metric model\n",
      "current epoch: 4 current mean dice: 0.1015 wt: 0.1015\n",
      "best mean dice: 0.1015 at epoch: 4\n",
      "time consuming of epoch 4 is: 141.7036\n",
      "----------\n",
      "epoch 5/300\n"
     ]
    },
    {
     "data": {
      "application/vnd.jupyter.widget-view+json": {
       "model_id": "1f8f18fb2acd4f01b5db1cf6e70c7aa7",
       "version_major": 2,
       "version_minor": 0
      },
      "text/plain": [
       "  0%|          | 0/295 [00:00<?, ?it/s]"
      ]
     },
     "metadata": {},
     "output_type": "display_data"
    },
    {
     "name": "stdout",
     "output_type": "stream",
     "text": [
      "epoch 5 average loss: 0.8525\n",
      "time consuming of epoch 5 is: 124.6421\n",
      "----------\n",
      "epoch 6/300\n"
     ]
    },
    {
     "data": {
      "application/vnd.jupyter.widget-view+json": {
       "model_id": "2fed265c68c94208bbd24b4f6081fee8",
       "version_major": 2,
       "version_minor": 0
      },
      "text/plain": [
       "  0%|          | 0/295 [00:00<?, ?it/s]"
      ]
     },
     "metadata": {},
     "output_type": "display_data"
    },
    {
     "name": "stdout",
     "output_type": "stream",
     "text": [
      "epoch 6 average loss: 0.8310\n",
      "saved new best metric model\n",
      "current epoch: 6 current mean dice: 0.4510 wt: 0.4510\n",
      "best mean dice: 0.4510 at epoch: 6\n",
      "time consuming of epoch 6 is: 141.4807\n",
      "----------\n",
      "epoch 7/300\n"
     ]
    },
    {
     "data": {
      "application/vnd.jupyter.widget-view+json": {
       "model_id": "c69a74d56a7d40fdb0c951afdd99bb7d",
       "version_major": 2,
       "version_minor": 0
      },
      "text/plain": [
       "  0%|          | 0/295 [00:00<?, ?it/s]"
      ]
     },
     "metadata": {},
     "output_type": "display_data"
    },
    {
     "name": "stdout",
     "output_type": "stream",
     "text": [
      "epoch 7 average loss: 0.7729\n",
      "time consuming of epoch 7 is: 124.8955\n",
      "----------\n",
      "epoch 8/300\n"
     ]
    },
    {
     "data": {
      "application/vnd.jupyter.widget-view+json": {
       "model_id": "ad1a8852aadb4fd7a3069662b572f672",
       "version_major": 2,
       "version_minor": 0
      },
      "text/plain": [
       "  0%|          | 0/295 [00:00<?, ?it/s]"
      ]
     },
     "metadata": {},
     "output_type": "display_data"
    },
    {
     "name": "stdout",
     "output_type": "stream",
     "text": [
      "epoch 8 average loss: 0.7092\n",
      "saved new best metric model\n",
      "current epoch: 8 current mean dice: 0.5436 wt: 0.5436\n",
      "best mean dice: 0.5436 at epoch: 8\n",
      "time consuming of epoch 8 is: 141.8467\n",
      "----------\n",
      "epoch 9/300\n"
     ]
    },
    {
     "data": {
      "application/vnd.jupyter.widget-view+json": {
       "model_id": "0f9d5108f5d5428bb2df720118723e14",
       "version_major": 2,
       "version_minor": 0
      },
      "text/plain": [
       "  0%|          | 0/295 [00:00<?, ?it/s]"
      ]
     },
     "metadata": {},
     "output_type": "display_data"
    },
    {
     "name": "stdout",
     "output_type": "stream",
     "text": [
      "epoch 9 average loss: 0.6518\n",
      "time consuming of epoch 9 is: 125.2670\n",
      "----------\n",
      "epoch 10/300\n"
     ]
    },
    {
     "data": {
      "application/vnd.jupyter.widget-view+json": {
       "model_id": "befee4dbf5e74e4cb07c80e3d5ba3985",
       "version_major": 2,
       "version_minor": 0
      },
      "text/plain": [
       "  0%|          | 0/295 [00:00<?, ?it/s]"
      ]
     },
     "metadata": {},
     "output_type": "display_data"
    },
    {
     "name": "stdout",
     "output_type": "stream",
     "text": [
      "epoch 10 average loss: 0.5865\n",
      "saved new best metric model\n",
      "current epoch: 10 current mean dice: 0.5961 wt: 0.5961\n",
      "best mean dice: 0.5961 at epoch: 10\n",
      "time consuming of epoch 10 is: 142.0405\n",
      "----------\n",
      "epoch 11/300\n"
     ]
    },
    {
     "data": {
      "application/vnd.jupyter.widget-view+json": {
       "model_id": "cc44b53190944ad2a20948daec5af732",
       "version_major": 2,
       "version_minor": 0
      },
      "text/plain": [
       "  0%|          | 0/295 [00:00<?, ?it/s]"
      ]
     },
     "metadata": {},
     "output_type": "display_data"
    },
    {
     "name": "stdout",
     "output_type": "stream",
     "text": [
      "epoch 11 average loss: 0.5272\n",
      "time consuming of epoch 11 is: 124.5664\n",
      "----------\n",
      "epoch 12/300\n"
     ]
    },
    {
     "data": {
      "application/vnd.jupyter.widget-view+json": {
       "model_id": "e7fe19a38aa6478bb3e1ef4b776f4caf",
       "version_major": 2,
       "version_minor": 0
      },
      "text/plain": [
       "  0%|          | 0/295 [00:00<?, ?it/s]"
      ]
     },
     "metadata": {},
     "output_type": "display_data"
    },
    {
     "name": "stdout",
     "output_type": "stream",
     "text": [
      "epoch 12 average loss: 0.4813\n",
      "saved new best metric model\n",
      "current epoch: 12 current mean dice: 0.6381 wt: 0.6381\n",
      "best mean dice: 0.6381 at epoch: 12\n",
      "time consuming of epoch 12 is: 142.0882\n",
      "----------\n",
      "epoch 13/300\n"
     ]
    },
    {
     "data": {
      "application/vnd.jupyter.widget-view+json": {
       "model_id": "cc777d0b8bce465c9e001bfbf38c9bdd",
       "version_major": 2,
       "version_minor": 0
      },
      "text/plain": [
       "  0%|          | 0/295 [00:00<?, ?it/s]"
      ]
     },
     "metadata": {},
     "output_type": "display_data"
    },
    {
     "name": "stdout",
     "output_type": "stream",
     "text": [
      "epoch 13 average loss: 0.4445\n",
      "time consuming of epoch 13 is: 124.8738\n",
      "----------\n",
      "epoch 14/300\n"
     ]
    },
    {
     "data": {
      "application/vnd.jupyter.widget-view+json": {
       "model_id": "f34143f3dc4a414a91cb2fa8828e6c11",
       "version_major": 2,
       "version_minor": 0
      },
      "text/plain": [
       "  0%|          | 0/295 [00:00<?, ?it/s]"
      ]
     },
     "metadata": {},
     "output_type": "display_data"
    },
    {
     "name": "stdout",
     "output_type": "stream",
     "text": [
      "epoch 14 average loss: 0.4157\n",
      "saved new best metric model\n",
      "current epoch: 14 current mean dice: 0.6434 wt: 0.6434\n",
      "best mean dice: 0.6434 at epoch: 14\n",
      "time consuming of epoch 14 is: 141.7651\n",
      "----------\n",
      "epoch 15/300\n"
     ]
    },
    {
     "data": {
      "application/vnd.jupyter.widget-view+json": {
       "model_id": "7a5ff01ca9a0475f87a9d53bf2de355e",
       "version_major": 2,
       "version_minor": 0
      },
      "text/plain": [
       "  0%|          | 0/295 [00:00<?, ?it/s]"
      ]
     },
     "metadata": {},
     "output_type": "display_data"
    },
    {
     "name": "stdout",
     "output_type": "stream",
     "text": [
      "epoch 15 average loss: 0.3951\n",
      "time consuming of epoch 15 is: 124.9907\n",
      "----------\n",
      "epoch 16/300\n"
     ]
    },
    {
     "data": {
      "application/vnd.jupyter.widget-view+json": {
       "model_id": "83f31031062f47bb9ce7133931f333a9",
       "version_major": 2,
       "version_minor": 0
      },
      "text/plain": [
       "  0%|          | 0/295 [00:00<?, ?it/s]"
      ]
     },
     "metadata": {},
     "output_type": "display_data"
    },
    {
     "name": "stdout",
     "output_type": "stream",
     "text": [
      "epoch 16 average loss: 0.3737\n",
      "saved new best metric model\n",
      "current epoch: 16 current mean dice: 0.6443 wt: 0.6443\n",
      "best mean dice: 0.6443 at epoch: 16\n",
      "time consuming of epoch 16 is: 141.7423\n",
      "----------\n",
      "epoch 17/300\n"
     ]
    },
    {
     "data": {
      "application/vnd.jupyter.widget-view+json": {
       "model_id": "832d2c8c84dc46cd8e2d0a02597f7194",
       "version_major": 2,
       "version_minor": 0
      },
      "text/plain": [
       "  0%|          | 0/295 [00:00<?, ?it/s]"
      ]
     },
     "metadata": {},
     "output_type": "display_data"
    },
    {
     "name": "stdout",
     "output_type": "stream",
     "text": [
      "epoch 17 average loss: 0.3598\n",
      "time consuming of epoch 17 is: 124.1043\n",
      "----------\n",
      "epoch 18/300\n"
     ]
    },
    {
     "data": {
      "application/vnd.jupyter.widget-view+json": {
       "model_id": "b0427efc48c8410aa6280ff91140735c",
       "version_major": 2,
       "version_minor": 0
      },
      "text/plain": [
       "  0%|          | 0/295 [00:00<?, ?it/s]"
      ]
     },
     "metadata": {},
     "output_type": "display_data"
    },
    {
     "name": "stdout",
     "output_type": "stream",
     "text": [
      "epoch 18 average loss: 0.3467\n",
      "saved new best metric model\n",
      "current epoch: 18 current mean dice: 0.6521 wt: 0.6521\n",
      "best mean dice: 0.6521 at epoch: 18\n",
      "time consuming of epoch 18 is: 141.1145\n",
      "----------\n",
      "epoch 19/300\n"
     ]
    },
    {
     "data": {
      "application/vnd.jupyter.widget-view+json": {
       "model_id": "6be454ef894b4e2599f4be08e9a9e18d",
       "version_major": 2,
       "version_minor": 0
      },
      "text/plain": [
       "  0%|          | 0/295 [00:00<?, ?it/s]"
      ]
     },
     "metadata": {},
     "output_type": "display_data"
    },
    {
     "name": "stdout",
     "output_type": "stream",
     "text": [
      "epoch 19 average loss: 0.3339\n",
      "time consuming of epoch 19 is: 124.5298\n",
      "----------\n",
      "epoch 20/300\n"
     ]
    },
    {
     "data": {
      "application/vnd.jupyter.widget-view+json": {
       "model_id": "5c409bcffc4b4866924525c9ff2e12b8",
       "version_major": 2,
       "version_minor": 0
      },
      "text/plain": [
       "  0%|          | 0/295 [00:00<?, ?it/s]"
      ]
     },
     "metadata": {},
     "output_type": "display_data"
    },
    {
     "name": "stdout",
     "output_type": "stream",
     "text": [
      "epoch 20 average loss: 0.3234\n",
      "saved new best metric model\n",
      "current epoch: 20 current mean dice: 0.6726 wt: 0.6726\n",
      "best mean dice: 0.6726 at epoch: 20\n",
      "time consuming of epoch 20 is: 141.3794\n",
      "----------\n",
      "epoch 21/300\n"
     ]
    },
    {
     "data": {
      "application/vnd.jupyter.widget-view+json": {
       "model_id": "fe11a1abfa43467b8925f9e4737a3f1e",
       "version_major": 2,
       "version_minor": 0
      },
      "text/plain": [
       "  0%|          | 0/295 [00:00<?, ?it/s]"
      ]
     },
     "metadata": {},
     "output_type": "display_data"
    },
    {
     "name": "stdout",
     "output_type": "stream",
     "text": [
      "epoch 21 average loss: 0.3190\n",
      "time consuming of epoch 21 is: 124.8463\n",
      "----------\n",
      "epoch 22/300\n"
     ]
    },
    {
     "data": {
      "application/vnd.jupyter.widget-view+json": {
       "model_id": "2fc6c96460e94445a12498375edfa1f3",
       "version_major": 2,
       "version_minor": 0
      },
      "text/plain": [
       "  0%|          | 0/295 [00:00<?, ?it/s]"
      ]
     },
     "metadata": {},
     "output_type": "display_data"
    },
    {
     "name": "stdout",
     "output_type": "stream",
     "text": [
      "epoch 22 average loss: 0.3093\n",
      "current epoch: 22 current mean dice: 0.6636 wt: 0.6636\n",
      "best mean dice: 0.6726 at epoch: 20\n",
      "time consuming of epoch 22 is: 141.4120\n",
      "----------\n",
      "epoch 23/300\n"
     ]
    },
    {
     "data": {
      "application/vnd.jupyter.widget-view+json": {
       "model_id": "ee05d2e0198c4328b1c4895b7cd8d59b",
       "version_major": 2,
       "version_minor": 0
      },
      "text/plain": [
       "  0%|          | 0/295 [00:00<?, ?it/s]"
      ]
     },
     "metadata": {},
     "output_type": "display_data"
    },
    {
     "name": "stdout",
     "output_type": "stream",
     "text": [
      "epoch 23 average loss: 0.3056\n",
      "time consuming of epoch 23 is: 124.2145\n",
      "----------\n",
      "epoch 24/300\n"
     ]
    },
    {
     "data": {
      "application/vnd.jupyter.widget-view+json": {
       "model_id": "acfa381677b847daa8d3b4ea203b7eeb",
       "version_major": 2,
       "version_minor": 0
      },
      "text/plain": [
       "  0%|          | 0/295 [00:00<?, ?it/s]"
      ]
     },
     "metadata": {},
     "output_type": "display_data"
    },
    {
     "name": "stdout",
     "output_type": "stream",
     "text": [
      "epoch 24 average loss: 0.2995\n",
      "current epoch: 24 current mean dice: 0.6516 wt: 0.6516\n",
      "best mean dice: 0.6726 at epoch: 20\n",
      "time consuming of epoch 24 is: 141.1440\n",
      "----------\n",
      "epoch 25/300\n"
     ]
    },
    {
     "data": {
      "application/vnd.jupyter.widget-view+json": {
       "model_id": "5ccb2b07de684a788703319ca8c3b37f",
       "version_major": 2,
       "version_minor": 0
      },
      "text/plain": [
       "  0%|          | 0/295 [00:00<?, ?it/s]"
      ]
     },
     "metadata": {},
     "output_type": "display_data"
    },
    {
     "name": "stdout",
     "output_type": "stream",
     "text": [
      "epoch 25 average loss: 0.2923\n",
      "time consuming of epoch 25 is: 124.2168\n",
      "----------\n",
      "epoch 26/300\n"
     ]
    },
    {
     "data": {
      "application/vnd.jupyter.widget-view+json": {
       "model_id": "377628caa92c466299e646c67361d763",
       "version_major": 2,
       "version_minor": 0
      },
      "text/plain": [
       "  0%|          | 0/295 [00:00<?, ?it/s]"
      ]
     },
     "metadata": {},
     "output_type": "display_data"
    },
    {
     "name": "stdout",
     "output_type": "stream",
     "text": [
      "epoch 26 average loss: 0.2913\n",
      "saved new best metric model\n",
      "current epoch: 26 current mean dice: 0.6812 wt: 0.6812\n",
      "best mean dice: 0.6812 at epoch: 26\n",
      "time consuming of epoch 26 is: 141.0266\n",
      "----------\n",
      "epoch 27/300\n"
     ]
    },
    {
     "data": {
      "application/vnd.jupyter.widget-view+json": {
       "model_id": "a141057a6383425b8e98c1cf302101d3",
       "version_major": 2,
       "version_minor": 0
      },
      "text/plain": [
       "  0%|          | 0/295 [00:00<?, ?it/s]"
      ]
     },
     "metadata": {},
     "output_type": "display_data"
    },
    {
     "name": "stdout",
     "output_type": "stream",
     "text": [
      "epoch 27 average loss: 0.2897\n",
      "time consuming of epoch 27 is: 123.9663\n",
      "----------\n",
      "epoch 28/300\n"
     ]
    },
    {
     "data": {
      "application/vnd.jupyter.widget-view+json": {
       "model_id": "6083ccae02f64c768ba16388b3c9ed0e",
       "version_major": 2,
       "version_minor": 0
      },
      "text/plain": [
       "  0%|          | 0/295 [00:00<?, ?it/s]"
      ]
     },
     "metadata": {},
     "output_type": "display_data"
    },
    {
     "name": "stdout",
     "output_type": "stream",
     "text": [
      "epoch 28 average loss: 0.2895\n",
      "current epoch: 28 current mean dice: 0.6706 wt: 0.6706\n",
      "best mean dice: 0.6812 at epoch: 26\n",
      "time consuming of epoch 28 is: 141.0174\n",
      "----------\n",
      "epoch 29/300\n"
     ]
    },
    {
     "data": {
      "application/vnd.jupyter.widget-view+json": {
       "model_id": "184f5d8bb1ee47b8925f17639979fdce",
       "version_major": 2,
       "version_minor": 0
      },
      "text/plain": [
       "  0%|          | 0/295 [00:00<?, ?it/s]"
      ]
     },
     "metadata": {},
     "output_type": "display_data"
    },
    {
     "name": "stdout",
     "output_type": "stream",
     "text": [
      "epoch 29 average loss: 0.2862\n",
      "time consuming of epoch 29 is: 124.0427\n",
      "----------\n",
      "epoch 30/300\n"
     ]
    },
    {
     "data": {
      "application/vnd.jupyter.widget-view+json": {
       "model_id": "12cc12d134664fb9bb3a225ad6fc0e3d",
       "version_major": 2,
       "version_minor": 0
      },
      "text/plain": [
       "  0%|          | 0/295 [00:00<?, ?it/s]"
      ]
     },
     "metadata": {},
     "output_type": "display_data"
    },
    {
     "name": "stdout",
     "output_type": "stream",
     "text": [
      "epoch 30 average loss: 0.2852\n",
      "current epoch: 30 current mean dice: 0.6795 wt: 0.6795\n",
      "best mean dice: 0.6812 at epoch: 26\n",
      "time consuming of epoch 30 is: 140.7821\n",
      "----------\n",
      "epoch 31/300\n"
     ]
    },
    {
     "data": {
      "application/vnd.jupyter.widget-view+json": {
       "model_id": "86bca2be6a494dd6a0243c1493ecc3e1",
       "version_major": 2,
       "version_minor": 0
      },
      "text/plain": [
       "  0%|          | 0/295 [00:00<?, ?it/s]"
      ]
     },
     "metadata": {},
     "output_type": "display_data"
    },
    {
     "name": "stdout",
     "output_type": "stream",
     "text": [
      "epoch 31 average loss: 0.2722\n",
      "time consuming of epoch 31 is: 123.9811\n",
      "----------\n",
      "epoch 32/300\n"
     ]
    },
    {
     "data": {
      "application/vnd.jupyter.widget-view+json": {
       "model_id": "8582f246183d49708dfde45ea90ced41",
       "version_major": 2,
       "version_minor": 0
      },
      "text/plain": [
       "  0%|          | 0/295 [00:00<?, ?it/s]"
      ]
     },
     "metadata": {},
     "output_type": "display_data"
    },
    {
     "name": "stdout",
     "output_type": "stream",
     "text": [
      "epoch 32 average loss: 0.2704\n",
      "saved new best metric model\n",
      "current epoch: 32 current mean dice: 0.6888 wt: 0.6888\n",
      "best mean dice: 0.6888 at epoch: 32\n",
      "time consuming of epoch 32 is: 140.9629\n",
      "----------\n",
      "epoch 33/300\n"
     ]
    },
    {
     "data": {
      "application/vnd.jupyter.widget-view+json": {
       "model_id": "734b019a70214de7a0a85a051813e49b",
       "version_major": 2,
       "version_minor": 0
      },
      "text/plain": [
       "  0%|          | 0/295 [00:00<?, ?it/s]"
      ]
     },
     "metadata": {},
     "output_type": "display_data"
    },
    {
     "name": "stdout",
     "output_type": "stream",
     "text": [
      "epoch 33 average loss: 0.2667\n",
      "time consuming of epoch 33 is: 124.2100\n",
      "----------\n",
      "epoch 34/300\n"
     ]
    },
    {
     "data": {
      "application/vnd.jupyter.widget-view+json": {
       "model_id": "fec8d11baad94f3593bb3a2882a4d042",
       "version_major": 2,
       "version_minor": 0
      },
      "text/plain": [
       "  0%|          | 0/295 [00:00<?, ?it/s]"
      ]
     },
     "metadata": {},
     "output_type": "display_data"
    },
    {
     "name": "stdout",
     "output_type": "stream",
     "text": [
      "epoch 34 average loss: 0.2685\n",
      "saved new best metric model\n",
      "current epoch: 34 current mean dice: 0.6925 wt: 0.6925\n",
      "best mean dice: 0.6925 at epoch: 34\n",
      "time consuming of epoch 34 is: 141.3914\n",
      "----------\n",
      "epoch 35/300\n"
     ]
    },
    {
     "data": {
      "application/vnd.jupyter.widget-view+json": {
       "model_id": "19fbdcd73ee042c8b58102ead44bac06",
       "version_major": 2,
       "version_minor": 0
      },
      "text/plain": [
       "  0%|          | 0/295 [00:00<?, ?it/s]"
      ]
     },
     "metadata": {},
     "output_type": "display_data"
    },
    {
     "name": "stdout",
     "output_type": "stream",
     "text": [
      "epoch 35 average loss: 0.2634\n",
      "time consuming of epoch 35 is: 123.6947\n",
      "----------\n",
      "epoch 36/300\n"
     ]
    },
    {
     "data": {
      "application/vnd.jupyter.widget-view+json": {
       "model_id": "c409965979574c0a9f445c1a99f8644b",
       "version_major": 2,
       "version_minor": 0
      },
      "text/plain": [
       "  0%|          | 0/295 [00:00<?, ?it/s]"
      ]
     },
     "metadata": {},
     "output_type": "display_data"
    },
    {
     "name": "stdout",
     "output_type": "stream",
     "text": [
      "epoch 36 average loss: 0.2605\n",
      "current epoch: 36 current mean dice: 0.6865 wt: 0.6865\n",
      "best mean dice: 0.6925 at epoch: 34\n",
      "time consuming of epoch 36 is: 141.5957\n",
      "----------\n",
      "epoch 37/300\n"
     ]
    },
    {
     "data": {
      "application/vnd.jupyter.widget-view+json": {
       "model_id": "68df5af6a26e456a92ea7ef21faa621f",
       "version_major": 2,
       "version_minor": 0
      },
      "text/plain": [
       "  0%|          | 0/295 [00:00<?, ?it/s]"
      ]
     },
     "metadata": {},
     "output_type": "display_data"
    },
    {
     "name": "stdout",
     "output_type": "stream",
     "text": [
      "epoch 37 average loss: 0.2574\n",
      "time consuming of epoch 37 is: 123.8186\n",
      "----------\n",
      "epoch 38/300\n"
     ]
    },
    {
     "data": {
      "application/vnd.jupyter.widget-view+json": {
       "model_id": "8aeeda392a294295b9f697d8d87bc526",
       "version_major": 2,
       "version_minor": 0
      },
      "text/plain": [
       "  0%|          | 0/295 [00:00<?, ?it/s]"
      ]
     },
     "metadata": {},
     "output_type": "display_data"
    },
    {
     "name": "stdout",
     "output_type": "stream",
     "text": [
      "epoch 38 average loss: 0.2626\n",
      "saved new best metric model\n",
      "current epoch: 38 current mean dice: 0.7035 wt: 0.7035\n",
      "best mean dice: 0.7035 at epoch: 38\n",
      "time consuming of epoch 38 is: 141.4129\n",
      "----------\n",
      "epoch 39/300\n"
     ]
    },
    {
     "data": {
      "application/vnd.jupyter.widget-view+json": {
       "model_id": "33143c4dcc324f3e870aba5dd49980a4",
       "version_major": 2,
       "version_minor": 0
      },
      "text/plain": [
       "  0%|          | 0/295 [00:00<?, ?it/s]"
      ]
     },
     "metadata": {},
     "output_type": "display_data"
    },
    {
     "name": "stdout",
     "output_type": "stream",
     "text": [
      "epoch 39 average loss: 0.2509\n",
      "time consuming of epoch 39 is: 123.9659\n",
      "----------\n",
      "epoch 40/300\n"
     ]
    },
    {
     "data": {
      "application/vnd.jupyter.widget-view+json": {
       "model_id": "1842d06438234a248dbc8b2fb64ac4a3",
       "version_major": 2,
       "version_minor": 0
      },
      "text/plain": [
       "  0%|          | 0/295 [00:00<?, ?it/s]"
      ]
     },
     "metadata": {},
     "output_type": "display_data"
    },
    {
     "name": "stdout",
     "output_type": "stream",
     "text": [
      "epoch 40 average loss: 0.2535\n",
      "current epoch: 40 current mean dice: 0.7021 wt: 0.7021\n",
      "best mean dice: 0.7035 at epoch: 38\n",
      "time consuming of epoch 40 is: 140.8607\n",
      "----------\n",
      "epoch 41/300\n"
     ]
    },
    {
     "data": {
      "application/vnd.jupyter.widget-view+json": {
       "model_id": "db1f808381984704a3f7861bcf4a14f4",
       "version_major": 2,
       "version_minor": 0
      },
      "text/plain": [
       "  0%|          | 0/295 [00:00<?, ?it/s]"
      ]
     },
     "metadata": {},
     "output_type": "display_data"
    },
    {
     "name": "stdout",
     "output_type": "stream",
     "text": [
      "epoch 41 average loss: 0.2495\n",
      "time consuming of epoch 41 is: 123.7893\n",
      "----------\n",
      "epoch 42/300\n"
     ]
    },
    {
     "data": {
      "application/vnd.jupyter.widget-view+json": {
       "model_id": "151ba7fd6631449babc8a7b984afc190",
       "version_major": 2,
       "version_minor": 0
      },
      "text/plain": [
       "  0%|          | 0/295 [00:00<?, ?it/s]"
      ]
     },
     "metadata": {},
     "output_type": "display_data"
    },
    {
     "name": "stdout",
     "output_type": "stream",
     "text": [
      "epoch 42 average loss: 0.2469\n",
      "current epoch: 42 current mean dice: 0.6889 wt: 0.6889\n",
      "best mean dice: 0.7035 at epoch: 38\n",
      "time consuming of epoch 42 is: 140.9871\n",
      "----------\n",
      "epoch 43/300\n"
     ]
    },
    {
     "data": {
      "application/vnd.jupyter.widget-view+json": {
       "model_id": "9be8f95b4387463bb7e539f336f3a4ac",
       "version_major": 2,
       "version_minor": 0
      },
      "text/plain": [
       "  0%|          | 0/295 [00:00<?, ?it/s]"
      ]
     },
     "metadata": {},
     "output_type": "display_data"
    },
    {
     "name": "stdout",
     "output_type": "stream",
     "text": [
      "epoch 43 average loss: 0.2482\n",
      "time consuming of epoch 43 is: 123.9696\n",
      "----------\n",
      "epoch 44/300\n"
     ]
    },
    {
     "data": {
      "application/vnd.jupyter.widget-view+json": {
       "model_id": "039259df586447379e51fce5db14ac04",
       "version_major": 2,
       "version_minor": 0
      },
      "text/plain": [
       "  0%|          | 0/295 [00:00<?, ?it/s]"
      ]
     },
     "metadata": {},
     "output_type": "display_data"
    },
    {
     "name": "stdout",
     "output_type": "stream",
     "text": [
      "epoch 44 average loss: 0.2453\n",
      "current epoch: 44 current mean dice: 0.6673 wt: 0.6673\n",
      "best mean dice: 0.7035 at epoch: 38\n",
      "time consuming of epoch 44 is: 140.6812\n",
      "----------\n",
      "epoch 45/300\n"
     ]
    },
    {
     "data": {
      "application/vnd.jupyter.widget-view+json": {
       "model_id": "48b69f8d3bd649d3b78c198c8deb7006",
       "version_major": 2,
       "version_minor": 0
      },
      "text/plain": [
       "  0%|          | 0/295 [00:00<?, ?it/s]"
      ]
     },
     "metadata": {},
     "output_type": "display_data"
    },
    {
     "name": "stdout",
     "output_type": "stream",
     "text": [
      "epoch 45 average loss: 0.2479\n",
      "time consuming of epoch 45 is: 123.7943\n",
      "----------\n",
      "epoch 46/300\n"
     ]
    },
    {
     "data": {
      "application/vnd.jupyter.widget-view+json": {
       "model_id": "b172f2728a694c9aabb6b79120f3e802",
       "version_major": 2,
       "version_minor": 0
      },
      "text/plain": [
       "  0%|          | 0/295 [00:00<?, ?it/s]"
      ]
     },
     "metadata": {},
     "output_type": "display_data"
    },
    {
     "name": "stdout",
     "output_type": "stream",
     "text": [
      "epoch 46 average loss: 0.2430\n",
      "current epoch: 46 current mean dice: 0.7009 wt: 0.7009\n",
      "best mean dice: 0.7035 at epoch: 38\n",
      "time consuming of epoch 46 is: 141.2061\n",
      "----------\n",
      "epoch 47/300\n"
     ]
    },
    {
     "data": {
      "application/vnd.jupyter.widget-view+json": {
       "model_id": "3e7a847735104b52a6d9a84c3c3a76ea",
       "version_major": 2,
       "version_minor": 0
      },
      "text/plain": [
       "  0%|          | 0/295 [00:00<?, ?it/s]"
      ]
     },
     "metadata": {},
     "output_type": "display_data"
    },
    {
     "name": "stdout",
     "output_type": "stream",
     "text": [
      "epoch 47 average loss: 0.2445\n",
      "time consuming of epoch 47 is: 123.8707\n",
      "----------\n",
      "epoch 48/300\n"
     ]
    },
    {
     "data": {
      "application/vnd.jupyter.widget-view+json": {
       "model_id": "6f5ec2d163dd4bde954c494d638bc73b",
       "version_major": 2,
       "version_minor": 0
      },
      "text/plain": [
       "  0%|          | 0/295 [00:00<?, ?it/s]"
      ]
     },
     "metadata": {},
     "output_type": "display_data"
    },
    {
     "name": "stdout",
     "output_type": "stream",
     "text": [
      "epoch 48 average loss: 0.2417\n",
      "current epoch: 48 current mean dice: 0.7024 wt: 0.7024\n",
      "best mean dice: 0.7035 at epoch: 38\n",
      "time consuming of epoch 48 is: 140.8093\n",
      "----------\n",
      "epoch 49/300\n"
     ]
    },
    {
     "data": {
      "application/vnd.jupyter.widget-view+json": {
       "model_id": "02829292dfc44c8a8dcf1d4b360bf897",
       "version_major": 2,
       "version_minor": 0
      },
      "text/plain": [
       "  0%|          | 0/295 [00:00<?, ?it/s]"
      ]
     },
     "metadata": {},
     "output_type": "display_data"
    },
    {
     "name": "stdout",
     "output_type": "stream",
     "text": [
      "epoch 49 average loss: 0.2390\n",
      "time consuming of epoch 49 is: 123.9420\n",
      "----------\n",
      "epoch 50/300\n"
     ]
    },
    {
     "data": {
      "application/vnd.jupyter.widget-view+json": {
       "model_id": "eef3c6b189994dad8beee091398cf4ec",
       "version_major": 2,
       "version_minor": 0
      },
      "text/plain": [
       "  0%|          | 0/295 [00:00<?, ?it/s]"
      ]
     },
     "metadata": {},
     "output_type": "display_data"
    },
    {
     "name": "stdout",
     "output_type": "stream",
     "text": [
      "epoch 50 average loss: 0.2442\n",
      "current epoch: 50 current mean dice: 0.6964 wt: 0.6964\n",
      "best mean dice: 0.7035 at epoch: 38\n",
      "time consuming of epoch 50 is: 141.1718\n",
      "----------\n",
      "epoch 51/300\n"
     ]
    },
    {
     "data": {
      "application/vnd.jupyter.widget-view+json": {
       "model_id": "d4c15f9c08b64417ba394b727ebf04c6",
       "version_major": 2,
       "version_minor": 0
      },
      "text/plain": [
       "  0%|          | 0/295 [00:00<?, ?it/s]"
      ]
     },
     "metadata": {},
     "output_type": "display_data"
    },
    {
     "name": "stdout",
     "output_type": "stream",
     "text": [
      "epoch 51 average loss: 0.2370\n",
      "time consuming of epoch 51 is: 123.7272\n",
      "----------\n",
      "epoch 52/300\n"
     ]
    },
    {
     "data": {
      "application/vnd.jupyter.widget-view+json": {
       "model_id": "a4fbfd3fc3874583938bb43f87664e54",
       "version_major": 2,
       "version_minor": 0
      },
      "text/plain": [
       "  0%|          | 0/295 [00:00<?, ?it/s]"
      ]
     },
     "metadata": {},
     "output_type": "display_data"
    },
    {
     "name": "stdout",
     "output_type": "stream",
     "text": [
      "epoch 52 average loss: 0.2377\n",
      "current epoch: 52 current mean dice: 0.6961 wt: 0.6961\n",
      "best mean dice: 0.7035 at epoch: 38\n",
      "time consuming of epoch 52 is: 140.8893\n",
      "----------\n",
      "epoch 53/300\n"
     ]
    },
    {
     "data": {
      "application/vnd.jupyter.widget-view+json": {
       "model_id": "4a8209a6cb564fd58b7c72bf3f0365bc",
       "version_major": 2,
       "version_minor": 0
      },
      "text/plain": [
       "  0%|          | 0/295 [00:00<?, ?it/s]"
      ]
     },
     "metadata": {},
     "output_type": "display_data"
    },
    {
     "name": "stdout",
     "output_type": "stream",
     "text": [
      "epoch 53 average loss: 0.2393\n",
      "time consuming of epoch 53 is: 123.9597\n",
      "----------\n",
      "epoch 54/300\n"
     ]
    },
    {
     "data": {
      "application/vnd.jupyter.widget-view+json": {
       "model_id": "77afa548555b4803b504fb5a21e3ef33",
       "version_major": 2,
       "version_minor": 0
      },
      "text/plain": [
       "  0%|          | 0/295 [00:00<?, ?it/s]"
      ]
     },
     "metadata": {},
     "output_type": "display_data"
    },
    {
     "name": "stdout",
     "output_type": "stream",
     "text": [
      "epoch 54 average loss: 0.2328\n",
      "saved new best metric model\n",
      "current epoch: 54 current mean dice: 0.7079 wt: 0.7079\n",
      "best mean dice: 0.7079 at epoch: 54\n",
      "time consuming of epoch 54 is: 141.5279\n",
      "----------\n",
      "epoch 55/300\n"
     ]
    },
    {
     "data": {
      "application/vnd.jupyter.widget-view+json": {
       "model_id": "b91b1e0304b442c6ae28b30e473854f7",
       "version_major": 2,
       "version_minor": 0
      },
      "text/plain": [
       "  0%|          | 0/295 [00:00<?, ?it/s]"
      ]
     },
     "metadata": {},
     "output_type": "display_data"
    },
    {
     "name": "stdout",
     "output_type": "stream",
     "text": [
      "epoch 55 average loss: 0.2347\n",
      "time consuming of epoch 55 is: 123.9156\n",
      "----------\n",
      "epoch 56/300\n"
     ]
    },
    {
     "data": {
      "application/vnd.jupyter.widget-view+json": {
       "model_id": "d214f7acb37a4f02aeb4da85cb71eece",
       "version_major": 2,
       "version_minor": 0
      },
      "text/plain": [
       "  0%|          | 0/295 [00:00<?, ?it/s]"
      ]
     },
     "metadata": {},
     "output_type": "display_data"
    },
    {
     "name": "stdout",
     "output_type": "stream",
     "text": [
      "epoch 56 average loss: 0.2334\n",
      "current epoch: 56 current mean dice: 0.6971 wt: 0.6971\n",
      "best mean dice: 0.7079 at epoch: 54\n",
      "time consuming of epoch 56 is: 141.3728\n",
      "----------\n",
      "epoch 57/300\n"
     ]
    },
    {
     "data": {
      "application/vnd.jupyter.widget-view+json": {
       "model_id": "8fb36d60e05a40a4ba30b89145cd94ce",
       "version_major": 2,
       "version_minor": 0
      },
      "text/plain": [
       "  0%|          | 0/295 [00:00<?, ?it/s]"
      ]
     },
     "metadata": {},
     "output_type": "display_data"
    },
    {
     "name": "stdout",
     "output_type": "stream",
     "text": [
      "epoch 57 average loss: 0.2316\n",
      "time consuming of epoch 57 is: 124.3582\n",
      "----------\n",
      "epoch 58/300\n"
     ]
    },
    {
     "data": {
      "application/vnd.jupyter.widget-view+json": {
       "model_id": "d81594fc3cdb4dac95593113bdfbc0fe",
       "version_major": 2,
       "version_minor": 0
      },
      "text/plain": [
       "  0%|          | 0/295 [00:00<?, ?it/s]"
      ]
     },
     "metadata": {},
     "output_type": "display_data"
    },
    {
     "name": "stdout",
     "output_type": "stream",
     "text": [
      "epoch 58 average loss: 0.2314\n",
      "saved new best metric model\n",
      "current epoch: 58 current mean dice: 0.7104 wt: 0.7104\n",
      "best mean dice: 0.7104 at epoch: 58\n",
      "time consuming of epoch 58 is: 141.3741\n",
      "----------\n",
      "epoch 59/300\n"
     ]
    },
    {
     "data": {
      "application/vnd.jupyter.widget-view+json": {
       "model_id": "f8819df71afb4f389d4f58e73cb00828",
       "version_major": 2,
       "version_minor": 0
      },
      "text/plain": [
       "  0%|          | 0/295 [00:00<?, ?it/s]"
      ]
     },
     "metadata": {},
     "output_type": "display_data"
    },
    {
     "name": "stdout",
     "output_type": "stream",
     "text": [
      "epoch 59 average loss: 0.2310\n",
      "time consuming of epoch 59 is: 123.8882\n",
      "----------\n",
      "epoch 60/300\n"
     ]
    },
    {
     "data": {
      "application/vnd.jupyter.widget-view+json": {
       "model_id": "63612b8a836f43939342a99c5703f811",
       "version_major": 2,
       "version_minor": 0
      },
      "text/plain": [
       "  0%|          | 0/295 [00:00<?, ?it/s]"
      ]
     },
     "metadata": {},
     "output_type": "display_data"
    },
    {
     "name": "stdout",
     "output_type": "stream",
     "text": [
      "epoch 60 average loss: 0.2279\n",
      "current epoch: 60 current mean dice: 0.7005 wt: 0.7005\n",
      "best mean dice: 0.7104 at epoch: 58\n",
      "time consuming of epoch 60 is: 140.7812\n",
      "----------\n",
      "epoch 61/300\n"
     ]
    },
    {
     "data": {
      "application/vnd.jupyter.widget-view+json": {
       "model_id": "1eb7194d34d94a9abbbd43bb714faf6c",
       "version_major": 2,
       "version_minor": 0
      },
      "text/plain": [
       "  0%|          | 0/295 [00:00<?, ?it/s]"
      ]
     },
     "metadata": {},
     "output_type": "display_data"
    },
    {
     "name": "stdout",
     "output_type": "stream",
     "text": [
      "epoch 61 average loss: 0.2311\n",
      "time consuming of epoch 61 is: 123.7591\n",
      "----------\n",
      "epoch 62/300\n"
     ]
    },
    {
     "data": {
      "application/vnd.jupyter.widget-view+json": {
       "model_id": "a91d1bccf9d2409cb0be61f7621dba70",
       "version_major": 2,
       "version_minor": 0
      },
      "text/plain": [
       "  0%|          | 0/295 [00:00<?, ?it/s]"
      ]
     },
     "metadata": {},
     "output_type": "display_data"
    },
    {
     "name": "stdout",
     "output_type": "stream",
     "text": [
      "epoch 62 average loss: 0.2300\n",
      "current epoch: 62 current mean dice: 0.6918 wt: 0.6918\n",
      "best mean dice: 0.7104 at epoch: 58\n",
      "time consuming of epoch 62 is: 140.8448\n",
      "----------\n",
      "epoch 63/300\n"
     ]
    },
    {
     "data": {
      "application/vnd.jupyter.widget-view+json": {
       "model_id": "287027ecb60d48fd922b3ebf3a1c413b",
       "version_major": 2,
       "version_minor": 0
      },
      "text/plain": [
       "  0%|          | 0/295 [00:00<?, ?it/s]"
      ]
     },
     "metadata": {},
     "output_type": "display_data"
    },
    {
     "name": "stdout",
     "output_type": "stream",
     "text": [
      "epoch 63 average loss: 0.2232\n",
      "time consuming of epoch 63 is: 124.1820\n",
      "----------\n",
      "epoch 64/300\n"
     ]
    },
    {
     "data": {
      "application/vnd.jupyter.widget-view+json": {
       "model_id": "ae166539d200493fadc471d7dcfbc896",
       "version_major": 2,
       "version_minor": 0
      },
      "text/plain": [
       "  0%|          | 0/295 [00:00<?, ?it/s]"
      ]
     },
     "metadata": {},
     "output_type": "display_data"
    },
    {
     "name": "stdout",
     "output_type": "stream",
     "text": [
      "epoch 64 average loss: 0.2297\n",
      "current epoch: 64 current mean dice: 0.6926 wt: 0.6926\n",
      "best mean dice: 0.7104 at epoch: 58\n",
      "time consuming of epoch 64 is: 140.8687\n",
      "----------\n",
      "epoch 65/300\n"
     ]
    },
    {
     "data": {
      "application/vnd.jupyter.widget-view+json": {
       "model_id": "2373d8f459384b16988c917a282b9217",
       "version_major": 2,
       "version_minor": 0
      },
      "text/plain": [
       "  0%|          | 0/295 [00:00<?, ?it/s]"
      ]
     },
     "metadata": {},
     "output_type": "display_data"
    },
    {
     "name": "stdout",
     "output_type": "stream",
     "text": [
      "epoch 65 average loss: 0.2311\n",
      "time consuming of epoch 65 is: 123.8976\n",
      "----------\n",
      "epoch 66/300\n"
     ]
    },
    {
     "data": {
      "application/vnd.jupyter.widget-view+json": {
       "model_id": "a2133ba0fb52421cb4e1751ba380486d",
       "version_major": 2,
       "version_minor": 0
      },
      "text/plain": [
       "  0%|          | 0/295 [00:00<?, ?it/s]"
      ]
     },
     "metadata": {},
     "output_type": "display_data"
    },
    {
     "name": "stdout",
     "output_type": "stream",
     "text": [
      "epoch 66 average loss: 0.2229\n",
      "current epoch: 66 current mean dice: 0.6881 wt: 0.6881\n",
      "best mean dice: 0.7104 at epoch: 58\n",
      "time consuming of epoch 66 is: 141.2425\n",
      "----------\n",
      "epoch 67/300\n"
     ]
    },
    {
     "data": {
      "application/vnd.jupyter.widget-view+json": {
       "model_id": "cdaef287f853479f95fa6eb31f9f25f8",
       "version_major": 2,
       "version_minor": 0
      },
      "text/plain": [
       "  0%|          | 0/295 [00:00<?, ?it/s]"
      ]
     },
     "metadata": {},
     "output_type": "display_data"
    },
    {
     "name": "stdout",
     "output_type": "stream",
     "text": [
      "epoch 67 average loss: 0.2237\n",
      "time consuming of epoch 67 is: 124.1465\n",
      "----------\n",
      "epoch 68/300\n"
     ]
    },
    {
     "data": {
      "application/vnd.jupyter.widget-view+json": {
       "model_id": "254e6cf0e0cc453b88ed9a7b5a5d35bf",
       "version_major": 2,
       "version_minor": 0
      },
      "text/plain": [
       "  0%|          | 0/295 [00:00<?, ?it/s]"
      ]
     },
     "metadata": {},
     "output_type": "display_data"
    },
    {
     "name": "stdout",
     "output_type": "stream",
     "text": [
      "epoch 68 average loss: 0.2173\n",
      "saved new best metric model\n",
      "current epoch: 68 current mean dice: 0.7176 wt: 0.7176\n",
      "best mean dice: 0.7176 at epoch: 68\n",
      "time consuming of epoch 68 is: 141.4122\n",
      "----------\n",
      "epoch 69/300\n"
     ]
    },
    {
     "data": {
      "application/vnd.jupyter.widget-view+json": {
       "model_id": "716e6ca075154fe588da666627571bbc",
       "version_major": 2,
       "version_minor": 0
      },
      "text/plain": [
       "  0%|          | 0/295 [00:00<?, ?it/s]"
      ]
     },
     "metadata": {},
     "output_type": "display_data"
    },
    {
     "name": "stdout",
     "output_type": "stream",
     "text": [
      "epoch 69 average loss: 0.2261\n",
      "time consuming of epoch 69 is: 124.4639\n",
      "----------\n",
      "epoch 70/300\n"
     ]
    },
    {
     "data": {
      "application/vnd.jupyter.widget-view+json": {
       "model_id": "0c7e6622529546408fe9e218e66beb7b",
       "version_major": 2,
       "version_minor": 0
      },
      "text/plain": [
       "  0%|          | 0/295 [00:00<?, ?it/s]"
      ]
     },
     "metadata": {},
     "output_type": "display_data"
    },
    {
     "name": "stdout",
     "output_type": "stream",
     "text": [
      "epoch 70 average loss: 0.2204\n",
      "current epoch: 70 current mean dice: 0.7083 wt: 0.7083\n",
      "best mean dice: 0.7176 at epoch: 68\n",
      "time consuming of epoch 70 is: 140.4522\n",
      "----------\n",
      "epoch 71/300\n"
     ]
    },
    {
     "data": {
      "application/vnd.jupyter.widget-view+json": {
       "model_id": "4ec938e1139440e68689440ad2950d11",
       "version_major": 2,
       "version_minor": 0
      },
      "text/plain": [
       "  0%|          | 0/295 [00:00<?, ?it/s]"
      ]
     },
     "metadata": {},
     "output_type": "display_data"
    },
    {
     "name": "stdout",
     "output_type": "stream",
     "text": [
      "epoch 71 average loss: 0.2219\n",
      "time consuming of epoch 71 is: 123.3123\n",
      "----------\n",
      "epoch 72/300\n"
     ]
    },
    {
     "data": {
      "application/vnd.jupyter.widget-view+json": {
       "model_id": "2008aa79826a4c18b7f90adc9a00452b",
       "version_major": 2,
       "version_minor": 0
      },
      "text/plain": [
       "  0%|          | 0/295 [00:00<?, ?it/s]"
      ]
     },
     "metadata": {},
     "output_type": "display_data"
    },
    {
     "name": "stdout",
     "output_type": "stream",
     "text": [
      "epoch 72 average loss: 0.2185\n",
      "current epoch: 72 current mean dice: 0.7054 wt: 0.7054\n",
      "best mean dice: 0.7176 at epoch: 68\n",
      "time consuming of epoch 72 is: 140.2866\n",
      "----------\n",
      "epoch 73/300\n"
     ]
    },
    {
     "data": {
      "application/vnd.jupyter.widget-view+json": {
       "model_id": "a7a33ec94909414fab93ca889fa96bb3",
       "version_major": 2,
       "version_minor": 0
      },
      "text/plain": [
       "  0%|          | 0/295 [00:00<?, ?it/s]"
      ]
     },
     "metadata": {},
     "output_type": "display_data"
    },
    {
     "name": "stdout",
     "output_type": "stream",
     "text": [
      "epoch 73 average loss: 0.2185\n",
      "time consuming of epoch 73 is: 123.6034\n",
      "----------\n",
      "epoch 74/300\n"
     ]
    },
    {
     "data": {
      "application/vnd.jupyter.widget-view+json": {
       "model_id": "aa45d214b32c47d1a7be5a3f58a295cd",
       "version_major": 2,
       "version_minor": 0
      },
      "text/plain": [
       "  0%|          | 0/295 [00:00<?, ?it/s]"
      ]
     },
     "metadata": {},
     "output_type": "display_data"
    },
    {
     "name": "stdout",
     "output_type": "stream",
     "text": [
      "epoch 74 average loss: 0.2175\n",
      "current epoch: 74 current mean dice: 0.7176 wt: 0.7176\n",
      "best mean dice: 0.7176 at epoch: 68\n",
      "time consuming of epoch 74 is: 140.2526\n",
      "----------\n",
      "epoch 75/300\n"
     ]
    },
    {
     "data": {
      "application/vnd.jupyter.widget-view+json": {
       "model_id": "0bf0a8f7ae6541aeb19e64786d880866",
       "version_major": 2,
       "version_minor": 0
      },
      "text/plain": [
       "  0%|          | 0/295 [00:00<?, ?it/s]"
      ]
     },
     "metadata": {},
     "output_type": "display_data"
    },
    {
     "name": "stdout",
     "output_type": "stream",
     "text": [
      "epoch 75 average loss: 0.2174\n",
      "time consuming of epoch 75 is: 123.3314\n",
      "----------\n",
      "epoch 76/300\n"
     ]
    },
    {
     "data": {
      "application/vnd.jupyter.widget-view+json": {
       "model_id": "9e9df11874f34ee297926dd8b9116afe",
       "version_major": 2,
       "version_minor": 0
      },
      "text/plain": [
       "  0%|          | 0/295 [00:00<?, ?it/s]"
      ]
     },
     "metadata": {},
     "output_type": "display_data"
    },
    {
     "name": "stdout",
     "output_type": "stream",
     "text": [
      "epoch 76 average loss: 0.2236\n",
      "current epoch: 76 current mean dice: 0.7063 wt: 0.7063\n",
      "best mean dice: 0.7176 at epoch: 68\n",
      "time consuming of epoch 76 is: 140.4354\n",
      "----------\n",
      "epoch 77/300\n"
     ]
    },
    {
     "data": {
      "application/vnd.jupyter.widget-view+json": {
       "model_id": "1926c46180e646bc8a906e3ff4fe0ea2",
       "version_major": 2,
       "version_minor": 0
      },
      "text/plain": [
       "  0%|          | 0/295 [00:00<?, ?it/s]"
      ]
     },
     "metadata": {},
     "output_type": "display_data"
    },
    {
     "name": "stdout",
     "output_type": "stream",
     "text": [
      "epoch 77 average loss: 0.2141\n",
      "time consuming of epoch 77 is: 123.2203\n",
      "----------\n",
      "epoch 78/300\n"
     ]
    },
    {
     "data": {
      "application/vnd.jupyter.widget-view+json": {
       "model_id": "81b38584031e4593b1c961c54716407e",
       "version_major": 2,
       "version_minor": 0
      },
      "text/plain": [
       "  0%|          | 0/295 [00:00<?, ?it/s]"
      ]
     },
     "metadata": {},
     "output_type": "display_data"
    },
    {
     "name": "stdout",
     "output_type": "stream",
     "text": [
      "epoch 78 average loss: 0.2168\n",
      "current epoch: 78 current mean dice: 0.7118 wt: 0.7118\n",
      "best mean dice: 0.7176 at epoch: 68\n",
      "time consuming of epoch 78 is: 139.9855\n",
      "----------\n",
      "epoch 79/300\n"
     ]
    },
    {
     "data": {
      "application/vnd.jupyter.widget-view+json": {
       "model_id": "354a1892d5554193b7b661c75cc5b2aa",
       "version_major": 2,
       "version_minor": 0
      },
      "text/plain": [
       "  0%|          | 0/295 [00:00<?, ?it/s]"
      ]
     },
     "metadata": {},
     "output_type": "display_data"
    },
    {
     "name": "stdout",
     "output_type": "stream",
     "text": [
      "epoch 79 average loss: 0.2163\n",
      "time consuming of epoch 79 is: 123.2342\n",
      "----------\n",
      "epoch 80/300\n"
     ]
    },
    {
     "data": {
      "application/vnd.jupyter.widget-view+json": {
       "model_id": "8451f290105944928799559c88225ee6",
       "version_major": 2,
       "version_minor": 0
      },
      "text/plain": [
       "  0%|          | 0/295 [00:00<?, ?it/s]"
      ]
     },
     "metadata": {},
     "output_type": "display_data"
    },
    {
     "name": "stdout",
     "output_type": "stream",
     "text": [
      "epoch 80 average loss: 0.2140\n",
      "current epoch: 80 current mean dice: 0.7068 wt: 0.7068\n",
      "best mean dice: 0.7176 at epoch: 68\n",
      "time consuming of epoch 80 is: 140.3085\n",
      "----------\n",
      "epoch 81/300\n"
     ]
    },
    {
     "data": {
      "application/vnd.jupyter.widget-view+json": {
       "model_id": "b2177278790240e08a3a555b29c780d8",
       "version_major": 2,
       "version_minor": 0
      },
      "text/plain": [
       "  0%|          | 0/295 [00:00<?, ?it/s]"
      ]
     },
     "metadata": {},
     "output_type": "display_data"
    },
    {
     "name": "stdout",
     "output_type": "stream",
     "text": [
      "epoch 81 average loss: 0.2176\n",
      "time consuming of epoch 81 is: 123.1881\n",
      "----------\n",
      "epoch 82/300\n"
     ]
    },
    {
     "data": {
      "application/vnd.jupyter.widget-view+json": {
       "model_id": "ca58859c1e04447a90173295cd4b1730",
       "version_major": 2,
       "version_minor": 0
      },
      "text/plain": [
       "  0%|          | 0/295 [00:00<?, ?it/s]"
      ]
     },
     "metadata": {},
     "output_type": "display_data"
    },
    {
     "name": "stdout",
     "output_type": "stream",
     "text": [
      "epoch 82 average loss: 0.2120\n",
      "saved new best metric model\n",
      "current epoch: 82 current mean dice: 0.7221 wt: 0.7221\n",
      "best mean dice: 0.7221 at epoch: 82\n",
      "time consuming of epoch 82 is: 140.1999\n",
      "----------\n",
      "epoch 83/300\n"
     ]
    },
    {
     "data": {
      "application/vnd.jupyter.widget-view+json": {
       "model_id": "5d33a0a5fe16439fbd79ad4fbce27a8e",
       "version_major": 2,
       "version_minor": 0
      },
      "text/plain": [
       "  0%|          | 0/295 [00:00<?, ?it/s]"
      ]
     },
     "metadata": {},
     "output_type": "display_data"
    },
    {
     "name": "stdout",
     "output_type": "stream",
     "text": [
      "epoch 83 average loss: 0.2123\n",
      "time consuming of epoch 83 is: 123.2598\n",
      "----------\n",
      "epoch 84/300\n"
     ]
    },
    {
     "data": {
      "application/vnd.jupyter.widget-view+json": {
       "model_id": "c068bebbbdaa4deea336b3ea4be72ab9",
       "version_major": 2,
       "version_minor": 0
      },
      "text/plain": [
       "  0%|          | 0/295 [00:00<?, ?it/s]"
      ]
     },
     "metadata": {},
     "output_type": "display_data"
    },
    {
     "name": "stdout",
     "output_type": "stream",
     "text": [
      "epoch 84 average loss: 0.2111\n",
      "current epoch: 84 current mean dice: 0.6990 wt: 0.6990\n",
      "best mean dice: 0.7221 at epoch: 82\n",
      "time consuming of epoch 84 is: 139.8961\n",
      "----------\n",
      "epoch 85/300\n"
     ]
    },
    {
     "data": {
      "application/vnd.jupyter.widget-view+json": {
       "model_id": "929d3bed0f164be9810573139750447b",
       "version_major": 2,
       "version_minor": 0
      },
      "text/plain": [
       "  0%|          | 0/295 [00:00<?, ?it/s]"
      ]
     },
     "metadata": {},
     "output_type": "display_data"
    },
    {
     "name": "stdout",
     "output_type": "stream",
     "text": [
      "epoch 85 average loss: 0.2150\n",
      "time consuming of epoch 85 is: 123.2939\n",
      "----------\n",
      "epoch 86/300\n"
     ]
    },
    {
     "data": {
      "application/vnd.jupyter.widget-view+json": {
       "model_id": "f898bdb8f0c6457ba155f776d6aa4784",
       "version_major": 2,
       "version_minor": 0
      },
      "text/plain": [
       "  0%|          | 0/295 [00:00<?, ?it/s]"
      ]
     },
     "metadata": {},
     "output_type": "display_data"
    },
    {
     "name": "stdout",
     "output_type": "stream",
     "text": [
      "epoch 86 average loss: 0.2071\n",
      "current epoch: 86 current mean dice: 0.7041 wt: 0.7041\n",
      "best mean dice: 0.7221 at epoch: 82\n",
      "time consuming of epoch 86 is: 139.9609\n",
      "----------\n",
      "epoch 87/300\n"
     ]
    },
    {
     "data": {
      "application/vnd.jupyter.widget-view+json": {
       "model_id": "78074e6cdd8b4709a3eda1cd5e9af955",
       "version_major": 2,
       "version_minor": 0
      },
      "text/plain": [
       "  0%|          | 0/295 [00:00<?, ?it/s]"
      ]
     },
     "metadata": {},
     "output_type": "display_data"
    },
    {
     "name": "stdout",
     "output_type": "stream",
     "text": [
      "epoch 87 average loss: 0.2075\n",
      "time consuming of epoch 87 is: 123.4458\n",
      "----------\n",
      "epoch 88/300\n"
     ]
    },
    {
     "data": {
      "application/vnd.jupyter.widget-view+json": {
       "model_id": "898152946ba141c79190de4731e94d42",
       "version_major": 2,
       "version_minor": 0
      },
      "text/plain": [
       "  0%|          | 0/295 [00:00<?, ?it/s]"
      ]
     },
     "metadata": {},
     "output_type": "display_data"
    },
    {
     "name": "stdout",
     "output_type": "stream",
     "text": [
      "epoch 88 average loss: 0.2116\n",
      "saved new best metric model\n",
      "current epoch: 88 current mean dice: 0.7237 wt: 0.7237\n",
      "best mean dice: 0.7237 at epoch: 88\n",
      "time consuming of epoch 88 is: 140.0629\n",
      "----------\n",
      "epoch 89/300\n"
     ]
    },
    {
     "data": {
      "application/vnd.jupyter.widget-view+json": {
       "model_id": "56fc440afc514e46b7268fb2373bc56e",
       "version_major": 2,
       "version_minor": 0
      },
      "text/plain": [
       "  0%|          | 0/295 [00:00<?, ?it/s]"
      ]
     },
     "metadata": {},
     "output_type": "display_data"
    },
    {
     "name": "stdout",
     "output_type": "stream",
     "text": [
      "epoch 89 average loss: 0.2061\n",
      "time consuming of epoch 89 is: 123.4482\n",
      "----------\n",
      "epoch 90/300\n"
     ]
    },
    {
     "data": {
      "application/vnd.jupyter.widget-view+json": {
       "model_id": "4a25ccd466df4938bcfeec47652f27cc",
       "version_major": 2,
       "version_minor": 0
      },
      "text/plain": [
       "  0%|          | 0/295 [00:00<?, ?it/s]"
      ]
     },
     "metadata": {},
     "output_type": "display_data"
    },
    {
     "name": "stdout",
     "output_type": "stream",
     "text": [
      "epoch 90 average loss: 0.2050\n",
      "current epoch: 90 current mean dice: 0.7200 wt: 0.7200\n",
      "best mean dice: 0.7237 at epoch: 88\n",
      "time consuming of epoch 90 is: 140.1846\n",
      "----------\n",
      "epoch 91/300\n"
     ]
    },
    {
     "data": {
      "application/vnd.jupyter.widget-view+json": {
       "model_id": "76372e7332434523b0c29f7e859149b7",
       "version_major": 2,
       "version_minor": 0
      },
      "text/plain": [
       "  0%|          | 0/295 [00:00<?, ?it/s]"
      ]
     },
     "metadata": {},
     "output_type": "display_data"
    },
    {
     "name": "stdout",
     "output_type": "stream",
     "text": [
      "epoch 91 average loss: 0.2101\n",
      "time consuming of epoch 91 is: 123.0228\n",
      "----------\n",
      "epoch 92/300\n"
     ]
    },
    {
     "data": {
      "application/vnd.jupyter.widget-view+json": {
       "model_id": "6128644294314386b7d6a88149408708",
       "version_major": 2,
       "version_minor": 0
      },
      "text/plain": [
       "  0%|          | 0/295 [00:00<?, ?it/s]"
      ]
     },
     "metadata": {},
     "output_type": "display_data"
    },
    {
     "name": "stdout",
     "output_type": "stream",
     "text": [
      "epoch 92 average loss: 0.2098\n",
      "current epoch: 92 current mean dice: 0.7222 wt: 0.7222\n",
      "best mean dice: 0.7237 at epoch: 88\n",
      "time consuming of epoch 92 is: 139.8948\n",
      "----------\n",
      "epoch 93/300\n"
     ]
    },
    {
     "data": {
      "application/vnd.jupyter.widget-view+json": {
       "model_id": "44310335dbef4c52a7baff9cd9778016",
       "version_major": 2,
       "version_minor": 0
      },
      "text/plain": [
       "  0%|          | 0/295 [00:00<?, ?it/s]"
      ]
     },
     "metadata": {},
     "output_type": "display_data"
    },
    {
     "name": "stdout",
     "output_type": "stream",
     "text": [
      "epoch 93 average loss: 0.2054\n",
      "time consuming of epoch 93 is: 123.2923\n",
      "----------\n",
      "epoch 94/300\n"
     ]
    },
    {
     "data": {
      "application/vnd.jupyter.widget-view+json": {
       "model_id": "004f79bc3e8e422f89ec497663e6f7bc",
       "version_major": 2,
       "version_minor": 0
      },
      "text/plain": [
       "  0%|          | 0/295 [00:00<?, ?it/s]"
      ]
     },
     "metadata": {},
     "output_type": "display_data"
    },
    {
     "name": "stdout",
     "output_type": "stream",
     "text": [
      "epoch 94 average loss: 0.2044\n",
      "current epoch: 94 current mean dice: 0.7174 wt: 0.7174\n",
      "best mean dice: 0.7237 at epoch: 88\n",
      "time consuming of epoch 94 is: 140.2069\n",
      "----------\n",
      "epoch 95/300\n"
     ]
    },
    {
     "data": {
      "application/vnd.jupyter.widget-view+json": {
       "model_id": "21df4ca01f8542e8919ef39c7c7e0260",
       "version_major": 2,
       "version_minor": 0
      },
      "text/plain": [
       "  0%|          | 0/295 [00:00<?, ?it/s]"
      ]
     },
     "metadata": {},
     "output_type": "display_data"
    },
    {
     "name": "stdout",
     "output_type": "stream",
     "text": [
      "epoch 95 average loss: 0.2050\n",
      "time consuming of epoch 95 is: 123.1675\n",
      "----------\n",
      "epoch 96/300\n"
     ]
    },
    {
     "data": {
      "application/vnd.jupyter.widget-view+json": {
       "model_id": "23c7e97ca6354e438c30ccddeb67da5b",
       "version_major": 2,
       "version_minor": 0
      },
      "text/plain": [
       "  0%|          | 0/295 [00:00<?, ?it/s]"
      ]
     },
     "metadata": {},
     "output_type": "display_data"
    },
    {
     "name": "stdout",
     "output_type": "stream",
     "text": [
      "epoch 96 average loss: 0.2094\n",
      "current epoch: 96 current mean dice: 0.7035 wt: 0.7035\n",
      "best mean dice: 0.7237 at epoch: 88\n",
      "time consuming of epoch 96 is: 140.0866\n",
      "----------\n",
      "epoch 97/300\n"
     ]
    },
    {
     "data": {
      "application/vnd.jupyter.widget-view+json": {
       "model_id": "2eb32b43654b4ef09159212ae5dc3d94",
       "version_major": 2,
       "version_minor": 0
      },
      "text/plain": [
       "  0%|          | 0/295 [00:00<?, ?it/s]"
      ]
     },
     "metadata": {},
     "output_type": "display_data"
    },
    {
     "name": "stdout",
     "output_type": "stream",
     "text": [
      "epoch 97 average loss: 0.2046\n",
      "time consuming of epoch 97 is: 123.4482\n",
      "----------\n",
      "epoch 98/300\n"
     ]
    },
    {
     "data": {
      "application/vnd.jupyter.widget-view+json": {
       "model_id": "54c45c23d5794cf8bdbe14c7ddb29095",
       "version_major": 2,
       "version_minor": 0
      },
      "text/plain": [
       "  0%|          | 0/295 [00:00<?, ?it/s]"
      ]
     },
     "metadata": {},
     "output_type": "display_data"
    },
    {
     "name": "stdout",
     "output_type": "stream",
     "text": [
      "epoch 98 average loss: 0.2027\n",
      "current epoch: 98 current mean dice: 0.7073 wt: 0.7073\n",
      "best mean dice: 0.7237 at epoch: 88\n",
      "time consuming of epoch 98 is: 140.8315\n",
      "----------\n",
      "epoch 99/300\n"
     ]
    },
    {
     "data": {
      "application/vnd.jupyter.widget-view+json": {
       "model_id": "874152f7ba3d4d3688f5fd765a2f91b3",
       "version_major": 2,
       "version_minor": 0
      },
      "text/plain": [
       "  0%|          | 0/295 [00:00<?, ?it/s]"
      ]
     },
     "metadata": {},
     "output_type": "display_data"
    },
    {
     "name": "stdout",
     "output_type": "stream",
     "text": [
      "epoch 99 average loss: 0.2029\n",
      "time consuming of epoch 99 is: 124.3039\n",
      "----------\n",
      "epoch 100/300\n"
     ]
    },
    {
     "data": {
      "application/vnd.jupyter.widget-view+json": {
       "model_id": "f9d5db6f9f884170a93693e04f8e812e",
       "version_major": 2,
       "version_minor": 0
      },
      "text/plain": [
       "  0%|          | 0/295 [00:00<?, ?it/s]"
      ]
     },
     "metadata": {},
     "output_type": "display_data"
    },
    {
     "name": "stdout",
     "output_type": "stream",
     "text": [
      "epoch 100 average loss: 0.2021\n",
      "saved new best metric model\n",
      "current epoch: 100 current mean dice: 0.7267 wt: 0.7267\n",
      "best mean dice: 0.7267 at epoch: 100\n",
      "time consuming of epoch 100 is: 141.6042\n",
      "----------\n",
      "epoch 101/300\n"
     ]
    },
    {
     "data": {
      "application/vnd.jupyter.widget-view+json": {
       "model_id": "263f95a698c64145be3773b36cd5b28a",
       "version_major": 2,
       "version_minor": 0
      },
      "text/plain": [
       "  0%|          | 0/295 [00:00<?, ?it/s]"
      ]
     },
     "metadata": {},
     "output_type": "display_data"
    },
    {
     "name": "stdout",
     "output_type": "stream",
     "text": [
      "epoch 101 average loss: 0.2022\n",
      "time consuming of epoch 101 is: 124.0975\n",
      "----------\n",
      "epoch 102/300\n"
     ]
    },
    {
     "data": {
      "application/vnd.jupyter.widget-view+json": {
       "model_id": "814e210cb0c94863b1e1da08ee7dcd3f",
       "version_major": 2,
       "version_minor": 0
      },
      "text/plain": [
       "  0%|          | 0/295 [00:00<?, ?it/s]"
      ]
     },
     "metadata": {},
     "output_type": "display_data"
    },
    {
     "name": "stdout",
     "output_type": "stream",
     "text": [
      "epoch 102 average loss: 0.2036\n",
      "saved new best metric model\n",
      "current epoch: 102 current mean dice: 0.7280 wt: 0.7280\n",
      "best mean dice: 0.7280 at epoch: 102\n",
      "time consuming of epoch 102 is: 141.1927\n",
      "----------\n",
      "epoch 103/300\n"
     ]
    },
    {
     "data": {
      "application/vnd.jupyter.widget-view+json": {
       "model_id": "33fd3fda34544fcc9709f061788130b3",
       "version_major": 2,
       "version_minor": 0
      },
      "text/plain": [
       "  0%|          | 0/295 [00:00<?, ?it/s]"
      ]
     },
     "metadata": {},
     "output_type": "display_data"
    },
    {
     "name": "stdout",
     "output_type": "stream",
     "text": [
      "epoch 103 average loss: 0.2034\n",
      "time consuming of epoch 103 is: 124.0681\n",
      "----------\n",
      "epoch 104/300\n"
     ]
    },
    {
     "data": {
      "application/vnd.jupyter.widget-view+json": {
       "model_id": "47f17f85f2c346a9b7324ea6a024f8e2",
       "version_major": 2,
       "version_minor": 0
      },
      "text/plain": [
       "  0%|          | 0/295 [00:00<?, ?it/s]"
      ]
     },
     "metadata": {},
     "output_type": "display_data"
    },
    {
     "name": "stdout",
     "output_type": "stream",
     "text": [
      "epoch 104 average loss: 0.1987\n",
      "current epoch: 104 current mean dice: 0.7103 wt: 0.7103\n",
      "best mean dice: 0.7280 at epoch: 102\n",
      "time consuming of epoch 104 is: 141.9715\n",
      "----------\n",
      "epoch 105/300\n"
     ]
    },
    {
     "data": {
      "application/vnd.jupyter.widget-view+json": {
       "model_id": "579cc1ad3f14468b8625e481c21779f9",
       "version_major": 2,
       "version_minor": 0
      },
      "text/plain": [
       "  0%|          | 0/295 [00:00<?, ?it/s]"
      ]
     },
     "metadata": {},
     "output_type": "display_data"
    },
    {
     "name": "stdout",
     "output_type": "stream",
     "text": [
      "epoch 105 average loss: 0.2016\n",
      "time consuming of epoch 105 is: 124.4743\n",
      "----------\n",
      "epoch 106/300\n"
     ]
    },
    {
     "data": {
      "application/vnd.jupyter.widget-view+json": {
       "model_id": "7abb25cc5ad14e038ebd6b17f3f5c597",
       "version_major": 2,
       "version_minor": 0
      },
      "text/plain": [
       "  0%|          | 0/295 [00:00<?, ?it/s]"
      ]
     },
     "metadata": {},
     "output_type": "display_data"
    },
    {
     "name": "stdout",
     "output_type": "stream",
     "text": [
      "epoch 106 average loss: 0.2006\n",
      "current epoch: 106 current mean dice: 0.7240 wt: 0.7240\n",
      "best mean dice: 0.7280 at epoch: 102\n",
      "time consuming of epoch 106 is: 141.1465\n",
      "----------\n",
      "epoch 107/300\n"
     ]
    },
    {
     "data": {
      "application/vnd.jupyter.widget-view+json": {
       "model_id": "e553af6c200841ab86a55c5fb29939a4",
       "version_major": 2,
       "version_minor": 0
      },
      "text/plain": [
       "  0%|          | 0/295 [00:00<?, ?it/s]"
      ]
     },
     "metadata": {},
     "output_type": "display_data"
    },
    {
     "name": "stdout",
     "output_type": "stream",
     "text": [
      "epoch 107 average loss: 0.2000\n",
      "time consuming of epoch 107 is: 124.4615\n",
      "----------\n",
      "epoch 108/300\n"
     ]
    },
    {
     "data": {
      "application/vnd.jupyter.widget-view+json": {
       "model_id": "810d7dc6e8f445d395451cb41f59345f",
       "version_major": 2,
       "version_minor": 0
      },
      "text/plain": [
       "  0%|          | 0/295 [00:00<?, ?it/s]"
      ]
     },
     "metadata": {},
     "output_type": "display_data"
    },
    {
     "name": "stdout",
     "output_type": "stream",
     "text": [
      "epoch 108 average loss: 0.1976\n",
      "current epoch: 108 current mean dice: 0.7137 wt: 0.7137\n",
      "best mean dice: 0.7280 at epoch: 102\n",
      "time consuming of epoch 108 is: 141.3920\n",
      "----------\n",
      "epoch 109/300\n"
     ]
    },
    {
     "data": {
      "application/vnd.jupyter.widget-view+json": {
       "model_id": "a5e7a21c4e724dca8c5c6ee705ed38dd",
       "version_major": 2,
       "version_minor": 0
      },
      "text/plain": [
       "  0%|          | 0/295 [00:00<?, ?it/s]"
      ]
     },
     "metadata": {},
     "output_type": "display_data"
    },
    {
     "name": "stdout",
     "output_type": "stream",
     "text": [
      "epoch 109 average loss: 0.1963\n",
      "time consuming of epoch 109 is: 124.2199\n",
      "----------\n",
      "epoch 110/300\n"
     ]
    },
    {
     "data": {
      "application/vnd.jupyter.widget-view+json": {
       "model_id": "6aa7d006d4c94340b734196d18473458",
       "version_major": 2,
       "version_minor": 0
      },
      "text/plain": [
       "  0%|          | 0/295 [00:00<?, ?it/s]"
      ]
     },
     "metadata": {},
     "output_type": "display_data"
    },
    {
     "name": "stdout",
     "output_type": "stream",
     "text": [
      "epoch 110 average loss: 0.1971\n",
      "current epoch: 110 current mean dice: 0.7210 wt: 0.7210\n",
      "best mean dice: 0.7280 at epoch: 102\n",
      "time consuming of epoch 110 is: 141.2163\n",
      "----------\n",
      "epoch 111/300\n"
     ]
    },
    {
     "data": {
      "application/vnd.jupyter.widget-view+json": {
       "model_id": "1b65f2aed5e94992b05b7df3b6998221",
       "version_major": 2,
       "version_minor": 0
      },
      "text/plain": [
       "  0%|          | 0/295 [00:00<?, ?it/s]"
      ]
     },
     "metadata": {},
     "output_type": "display_data"
    },
    {
     "name": "stdout",
     "output_type": "stream",
     "text": [
      "epoch 111 average loss: 0.1979\n",
      "time consuming of epoch 111 is: 124.9144\n",
      "----------\n",
      "epoch 112/300\n"
     ]
    },
    {
     "data": {
      "application/vnd.jupyter.widget-view+json": {
       "model_id": "9d17e7a21d41445bac6904f2b7e3194f",
       "version_major": 2,
       "version_minor": 0
      },
      "text/plain": [
       "  0%|          | 0/295 [00:00<?, ?it/s]"
      ]
     },
     "metadata": {},
     "output_type": "display_data"
    },
    {
     "name": "stdout",
     "output_type": "stream",
     "text": [
      "epoch 112 average loss: 0.2005\n",
      "current epoch: 112 current mean dice: 0.7217 wt: 0.7217\n",
      "best mean dice: 0.7280 at epoch: 102\n",
      "time consuming of epoch 112 is: 141.8038\n",
      "----------\n",
      "epoch 113/300\n"
     ]
    },
    {
     "data": {
      "application/vnd.jupyter.widget-view+json": {
       "model_id": "7e479b86928941198cfa48c070bdea53",
       "version_major": 2,
       "version_minor": 0
      },
      "text/plain": [
       "  0%|          | 0/295 [00:00<?, ?it/s]"
      ]
     },
     "metadata": {},
     "output_type": "display_data"
    },
    {
     "name": "stdout",
     "output_type": "stream",
     "text": [
      "epoch 113 average loss: 0.1929\n",
      "time consuming of epoch 113 is: 124.7909\n",
      "----------\n",
      "epoch 114/300\n"
     ]
    },
    {
     "data": {
      "application/vnd.jupyter.widget-view+json": {
       "model_id": "dd549c2072aa4735987f4dd57a45b147",
       "version_major": 2,
       "version_minor": 0
      },
      "text/plain": [
       "  0%|          | 0/295 [00:00<?, ?it/s]"
      ]
     },
     "metadata": {},
     "output_type": "display_data"
    },
    {
     "name": "stdout",
     "output_type": "stream",
     "text": [
      "epoch 114 average loss: 0.1968\n",
      "current epoch: 114 current mean dice: 0.7238 wt: 0.7238\n",
      "best mean dice: 0.7280 at epoch: 102\n",
      "time consuming of epoch 114 is: 141.4926\n",
      "----------\n",
      "epoch 115/300\n"
     ]
    },
    {
     "data": {
      "application/vnd.jupyter.widget-view+json": {
       "model_id": "786982a0ea5643caacedc4beb76a9573",
       "version_major": 2,
       "version_minor": 0
      },
      "text/plain": [
       "  0%|          | 0/295 [00:00<?, ?it/s]"
      ]
     },
     "metadata": {},
     "output_type": "display_data"
    },
    {
     "name": "stdout",
     "output_type": "stream",
     "text": [
      "epoch 115 average loss: 0.1962\n",
      "time consuming of epoch 115 is: 124.5322\n",
      "----------\n",
      "epoch 116/300\n"
     ]
    },
    {
     "data": {
      "application/vnd.jupyter.widget-view+json": {
       "model_id": "b13ffa2e903b4a89ba87ebdda7bb2cd0",
       "version_major": 2,
       "version_minor": 0
      },
      "text/plain": [
       "  0%|          | 0/295 [00:00<?, ?it/s]"
      ]
     },
     "metadata": {},
     "output_type": "display_data"
    },
    {
     "name": "stdout",
     "output_type": "stream",
     "text": [
      "epoch 116 average loss: 0.1942\n",
      "current epoch: 116 current mean dice: 0.7237 wt: 0.7237\n",
      "best mean dice: 0.7280 at epoch: 102\n",
      "time consuming of epoch 116 is: 141.0680\n",
      "----------\n",
      "epoch 117/300\n"
     ]
    },
    {
     "data": {
      "application/vnd.jupyter.widget-view+json": {
       "model_id": "deedb82aaf964c6db759446e8d9621f0",
       "version_major": 2,
       "version_minor": 0
      },
      "text/plain": [
       "  0%|          | 0/295 [00:00<?, ?it/s]"
      ]
     },
     "metadata": {},
     "output_type": "display_data"
    },
    {
     "name": "stdout",
     "output_type": "stream",
     "text": [
      "epoch 117 average loss: 0.1965\n",
      "time consuming of epoch 117 is: 124.5464\n",
      "----------\n",
      "epoch 118/300\n"
     ]
    },
    {
     "data": {
      "application/vnd.jupyter.widget-view+json": {
       "model_id": "c8ad8c18973940cf9348961751f77cff",
       "version_major": 2,
       "version_minor": 0
      },
      "text/plain": [
       "  0%|          | 0/295 [00:00<?, ?it/s]"
      ]
     },
     "metadata": {},
     "output_type": "display_data"
    },
    {
     "name": "stdout",
     "output_type": "stream",
     "text": [
      "epoch 118 average loss: 0.1918\n",
      "current epoch: 118 current mean dice: 0.7187 wt: 0.7187\n",
      "best mean dice: 0.7280 at epoch: 102\n",
      "time consuming of epoch 118 is: 141.6250\n",
      "----------\n",
      "epoch 119/300\n"
     ]
    },
    {
     "data": {
      "application/vnd.jupyter.widget-view+json": {
       "model_id": "c1eb8f6b37634d628032002a80793afb",
       "version_major": 2,
       "version_minor": 0
      },
      "text/plain": [
       "  0%|          | 0/295 [00:00<?, ?it/s]"
      ]
     },
     "metadata": {},
     "output_type": "display_data"
    },
    {
     "name": "stdout",
     "output_type": "stream",
     "text": [
      "epoch 119 average loss: 0.1944\n",
      "time consuming of epoch 119 is: 124.2751\n",
      "----------\n",
      "epoch 120/300\n"
     ]
    },
    {
     "data": {
      "application/vnd.jupyter.widget-view+json": {
       "model_id": "c6e86ad3553745ea898d82619dd84007",
       "version_major": 2,
       "version_minor": 0
      },
      "text/plain": [
       "  0%|          | 0/295 [00:00<?, ?it/s]"
      ]
     },
     "metadata": {},
     "output_type": "display_data"
    },
    {
     "name": "stdout",
     "output_type": "stream",
     "text": [
      "epoch 120 average loss: 0.1925\n",
      "current epoch: 120 current mean dice: 0.7112 wt: 0.7112\n",
      "best mean dice: 0.7280 at epoch: 102\n",
      "time consuming of epoch 120 is: 141.1835\n",
      "----------\n",
      "epoch 121/300\n"
     ]
    },
    {
     "data": {
      "application/vnd.jupyter.widget-view+json": {
       "model_id": "534f5bd418e24a41acb3f85788691baf",
       "version_major": 2,
       "version_minor": 0
      },
      "text/plain": [
       "  0%|          | 0/295 [00:00<?, ?it/s]"
      ]
     },
     "metadata": {},
     "output_type": "display_data"
    },
    {
     "name": "stdout",
     "output_type": "stream",
     "text": [
      "epoch 121 average loss: 0.1925\n",
      "time consuming of epoch 121 is: 124.7907\n",
      "----------\n",
      "epoch 122/300\n"
     ]
    },
    {
     "data": {
      "application/vnd.jupyter.widget-view+json": {
       "model_id": "4ca2efe310aa4c1f8400a3abbc868b7b",
       "version_major": 2,
       "version_minor": 0
      },
      "text/plain": [
       "  0%|          | 0/295 [00:00<?, ?it/s]"
      ]
     },
     "metadata": {},
     "output_type": "display_data"
    },
    {
     "name": "stdout",
     "output_type": "stream",
     "text": [
      "epoch 122 average loss: 0.1913\n",
      "current epoch: 122 current mean dice: 0.7233 wt: 0.7233\n",
      "best mean dice: 0.7280 at epoch: 102\n",
      "time consuming of epoch 122 is: 141.1437\n",
      "----------\n",
      "epoch 123/300\n"
     ]
    },
    {
     "data": {
      "application/vnd.jupyter.widget-view+json": {
       "model_id": "5bc6825889404c0fbe08a9fb2d2a1333",
       "version_major": 2,
       "version_minor": 0
      },
      "text/plain": [
       "  0%|          | 0/295 [00:00<?, ?it/s]"
      ]
     },
     "metadata": {},
     "output_type": "display_data"
    },
    {
     "name": "stdout",
     "output_type": "stream",
     "text": [
      "epoch 123 average loss: 0.1902\n",
      "time consuming of epoch 123 is: 124.5018\n",
      "----------\n",
      "epoch 124/300\n"
     ]
    },
    {
     "data": {
      "application/vnd.jupyter.widget-view+json": {
       "model_id": "a4128ce20c0e409787c7fbe48491020e",
       "version_major": 2,
       "version_minor": 0
      },
      "text/plain": [
       "  0%|          | 0/295 [00:00<?, ?it/s]"
      ]
     },
     "metadata": {},
     "output_type": "display_data"
    },
    {
     "name": "stdout",
     "output_type": "stream",
     "text": [
      "epoch 124 average loss: 0.1931\n",
      "current epoch: 124 current mean dice: 0.7187 wt: 0.7187\n",
      "best mean dice: 0.7280 at epoch: 102\n",
      "time consuming of epoch 124 is: 142.0562\n",
      "----------\n",
      "epoch 125/300\n"
     ]
    },
    {
     "data": {
      "application/vnd.jupyter.widget-view+json": {
       "model_id": "2527adfac9ef4dc289042a49cb9b9933",
       "version_major": 2,
       "version_minor": 0
      },
      "text/plain": [
       "  0%|          | 0/295 [00:00<?, ?it/s]"
      ]
     },
     "metadata": {},
     "output_type": "display_data"
    },
    {
     "name": "stdout",
     "output_type": "stream",
     "text": [
      "epoch 125 average loss: 0.1884\n",
      "time consuming of epoch 125 is: 124.8527\n",
      "----------\n",
      "epoch 126/300\n"
     ]
    },
    {
     "data": {
      "application/vnd.jupyter.widget-view+json": {
       "model_id": "3cfb89cefa7d4777b7a1ef8f92943b7f",
       "version_major": 2,
       "version_minor": 0
      },
      "text/plain": [
       "  0%|          | 0/295 [00:00<?, ?it/s]"
      ]
     },
     "metadata": {},
     "output_type": "display_data"
    },
    {
     "name": "stdout",
     "output_type": "stream",
     "text": [
      "epoch 126 average loss: 0.1905\n",
      "saved new best metric model\n",
      "current epoch: 126 current mean dice: 0.7282 wt: 0.7282\n",
      "best mean dice: 0.7282 at epoch: 126\n",
      "time consuming of epoch 126 is: 141.7890\n",
      "----------\n",
      "epoch 127/300\n"
     ]
    },
    {
     "data": {
      "application/vnd.jupyter.widget-view+json": {
       "model_id": "7d3a0a3faab34fa791340da414aab7fa",
       "version_major": 2,
       "version_minor": 0
      },
      "text/plain": [
       "  0%|          | 0/295 [00:00<?, ?it/s]"
      ]
     },
     "metadata": {},
     "output_type": "display_data"
    },
    {
     "name": "stdout",
     "output_type": "stream",
     "text": [
      "epoch 127 average loss: 0.1918\n",
      "time consuming of epoch 127 is: 124.2347\n",
      "----------\n",
      "epoch 128/300\n"
     ]
    },
    {
     "data": {
      "application/vnd.jupyter.widget-view+json": {
       "model_id": "c69407266ed34663a0090a463eb2bfb9",
       "version_major": 2,
       "version_minor": 0
      },
      "text/plain": [
       "  0%|          | 0/295 [00:00<?, ?it/s]"
      ]
     },
     "metadata": {},
     "output_type": "display_data"
    },
    {
     "name": "stdout",
     "output_type": "stream",
     "text": [
      "epoch 128 average loss: 0.1899\n",
      "current epoch: 128 current mean dice: 0.7273 wt: 0.7273\n",
      "best mean dice: 0.7282 at epoch: 126\n",
      "time consuming of epoch 128 is: 141.7677\n",
      "----------\n",
      "epoch 129/300\n"
     ]
    },
    {
     "data": {
      "application/vnd.jupyter.widget-view+json": {
       "model_id": "b45ef61aca86490abd4e6f761b803964",
       "version_major": 2,
       "version_minor": 0
      },
      "text/plain": [
       "  0%|          | 0/295 [00:00<?, ?it/s]"
      ]
     },
     "metadata": {},
     "output_type": "display_data"
    },
    {
     "name": "stdout",
     "output_type": "stream",
     "text": [
      "epoch 129 average loss: 0.1905\n",
      "time consuming of epoch 129 is: 125.0208\n",
      "----------\n",
      "epoch 130/300\n"
     ]
    },
    {
     "data": {
      "application/vnd.jupyter.widget-view+json": {
       "model_id": "320df811a9864b6582af464f28b0619c",
       "version_major": 2,
       "version_minor": 0
      },
      "text/plain": [
       "  0%|          | 0/295 [00:00<?, ?it/s]"
      ]
     },
     "metadata": {},
     "output_type": "display_data"
    },
    {
     "name": "stdout",
     "output_type": "stream",
     "text": [
      "epoch 130 average loss: 0.1892\n",
      "saved new best metric model\n",
      "current epoch: 130 current mean dice: 0.7341 wt: 0.7341\n",
      "best mean dice: 0.7341 at epoch: 130\n",
      "time consuming of epoch 130 is: 141.2668\n",
      "----------\n",
      "epoch 131/300\n"
     ]
    },
    {
     "data": {
      "application/vnd.jupyter.widget-view+json": {
       "model_id": "e31e3da199f240f7a9f85d21046275a5",
       "version_major": 2,
       "version_minor": 0
      },
      "text/plain": [
       "  0%|          | 0/295 [00:00<?, ?it/s]"
      ]
     },
     "metadata": {},
     "output_type": "display_data"
    },
    {
     "name": "stdout",
     "output_type": "stream",
     "text": [
      "epoch 131 average loss: 0.1877\n",
      "time consuming of epoch 131 is: 124.4157\n",
      "----------\n",
      "epoch 132/300\n"
     ]
    },
    {
     "data": {
      "application/vnd.jupyter.widget-view+json": {
       "model_id": "c305639ac433483fb926fca80b5c9622",
       "version_major": 2,
       "version_minor": 0
      },
      "text/plain": [
       "  0%|          | 0/295 [00:00<?, ?it/s]"
      ]
     },
     "metadata": {},
     "output_type": "display_data"
    },
    {
     "name": "stdout",
     "output_type": "stream",
     "text": [
      "epoch 132 average loss: 0.1893\n",
      "current epoch: 132 current mean dice: 0.7236 wt: 0.7236\n",
      "best mean dice: 0.7341 at epoch: 130\n",
      "time consuming of epoch 132 is: 141.1669\n",
      "----------\n",
      "epoch 133/300\n"
     ]
    },
    {
     "data": {
      "application/vnd.jupyter.widget-view+json": {
       "model_id": "198a468768274fc093a1c5d7afa85c26",
       "version_major": 2,
       "version_minor": 0
      },
      "text/plain": [
       "  0%|          | 0/295 [00:00<?, ?it/s]"
      ]
     },
     "metadata": {},
     "output_type": "display_data"
    },
    {
     "name": "stdout",
     "output_type": "stream",
     "text": [
      "epoch 133 average loss: 0.1896\n",
      "time consuming of epoch 133 is: 124.2763\n",
      "----------\n",
      "epoch 134/300\n"
     ]
    },
    {
     "data": {
      "application/vnd.jupyter.widget-view+json": {
       "model_id": "f2cb4df1aa7740cc891b71dd6550d6d2",
       "version_major": 2,
       "version_minor": 0
      },
      "text/plain": [
       "  0%|          | 0/295 [00:00<?, ?it/s]"
      ]
     },
     "metadata": {},
     "output_type": "display_data"
    },
    {
     "name": "stdout",
     "output_type": "stream",
     "text": [
      "epoch 134 average loss: 0.1852\n",
      "current epoch: 134 current mean dice: 0.7225 wt: 0.7225\n",
      "best mean dice: 0.7341 at epoch: 130\n",
      "time consuming of epoch 134 is: 141.2819\n",
      "----------\n",
      "epoch 135/300\n"
     ]
    },
    {
     "data": {
      "application/vnd.jupyter.widget-view+json": {
       "model_id": "20d3354d3a3943db9be6855faf8c4087",
       "version_major": 2,
       "version_minor": 0
      },
      "text/plain": [
       "  0%|          | 0/295 [00:00<?, ?it/s]"
      ]
     },
     "metadata": {},
     "output_type": "display_data"
    },
    {
     "name": "stdout",
     "output_type": "stream",
     "text": [
      "epoch 135 average loss: 0.1863\n",
      "time consuming of epoch 135 is: 124.4564\n",
      "----------\n",
      "epoch 136/300\n"
     ]
    },
    {
     "data": {
      "application/vnd.jupyter.widget-view+json": {
       "model_id": "efadcffd972147aeb6573a75036caf8f",
       "version_major": 2,
       "version_minor": 0
      },
      "text/plain": [
       "  0%|          | 0/295 [00:00<?, ?it/s]"
      ]
     },
     "metadata": {},
     "output_type": "display_data"
    },
    {
     "name": "stdout",
     "output_type": "stream",
     "text": [
      "epoch 136 average loss: 0.1840\n",
      "current epoch: 136 current mean dice: 0.7280 wt: 0.7280\n",
      "best mean dice: 0.7341 at epoch: 130\n",
      "time consuming of epoch 136 is: 141.1144\n",
      "----------\n",
      "epoch 137/300\n"
     ]
    },
    {
     "data": {
      "application/vnd.jupyter.widget-view+json": {
       "model_id": "a0a8c0ff46fc4db4bfe4c2512567a573",
       "version_major": 2,
       "version_minor": 0
      },
      "text/plain": [
       "  0%|          | 0/295 [00:00<?, ?it/s]"
      ]
     },
     "metadata": {},
     "output_type": "display_data"
    },
    {
     "name": "stdout",
     "output_type": "stream",
     "text": [
      "epoch 137 average loss: 0.1852\n",
      "time consuming of epoch 137 is: 124.3961\n",
      "----------\n",
      "epoch 138/300\n"
     ]
    },
    {
     "data": {
      "application/vnd.jupyter.widget-view+json": {
       "model_id": "c353f0c2e0c94727ad6ec88245e60209",
       "version_major": 2,
       "version_minor": 0
      },
      "text/plain": [
       "  0%|          | 0/295 [00:00<?, ?it/s]"
      ]
     },
     "metadata": {},
     "output_type": "display_data"
    },
    {
     "name": "stdout",
     "output_type": "stream",
     "text": [
      "epoch 138 average loss: 0.1856\n",
      "current epoch: 138 current mean dice: 0.7224 wt: 0.7224\n",
      "best mean dice: 0.7341 at epoch: 130\n",
      "time consuming of epoch 138 is: 141.3723\n",
      "----------\n",
      "epoch 139/300\n"
     ]
    },
    {
     "data": {
      "application/vnd.jupyter.widget-view+json": {
       "model_id": "7e3d32f3d81f4ac4903f70c84b566671",
       "version_major": 2,
       "version_minor": 0
      },
      "text/plain": [
       "  0%|          | 0/295 [00:00<?, ?it/s]"
      ]
     },
     "metadata": {},
     "output_type": "display_data"
    },
    {
     "name": "stdout",
     "output_type": "stream",
     "text": [
      "epoch 139 average loss: 0.1867\n",
      "time consuming of epoch 139 is: 124.9407\n",
      "----------\n",
      "epoch 140/300\n"
     ]
    },
    {
     "data": {
      "application/vnd.jupyter.widget-view+json": {
       "model_id": "12a2534bd2a34e2f96b700ad5c296514",
       "version_major": 2,
       "version_minor": 0
      },
      "text/plain": [
       "  0%|          | 0/295 [00:00<?, ?it/s]"
      ]
     },
     "metadata": {},
     "output_type": "display_data"
    },
    {
     "name": "stdout",
     "output_type": "stream",
     "text": [
      "epoch 140 average loss: 0.1866\n",
      "current epoch: 140 current mean dice: 0.7234 wt: 0.7234\n",
      "best mean dice: 0.7341 at epoch: 130\n",
      "time consuming of epoch 140 is: 141.6993\n",
      "----------\n",
      "epoch 141/300\n"
     ]
    },
    {
     "data": {
      "application/vnd.jupyter.widget-view+json": {
       "model_id": "77e31cea7bba484fb8cef32462457b31",
       "version_major": 2,
       "version_minor": 0
      },
      "text/plain": [
       "  0%|          | 0/295 [00:00<?, ?it/s]"
      ]
     },
     "metadata": {},
     "output_type": "display_data"
    },
    {
     "name": "stdout",
     "output_type": "stream",
     "text": [
      "epoch 141 average loss: 0.1824\n",
      "time consuming of epoch 141 is: 124.3356\n",
      "----------\n",
      "epoch 142/300\n"
     ]
    },
    {
     "data": {
      "application/vnd.jupyter.widget-view+json": {
       "model_id": "fa091f304968425da1c84c67c06b90b0",
       "version_major": 2,
       "version_minor": 0
      },
      "text/plain": [
       "  0%|          | 0/295 [00:00<?, ?it/s]"
      ]
     },
     "metadata": {},
     "output_type": "display_data"
    },
    {
     "name": "stdout",
     "output_type": "stream",
     "text": [
      "epoch 142 average loss: 0.1847\n",
      "current epoch: 142 current mean dice: 0.7161 wt: 0.7161\n",
      "best mean dice: 0.7341 at epoch: 130\n",
      "time consuming of epoch 142 is: 141.4879\n",
      "----------\n",
      "epoch 143/300\n"
     ]
    },
    {
     "data": {
      "application/vnd.jupyter.widget-view+json": {
       "model_id": "607d31b40fbf44e792d514481b8b848f",
       "version_major": 2,
       "version_minor": 0
      },
      "text/plain": [
       "  0%|          | 0/295 [00:00<?, ?it/s]"
      ]
     },
     "metadata": {},
     "output_type": "display_data"
    },
    {
     "name": "stdout",
     "output_type": "stream",
     "text": [
      "epoch 143 average loss: 0.1844\n",
      "time consuming of epoch 143 is: 124.4657\n",
      "----------\n",
      "epoch 144/300\n"
     ]
    },
    {
     "data": {
      "application/vnd.jupyter.widget-view+json": {
       "model_id": "bfe09c2096ac413dab86d36d00cfac83",
       "version_major": 2,
       "version_minor": 0
      },
      "text/plain": [
       "  0%|          | 0/295 [00:00<?, ?it/s]"
      ]
     },
     "metadata": {},
     "output_type": "display_data"
    },
    {
     "name": "stdout",
     "output_type": "stream",
     "text": [
      "epoch 144 average loss: 0.1805\n",
      "current epoch: 144 current mean dice: 0.7308 wt: 0.7308\n",
      "best mean dice: 0.7341 at epoch: 130\n",
      "time consuming of epoch 144 is: 141.3900\n",
      "----------\n",
      "epoch 145/300\n"
     ]
    },
    {
     "data": {
      "application/vnd.jupyter.widget-view+json": {
       "model_id": "34aa1c04fe4440f6a64c66b16ded0926",
       "version_major": 2,
       "version_minor": 0
      },
      "text/plain": [
       "  0%|          | 0/295 [00:00<?, ?it/s]"
      ]
     },
     "metadata": {},
     "output_type": "display_data"
    },
    {
     "name": "stdout",
     "output_type": "stream",
     "text": [
      "epoch 145 average loss: 0.1815\n",
      "time consuming of epoch 145 is: 124.6163\n",
      "----------\n",
      "epoch 146/300\n"
     ]
    },
    {
     "data": {
      "application/vnd.jupyter.widget-view+json": {
       "model_id": "3da2ff71d044483b98351d869fe07a6a",
       "version_major": 2,
       "version_minor": 0
      },
      "text/plain": [
       "  0%|          | 0/295 [00:00<?, ?it/s]"
      ]
     },
     "metadata": {},
     "output_type": "display_data"
    },
    {
     "name": "stdout",
     "output_type": "stream",
     "text": [
      "epoch 146 average loss: 0.1840\n",
      "current epoch: 146 current mean dice: 0.7164 wt: 0.7164\n",
      "best mean dice: 0.7341 at epoch: 130\n",
      "time consuming of epoch 146 is: 141.7387\n",
      "----------\n",
      "epoch 147/300\n"
     ]
    },
    {
     "data": {
      "application/vnd.jupyter.widget-view+json": {
       "model_id": "03eb0525f8a54b679e102cbf7abbaf84",
       "version_major": 2,
       "version_minor": 0
      },
      "text/plain": [
       "  0%|          | 0/295 [00:00<?, ?it/s]"
      ]
     },
     "metadata": {},
     "output_type": "display_data"
    },
    {
     "name": "stdout",
     "output_type": "stream",
     "text": [
      "epoch 147 average loss: 0.1798\n",
      "time consuming of epoch 147 is: 124.9559\n",
      "----------\n",
      "epoch 148/300\n"
     ]
    },
    {
     "data": {
      "application/vnd.jupyter.widget-view+json": {
       "model_id": "a5435ab3edfc4acd8ce02f57f7aa2b57",
       "version_major": 2,
       "version_minor": 0
      },
      "text/plain": [
       "  0%|          | 0/295 [00:00<?, ?it/s]"
      ]
     },
     "metadata": {},
     "output_type": "display_data"
    },
    {
     "name": "stdout",
     "output_type": "stream",
     "text": [
      "epoch 148 average loss: 0.1820\n",
      "current epoch: 148 current mean dice: 0.7107 wt: 0.7107\n",
      "best mean dice: 0.7341 at epoch: 130\n",
      "time consuming of epoch 148 is: 142.1346\n",
      "----------\n",
      "epoch 149/300\n"
     ]
    },
    {
     "data": {
      "application/vnd.jupyter.widget-view+json": {
       "model_id": "1fc29990ffd3477e8787b3e674a0dfb8",
       "version_major": 2,
       "version_minor": 0
      },
      "text/plain": [
       "  0%|          | 0/295 [00:00<?, ?it/s]"
      ]
     },
     "metadata": {},
     "output_type": "display_data"
    },
    {
     "name": "stdout",
     "output_type": "stream",
     "text": [
      "epoch 149 average loss: 0.1799\n",
      "time consuming of epoch 149 is: 124.4943\n",
      "----------\n",
      "epoch 150/300\n"
     ]
    },
    {
     "data": {
      "application/vnd.jupyter.widget-view+json": {
       "model_id": "6d780144160d4d5bb2492928620444f2",
       "version_major": 2,
       "version_minor": 0
      },
      "text/plain": [
       "  0%|          | 0/295 [00:00<?, ?it/s]"
      ]
     },
     "metadata": {},
     "output_type": "display_data"
    },
    {
     "name": "stdout",
     "output_type": "stream",
     "text": [
      "epoch 150 average loss: 0.1791\n",
      "current epoch: 150 current mean dice: 0.7292 wt: 0.7292\n",
      "best mean dice: 0.7341 at epoch: 130\n",
      "time consuming of epoch 150 is: 141.3178\n",
      "----------\n",
      "epoch 151/300\n"
     ]
    },
    {
     "data": {
      "application/vnd.jupyter.widget-view+json": {
       "model_id": "893cd1fd5c844cd1a98904d8da0abfbc",
       "version_major": 2,
       "version_minor": 0
      },
      "text/plain": [
       "  0%|          | 0/295 [00:00<?, ?it/s]"
      ]
     },
     "metadata": {},
     "output_type": "display_data"
    },
    {
     "name": "stdout",
     "output_type": "stream",
     "text": [
      "epoch 151 average loss: 0.1798\n",
      "time consuming of epoch 151 is: 124.9564\n",
      "----------\n",
      "epoch 152/300\n"
     ]
    },
    {
     "data": {
      "application/vnd.jupyter.widget-view+json": {
       "model_id": "ac77c1ee3a4a4d7aac4ae3c21d450913",
       "version_major": 2,
       "version_minor": 0
      },
      "text/plain": [
       "  0%|          | 0/295 [00:00<?, ?it/s]"
      ]
     },
     "metadata": {},
     "output_type": "display_data"
    },
    {
     "name": "stdout",
     "output_type": "stream",
     "text": [
      "epoch 152 average loss: 0.1810\n",
      "current epoch: 152 current mean dice: 0.7241 wt: 0.7241\n",
      "best mean dice: 0.7341 at epoch: 130\n",
      "time consuming of epoch 152 is: 141.6710\n",
      "----------\n",
      "epoch 153/300\n"
     ]
    },
    {
     "data": {
      "application/vnd.jupyter.widget-view+json": {
       "model_id": "1e923d5b160544be88b59311d4008f82",
       "version_major": 2,
       "version_minor": 0
      },
      "text/plain": [
       "  0%|          | 0/295 [00:00<?, ?it/s]"
      ]
     },
     "metadata": {},
     "output_type": "display_data"
    },
    {
     "name": "stdout",
     "output_type": "stream",
     "text": [
      "epoch 153 average loss: 0.1784\n",
      "time consuming of epoch 153 is: 124.4165\n",
      "----------\n",
      "epoch 154/300\n"
     ]
    },
    {
     "data": {
      "application/vnd.jupyter.widget-view+json": {
       "model_id": "d601beefae094173a34edda9c48afd46",
       "version_major": 2,
       "version_minor": 0
      },
      "text/plain": [
       "  0%|          | 0/295 [00:00<?, ?it/s]"
      ]
     },
     "metadata": {},
     "output_type": "display_data"
    },
    {
     "name": "stdout",
     "output_type": "stream",
     "text": [
      "epoch 154 average loss: 0.1803\n",
      "current epoch: 154 current mean dice: 0.7196 wt: 0.7196\n",
      "best mean dice: 0.7341 at epoch: 130\n",
      "time consuming of epoch 154 is: 141.9553\n",
      "----------\n",
      "epoch 155/300\n"
     ]
    },
    {
     "data": {
      "application/vnd.jupyter.widget-view+json": {
       "model_id": "8e9c2b4b64934f05881b0ea1993731d1",
       "version_major": 2,
       "version_minor": 0
      },
      "text/plain": [
       "  0%|          | 0/295 [00:00<?, ?it/s]"
      ]
     },
     "metadata": {},
     "output_type": "display_data"
    },
    {
     "name": "stdout",
     "output_type": "stream",
     "text": [
      "epoch 155 average loss: 0.1794\n",
      "time consuming of epoch 155 is: 124.7028\n",
      "----------\n",
      "epoch 156/300\n"
     ]
    },
    {
     "data": {
      "application/vnd.jupyter.widget-view+json": {
       "model_id": "f4f03ffc8c95402a9d18468e0327d20f",
       "version_major": 2,
       "version_minor": 0
      },
      "text/plain": [
       "  0%|          | 0/295 [00:00<?, ?it/s]"
      ]
     },
     "metadata": {},
     "output_type": "display_data"
    },
    {
     "name": "stdout",
     "output_type": "stream",
     "text": [
      "epoch 156 average loss: 0.1806\n",
      "current epoch: 156 current mean dice: 0.7242 wt: 0.7242\n",
      "best mean dice: 0.7341 at epoch: 130\n",
      "time consuming of epoch 156 is: 141.1424\n",
      "----------\n",
      "epoch 157/300\n"
     ]
    },
    {
     "data": {
      "application/vnd.jupyter.widget-view+json": {
       "model_id": "b81b95ce59454a988d262e3ac7b10155",
       "version_major": 2,
       "version_minor": 0
      },
      "text/plain": [
       "  0%|          | 0/295 [00:00<?, ?it/s]"
      ]
     },
     "metadata": {},
     "output_type": "display_data"
    },
    {
     "name": "stdout",
     "output_type": "stream",
     "text": [
      "epoch 157 average loss: 0.1782\n",
      "time consuming of epoch 157 is: 124.4412\n",
      "----------\n",
      "epoch 158/300\n"
     ]
    },
    {
     "data": {
      "application/vnd.jupyter.widget-view+json": {
       "model_id": "57692371b1b34825a6e51f5ed78caa74",
       "version_major": 2,
       "version_minor": 0
      },
      "text/plain": [
       "  0%|          | 0/295 [00:00<?, ?it/s]"
      ]
     },
     "metadata": {},
     "output_type": "display_data"
    },
    {
     "name": "stdout",
     "output_type": "stream",
     "text": [
      "epoch 158 average loss: 0.1770\n",
      "current epoch: 158 current mean dice: 0.7278 wt: 0.7278\n",
      "best mean dice: 0.7341 at epoch: 130\n",
      "time consuming of epoch 158 is: 141.2025\n",
      "----------\n",
      "epoch 159/300\n"
     ]
    },
    {
     "data": {
      "application/vnd.jupyter.widget-view+json": {
       "model_id": "7e655850209848c1ae8587be454927c3",
       "version_major": 2,
       "version_minor": 0
      },
      "text/plain": [
       "  0%|          | 0/295 [00:00<?, ?it/s]"
      ]
     },
     "metadata": {},
     "output_type": "display_data"
    },
    {
     "name": "stdout",
     "output_type": "stream",
     "text": [
      "epoch 159 average loss: 0.1751\n",
      "time consuming of epoch 159 is: 124.5693\n",
      "----------\n",
      "epoch 160/300\n"
     ]
    },
    {
     "data": {
      "application/vnd.jupyter.widget-view+json": {
       "model_id": "dc49aabfe6c643688038911b951651a5",
       "version_major": 2,
       "version_minor": 0
      },
      "text/plain": [
       "  0%|          | 0/295 [00:00<?, ?it/s]"
      ]
     },
     "metadata": {},
     "output_type": "display_data"
    },
    {
     "name": "stdout",
     "output_type": "stream",
     "text": [
      "epoch 160 average loss: 0.1758\n",
      "current epoch: 160 current mean dice: 0.7323 wt: 0.7323\n",
      "best mean dice: 0.7341 at epoch: 130\n",
      "time consuming of epoch 160 is: 141.3005\n",
      "----------\n",
      "epoch 161/300\n"
     ]
    },
    {
     "data": {
      "application/vnd.jupyter.widget-view+json": {
       "model_id": "db3eea6e5c3f4689b9b85b3595086aba",
       "version_major": 2,
       "version_minor": 0
      },
      "text/plain": [
       "  0%|          | 0/295 [00:00<?, ?it/s]"
      ]
     },
     "metadata": {},
     "output_type": "display_data"
    },
    {
     "name": "stdout",
     "output_type": "stream",
     "text": [
      "epoch 161 average loss: 0.1762\n",
      "time consuming of epoch 161 is: 124.5074\n",
      "----------\n",
      "epoch 162/300\n"
     ]
    },
    {
     "data": {
      "application/vnd.jupyter.widget-view+json": {
       "model_id": "9470e3188b3c49ee847f83b1d6173434",
       "version_major": 2,
       "version_minor": 0
      },
      "text/plain": [
       "  0%|          | 0/295 [00:00<?, ?it/s]"
      ]
     },
     "metadata": {},
     "output_type": "display_data"
    },
    {
     "name": "stdout",
     "output_type": "stream",
     "text": [
      "epoch 162 average loss: 0.1747\n",
      "current epoch: 162 current mean dice: 0.7303 wt: 0.7303\n",
      "best mean dice: 0.7341 at epoch: 130\n",
      "time consuming of epoch 162 is: 141.7747\n",
      "----------\n",
      "epoch 163/300\n"
     ]
    },
    {
     "data": {
      "application/vnd.jupyter.widget-view+json": {
       "model_id": "5c20b242a4e84fc3918a2993d208f4b9",
       "version_major": 2,
       "version_minor": 0
      },
      "text/plain": [
       "  0%|          | 0/295 [00:00<?, ?it/s]"
      ]
     },
     "metadata": {},
     "output_type": "display_data"
    },
    {
     "name": "stdout",
     "output_type": "stream",
     "text": [
      "epoch 163 average loss: 0.1753\n",
      "time consuming of epoch 163 is: 124.5454\n",
      "----------\n",
      "epoch 164/300\n"
     ]
    },
    {
     "data": {
      "application/vnd.jupyter.widget-view+json": {
       "model_id": "adab64bf7e6f4029a115c9744928bc1d",
       "version_major": 2,
       "version_minor": 0
      },
      "text/plain": [
       "  0%|          | 0/295 [00:00<?, ?it/s]"
      ]
     },
     "metadata": {},
     "output_type": "display_data"
    },
    {
     "name": "stdout",
     "output_type": "stream",
     "text": [
      "epoch 164 average loss: 0.1759\n",
      "current epoch: 164 current mean dice: 0.7254 wt: 0.7254\n",
      "best mean dice: 0.7341 at epoch: 130\n",
      "time consuming of epoch 164 is: 141.3656\n",
      "----------\n",
      "epoch 165/300\n"
     ]
    },
    {
     "data": {
      "application/vnd.jupyter.widget-view+json": {
       "model_id": "1ded9e372e824bbdb5004215b033e93c",
       "version_major": 2,
       "version_minor": 0
      },
      "text/plain": [
       "  0%|          | 0/295 [00:00<?, ?it/s]"
      ]
     },
     "metadata": {},
     "output_type": "display_data"
    },
    {
     "name": "stdout",
     "output_type": "stream",
     "text": [
      "epoch 165 average loss: 0.1739\n",
      "time consuming of epoch 165 is: 124.8416\n",
      "----------\n",
      "epoch 166/300\n"
     ]
    },
    {
     "data": {
      "application/vnd.jupyter.widget-view+json": {
       "model_id": "c4ae3460f08a48789b2e7d19881bb535",
       "version_major": 2,
       "version_minor": 0
      },
      "text/plain": [
       "  0%|          | 0/295 [00:00<?, ?it/s]"
      ]
     },
     "metadata": {},
     "output_type": "display_data"
    },
    {
     "name": "stdout",
     "output_type": "stream",
     "text": [
      "epoch 166 average loss: 0.1770\n",
      "current epoch: 166 current mean dice: 0.7177 wt: 0.7177\n",
      "best mean dice: 0.7341 at epoch: 130\n",
      "time consuming of epoch 166 is: 141.3887\n",
      "----------\n",
      "epoch 167/300\n"
     ]
    },
    {
     "data": {
      "application/vnd.jupyter.widget-view+json": {
       "model_id": "2e06124a52824445aeb2b9fcbda839a3",
       "version_major": 2,
       "version_minor": 0
      },
      "text/plain": [
       "  0%|          | 0/295 [00:00<?, ?it/s]"
      ]
     },
     "metadata": {},
     "output_type": "display_data"
    },
    {
     "name": "stdout",
     "output_type": "stream",
     "text": [
      "epoch 167 average loss: 0.1733\n",
      "time consuming of epoch 167 is: 124.8257\n",
      "----------\n",
      "epoch 168/300\n"
     ]
    },
    {
     "data": {
      "application/vnd.jupyter.widget-view+json": {
       "model_id": "74698173251a4004a0a4070976e0cbb9",
       "version_major": 2,
       "version_minor": 0
      },
      "text/plain": [
       "  0%|          | 0/295 [00:00<?, ?it/s]"
      ]
     },
     "metadata": {},
     "output_type": "display_data"
    },
    {
     "name": "stdout",
     "output_type": "stream",
     "text": [
      "epoch 168 average loss: 0.1760\n",
      "current epoch: 168 current mean dice: 0.7213 wt: 0.7213\n",
      "best mean dice: 0.7341 at epoch: 130\n",
      "time consuming of epoch 168 is: 141.4404\n",
      "----------\n",
      "epoch 169/300\n"
     ]
    },
    {
     "data": {
      "application/vnd.jupyter.widget-view+json": {
       "model_id": "b539957cb1dc40448b15b3b2d898a577",
       "version_major": 2,
       "version_minor": 0
      },
      "text/plain": [
       "  0%|          | 0/295 [00:00<?, ?it/s]"
      ]
     },
     "metadata": {},
     "output_type": "display_data"
    },
    {
     "name": "stdout",
     "output_type": "stream",
     "text": [
      "epoch 169 average loss: 0.1736\n",
      "time consuming of epoch 169 is: 124.7460\n",
      "----------\n",
      "epoch 170/300\n"
     ]
    },
    {
     "data": {
      "application/vnd.jupyter.widget-view+json": {
       "model_id": "a30905a952574170ac5081ca5fa9aacf",
       "version_major": 2,
       "version_minor": 0
      },
      "text/plain": [
       "  0%|          | 0/295 [00:00<?, ?it/s]"
      ]
     },
     "metadata": {},
     "output_type": "display_data"
    },
    {
     "name": "stdout",
     "output_type": "stream",
     "text": [
      "epoch 170 average loss: 0.1710\n",
      "saved new best metric model\n",
      "current epoch: 170 current mean dice: 0.7342 wt: 0.7342\n",
      "best mean dice: 0.7342 at epoch: 170\n",
      "time consuming of epoch 170 is: 141.4509\n",
      "----------\n",
      "epoch 171/300\n"
     ]
    },
    {
     "data": {
      "application/vnd.jupyter.widget-view+json": {
       "model_id": "dd3f86dd2bc04371b681da5287ed8651",
       "version_major": 2,
       "version_minor": 0
      },
      "text/plain": [
       "  0%|          | 0/295 [00:00<?, ?it/s]"
      ]
     },
     "metadata": {},
     "output_type": "display_data"
    },
    {
     "name": "stdout",
     "output_type": "stream",
     "text": [
      "epoch 171 average loss: 0.1728\n",
      "time consuming of epoch 171 is: 125.0410\n",
      "----------\n",
      "epoch 172/300\n"
     ]
    },
    {
     "data": {
      "application/vnd.jupyter.widget-view+json": {
       "model_id": "3f83bbe9501a488b8cdaacb4178b1717",
       "version_major": 2,
       "version_minor": 0
      },
      "text/plain": [
       "  0%|          | 0/295 [00:00<?, ?it/s]"
      ]
     },
     "metadata": {},
     "output_type": "display_data"
    },
    {
     "name": "stdout",
     "output_type": "stream",
     "text": [
      "epoch 172 average loss: 0.1748\n",
      "current epoch: 172 current mean dice: 0.7280 wt: 0.7280\n",
      "best mean dice: 0.7342 at epoch: 170\n",
      "time consuming of epoch 172 is: 141.8220\n",
      "----------\n",
      "epoch 173/300\n"
     ]
    },
    {
     "data": {
      "application/vnd.jupyter.widget-view+json": {
       "model_id": "61aec25769d8469e828981fd6779f2ec",
       "version_major": 2,
       "version_minor": 0
      },
      "text/plain": [
       "  0%|          | 0/295 [00:00<?, ?it/s]"
      ]
     },
     "metadata": {},
     "output_type": "display_data"
    },
    {
     "name": "stdout",
     "output_type": "stream",
     "text": [
      "epoch 173 average loss: 0.1712\n",
      "time consuming of epoch 173 is: 124.5931\n",
      "----------\n",
      "epoch 174/300\n"
     ]
    },
    {
     "data": {
      "application/vnd.jupyter.widget-view+json": {
       "model_id": "9afb9b82266644028247183614a8ba64",
       "version_major": 2,
       "version_minor": 0
      },
      "text/plain": [
       "  0%|          | 0/295 [00:00<?, ?it/s]"
      ]
     },
     "metadata": {},
     "output_type": "display_data"
    },
    {
     "name": "stdout",
     "output_type": "stream",
     "text": [
      "epoch 174 average loss: 0.1708\n",
      "current epoch: 174 current mean dice: 0.7275 wt: 0.7275\n",
      "best mean dice: 0.7342 at epoch: 170\n",
      "time consuming of epoch 174 is: 141.5909\n",
      "----------\n",
      "epoch 175/300\n"
     ]
    },
    {
     "data": {
      "application/vnd.jupyter.widget-view+json": {
       "model_id": "687eaa1b6dd3448f9a099299824e7a87",
       "version_major": 2,
       "version_minor": 0
      },
      "text/plain": [
       "  0%|          | 0/295 [00:00<?, ?it/s]"
      ]
     },
     "metadata": {},
     "output_type": "display_data"
    },
    {
     "name": "stdout",
     "output_type": "stream",
     "text": [
      "epoch 175 average loss: 0.1708\n",
      "time consuming of epoch 175 is: 124.6100\n",
      "----------\n",
      "epoch 176/300\n"
     ]
    },
    {
     "data": {
      "application/vnd.jupyter.widget-view+json": {
       "model_id": "d3f46ab11a1e42b39155aed244811845",
       "version_major": 2,
       "version_minor": 0
      },
      "text/plain": [
       "  0%|          | 0/295 [00:00<?, ?it/s]"
      ]
     },
     "metadata": {},
     "output_type": "display_data"
    },
    {
     "name": "stdout",
     "output_type": "stream",
     "text": [
      "epoch 176 average loss: 0.1715\n",
      "current epoch: 176 current mean dice: 0.7266 wt: 0.7266\n",
      "best mean dice: 0.7342 at epoch: 170\n",
      "time consuming of epoch 176 is: 141.5079\n",
      "----------\n",
      "epoch 177/300\n"
     ]
    },
    {
     "data": {
      "application/vnd.jupyter.widget-view+json": {
       "model_id": "31a27052e67542018514dc3f6b3bafe7",
       "version_major": 2,
       "version_minor": 0
      },
      "text/plain": [
       "  0%|          | 0/295 [00:00<?, ?it/s]"
      ]
     },
     "metadata": {},
     "output_type": "display_data"
    },
    {
     "name": "stdout",
     "output_type": "stream",
     "text": [
      "epoch 177 average loss: 0.1744\n",
      "time consuming of epoch 177 is: 124.6943\n",
      "----------\n",
      "epoch 178/300\n"
     ]
    },
    {
     "data": {
      "application/vnd.jupyter.widget-view+json": {
       "model_id": "a52f4aa58aaa411dafb06b3d8619e2b5",
       "version_major": 2,
       "version_minor": 0
      },
      "text/plain": [
       "  0%|          | 0/295 [00:00<?, ?it/s]"
      ]
     },
     "metadata": {},
     "output_type": "display_data"
    },
    {
     "name": "stdout",
     "output_type": "stream",
     "text": [
      "epoch 178 average loss: 0.1701\n",
      "current epoch: 178 current mean dice: 0.7319 wt: 0.7319\n",
      "best mean dice: 0.7342 at epoch: 170\n",
      "time consuming of epoch 178 is: 141.5139\n",
      "----------\n",
      "epoch 179/300\n"
     ]
    },
    {
     "data": {
      "application/vnd.jupyter.widget-view+json": {
       "model_id": "cb8714314d634e7987381ed73eb5e187",
       "version_major": 2,
       "version_minor": 0
      },
      "text/plain": [
       "  0%|          | 0/295 [00:00<?, ?it/s]"
      ]
     },
     "metadata": {},
     "output_type": "display_data"
    },
    {
     "name": "stdout",
     "output_type": "stream",
     "text": [
      "epoch 179 average loss: 0.1695\n",
      "time consuming of epoch 179 is: 124.5328\n",
      "----------\n",
      "epoch 180/300\n"
     ]
    },
    {
     "data": {
      "application/vnd.jupyter.widget-view+json": {
       "model_id": "63ad23f5d51a4d4bbb1e387d0ddecdd8",
       "version_major": 2,
       "version_minor": 0
      },
      "text/plain": [
       "  0%|          | 0/295 [00:00<?, ?it/s]"
      ]
     },
     "metadata": {},
     "output_type": "display_data"
    },
    {
     "name": "stdout",
     "output_type": "stream",
     "text": [
      "epoch 180 average loss: 0.1699\n",
      "current epoch: 180 current mean dice: 0.7239 wt: 0.7239\n",
      "best mean dice: 0.7342 at epoch: 170\n",
      "time consuming of epoch 180 is: 141.5436\n",
      "----------\n",
      "epoch 181/300\n"
     ]
    },
    {
     "data": {
      "application/vnd.jupyter.widget-view+json": {
       "model_id": "58bde38d21534ee4b76f1933560c52a0",
       "version_major": 2,
       "version_minor": 0
      },
      "text/plain": [
       "  0%|          | 0/295 [00:00<?, ?it/s]"
      ]
     },
     "metadata": {},
     "output_type": "display_data"
    },
    {
     "name": "stdout",
     "output_type": "stream",
     "text": [
      "epoch 181 average loss: 0.1711\n",
      "time consuming of epoch 181 is: 124.4828\n",
      "----------\n",
      "epoch 182/300\n"
     ]
    },
    {
     "data": {
      "application/vnd.jupyter.widget-view+json": {
       "model_id": "65a3ba13cab64e1c82de9f1d4efa2160",
       "version_major": 2,
       "version_minor": 0
      },
      "text/plain": [
       "  0%|          | 0/295 [00:00<?, ?it/s]"
      ]
     },
     "metadata": {},
     "output_type": "display_data"
    },
    {
     "name": "stdout",
     "output_type": "stream",
     "text": [
      "epoch 182 average loss: 0.1684\n",
      "current epoch: 182 current mean dice: 0.7251 wt: 0.7251\n",
      "best mean dice: 0.7342 at epoch: 170\n",
      "time consuming of epoch 182 is: 141.4247\n",
      "----------\n",
      "epoch 183/300\n"
     ]
    },
    {
     "data": {
      "application/vnd.jupyter.widget-view+json": {
       "model_id": "ffff6147651e4aca9678541f79b1c615",
       "version_major": 2,
       "version_minor": 0
      },
      "text/plain": [
       "  0%|          | 0/295 [00:00<?, ?it/s]"
      ]
     },
     "metadata": {},
     "output_type": "display_data"
    },
    {
     "name": "stdout",
     "output_type": "stream",
     "text": [
      "epoch 183 average loss: 0.1716\n",
      "time consuming of epoch 183 is: 124.7074\n",
      "----------\n",
      "epoch 184/300\n"
     ]
    },
    {
     "data": {
      "application/vnd.jupyter.widget-view+json": {
       "model_id": "001478e29e0c429087ef08d13e741456",
       "version_major": 2,
       "version_minor": 0
      },
      "text/plain": [
       "  0%|          | 0/295 [00:00<?, ?it/s]"
      ]
     },
     "metadata": {},
     "output_type": "display_data"
    },
    {
     "name": "stdout",
     "output_type": "stream",
     "text": [
      "epoch 184 average loss: 0.1681\n",
      "current epoch: 184 current mean dice: 0.7258 wt: 0.7258\n",
      "best mean dice: 0.7342 at epoch: 170\n",
      "time consuming of epoch 184 is: 141.5968\n",
      "----------\n",
      "epoch 185/300\n"
     ]
    },
    {
     "data": {
      "application/vnd.jupyter.widget-view+json": {
       "model_id": "a84d3fa16bb941ab88116798c1164e7b",
       "version_major": 2,
       "version_minor": 0
      },
      "text/plain": [
       "  0%|          | 0/295 [00:00<?, ?it/s]"
      ]
     },
     "metadata": {},
     "output_type": "display_data"
    },
    {
     "name": "stdout",
     "output_type": "stream",
     "text": [
      "epoch 185 average loss: 0.1677\n",
      "time consuming of epoch 185 is: 124.6849\n",
      "----------\n",
      "epoch 186/300\n"
     ]
    },
    {
     "data": {
      "application/vnd.jupyter.widget-view+json": {
       "model_id": "8f6636184ee1435e99ffd413cffc2aa5",
       "version_major": 2,
       "version_minor": 0
      },
      "text/plain": [
       "  0%|          | 0/295 [00:00<?, ?it/s]"
      ]
     },
     "metadata": {},
     "output_type": "display_data"
    },
    {
     "name": "stdout",
     "output_type": "stream",
     "text": [
      "epoch 186 average loss: 0.1691\n",
      "current epoch: 186 current mean dice: 0.7278 wt: 0.7278\n",
      "best mean dice: 0.7342 at epoch: 170\n",
      "time consuming of epoch 186 is: 141.5879\n",
      "----------\n",
      "epoch 187/300\n"
     ]
    },
    {
     "data": {
      "application/vnd.jupyter.widget-view+json": {
       "model_id": "9ed94e13e8be44cbad5fe5b03861cfab",
       "version_major": 2,
       "version_minor": 0
      },
      "text/plain": [
       "  0%|          | 0/295 [00:00<?, ?it/s]"
      ]
     },
     "metadata": {},
     "output_type": "display_data"
    },
    {
     "name": "stdout",
     "output_type": "stream",
     "text": [
      "epoch 187 average loss: 0.1682\n",
      "time consuming of epoch 187 is: 125.0695\n",
      "----------\n",
      "epoch 188/300\n"
     ]
    },
    {
     "data": {
      "application/vnd.jupyter.widget-view+json": {
       "model_id": "ffff59dca3c24937be2b6ddde4ab3a68",
       "version_major": 2,
       "version_minor": 0
      },
      "text/plain": [
       "  0%|          | 0/295 [00:00<?, ?it/s]"
      ]
     },
     "metadata": {},
     "output_type": "display_data"
    },
    {
     "name": "stdout",
     "output_type": "stream",
     "text": [
      "epoch 188 average loss: 0.1696\n",
      "current epoch: 188 current mean dice: 0.7114 wt: 0.7114\n",
      "best mean dice: 0.7342 at epoch: 170\n",
      "time consuming of epoch 188 is: 141.4038\n",
      "----------\n",
      "epoch 189/300\n"
     ]
    },
    {
     "data": {
      "application/vnd.jupyter.widget-view+json": {
       "model_id": "a43bb6ff4d0b44079f0f0d79b44457f5",
       "version_major": 2,
       "version_minor": 0
      },
      "text/plain": [
       "  0%|          | 0/295 [00:00<?, ?it/s]"
      ]
     },
     "metadata": {},
     "output_type": "display_data"
    },
    {
     "name": "stdout",
     "output_type": "stream",
     "text": [
      "epoch 189 average loss: 0.1691\n",
      "time consuming of epoch 189 is: 124.5741\n",
      "----------\n",
      "epoch 190/300\n"
     ]
    },
    {
     "data": {
      "application/vnd.jupyter.widget-view+json": {
       "model_id": "464cdb33e1174425b7eb31095ee4b92d",
       "version_major": 2,
       "version_minor": 0
      },
      "text/plain": [
       "  0%|          | 0/295 [00:00<?, ?it/s]"
      ]
     },
     "metadata": {},
     "output_type": "display_data"
    },
    {
     "name": "stdout",
     "output_type": "stream",
     "text": [
      "epoch 190 average loss: 0.1673\n",
      "current epoch: 190 current mean dice: 0.7256 wt: 0.7256\n",
      "best mean dice: 0.7342 at epoch: 170\n",
      "time consuming of epoch 190 is: 141.5033\n",
      "----------\n",
      "epoch 191/300\n"
     ]
    },
    {
     "data": {
      "application/vnd.jupyter.widget-view+json": {
       "model_id": "1104c7effcb84648ba56a96a54de3341",
       "version_major": 2,
       "version_minor": 0
      },
      "text/plain": [
       "  0%|          | 0/295 [00:00<?, ?it/s]"
      ]
     },
     "metadata": {},
     "output_type": "display_data"
    },
    {
     "name": "stdout",
     "output_type": "stream",
     "text": [
      "epoch 191 average loss: 0.1675\n",
      "time consuming of epoch 191 is: 124.4385\n",
      "----------\n",
      "epoch 192/300\n"
     ]
    },
    {
     "data": {
      "application/vnd.jupyter.widget-view+json": {
       "model_id": "ba77028525db4d22b394e31e3e514bbf",
       "version_major": 2,
       "version_minor": 0
      },
      "text/plain": [
       "  0%|          | 0/295 [00:00<?, ?it/s]"
      ]
     },
     "metadata": {},
     "output_type": "display_data"
    },
    {
     "name": "stdout",
     "output_type": "stream",
     "text": [
      "epoch 192 average loss: 0.1664\n",
      "current epoch: 192 current mean dice: 0.7311 wt: 0.7311\n",
      "best mean dice: 0.7342 at epoch: 170\n",
      "time consuming of epoch 192 is: 141.5050\n",
      "----------\n",
      "epoch 193/300\n"
     ]
    },
    {
     "data": {
      "application/vnd.jupyter.widget-view+json": {
       "model_id": "4f366846c0e6417c9e6b1022adb93e62",
       "version_major": 2,
       "version_minor": 0
      },
      "text/plain": [
       "  0%|          | 0/295 [00:00<?, ?it/s]"
      ]
     },
     "metadata": {},
     "output_type": "display_data"
    },
    {
     "name": "stdout",
     "output_type": "stream",
     "text": [
      "epoch 193 average loss: 0.1665\n",
      "time consuming of epoch 193 is: 125.0192\n",
      "----------\n",
      "epoch 194/300\n"
     ]
    },
    {
     "data": {
      "application/vnd.jupyter.widget-view+json": {
       "model_id": "a48e1e79375b44bdbe7f879d4a69f007",
       "version_major": 2,
       "version_minor": 0
      },
      "text/plain": [
       "  0%|          | 0/295 [00:00<?, ?it/s]"
      ]
     },
     "metadata": {},
     "output_type": "display_data"
    },
    {
     "name": "stdout",
     "output_type": "stream",
     "text": [
      "epoch 194 average loss: 0.1660\n",
      "current epoch: 194 current mean dice: 0.7247 wt: 0.7247\n",
      "best mean dice: 0.7342 at epoch: 170\n",
      "time consuming of epoch 194 is: 142.1845\n",
      "----------\n",
      "epoch 195/300\n"
     ]
    },
    {
     "data": {
      "application/vnd.jupyter.widget-view+json": {
       "model_id": "ac7a8243f3b14aa49db75cf5095dc33b",
       "version_major": 2,
       "version_minor": 0
      },
      "text/plain": [
       "  0%|          | 0/295 [00:00<?, ?it/s]"
      ]
     },
     "metadata": {},
     "output_type": "display_data"
    },
    {
     "name": "stdout",
     "output_type": "stream",
     "text": [
      "epoch 195 average loss: 0.1653\n",
      "time consuming of epoch 195 is: 124.9216\n",
      "----------\n",
      "epoch 196/300\n"
     ]
    },
    {
     "data": {
      "application/vnd.jupyter.widget-view+json": {
       "model_id": "fdf868df17934fb6b4ae200b1a5270d4",
       "version_major": 2,
       "version_minor": 0
      },
      "text/plain": [
       "  0%|          | 0/295 [00:00<?, ?it/s]"
      ]
     },
     "metadata": {},
     "output_type": "display_data"
    },
    {
     "name": "stdout",
     "output_type": "stream",
     "text": [
      "epoch 196 average loss: 0.1662\n",
      "current epoch: 196 current mean dice: 0.7268 wt: 0.7268\n",
      "best mean dice: 0.7342 at epoch: 170\n",
      "time consuming of epoch 196 is: 142.1148\n",
      "----------\n",
      "epoch 197/300\n"
     ]
    },
    {
     "data": {
      "application/vnd.jupyter.widget-view+json": {
       "model_id": "41393f3c534143afa682e237586e781a",
       "version_major": 2,
       "version_minor": 0
      },
      "text/plain": [
       "  0%|          | 0/295 [00:00<?, ?it/s]"
      ]
     },
     "metadata": {},
     "output_type": "display_data"
    },
    {
     "name": "stdout",
     "output_type": "stream",
     "text": [
      "epoch 197 average loss: 0.1672\n",
      "time consuming of epoch 197 is: 125.0969\n",
      "----------\n",
      "epoch 198/300\n"
     ]
    },
    {
     "data": {
      "application/vnd.jupyter.widget-view+json": {
       "model_id": "03b06ba35dbb445895bbbafcf73ce3bb",
       "version_major": 2,
       "version_minor": 0
      },
      "text/plain": [
       "  0%|          | 0/295 [00:00<?, ?it/s]"
      ]
     },
     "metadata": {},
     "output_type": "display_data"
    },
    {
     "name": "stdout",
     "output_type": "stream",
     "text": [
      "epoch 198 average loss: 0.1654\n",
      "current epoch: 198 current mean dice: 0.7249 wt: 0.7249\n",
      "best mean dice: 0.7342 at epoch: 170\n",
      "time consuming of epoch 198 is: 141.9307\n",
      "----------\n",
      "epoch 199/300\n"
     ]
    },
    {
     "data": {
      "application/vnd.jupyter.widget-view+json": {
       "model_id": "d4d2f9ca9af94ba5bbf1b84c815b2317",
       "version_major": 2,
       "version_minor": 0
      },
      "text/plain": [
       "  0%|          | 0/295 [00:00<?, ?it/s]"
      ]
     },
     "metadata": {},
     "output_type": "display_data"
    },
    {
     "name": "stdout",
     "output_type": "stream",
     "text": [
      "epoch 199 average loss: 0.1650\n",
      "time consuming of epoch 199 is: 124.6946\n",
      "----------\n",
      "epoch 200/300\n"
     ]
    },
    {
     "data": {
      "application/vnd.jupyter.widget-view+json": {
       "model_id": "7c7cb6bfdb3a44dca7f1ae25a6df3bc8",
       "version_major": 2,
       "version_minor": 0
      },
      "text/plain": [
       "  0%|          | 0/295 [00:00<?, ?it/s]"
      ]
     },
     "metadata": {},
     "output_type": "display_data"
    },
    {
     "name": "stdout",
     "output_type": "stream",
     "text": [
      "epoch 200 average loss: 0.1639\n",
      "current epoch: 200 current mean dice: 0.7177 wt: 0.7177\n",
      "best mean dice: 0.7342 at epoch: 170\n",
      "time consuming of epoch 200 is: 141.9173\n",
      "----------\n",
      "epoch 201/300\n"
     ]
    },
    {
     "data": {
      "application/vnd.jupyter.widget-view+json": {
       "model_id": "beb01b177a354942a62ca9b5ad6dfae9",
       "version_major": 2,
       "version_minor": 0
      },
      "text/plain": [
       "  0%|          | 0/295 [00:00<?, ?it/s]"
      ]
     },
     "metadata": {},
     "output_type": "display_data"
    },
    {
     "name": "stdout",
     "output_type": "stream",
     "text": [
      "epoch 201 average loss: 0.1640\n",
      "time consuming of epoch 201 is: 124.4988\n",
      "----------\n",
      "epoch 202/300\n"
     ]
    },
    {
     "data": {
      "application/vnd.jupyter.widget-view+json": {
       "model_id": "d5d047c92c5545c9b37907b6cb6182ad",
       "version_major": 2,
       "version_minor": 0
      },
      "text/plain": [
       "  0%|          | 0/295 [00:00<?, ?it/s]"
      ]
     },
     "metadata": {},
     "output_type": "display_data"
    },
    {
     "name": "stdout",
     "output_type": "stream",
     "text": [
      "epoch 202 average loss: 0.1650\n",
      "current epoch: 202 current mean dice: 0.7205 wt: 0.7205\n",
      "best mean dice: 0.7342 at epoch: 170\n",
      "time consuming of epoch 202 is: 141.9620\n",
      "----------\n",
      "epoch 203/300\n"
     ]
    },
    {
     "data": {
      "application/vnd.jupyter.widget-view+json": {
       "model_id": "9360ffbc439244bbaea0d465254244ec",
       "version_major": 2,
       "version_minor": 0
      },
      "text/plain": [
       "  0%|          | 0/295 [00:00<?, ?it/s]"
      ]
     },
     "metadata": {},
     "output_type": "display_data"
    },
    {
     "name": "stdout",
     "output_type": "stream",
     "text": [
      "epoch 203 average loss: 0.1640\n",
      "time consuming of epoch 203 is: 124.9011\n",
      "----------\n",
      "epoch 204/300\n"
     ]
    },
    {
     "data": {
      "application/vnd.jupyter.widget-view+json": {
       "model_id": "35f7ccfc1b52419aac0f10a1218e0559",
       "version_major": 2,
       "version_minor": 0
      },
      "text/plain": [
       "  0%|          | 0/295 [00:00<?, ?it/s]"
      ]
     },
     "metadata": {},
     "output_type": "display_data"
    },
    {
     "name": "stdout",
     "output_type": "stream",
     "text": [
      "epoch 204 average loss: 0.1633\n",
      "current epoch: 204 current mean dice: 0.7285 wt: 0.7285\n",
      "best mean dice: 0.7342 at epoch: 170\n",
      "time consuming of epoch 204 is: 141.6190\n",
      "----------\n",
      "epoch 205/300\n"
     ]
    },
    {
     "data": {
      "application/vnd.jupyter.widget-view+json": {
       "model_id": "e3cfb466d12f4c6daa022d8799510db5",
       "version_major": 2,
       "version_minor": 0
      },
      "text/plain": [
       "  0%|          | 0/295 [00:00<?, ?it/s]"
      ]
     },
     "metadata": {},
     "output_type": "display_data"
    },
    {
     "name": "stdout",
     "output_type": "stream",
     "text": [
      "epoch 205 average loss: 0.1633\n",
      "time consuming of epoch 205 is: 124.4851\n",
      "----------\n",
      "epoch 206/300\n"
     ]
    },
    {
     "data": {
      "application/vnd.jupyter.widget-view+json": {
       "model_id": "a1cbc4924df449729a859c9b181c5956",
       "version_major": 2,
       "version_minor": 0
      },
      "text/plain": [
       "  0%|          | 0/295 [00:00<?, ?it/s]"
      ]
     },
     "metadata": {},
     "output_type": "display_data"
    },
    {
     "name": "stdout",
     "output_type": "stream",
     "text": [
      "epoch 206 average loss: 0.1639\n",
      "current epoch: 206 current mean dice: 0.7223 wt: 0.7223\n",
      "best mean dice: 0.7342 at epoch: 170\n",
      "time consuming of epoch 206 is: 141.7880\n",
      "----------\n",
      "epoch 207/300\n"
     ]
    },
    {
     "data": {
      "application/vnd.jupyter.widget-view+json": {
       "model_id": "5b630d8013fb4fca986532549d605839",
       "version_major": 2,
       "version_minor": 0
      },
      "text/plain": [
       "  0%|          | 0/295 [00:00<?, ?it/s]"
      ]
     },
     "metadata": {},
     "output_type": "display_data"
    },
    {
     "name": "stdout",
     "output_type": "stream",
     "text": [
      "epoch 207 average loss: 0.1621\n",
      "time consuming of epoch 207 is: 124.6240\n",
      "----------\n",
      "epoch 208/300\n"
     ]
    },
    {
     "data": {
      "application/vnd.jupyter.widget-view+json": {
       "model_id": "6b6b3f9dcf8641b29a55121e11684f45",
       "version_major": 2,
       "version_minor": 0
      },
      "text/plain": [
       "  0%|          | 0/295 [00:00<?, ?it/s]"
      ]
     },
     "metadata": {},
     "output_type": "display_data"
    },
    {
     "name": "stdout",
     "output_type": "stream",
     "text": [
      "epoch 208 average loss: 0.1634\n",
      "current epoch: 208 current mean dice: 0.7201 wt: 0.7201\n",
      "best mean dice: 0.7342 at epoch: 170\n",
      "time consuming of epoch 208 is: 141.7290\n",
      "----------\n",
      "epoch 209/300\n"
     ]
    },
    {
     "data": {
      "application/vnd.jupyter.widget-view+json": {
       "model_id": "3d197c4986a24ec6a8ac9997588ae530",
       "version_major": 2,
       "version_minor": 0
      },
      "text/plain": [
       "  0%|          | 0/295 [00:00<?, ?it/s]"
      ]
     },
     "metadata": {},
     "output_type": "display_data"
    },
    {
     "name": "stdout",
     "output_type": "stream",
     "text": [
      "epoch 209 average loss: 0.1651\n",
      "time consuming of epoch 209 is: 124.5200\n",
      "----------\n",
      "epoch 210/300\n"
     ]
    },
    {
     "data": {
      "application/vnd.jupyter.widget-view+json": {
       "model_id": "f4a63e51478c4d4694b37d8639fa9ef6",
       "version_major": 2,
       "version_minor": 0
      },
      "text/plain": [
       "  0%|          | 0/295 [00:00<?, ?it/s]"
      ]
     },
     "metadata": {},
     "output_type": "display_data"
    },
    {
     "name": "stdout",
     "output_type": "stream",
     "text": [
      "epoch 210 average loss: 0.1633\n",
      "current epoch: 210 current mean dice: 0.7278 wt: 0.7278\n",
      "best mean dice: 0.7342 at epoch: 170\n",
      "time consuming of epoch 210 is: 141.4164\n",
      "----------\n",
      "epoch 211/300\n"
     ]
    },
    {
     "data": {
      "application/vnd.jupyter.widget-view+json": {
       "model_id": "d9410a061bfa434c89259b566378ae55",
       "version_major": 2,
       "version_minor": 0
      },
      "text/plain": [
       "  0%|          | 0/295 [00:00<?, ?it/s]"
      ]
     },
     "metadata": {},
     "output_type": "display_data"
    },
    {
     "name": "stdout",
     "output_type": "stream",
     "text": [
      "epoch 211 average loss: 0.1626\n",
      "time consuming of epoch 211 is: 124.5294\n",
      "----------\n",
      "epoch 212/300\n"
     ]
    },
    {
     "data": {
      "application/vnd.jupyter.widget-view+json": {
       "model_id": "e9b87bd38a6d4b2b87ff80726b92e69a",
       "version_major": 2,
       "version_minor": 0
      },
      "text/plain": [
       "  0%|          | 0/295 [00:00<?, ?it/s]"
      ]
     },
     "metadata": {},
     "output_type": "display_data"
    },
    {
     "name": "stdout",
     "output_type": "stream",
     "text": [
      "epoch 212 average loss: 0.1613\n",
      "current epoch: 212 current mean dice: 0.7279 wt: 0.7279\n",
      "best mean dice: 0.7342 at epoch: 170\n",
      "time consuming of epoch 212 is: 141.6754\n",
      "----------\n",
      "epoch 213/300\n"
     ]
    },
    {
     "data": {
      "application/vnd.jupyter.widget-view+json": {
       "model_id": "1fc2a4fd0a9a4aab873c8ace321f447f",
       "version_major": 2,
       "version_minor": 0
      },
      "text/plain": [
       "  0%|          | 0/295 [00:00<?, ?it/s]"
      ]
     },
     "metadata": {},
     "output_type": "display_data"
    },
    {
     "name": "stdout",
     "output_type": "stream",
     "text": [
      "epoch 213 average loss: 0.1609\n",
      "time consuming of epoch 213 is: 124.7088\n",
      "----------\n",
      "epoch 214/300\n"
     ]
    },
    {
     "data": {
      "application/vnd.jupyter.widget-view+json": {
       "model_id": "47a95d819fec482ebf260e0a6f821ac4",
       "version_major": 2,
       "version_minor": 0
      },
      "text/plain": [
       "  0%|          | 0/295 [00:00<?, ?it/s]"
      ]
     },
     "metadata": {},
     "output_type": "display_data"
    },
    {
     "name": "stdout",
     "output_type": "stream",
     "text": [
      "epoch 214 average loss: 0.1619\n",
      "current epoch: 214 current mean dice: 0.7286 wt: 0.7286\n",
      "best mean dice: 0.7342 at epoch: 170\n",
      "time consuming of epoch 214 is: 141.7445\n",
      "----------\n",
      "epoch 215/300\n"
     ]
    },
    {
     "data": {
      "application/vnd.jupyter.widget-view+json": {
       "model_id": "ccbacb0bc33840e4888b390b99efa86f",
       "version_major": 2,
       "version_minor": 0
      },
      "text/plain": [
       "  0%|          | 0/295 [00:00<?, ?it/s]"
      ]
     },
     "metadata": {},
     "output_type": "display_data"
    },
    {
     "name": "stdout",
     "output_type": "stream",
     "text": [
      "epoch 215 average loss: 0.1611\n",
      "time consuming of epoch 215 is: 125.1877\n",
      "----------\n",
      "epoch 216/300\n"
     ]
    },
    {
     "data": {
      "application/vnd.jupyter.widget-view+json": {
       "model_id": "a3b44067a3294d8db628c4c2c683e053",
       "version_major": 2,
       "version_minor": 0
      },
      "text/plain": [
       "  0%|          | 0/295 [00:00<?, ?it/s]"
      ]
     },
     "metadata": {},
     "output_type": "display_data"
    },
    {
     "name": "stdout",
     "output_type": "stream",
     "text": [
      "epoch 216 average loss: 0.1614\n",
      "current epoch: 216 current mean dice: 0.7273 wt: 0.7273\n",
      "best mean dice: 0.7342 at epoch: 170\n",
      "time consuming of epoch 216 is: 141.9772\n",
      "----------\n",
      "epoch 217/300\n"
     ]
    },
    {
     "data": {
      "application/vnd.jupyter.widget-view+json": {
       "model_id": "b1f198f07d3f4335b8fe538bbff6d5d3",
       "version_major": 2,
       "version_minor": 0
      },
      "text/plain": [
       "  0%|          | 0/295 [00:00<?, ?it/s]"
      ]
     },
     "metadata": {},
     "output_type": "display_data"
    },
    {
     "name": "stdout",
     "output_type": "stream",
     "text": [
      "epoch 217 average loss: 0.1627\n",
      "time consuming of epoch 217 is: 125.0378\n",
      "----------\n",
      "epoch 218/300\n"
     ]
    },
    {
     "data": {
      "application/vnd.jupyter.widget-view+json": {
       "model_id": "51b101cdd3534fcda8475b1da35ba144",
       "version_major": 2,
       "version_minor": 0
      },
      "text/plain": [
       "  0%|          | 0/295 [00:00<?, ?it/s]"
      ]
     },
     "metadata": {},
     "output_type": "display_data"
    },
    {
     "name": "stdout",
     "output_type": "stream",
     "text": [
      "epoch 218 average loss: 0.1620\n",
      "current epoch: 218 current mean dice: 0.7301 wt: 0.7301\n",
      "best mean dice: 0.7342 at epoch: 170\n",
      "time consuming of epoch 218 is: 142.1694\n",
      "----------\n",
      "epoch 219/300\n"
     ]
    },
    {
     "data": {
      "application/vnd.jupyter.widget-view+json": {
       "model_id": "79ea1db75d784fcda0721cb4efb2beec",
       "version_major": 2,
       "version_minor": 0
      },
      "text/plain": [
       "  0%|          | 0/295 [00:00<?, ?it/s]"
      ]
     },
     "metadata": {},
     "output_type": "display_data"
    },
    {
     "name": "stdout",
     "output_type": "stream",
     "text": [
      "epoch 219 average loss: 0.1606\n",
      "time consuming of epoch 219 is: 124.6468\n",
      "----------\n",
      "epoch 220/300\n"
     ]
    },
    {
     "data": {
      "application/vnd.jupyter.widget-view+json": {
       "model_id": "1d7d74a0d95143e9973a5aaa89616510",
       "version_major": 2,
       "version_minor": 0
      },
      "text/plain": [
       "  0%|          | 0/295 [00:00<?, ?it/s]"
      ]
     },
     "metadata": {},
     "output_type": "display_data"
    },
    {
     "name": "stdout",
     "output_type": "stream",
     "text": [
      "epoch 220 average loss: 0.1599\n",
      "current epoch: 220 current mean dice: 0.7290 wt: 0.7290\n",
      "best mean dice: 0.7342 at epoch: 170\n",
      "time consuming of epoch 220 is: 141.5662\n",
      "----------\n",
      "epoch 221/300\n"
     ]
    },
    {
     "data": {
      "application/vnd.jupyter.widget-view+json": {
       "model_id": "0aeae7febfac443492c782744a375177",
       "version_major": 2,
       "version_minor": 0
      },
      "text/plain": [
       "  0%|          | 0/295 [00:00<?, ?it/s]"
      ]
     },
     "metadata": {},
     "output_type": "display_data"
    },
    {
     "name": "stdout",
     "output_type": "stream",
     "text": [
      "epoch 221 average loss: 0.1595\n",
      "time consuming of epoch 221 is: 124.9525\n",
      "----------\n",
      "epoch 222/300\n"
     ]
    },
    {
     "data": {
      "application/vnd.jupyter.widget-view+json": {
       "model_id": "7662826f36f849e3b32bda942778aca7",
       "version_major": 2,
       "version_minor": 0
      },
      "text/plain": [
       "  0%|          | 0/295 [00:00<?, ?it/s]"
      ]
     },
     "metadata": {},
     "output_type": "display_data"
    },
    {
     "name": "stdout",
     "output_type": "stream",
     "text": [
      "epoch 222 average loss: 0.1596\n",
      "current epoch: 222 current mean dice: 0.7246 wt: 0.7246\n",
      "best mean dice: 0.7342 at epoch: 170\n",
      "time consuming of epoch 222 is: 141.9917\n",
      "----------\n",
      "epoch 223/300\n"
     ]
    },
    {
     "data": {
      "application/vnd.jupyter.widget-view+json": {
       "model_id": "28a96febc4af4b25a8df06768587df49",
       "version_major": 2,
       "version_minor": 0
      },
      "text/plain": [
       "  0%|          | 0/295 [00:00<?, ?it/s]"
      ]
     },
     "metadata": {},
     "output_type": "display_data"
    },
    {
     "name": "stdout",
     "output_type": "stream",
     "text": [
      "epoch 223 average loss: 0.1599\n",
      "time consuming of epoch 223 is: 125.1359\n",
      "----------\n",
      "epoch 224/300\n"
     ]
    },
    {
     "data": {
      "application/vnd.jupyter.widget-view+json": {
       "model_id": "f080fe5a3e6c45319fc5a4a4a4be11ad",
       "version_major": 2,
       "version_minor": 0
      },
      "text/plain": [
       "  0%|          | 0/295 [00:00<?, ?it/s]"
      ]
     },
     "metadata": {},
     "output_type": "display_data"
    },
    {
     "name": "stdout",
     "output_type": "stream",
     "text": [
      "epoch 224 average loss: 0.1595\n",
      "current epoch: 224 current mean dice: 0.7277 wt: 0.7277\n",
      "best mean dice: 0.7342 at epoch: 170\n",
      "time consuming of epoch 224 is: 141.3558\n",
      "----------\n",
      "epoch 225/300\n"
     ]
    },
    {
     "data": {
      "application/vnd.jupyter.widget-view+json": {
       "model_id": "7e7952e4a9334d2fb78f077d71caffd2",
       "version_major": 2,
       "version_minor": 0
      },
      "text/plain": [
       "  0%|          | 0/295 [00:00<?, ?it/s]"
      ]
     },
     "metadata": {},
     "output_type": "display_data"
    },
    {
     "name": "stdout",
     "output_type": "stream",
     "text": [
      "epoch 225 average loss: 0.1593\n",
      "time consuming of epoch 225 is: 124.7584\n",
      "----------\n",
      "epoch 226/300\n"
     ]
    },
    {
     "data": {
      "application/vnd.jupyter.widget-view+json": {
       "model_id": "c6a01aa3e57b477381fd211babc7c16d",
       "version_major": 2,
       "version_minor": 0
      },
      "text/plain": [
       "  0%|          | 0/295 [00:00<?, ?it/s]"
      ]
     },
     "metadata": {},
     "output_type": "display_data"
    },
    {
     "name": "stdout",
     "output_type": "stream",
     "text": [
      "epoch 226 average loss: 0.1585\n",
      "current epoch: 226 current mean dice: 0.7262 wt: 0.7262\n",
      "best mean dice: 0.7342 at epoch: 170\n",
      "time consuming of epoch 226 is: 141.5452\n",
      "----------\n",
      "epoch 227/300\n"
     ]
    },
    {
     "data": {
      "application/vnd.jupyter.widget-view+json": {
       "model_id": "01ef497364924d67a47494270b038189",
       "version_major": 2,
       "version_minor": 0
      },
      "text/plain": [
       "  0%|          | 0/295 [00:00<?, ?it/s]"
      ]
     },
     "metadata": {},
     "output_type": "display_data"
    },
    {
     "name": "stdout",
     "output_type": "stream",
     "text": [
      "epoch 227 average loss: 0.1589\n",
      "time consuming of epoch 227 is: 124.9385\n",
      "----------\n",
      "epoch 228/300\n"
     ]
    },
    {
     "data": {
      "application/vnd.jupyter.widget-view+json": {
       "model_id": "aed6be551a8f4fd8bf790f03f9600847",
       "version_major": 2,
       "version_minor": 0
      },
      "text/plain": [
       "  0%|          | 0/295 [00:00<?, ?it/s]"
      ]
     },
     "metadata": {},
     "output_type": "display_data"
    },
    {
     "name": "stdout",
     "output_type": "stream",
     "text": [
      "epoch 228 average loss: 0.1587\n",
      "current epoch: 228 current mean dice: 0.7233 wt: 0.7233\n",
      "best mean dice: 0.7342 at epoch: 170\n",
      "time consuming of epoch 228 is: 141.9264\n",
      "----------\n",
      "epoch 229/300\n"
     ]
    },
    {
     "data": {
      "application/vnd.jupyter.widget-view+json": {
       "model_id": "8d915390a2334c9eaef1ea2d346bbed1",
       "version_major": 2,
       "version_minor": 0
      },
      "text/plain": [
       "  0%|          | 0/295 [00:00<?, ?it/s]"
      ]
     },
     "metadata": {},
     "output_type": "display_data"
    },
    {
     "name": "stdout",
     "output_type": "stream",
     "text": [
      "epoch 229 average loss: 0.1576\n",
      "time consuming of epoch 229 is: 125.0374\n",
      "----------\n",
      "epoch 230/300\n"
     ]
    },
    {
     "data": {
      "application/vnd.jupyter.widget-view+json": {
       "model_id": "7c46b830d0a547bfb7b149e71f52e36a",
       "version_major": 2,
       "version_minor": 0
      },
      "text/plain": [
       "  0%|          | 0/295 [00:00<?, ?it/s]"
      ]
     },
     "metadata": {},
     "output_type": "display_data"
    },
    {
     "name": "stdout",
     "output_type": "stream",
     "text": [
      "epoch 230 average loss: 0.1568\n",
      "current epoch: 230 current mean dice: 0.7257 wt: 0.7257\n",
      "best mean dice: 0.7342 at epoch: 170\n",
      "time consuming of epoch 230 is: 141.8987\n",
      "----------\n",
      "epoch 231/300\n"
     ]
    },
    {
     "data": {
      "application/vnd.jupyter.widget-view+json": {
       "model_id": "c76f23f52df6424da916dae498aa74f8",
       "version_major": 2,
       "version_minor": 0
      },
      "text/plain": [
       "  0%|          | 0/295 [00:00<?, ?it/s]"
      ]
     },
     "metadata": {},
     "output_type": "display_data"
    },
    {
     "name": "stdout",
     "output_type": "stream",
     "text": [
      "epoch 231 average loss: 0.1581\n",
      "time consuming of epoch 231 is: 124.7080\n",
      "----------\n",
      "epoch 232/300\n"
     ]
    },
    {
     "data": {
      "application/vnd.jupyter.widget-view+json": {
       "model_id": "ef66568e9abd417f8a439d8f90e1dff7",
       "version_major": 2,
       "version_minor": 0
      },
      "text/plain": [
       "  0%|          | 0/295 [00:00<?, ?it/s]"
      ]
     },
     "metadata": {},
     "output_type": "display_data"
    },
    {
     "name": "stdout",
     "output_type": "stream",
     "text": [
      "epoch 232 average loss: 0.1584\n",
      "current epoch: 232 current mean dice: 0.7310 wt: 0.7310\n",
      "best mean dice: 0.7342 at epoch: 170\n",
      "time consuming of epoch 232 is: 141.7603\n",
      "----------\n",
      "epoch 233/300\n"
     ]
    },
    {
     "data": {
      "application/vnd.jupyter.widget-view+json": {
       "model_id": "e2df894cb7fe4d96bf6cee6e33e8cc36",
       "version_major": 2,
       "version_minor": 0
      },
      "text/plain": [
       "  0%|          | 0/295 [00:00<?, ?it/s]"
      ]
     },
     "metadata": {},
     "output_type": "display_data"
    },
    {
     "name": "stdout",
     "output_type": "stream",
     "text": [
      "epoch 233 average loss: 0.1586\n",
      "time consuming of epoch 233 is: 125.0631\n",
      "----------\n",
      "epoch 234/300\n"
     ]
    },
    {
     "data": {
      "application/vnd.jupyter.widget-view+json": {
       "model_id": "55632888cebd4b53a9976559557f2d84",
       "version_major": 2,
       "version_minor": 0
      },
      "text/plain": [
       "  0%|          | 0/295 [00:00<?, ?it/s]"
      ]
     },
     "metadata": {},
     "output_type": "display_data"
    },
    {
     "name": "stdout",
     "output_type": "stream",
     "text": [
      "epoch 234 average loss: 0.1579\n",
      "current epoch: 234 current mean dice: 0.7273 wt: 0.7273\n",
      "best mean dice: 0.7342 at epoch: 170\n",
      "time consuming of epoch 234 is: 141.4674\n",
      "----------\n",
      "epoch 235/300\n"
     ]
    },
    {
     "data": {
      "application/vnd.jupyter.widget-view+json": {
       "model_id": "1537668f644b42f2940e9885158fb780",
       "version_major": 2,
       "version_minor": 0
      },
      "text/plain": [
       "  0%|          | 0/295 [00:00<?, ?it/s]"
      ]
     },
     "metadata": {},
     "output_type": "display_data"
    },
    {
     "name": "stdout",
     "output_type": "stream",
     "text": [
      "epoch 235 average loss: 0.1575\n",
      "time consuming of epoch 235 is: 124.6149\n",
      "----------\n",
      "epoch 236/300\n"
     ]
    },
    {
     "data": {
      "application/vnd.jupyter.widget-view+json": {
       "model_id": "24596945e8f34707ba89931cf9d12d19",
       "version_major": 2,
       "version_minor": 0
      },
      "text/plain": [
       "  0%|          | 0/295 [00:00<?, ?it/s]"
      ]
     },
     "metadata": {},
     "output_type": "display_data"
    },
    {
     "name": "stdout",
     "output_type": "stream",
     "text": [
      "epoch 236 average loss: 0.1570\n",
      "current epoch: 236 current mean dice: 0.7239 wt: 0.7239\n",
      "best mean dice: 0.7342 at epoch: 170\n",
      "time consuming of epoch 236 is: 141.6747\n",
      "----------\n",
      "epoch 237/300\n"
     ]
    },
    {
     "data": {
      "application/vnd.jupyter.widget-view+json": {
       "model_id": "d79770f49a404bacad660f5ff1b6075f",
       "version_major": 2,
       "version_minor": 0
      },
      "text/plain": [
       "  0%|          | 0/295 [00:00<?, ?it/s]"
      ]
     },
     "metadata": {},
     "output_type": "display_data"
    },
    {
     "name": "stdout",
     "output_type": "stream",
     "text": [
      "epoch 237 average loss: 0.1572\n",
      "time consuming of epoch 237 is: 124.6056\n",
      "----------\n",
      "epoch 238/300\n"
     ]
    },
    {
     "data": {
      "application/vnd.jupyter.widget-view+json": {
       "model_id": "b6b6faca7c1c4317a6034b446578cf79",
       "version_major": 2,
       "version_minor": 0
      },
      "text/plain": [
       "  0%|          | 0/295 [00:00<?, ?it/s]"
      ]
     },
     "metadata": {},
     "output_type": "display_data"
    },
    {
     "name": "stdout",
     "output_type": "stream",
     "text": [
      "epoch 238 average loss: 0.1573\n",
      "current epoch: 238 current mean dice: 0.7271 wt: 0.7271\n",
      "best mean dice: 0.7342 at epoch: 170\n",
      "time consuming of epoch 238 is: 141.8745\n",
      "----------\n",
      "epoch 239/300\n"
     ]
    },
    {
     "data": {
      "application/vnd.jupyter.widget-view+json": {
       "model_id": "6458294d0f4d43ef9c1ac040fe192ae2",
       "version_major": 2,
       "version_minor": 0
      },
      "text/plain": [
       "  0%|          | 0/295 [00:00<?, ?it/s]"
      ]
     },
     "metadata": {},
     "output_type": "display_data"
    },
    {
     "name": "stdout",
     "output_type": "stream",
     "text": [
      "epoch 239 average loss: 0.1571\n",
      "time consuming of epoch 239 is: 125.1698\n",
      "----------\n",
      "epoch 240/300\n"
     ]
    },
    {
     "data": {
      "application/vnd.jupyter.widget-view+json": {
       "model_id": "0857dfc70b7842839742bbd53b4c2c38",
       "version_major": 2,
       "version_minor": 0
      },
      "text/plain": [
       "  0%|          | 0/295 [00:00<?, ?it/s]"
      ]
     },
     "metadata": {},
     "output_type": "display_data"
    },
    {
     "name": "stdout",
     "output_type": "stream",
     "text": [
      "epoch 240 average loss: 0.1567\n",
      "current epoch: 240 current mean dice: 0.7234 wt: 0.7234\n",
      "best mean dice: 0.7342 at epoch: 170\n",
      "time consuming of epoch 240 is: 142.5571\n",
      "----------\n",
      "epoch 241/300\n"
     ]
    },
    {
     "data": {
      "application/vnd.jupyter.widget-view+json": {
       "model_id": "4188d3b664204511839e783bdc4c902c",
       "version_major": 2,
       "version_minor": 0
      },
      "text/plain": [
       "  0%|          | 0/295 [00:00<?, ?it/s]"
      ]
     },
     "metadata": {},
     "output_type": "display_data"
    },
    {
     "name": "stdout",
     "output_type": "stream",
     "text": [
      "epoch 241 average loss: 0.1569\n",
      "time consuming of epoch 241 is: 125.1114\n",
      "----------\n",
      "epoch 242/300\n"
     ]
    },
    {
     "data": {
      "application/vnd.jupyter.widget-view+json": {
       "model_id": "929764fb4e2345e28b14e829b31359f4",
       "version_major": 2,
       "version_minor": 0
      },
      "text/plain": [
       "  0%|          | 0/295 [00:00<?, ?it/s]"
      ]
     },
     "metadata": {},
     "output_type": "display_data"
    },
    {
     "name": "stdout",
     "output_type": "stream",
     "text": [
      "epoch 242 average loss: 0.1560\n",
      "current epoch: 242 current mean dice: 0.7248 wt: 0.7248\n",
      "best mean dice: 0.7342 at epoch: 170\n",
      "time consuming of epoch 242 is: 141.5933\n",
      "----------\n",
      "epoch 243/300\n"
     ]
    },
    {
     "data": {
      "application/vnd.jupyter.widget-view+json": {
       "model_id": "44af0d5a9b30464590da28125376361d",
       "version_major": 2,
       "version_minor": 0
      },
      "text/plain": [
       "  0%|          | 0/295 [00:00<?, ?it/s]"
      ]
     },
     "metadata": {},
     "output_type": "display_data"
    },
    {
     "name": "stdout",
     "output_type": "stream",
     "text": [
      "epoch 243 average loss: 0.1563\n",
      "time consuming of epoch 243 is: 124.7078\n",
      "----------\n",
      "epoch 244/300\n"
     ]
    },
    {
     "data": {
      "application/vnd.jupyter.widget-view+json": {
       "model_id": "ffa2e7d220854593b1e970d5fb174d78",
       "version_major": 2,
       "version_minor": 0
      },
      "text/plain": [
       "  0%|          | 0/295 [00:00<?, ?it/s]"
      ]
     },
     "metadata": {},
     "output_type": "display_data"
    },
    {
     "name": "stdout",
     "output_type": "stream",
     "text": [
      "epoch 244 average loss: 0.1555\n",
      "current epoch: 244 current mean dice: 0.7222 wt: 0.7222\n",
      "best mean dice: 0.7342 at epoch: 170\n",
      "time consuming of epoch 244 is: 141.5960\n",
      "----------\n",
      "epoch 245/300\n"
     ]
    },
    {
     "data": {
      "application/vnd.jupyter.widget-view+json": {
       "model_id": "b0b56619606a4dc5a14d7424e4d4c850",
       "version_major": 2,
       "version_minor": 0
      },
      "text/plain": [
       "  0%|          | 0/295 [00:00<?, ?it/s]"
      ]
     },
     "metadata": {},
     "output_type": "display_data"
    },
    {
     "name": "stdout",
     "output_type": "stream",
     "text": [
      "epoch 245 average loss: 0.1570\n",
      "time consuming of epoch 245 is: 124.6247\n",
      "----------\n",
      "epoch 246/300\n"
     ]
    },
    {
     "data": {
      "application/vnd.jupyter.widget-view+json": {
       "model_id": "e5cffaab7af844618749d8dbd6ea4b5b",
       "version_major": 2,
       "version_minor": 0
      },
      "text/plain": [
       "  0%|          | 0/295 [00:00<?, ?it/s]"
      ]
     },
     "metadata": {},
     "output_type": "display_data"
    },
    {
     "name": "stdout",
     "output_type": "stream",
     "text": [
      "epoch 246 average loss: 0.1556\n",
      "current epoch: 246 current mean dice: 0.7248 wt: 0.7248\n",
      "best mean dice: 0.7342 at epoch: 170\n",
      "time consuming of epoch 246 is: 141.5330\n",
      "----------\n",
      "epoch 247/300\n"
     ]
    },
    {
     "data": {
      "application/vnd.jupyter.widget-view+json": {
       "model_id": "94563b90c5794496ab9196bac7b0fdf9",
       "version_major": 2,
       "version_minor": 0
      },
      "text/plain": [
       "  0%|          | 0/295 [00:00<?, ?it/s]"
      ]
     },
     "metadata": {},
     "output_type": "display_data"
    },
    {
     "name": "stdout",
     "output_type": "stream",
     "text": [
      "epoch 247 average loss: 0.1555\n",
      "time consuming of epoch 247 is: 124.9538\n",
      "----------\n",
      "epoch 248/300\n"
     ]
    },
    {
     "data": {
      "application/vnd.jupyter.widget-view+json": {
       "model_id": "01734a0277f44328864b20a1bcc7e5b9",
       "version_major": 2,
       "version_minor": 0
      },
      "text/plain": [
       "  0%|          | 0/295 [00:00<?, ?it/s]"
      ]
     },
     "metadata": {},
     "output_type": "display_data"
    },
    {
     "name": "stdout",
     "output_type": "stream",
     "text": [
      "epoch 248 average loss: 0.1560\n",
      "current epoch: 248 current mean dice: 0.7250 wt: 0.7250\n",
      "best mean dice: 0.7342 at epoch: 170\n",
      "time consuming of epoch 248 is: 141.9748\n",
      "----------\n",
      "epoch 249/300\n"
     ]
    },
    {
     "data": {
      "application/vnd.jupyter.widget-view+json": {
       "model_id": "9e94900462ff4ce79c4ea73209c5ac69",
       "version_major": 2,
       "version_minor": 0
      },
      "text/plain": [
       "  0%|          | 0/295 [00:00<?, ?it/s]"
      ]
     },
     "metadata": {},
     "output_type": "display_data"
    },
    {
     "name": "stdout",
     "output_type": "stream",
     "text": [
      "epoch 249 average loss: 0.1558\n",
      "time consuming of epoch 249 is: 125.0022\n",
      "----------\n",
      "epoch 250/300\n"
     ]
    },
    {
     "data": {
      "application/vnd.jupyter.widget-view+json": {
       "model_id": "3a061e243f594a6da13764e410b6aaff",
       "version_major": 2,
       "version_minor": 0
      },
      "text/plain": [
       "  0%|          | 0/295 [00:00<?, ?it/s]"
      ]
     },
     "metadata": {},
     "output_type": "display_data"
    },
    {
     "name": "stdout",
     "output_type": "stream",
     "text": [
      "epoch 250 average loss: 0.1566\n",
      "current epoch: 250 current mean dice: 0.7251 wt: 0.7251\n",
      "best mean dice: 0.7342 at epoch: 170\n",
      "time consuming of epoch 250 is: 142.4117\n",
      "----------\n",
      "epoch 251/300\n"
     ]
    },
    {
     "data": {
      "application/vnd.jupyter.widget-view+json": {
       "model_id": "fbbcbe7222f2428591524164da73046f",
       "version_major": 2,
       "version_minor": 0
      },
      "text/plain": [
       "  0%|          | 0/295 [00:00<?, ?it/s]"
      ]
     },
     "metadata": {},
     "output_type": "display_data"
    },
    {
     "name": "stdout",
     "output_type": "stream",
     "text": [
      "epoch 251 average loss: 0.1557\n",
      "time consuming of epoch 251 is: 124.5078\n",
      "----------\n",
      "epoch 252/300\n"
     ]
    },
    {
     "data": {
      "application/vnd.jupyter.widget-view+json": {
       "model_id": "91dc87f711ff44658718e0d337e5dccd",
       "version_major": 2,
       "version_minor": 0
      },
      "text/plain": [
       "  0%|          | 0/295 [00:00<?, ?it/s]"
      ]
     },
     "metadata": {},
     "output_type": "display_data"
    },
    {
     "name": "stdout",
     "output_type": "stream",
     "text": [
      "epoch 252 average loss: 0.1555\n",
      "current epoch: 252 current mean dice: 0.7264 wt: 0.7264\n",
      "best mean dice: 0.7342 at epoch: 170\n",
      "time consuming of epoch 252 is: 141.3758\n",
      "----------\n",
      "epoch 253/300\n"
     ]
    },
    {
     "data": {
      "application/vnd.jupyter.widget-view+json": {
       "model_id": "4d857dc6caf143a4b4982b0788fd291d",
       "version_major": 2,
       "version_minor": 0
      },
      "text/plain": [
       "  0%|          | 0/295 [00:00<?, ?it/s]"
      ]
     },
     "metadata": {},
     "output_type": "display_data"
    },
    {
     "name": "stdout",
     "output_type": "stream",
     "text": [
      "epoch 253 average loss: 0.1558\n",
      "time consuming of epoch 253 is: 125.2199\n",
      "----------\n",
      "epoch 254/300\n"
     ]
    },
    {
     "data": {
      "application/vnd.jupyter.widget-view+json": {
       "model_id": "174e6403f5cd477690329b35dd8e11f5",
       "version_major": 2,
       "version_minor": 0
      },
      "text/plain": [
       "  0%|          | 0/295 [00:00<?, ?it/s]"
      ]
     },
     "metadata": {},
     "output_type": "display_data"
    },
    {
     "name": "stdout",
     "output_type": "stream",
     "text": [
      "epoch 254 average loss: 0.1553\n",
      "current epoch: 254 current mean dice: 0.7251 wt: 0.7251\n",
      "best mean dice: 0.7342 at epoch: 170\n",
      "time consuming of epoch 254 is: 142.2100\n",
      "----------\n",
      "epoch 255/300\n"
     ]
    },
    {
     "data": {
      "application/vnd.jupyter.widget-view+json": {
       "model_id": "fc07af03685b4913beab144792158a11",
       "version_major": 2,
       "version_minor": 0
      },
      "text/plain": [
       "  0%|          | 0/295 [00:00<?, ?it/s]"
      ]
     },
     "metadata": {},
     "output_type": "display_data"
    },
    {
     "name": "stdout",
     "output_type": "stream",
     "text": [
      "epoch 255 average loss: 0.1560\n",
      "time consuming of epoch 255 is: 125.2837\n",
      "----------\n",
      "epoch 256/300\n"
     ]
    },
    {
     "data": {
      "application/vnd.jupyter.widget-view+json": {
       "model_id": "107ce249ae454c979e24c190025e9908",
       "version_major": 2,
       "version_minor": 0
      },
      "text/plain": [
       "  0%|          | 0/295 [00:00<?, ?it/s]"
      ]
     },
     "metadata": {},
     "output_type": "display_data"
    },
    {
     "name": "stdout",
     "output_type": "stream",
     "text": [
      "epoch 256 average loss: 0.1550\n",
      "current epoch: 256 current mean dice: 0.7277 wt: 0.7277\n",
      "best mean dice: 0.7342 at epoch: 170\n",
      "time consuming of epoch 256 is: 142.1082\n",
      "----------\n",
      "epoch 257/300\n"
     ]
    },
    {
     "data": {
      "application/vnd.jupyter.widget-view+json": {
       "model_id": "3a214c5b871c4eb88870cce0eef5a797",
       "version_major": 2,
       "version_minor": 0
      },
      "text/plain": [
       "  0%|          | 0/295 [00:00<?, ?it/s]"
      ]
     },
     "metadata": {},
     "output_type": "display_data"
    },
    {
     "name": "stdout",
     "output_type": "stream",
     "text": [
      "epoch 257 average loss: 0.1543\n",
      "time consuming of epoch 257 is: 125.4555\n",
      "----------\n",
      "epoch 258/300\n"
     ]
    },
    {
     "data": {
      "application/vnd.jupyter.widget-view+json": {
       "model_id": "7772153ded524b51af8d6ee946789fcc",
       "version_major": 2,
       "version_minor": 0
      },
      "text/plain": [
       "  0%|          | 0/295 [00:00<?, ?it/s]"
      ]
     },
     "metadata": {},
     "output_type": "display_data"
    },
    {
     "name": "stdout",
     "output_type": "stream",
     "text": [
      "epoch 258 average loss: 0.1550\n",
      "current epoch: 258 current mean dice: 0.7268 wt: 0.7268\n",
      "best mean dice: 0.7342 at epoch: 170\n",
      "time consuming of epoch 258 is: 141.9717\n",
      "----------\n",
      "epoch 259/300\n"
     ]
    },
    {
     "data": {
      "application/vnd.jupyter.widget-view+json": {
       "model_id": "af4ffc4566bb4abab030220547464119",
       "version_major": 2,
       "version_minor": 0
      },
      "text/plain": [
       "  0%|          | 0/295 [00:00<?, ?it/s]"
      ]
     },
     "metadata": {},
     "output_type": "display_data"
    },
    {
     "name": "stdout",
     "output_type": "stream",
     "text": [
      "epoch 259 average loss: 0.1552\n",
      "time consuming of epoch 259 is: 125.0184\n",
      "----------\n",
      "epoch 260/300\n"
     ]
    },
    {
     "data": {
      "application/vnd.jupyter.widget-view+json": {
       "model_id": "2ce3aa93d22e42138483c13d4ce7b290",
       "version_major": 2,
       "version_minor": 0
      },
      "text/plain": [
       "  0%|          | 0/295 [00:00<?, ?it/s]"
      ]
     },
     "metadata": {},
     "output_type": "display_data"
    },
    {
     "name": "stdout",
     "output_type": "stream",
     "text": [
      "epoch 260 average loss: 0.1542\n",
      "current epoch: 260 current mean dice: 0.7213 wt: 0.7213\n",
      "best mean dice: 0.7342 at epoch: 170\n",
      "time consuming of epoch 260 is: 142.1027\n",
      "----------\n",
      "epoch 261/300\n"
     ]
    },
    {
     "data": {
      "application/vnd.jupyter.widget-view+json": {
       "model_id": "e63d46661d5c4bd6bb8e4d5b398efcca",
       "version_major": 2,
       "version_minor": 0
      },
      "text/plain": [
       "  0%|          | 0/295 [00:00<?, ?it/s]"
      ]
     },
     "metadata": {},
     "output_type": "display_data"
    },
    {
     "name": "stdout",
     "output_type": "stream",
     "text": [
      "epoch 261 average loss: 0.1546\n",
      "time consuming of epoch 261 is: 125.4214\n",
      "----------\n",
      "epoch 262/300\n"
     ]
    },
    {
     "data": {
      "application/vnd.jupyter.widget-view+json": {
       "model_id": "b09c6df186b64b309225ca21de2e8053",
       "version_major": 2,
       "version_minor": 0
      },
      "text/plain": [
       "  0%|          | 0/295 [00:00<?, ?it/s]"
      ]
     },
     "metadata": {},
     "output_type": "display_data"
    },
    {
     "name": "stdout",
     "output_type": "stream",
     "text": [
      "epoch 262 average loss: 0.1549\n",
      "current epoch: 262 current mean dice: 0.7278 wt: 0.7278\n",
      "best mean dice: 0.7342 at epoch: 170\n",
      "time consuming of epoch 262 is: 142.0081\n",
      "----------\n",
      "epoch 263/300\n"
     ]
    },
    {
     "data": {
      "application/vnd.jupyter.widget-view+json": {
       "model_id": "6410d5642b7345a5b4d7076badcf96ec",
       "version_major": 2,
       "version_minor": 0
      },
      "text/plain": [
       "  0%|          | 0/295 [00:00<?, ?it/s]"
      ]
     },
     "metadata": {},
     "output_type": "display_data"
    },
    {
     "name": "stdout",
     "output_type": "stream",
     "text": [
      "epoch 263 average loss: 0.1541\n",
      "time consuming of epoch 263 is: 125.1633\n",
      "----------\n",
      "epoch 264/300\n"
     ]
    },
    {
     "data": {
      "application/vnd.jupyter.widget-view+json": {
       "model_id": "535eaf6f27cc4aa68f2962d3b3637abc",
       "version_major": 2,
       "version_minor": 0
      },
      "text/plain": [
       "  0%|          | 0/295 [00:00<?, ?it/s]"
      ]
     },
     "metadata": {},
     "output_type": "display_data"
    },
    {
     "name": "stdout",
     "output_type": "stream",
     "text": [
      "epoch 264 average loss: 0.1541\n",
      "current epoch: 264 current mean dice: 0.7238 wt: 0.7238\n",
      "best mean dice: 0.7342 at epoch: 170\n",
      "time consuming of epoch 264 is: 142.3382\n",
      "----------\n",
      "epoch 265/300\n"
     ]
    },
    {
     "data": {
      "application/vnd.jupyter.widget-view+json": {
       "model_id": "dd64f50884a840018829c72e444c2f9b",
       "version_major": 2,
       "version_minor": 0
      },
      "text/plain": [
       "  0%|          | 0/295 [00:00<?, ?it/s]"
      ]
     },
     "metadata": {},
     "output_type": "display_data"
    },
    {
     "name": "stdout",
     "output_type": "stream",
     "text": [
      "epoch 265 average loss: 0.1541\n",
      "time consuming of epoch 265 is: 124.8845\n",
      "----------\n",
      "epoch 266/300\n"
     ]
    },
    {
     "data": {
      "application/vnd.jupyter.widget-view+json": {
       "model_id": "e0c38b7b57ba4bc1b94512244ba18463",
       "version_major": 2,
       "version_minor": 0
      },
      "text/plain": [
       "  0%|          | 0/295 [00:00<?, ?it/s]"
      ]
     },
     "metadata": {},
     "output_type": "display_data"
    },
    {
     "name": "stdout",
     "output_type": "stream",
     "text": [
      "epoch 266 average loss: 0.1541\n",
      "current epoch: 266 current mean dice: 0.7271 wt: 0.7271\n",
      "best mean dice: 0.7342 at epoch: 170\n",
      "time consuming of epoch 266 is: 141.7316\n",
      "----------\n",
      "epoch 267/300\n"
     ]
    },
    {
     "data": {
      "application/vnd.jupyter.widget-view+json": {
       "model_id": "017210604efc4702aab3c83e9da402ca",
       "version_major": 2,
       "version_minor": 0
      },
      "text/plain": [
       "  0%|          | 0/295 [00:00<?, ?it/s]"
      ]
     },
     "metadata": {},
     "output_type": "display_data"
    },
    {
     "name": "stdout",
     "output_type": "stream",
     "text": [
      "epoch 267 average loss: 0.1541\n",
      "time consuming of epoch 267 is: 124.7441\n",
      "----------\n",
      "epoch 268/300\n"
     ]
    },
    {
     "data": {
      "application/vnd.jupyter.widget-view+json": {
       "model_id": "48c97734642d419a85d4f7bb51935fa3",
       "version_major": 2,
       "version_minor": 0
      },
      "text/plain": [
       "  0%|          | 0/295 [00:00<?, ?it/s]"
      ]
     },
     "metadata": {},
     "output_type": "display_data"
    },
    {
     "name": "stdout",
     "output_type": "stream",
     "text": [
      "epoch 268 average loss: 0.1540\n",
      "current epoch: 268 current mean dice: 0.7257 wt: 0.7257\n",
      "best mean dice: 0.7342 at epoch: 170\n",
      "time consuming of epoch 268 is: 141.8297\n",
      "----------\n",
      "epoch 269/300\n"
     ]
    },
    {
     "data": {
      "application/vnd.jupyter.widget-view+json": {
       "model_id": "2642e49a9b614152933332e8f57084fb",
       "version_major": 2,
       "version_minor": 0
      },
      "text/plain": [
       "  0%|          | 0/295 [00:00<?, ?it/s]"
      ]
     },
     "metadata": {},
     "output_type": "display_data"
    },
    {
     "name": "stdout",
     "output_type": "stream",
     "text": [
      "epoch 269 average loss: 0.1542\n",
      "time consuming of epoch 269 is: 124.6749\n",
      "----------\n",
      "epoch 270/300\n"
     ]
    },
    {
     "data": {
      "application/vnd.jupyter.widget-view+json": {
       "model_id": "022392535b4e400697db6214612cb517",
       "version_major": 2,
       "version_minor": 0
      },
      "text/plain": [
       "  0%|          | 0/295 [00:00<?, ?it/s]"
      ]
     },
     "metadata": {},
     "output_type": "display_data"
    },
    {
     "name": "stdout",
     "output_type": "stream",
     "text": [
      "epoch 270 average loss: 0.1538\n",
      "current epoch: 270 current mean dice: 0.7284 wt: 0.7284\n",
      "best mean dice: 0.7342 at epoch: 170\n",
      "time consuming of epoch 270 is: 142.0840\n",
      "----------\n",
      "epoch 271/300\n"
     ]
    },
    {
     "data": {
      "application/vnd.jupyter.widget-view+json": {
       "model_id": "813cf07ff46b479db885512d7e2b021e",
       "version_major": 2,
       "version_minor": 0
      },
      "text/plain": [
       "  0%|          | 0/295 [00:00<?, ?it/s]"
      ]
     },
     "metadata": {},
     "output_type": "display_data"
    },
    {
     "name": "stdout",
     "output_type": "stream",
     "text": [
      "epoch 271 average loss: 0.1544\n",
      "time consuming of epoch 271 is: 125.0537\n",
      "----------\n",
      "epoch 272/300\n"
     ]
    },
    {
     "data": {
      "application/vnd.jupyter.widget-view+json": {
       "model_id": "2c3787a59d9047b08fa9bcedd1d40398",
       "version_major": 2,
       "version_minor": 0
      },
      "text/plain": [
       "  0%|          | 0/295 [00:00<?, ?it/s]"
      ]
     },
     "metadata": {},
     "output_type": "display_data"
    },
    {
     "name": "stdout",
     "output_type": "stream",
     "text": [
      "epoch 272 average loss: 0.1543\n",
      "current epoch: 272 current mean dice: 0.7258 wt: 0.7258\n",
      "best mean dice: 0.7342 at epoch: 170\n",
      "time consuming of epoch 272 is: 141.8831\n",
      "----------\n",
      "epoch 273/300\n"
     ]
    },
    {
     "data": {
      "application/vnd.jupyter.widget-view+json": {
       "model_id": "9e2b70d9736c48b68995dcc1c977559c",
       "version_major": 2,
       "version_minor": 0
      },
      "text/plain": [
       "  0%|          | 0/295 [00:00<?, ?it/s]"
      ]
     },
     "metadata": {},
     "output_type": "display_data"
    },
    {
     "name": "stdout",
     "output_type": "stream",
     "text": [
      "epoch 273 average loss: 0.1534\n",
      "time consuming of epoch 273 is: 124.9374\n",
      "----------\n",
      "epoch 274/300\n"
     ]
    },
    {
     "data": {
      "application/vnd.jupyter.widget-view+json": {
       "model_id": "b1bb27348a78405fa9db35355f3b80ed",
       "version_major": 2,
       "version_minor": 0
      },
      "text/plain": [
       "  0%|          | 0/295 [00:00<?, ?it/s]"
      ]
     },
     "metadata": {},
     "output_type": "display_data"
    },
    {
     "name": "stdout",
     "output_type": "stream",
     "text": [
      "epoch 274 average loss: 0.1543\n",
      "current epoch: 274 current mean dice: 0.7275 wt: 0.7275\n",
      "best mean dice: 0.7342 at epoch: 170\n",
      "time consuming of epoch 274 is: 142.2304\n",
      "----------\n",
      "epoch 275/300\n"
     ]
    },
    {
     "data": {
      "application/vnd.jupyter.widget-view+json": {
       "model_id": "b3349bbf36b94acea723af2baff23da6",
       "version_major": 2,
       "version_minor": 0
      },
      "text/plain": [
       "  0%|          | 0/295 [00:00<?, ?it/s]"
      ]
     },
     "metadata": {},
     "output_type": "display_data"
    },
    {
     "name": "stdout",
     "output_type": "stream",
     "text": [
      "epoch 275 average loss: 0.1538\n",
      "time consuming of epoch 275 is: 125.2629\n",
      "----------\n",
      "epoch 276/300\n"
     ]
    },
    {
     "data": {
      "application/vnd.jupyter.widget-view+json": {
       "model_id": "a0302eb2b0e84f859be205580d20e766",
       "version_major": 2,
       "version_minor": 0
      },
      "text/plain": [
       "  0%|          | 0/295 [00:00<?, ?it/s]"
      ]
     },
     "metadata": {},
     "output_type": "display_data"
    },
    {
     "name": "stdout",
     "output_type": "stream",
     "text": [
      "epoch 276 average loss: 0.1531\n",
      "current epoch: 276 current mean dice: 0.7292 wt: 0.7292\n",
      "best mean dice: 0.7342 at epoch: 170\n",
      "time consuming of epoch 276 is: 142.0518\n",
      "----------\n",
      "epoch 277/300\n"
     ]
    },
    {
     "data": {
      "application/vnd.jupyter.widget-view+json": {
       "model_id": "063897e1d81f48e7afaef90736181da9",
       "version_major": 2,
       "version_minor": 0
      },
      "text/plain": [
       "  0%|          | 0/295 [00:00<?, ?it/s]"
      ]
     },
     "metadata": {},
     "output_type": "display_data"
    },
    {
     "name": "stdout",
     "output_type": "stream",
     "text": [
      "epoch 277 average loss: 0.1542\n",
      "time consuming of epoch 277 is: 125.1565\n",
      "----------\n",
      "epoch 278/300\n"
     ]
    },
    {
     "data": {
      "application/vnd.jupyter.widget-view+json": {
       "model_id": "6e87f5c12f7e42a59279053f13db9908",
       "version_major": 2,
       "version_minor": 0
      },
      "text/plain": [
       "  0%|          | 0/295 [00:00<?, ?it/s]"
      ]
     },
     "metadata": {},
     "output_type": "display_data"
    },
    {
     "name": "stdout",
     "output_type": "stream",
     "text": [
      "epoch 278 average loss: 0.1537\n",
      "current epoch: 278 current mean dice: 0.7213 wt: 0.7213\n",
      "best mean dice: 0.7342 at epoch: 170\n",
      "time consuming of epoch 278 is: 141.7208\n",
      "----------\n",
      "epoch 279/300\n"
     ]
    },
    {
     "data": {
      "application/vnd.jupyter.widget-view+json": {
       "model_id": "fdc46a18c3594f10819741e3045bcd74",
       "version_major": 2,
       "version_minor": 0
      },
      "text/plain": [
       "  0%|          | 0/295 [00:00<?, ?it/s]"
      ]
     },
     "metadata": {},
     "output_type": "display_data"
    },
    {
     "name": "stdout",
     "output_type": "stream",
     "text": [
      "epoch 279 average loss: 0.1536\n",
      "time consuming of epoch 279 is: 125.3463\n",
      "----------\n",
      "epoch 280/300\n"
     ]
    },
    {
     "data": {
      "application/vnd.jupyter.widget-view+json": {
       "model_id": "3e326173fadd49c5a8245da23f9b9bef",
       "version_major": 2,
       "version_minor": 0
      },
      "text/plain": [
       "  0%|          | 0/295 [00:00<?, ?it/s]"
      ]
     },
     "metadata": {},
     "output_type": "display_data"
    },
    {
     "name": "stdout",
     "output_type": "stream",
     "text": [
      "epoch 280 average loss: 0.1531\n",
      "current epoch: 280 current mean dice: 0.7276 wt: 0.7276\n",
      "best mean dice: 0.7342 at epoch: 170\n",
      "time consuming of epoch 280 is: 142.1715\n",
      "----------\n",
      "epoch 281/300\n"
     ]
    },
    {
     "data": {
      "application/vnd.jupyter.widget-view+json": {
       "model_id": "0d70ba6ccca246fbbe01477b3742402a",
       "version_major": 2,
       "version_minor": 0
      },
      "text/plain": [
       "  0%|          | 0/295 [00:00<?, ?it/s]"
      ]
     },
     "metadata": {},
     "output_type": "display_data"
    },
    {
     "name": "stdout",
     "output_type": "stream",
     "text": [
      "epoch 281 average loss: 0.1529\n",
      "time consuming of epoch 281 is: 124.8774\n",
      "----------\n",
      "epoch 282/300\n"
     ]
    },
    {
     "data": {
      "application/vnd.jupyter.widget-view+json": {
       "model_id": "1d7daaf1a17044e9a2aa61a1c02944ef",
       "version_major": 2,
       "version_minor": 0
      },
      "text/plain": [
       "  0%|          | 0/295 [00:00<?, ?it/s]"
      ]
     },
     "metadata": {},
     "output_type": "display_data"
    },
    {
     "name": "stdout",
     "output_type": "stream",
     "text": [
      "epoch 282 average loss: 0.1542\n",
      "current epoch: 282 current mean dice: 0.7247 wt: 0.7247\n",
      "best mean dice: 0.7342 at epoch: 170\n",
      "time consuming of epoch 282 is: 141.9827\n",
      "----------\n",
      "epoch 283/300\n"
     ]
    },
    {
     "data": {
      "application/vnd.jupyter.widget-view+json": {
       "model_id": "6f7b4e46f2854d42b4374340381e83e7",
       "version_major": 2,
       "version_minor": 0
      },
      "text/plain": [
       "  0%|          | 0/295 [00:00<?, ?it/s]"
      ]
     },
     "metadata": {},
     "output_type": "display_data"
    },
    {
     "name": "stdout",
     "output_type": "stream",
     "text": [
      "epoch 283 average loss: 0.1537\n",
      "time consuming of epoch 283 is: 125.3329\n",
      "----------\n",
      "epoch 284/300\n"
     ]
    },
    {
     "data": {
      "application/vnd.jupyter.widget-view+json": {
       "model_id": "f30b1bb81e9846e0aaa5b82f74199e13",
       "version_major": 2,
       "version_minor": 0
      },
      "text/plain": [
       "  0%|          | 0/295 [00:00<?, ?it/s]"
      ]
     },
     "metadata": {},
     "output_type": "display_data"
    },
    {
     "name": "stdout",
     "output_type": "stream",
     "text": [
      "epoch 284 average loss: 0.1529\n",
      "current epoch: 284 current mean dice: 0.7267 wt: 0.7267\n",
      "best mean dice: 0.7342 at epoch: 170\n",
      "time consuming of epoch 284 is: 142.0634\n",
      "----------\n",
      "epoch 285/300\n"
     ]
    },
    {
     "data": {
      "application/vnd.jupyter.widget-view+json": {
       "model_id": "f8cc2806e25d4fe09515b05195594105",
       "version_major": 2,
       "version_minor": 0
      },
      "text/plain": [
       "  0%|          | 0/295 [00:00<?, ?it/s]"
      ]
     },
     "metadata": {},
     "output_type": "display_data"
    },
    {
     "name": "stdout",
     "output_type": "stream",
     "text": [
      "epoch 285 average loss: 0.1535\n",
      "time consuming of epoch 285 is: 124.8265\n",
      "----------\n",
      "epoch 286/300\n"
     ]
    },
    {
     "data": {
      "application/vnd.jupyter.widget-view+json": {
       "model_id": "ffdf781f3eb24a4f8153b524c7efbb5e",
       "version_major": 2,
       "version_minor": 0
      },
      "text/plain": [
       "  0%|          | 0/295 [00:00<?, ?it/s]"
      ]
     },
     "metadata": {},
     "output_type": "display_data"
    },
    {
     "name": "stdout",
     "output_type": "stream",
     "text": [
      "epoch 286 average loss: 0.1526\n",
      "current epoch: 286 current mean dice: 0.7276 wt: 0.7276\n",
      "best mean dice: 0.7342 at epoch: 170\n",
      "time consuming of epoch 286 is: 141.8021\n",
      "----------\n",
      "epoch 287/300\n"
     ]
    },
    {
     "data": {
      "application/vnd.jupyter.widget-view+json": {
       "model_id": "e008eb0e9e574a0797f2d8373fc6fca1",
       "version_major": 2,
       "version_minor": 0
      },
      "text/plain": [
       "  0%|          | 0/295 [00:00<?, ?it/s]"
      ]
     },
     "metadata": {},
     "output_type": "display_data"
    },
    {
     "name": "stdout",
     "output_type": "stream",
     "text": [
      "epoch 287 average loss: 0.1534\n",
      "time consuming of epoch 287 is: 124.9225\n",
      "----------\n",
      "epoch 288/300\n"
     ]
    },
    {
     "data": {
      "application/vnd.jupyter.widget-view+json": {
       "model_id": "aef1d86786c34479ae4e31428ae6110d",
       "version_major": 2,
       "version_minor": 0
      },
      "text/plain": [
       "  0%|          | 0/295 [00:00<?, ?it/s]"
      ]
     },
     "metadata": {},
     "output_type": "display_data"
    },
    {
     "name": "stdout",
     "output_type": "stream",
     "text": [
      "epoch 288 average loss: 0.1534\n",
      "current epoch: 288 current mean dice: 0.7264 wt: 0.7264\n",
      "best mean dice: 0.7342 at epoch: 170\n",
      "time consuming of epoch 288 is: 142.3053\n",
      "----------\n",
      "epoch 289/300\n"
     ]
    },
    {
     "data": {
      "application/vnd.jupyter.widget-view+json": {
       "model_id": "aede81e645604d119ba9703168aa5334",
       "version_major": 2,
       "version_minor": 0
      },
      "text/plain": [
       "  0%|          | 0/295 [00:00<?, ?it/s]"
      ]
     },
     "metadata": {},
     "output_type": "display_data"
    },
    {
     "name": "stdout",
     "output_type": "stream",
     "text": [
      "epoch 289 average loss: 0.1531\n",
      "time consuming of epoch 289 is: 124.9534\n",
      "----------\n",
      "epoch 290/300\n"
     ]
    },
    {
     "data": {
      "application/vnd.jupyter.widget-view+json": {
       "model_id": "1fd09559c7e84caaac958caa687b3634",
       "version_major": 2,
       "version_minor": 0
      },
      "text/plain": [
       "  0%|          | 0/295 [00:00<?, ?it/s]"
      ]
     },
     "metadata": {},
     "output_type": "display_data"
    },
    {
     "name": "stdout",
     "output_type": "stream",
     "text": [
      "epoch 290 average loss: 0.1527\n",
      "current epoch: 290 current mean dice: 0.7250 wt: 0.7250\n",
      "best mean dice: 0.7342 at epoch: 170\n",
      "time consuming of epoch 290 is: 142.2681\n",
      "----------\n",
      "epoch 291/300\n"
     ]
    },
    {
     "data": {
      "application/vnd.jupyter.widget-view+json": {
       "model_id": "215defcd816a4705ad5a8acb478d993d",
       "version_major": 2,
       "version_minor": 0
      },
      "text/plain": [
       "  0%|          | 0/295 [00:00<?, ?it/s]"
      ]
     },
     "metadata": {},
     "output_type": "display_data"
    },
    {
     "name": "stdout",
     "output_type": "stream",
     "text": [
      "epoch 291 average loss: 0.1533\n",
      "time consuming of epoch 291 is: 124.7511\n",
      "----------\n",
      "epoch 292/300\n"
     ]
    },
    {
     "data": {
      "application/vnd.jupyter.widget-view+json": {
       "model_id": "6c89a59b817449c391a950fc63f602de",
       "version_major": 2,
       "version_minor": 0
      },
      "text/plain": [
       "  0%|          | 0/295 [00:00<?, ?it/s]"
      ]
     },
     "metadata": {},
     "output_type": "display_data"
    },
    {
     "name": "stdout",
     "output_type": "stream",
     "text": [
      "epoch 292 average loss: 0.1534\n",
      "current epoch: 292 current mean dice: 0.7272 wt: 0.7272\n",
      "best mean dice: 0.7342 at epoch: 170\n",
      "time consuming of epoch 292 is: 141.7969\n",
      "----------\n",
      "epoch 293/300\n"
     ]
    },
    {
     "data": {
      "application/vnd.jupyter.widget-view+json": {
       "model_id": "ec4e6f5b7289477e89398d5f38d346ff",
       "version_major": 2,
       "version_minor": 0
      },
      "text/plain": [
       "  0%|          | 0/295 [00:00<?, ?it/s]"
      ]
     },
     "metadata": {},
     "output_type": "display_data"
    },
    {
     "name": "stdout",
     "output_type": "stream",
     "text": [
      "epoch 293 average loss: 0.1532\n",
      "time consuming of epoch 293 is: 125.0170\n",
      "----------\n",
      "epoch 294/300\n"
     ]
    },
    {
     "data": {
      "application/vnd.jupyter.widget-view+json": {
       "model_id": "ced430ec97714dcd9de94e5b036d9231",
       "version_major": 2,
       "version_minor": 0
      },
      "text/plain": [
       "  0%|          | 0/295 [00:00<?, ?it/s]"
      ]
     },
     "metadata": {},
     "output_type": "display_data"
    },
    {
     "name": "stdout",
     "output_type": "stream",
     "text": [
      "epoch 294 average loss: 0.1535\n",
      "current epoch: 294 current mean dice: 0.7266 wt: 0.7266\n",
      "best mean dice: 0.7342 at epoch: 170\n",
      "time consuming of epoch 294 is: 141.7271\n",
      "----------\n",
      "epoch 295/300\n"
     ]
    },
    {
     "data": {
      "application/vnd.jupyter.widget-view+json": {
       "model_id": "16bea3dfd23e4cda8772971e16e0198c",
       "version_major": 2,
       "version_minor": 0
      },
      "text/plain": [
       "  0%|          | 0/295 [00:00<?, ?it/s]"
      ]
     },
     "metadata": {},
     "output_type": "display_data"
    },
    {
     "name": "stdout",
     "output_type": "stream",
     "text": [
      "epoch 295 average loss: 0.1531\n",
      "time consuming of epoch 295 is: 125.2122\n",
      "----------\n",
      "epoch 296/300\n"
     ]
    },
    {
     "data": {
      "application/vnd.jupyter.widget-view+json": {
       "model_id": "50700d5fd3cc4cdaa8137360b0a4d96f",
       "version_major": 2,
       "version_minor": 0
      },
      "text/plain": [
       "  0%|          | 0/295 [00:00<?, ?it/s]"
      ]
     },
     "metadata": {},
     "output_type": "display_data"
    },
    {
     "name": "stdout",
     "output_type": "stream",
     "text": [
      "epoch 296 average loss: 0.1534\n",
      "current epoch: 296 current mean dice: 0.7263 wt: 0.7263\n",
      "best mean dice: 0.7342 at epoch: 170\n",
      "time consuming of epoch 296 is: 142.1705\n",
      "----------\n",
      "epoch 297/300\n"
     ]
    },
    {
     "data": {
      "application/vnd.jupyter.widget-view+json": {
       "model_id": "c5e7ba0da198477695617ced54873609",
       "version_major": 2,
       "version_minor": 0
      },
      "text/plain": [
       "  0%|          | 0/295 [00:00<?, ?it/s]"
      ]
     },
     "metadata": {},
     "output_type": "display_data"
    },
    {
     "name": "stdout",
     "output_type": "stream",
     "text": [
      "epoch 297 average loss: 0.1533\n",
      "time consuming of epoch 297 is: 125.2850\n",
      "----------\n",
      "epoch 298/300\n"
     ]
    },
    {
     "data": {
      "application/vnd.jupyter.widget-view+json": {
       "model_id": "b3f55e04bfe0471c9b2db08fc2a8598a",
       "version_major": 2,
       "version_minor": 0
      },
      "text/plain": [
       "  0%|          | 0/295 [00:00<?, ?it/s]"
      ]
     },
     "metadata": {},
     "output_type": "display_data"
    },
    {
     "name": "stdout",
     "output_type": "stream",
     "text": [
      "epoch 298 average loss: 0.1529\n",
      "current epoch: 298 current mean dice: 0.7277 wt: 0.7277\n",
      "best mean dice: 0.7342 at epoch: 170\n",
      "time consuming of epoch 298 is: 142.2535\n",
      "----------\n",
      "epoch 299/300\n"
     ]
    },
    {
     "data": {
      "application/vnd.jupyter.widget-view+json": {
       "model_id": "c4e32f43f580420ba5c87adfe4dc305b",
       "version_major": 2,
       "version_minor": 0
      },
      "text/plain": [
       "  0%|          | 0/295 [00:00<?, ?it/s]"
      ]
     },
     "metadata": {},
     "output_type": "display_data"
    },
    {
     "name": "stdout",
     "output_type": "stream",
     "text": [
      "epoch 299 average loss: 0.1532\n",
      "time consuming of epoch 299 is: 125.1811\n",
      "----------\n",
      "epoch 300/300\n"
     ]
    },
    {
     "data": {
      "application/vnd.jupyter.widget-view+json": {
       "model_id": "56542b2bc5f6465ca7366ed6f959ec54",
       "version_major": 2,
       "version_minor": 0
      },
      "text/plain": [
       "  0%|          | 0/295 [00:00<?, ?it/s]"
      ]
     },
     "metadata": {},
     "output_type": "display_data"
    },
    {
     "name": "stdout",
     "output_type": "stream",
     "text": [
      "epoch 300 average loss: 0.1540\n",
      "current epoch: 300 current mean dice: 0.7254 wt: 0.7254\n",
      "best mean dice: 0.7342 at epoch: 170\n",
      "time consuming of epoch 300 is: 141.9587\n"
     ]
    }
   ],
   "source": [
    "best_metric = -1\n",
    "best_metric_epoch = -1\n",
    "best_metrics_epochs_and_time = [[], [], []]\n",
    "epoch_loss_values = []\n",
    "metric_values = []\n",
    "metric_values_wt = []\n",
    "\n",
    "total_start = time()\n",
    "for epoch in range(max_epochs):\n",
    "    epoch_start = time()\n",
    "    print(\"-\" * 10)\n",
    "    print(f\"epoch {epoch + 1}/{max_epochs}\")\n",
    "    model.train()\n",
    "    epoch_loss = 0\n",
    "    step = 0\n",
    "    for batch_data in (pbar:= tqdm(train_loader)):\n",
    "        step_start = time()\n",
    "        step += 1\n",
    "        inputs, labels = (\n",
    "            batch_data[\"image\"].to(device),\n",
    "            batch_data[\"label\"].to(device),\n",
    "        )\n",
    "        optimizer.zero_grad()\n",
    "        with torch.amp.autocast(device_type='cuda'):\n",
    "            outputs = model(inputs)\n",
    "            loss = loss_function(outputs, labels)\n",
    "        scaler.scale(loss).backward()\n",
    "        scaler.step(optimizer)\n",
    "        scaler.update()\n",
    "        epoch_loss += loss.item()\n",
    "        pbar.set_description(\n",
    "            f\"{step}/{len(train_ds) // train_loader.batch_size}\"\n",
    "            f\", train_loss: {loss.item():.4f}\"\n",
    "            f\", step time: {(time() - step_start):.4f}\"\n",
    "        )\n",
    "    lr_scheduler.step()\n",
    "    epoch_loss /= step\n",
    "    epoch_loss_values.append(epoch_loss)\n",
    "    print(f\"epoch {epoch + 1} average loss: {epoch_loss:.4f}\")\n",
    "\n",
    "    if (epoch + 1) % val_interval == 0:\n",
    "        model.eval()\n",
    "        with torch.no_grad():\n",
    "            for val_data in val_loader:\n",
    "                val_inputs, val_labels = (\n",
    "                    val_data[\"image\"].to(device),\n",
    "                    val_data[\"label\"].to(device),\n",
    "                )\n",
    "                val_outputs = inference(val_inputs)\n",
    "                val_outputs = [post_trans(i) for i in decollate_batch(val_outputs)]\n",
    "                dice_metric(y_pred=val_outputs, y=val_labels)\n",
    "                dice_metric_batch(y_pred=val_outputs, y=val_labels)\n",
    "\n",
    "            metric = dice_metric.aggregate().item()\n",
    "            metric_values.append(metric)\n",
    "            metric_batch = dice_metric_batch.aggregate()\n",
    "            metric_wt = metric_batch[0].item()\n",
    "            metric_values_wt.append(metric_wt)\n",
    "            dice_metric.reset()\n",
    "            dice_metric_batch.reset()\n",
    "\n",
    "            if metric > best_metric:\n",
    "                best_metric = metric\n",
    "                best_metric_epoch = epoch + 1\n",
    "                best_metrics_epochs_and_time[0].append(best_metric)\n",
    "                best_metrics_epochs_and_time[1].append(best_metric_epoch)\n",
    "                best_metrics_epochs_and_time[2].append(time() - total_start)\n",
    "                torch.save(\n",
    "                    model.state_dict(),\n",
    "                    os.path.join('Checkpoints', \"best_metric_model.pth\"),\n",
    "                )\n",
    "                print(\"saved new best metric model\")\n",
    "            print(\n",
    "                f\"current epoch: {epoch + 1} current mean dice: {metric:.4f}\"\n",
    "                f\" wt: {metric_wt:.4f}\"\n",
    "                f\"\\nbest mean dice: {best_metric:.4f}\"\n",
    "                f\" at epoch: {best_metric_epoch}\"\n",
    "            )\n",
    "    print(f\"time consuming of epoch {epoch + 1} is: {(time() - epoch_start):.4f}\")\n",
    "total_time = time() - total_start"
   ]
  },
  {
   "cell_type": "markdown",
   "id": "f563a63e6f4a3a39",
   "metadata": {},
   "source": [
    "## Plot Loss and Acuracy"
   ]
  },
  {
   "cell_type": "code",
   "execution_count": 16,
   "id": "2af0d3043cced787",
   "metadata": {},
   "outputs": [
    {
     "data": {
      "image/png": "[encoded data removed]",
      "text/plain": [
       "<Figure size 1200x600 with 2 Axes>"
      ]
     },
     "metadata": {},
     "output_type": "display_data"
    },
    {
     "data": {
      "image/png": "[encoded data removed]",
      "text/plain": [
       "<Figure size 1800x600 with 3 Axes>"
      ]
     },
     "metadata": {},
     "output_type": "display_data"
    }
   ],
   "source": [
    "plt.figure(\"train\", (12, 6))\n",
    "plt.subplot(1, 2, 1)\n",
    "plt.title(\"Epoch Average Loss\")\n",
    "x = [i + 1 for i in range(len(epoch_loss_values))]\n",
    "y = epoch_loss_values\n",
    "plt.xlabel(\"epoch\")\n",
    "plt.plot(x, y, color=\"red\")\n",
    "plt.subplot(1, 2, 2)\n",
    "plt.title(\"Val Mean Dice\")\n",
    "x = [val_interval * (i + 1) for i in range(len(metric_values))]\n",
    "y = metric_values\n",
    "plt.xlabel(\"epoch\")\n",
    "plt.plot(x, y, color=\"green\")\n",
    "plt.show()\n",
    "\n",
    "plt.figure(\"train\", (18, 6))\n",
    "plt.subplot(1, 3, 1)\n",
    "plt.title(\"Val Mean Dice TC\")\n",
    "x = [val_interval * (i + 1) for i in range(len(metric_values_tc))]\n",
    "y = metric_values_tc\n",
    "plt.xlabel(\"epoch\")\n",
    "plt.plot(x, y, color=\"blue\")\n",
    "plt.subplot(1, 3, 2)\n",
    "plt.title(\"Val Mean Dice WT\")\n",
    "x = [val_interval * (i + 1) for i in range(len(metric_values_wt))]\n",
    "y = metric_values_wt\n",
    "plt.xlabel(\"epoch\")\n",
    "plt.plot(x, y, color=\"brown\")\n",
    "plt.subplot(1, 3, 3)\n",
    "plt.title(\"Val Mean Dice ET\")\n",
    "x = [val_interval * (i + 1) for i in range(len(metric_values_et))]\n",
    "y = metric_values_et\n",
    "plt.xlabel(\"epoch\")\n",
    "plt.plot(x, y, color=\"purple\")\n",
    "plt.show()"
   ]
  },
  {
   "cell_type": "markdown",
   "id": "b7865429669545e2",
   "metadata": {},
   "source": [
    "## Test"
   ]
  },
  {
   "cell_type": "code",
   "execution_count": 17,
   "id": "adbcee3452809100",
   "metadata": {},
   "outputs": [
    {
     "name": "stderr",
     "output_type": "stream",
     "text": [
      "You are using `torch.load` with `weights_only=False` (the current default value), which uses the default pickle module implicitly. It is possible to construct malicious pickle data which will execute arbitrary code during unpickling (See https://github.com/pytorch/pytorch/blob/main/SECURITY.md#untrusted-models for more details). In a future release, the default value for `weights_only` will be flipped to `True`. This limits the functions that could be executed during unpickling. Arbitrary objects will no longer be allowed to be loaded via this mode unless they are explicitly allowlisted by the user via `torch.serialization.add_safe_globals`. We recommend you start setting `weights_only=True` for any use case where you don't have full control of the loaded file. Please open an issue on GitHub for any issues related to this experimental feature.\n"
     ]
    },
    {
     "data": {
      "image/png": "[encoded data removed]",
      "text/plain": [
       "<Figure size 2400x600 with 1 Axes>"
      ]
     },
     "metadata": {},
     "output_type": "display_data"
    },
    {
     "data": {
      "image/png": "[encoded data removed]",
      "text/plain": [
       "<Figure size 1800x600 with 1 Axes>"
      ]
     },
     "metadata": {},
     "output_type": "display_data"
    },
    {
     "data": {
      "image/png": "[encoded data removed]",
      "text/plain": [
       "<Figure size 1800x600 with 1 Axes>"
      ]
     },
     "metadata": {},
     "output_type": "display_data"
    }
   ],
   "source": [
    "model.load_state_dict(torch.load(os.path.join('Checkpoints', \"best_metric_model.pth\")))\n",
    "model.eval()\n",
    "with torch.no_grad():\n",
    "    # select one image to evaluate and visualize the model output\n",
    "    val_input = val_ds[6][\"image\"].unsqueeze(0).to(device)\n",
    "    roi_size = (128, 128, 64)\n",
    "    sw_batch_size = 4\n",
    "    val_output = inference(val_input)\n",
    "    val_output = post_trans(val_output[0])\n",
    "    plt.figure(\"image\", (24, 6))\n",
    "    for i in range(1):\n",
    "        plt.subplot(1, 4, i + 1)\n",
    "        plt.title(f\"image channel {i}\")\n",
    "        plt.imshow(val_ds[6][\"image\"][i, :, :, 70].detach().cpu(), cmap=\"gray\")\n",
    "    plt.show()\n",
    "    # visualize the 3 channels label corresponding to this image\n",
    "    plt.figure(\"label\", (18, 6))\n",
    "    for i in range(1):\n",
    "        plt.subplot(1, 3, i + 1)\n",
    "        plt.title(f\"label channel {i}\")\n",
    "        plt.imshow(val_ds[6][\"label\"][i, :, :, 70].detach().cpu())\n",
    "    plt.show()\n",
    "    # visualize the 3 channels model output corresponding to this image\n",
    "    plt.figure(\"output\", (18, 6))\n",
    "    for i in range(1):\n",
    "        plt.subplot(1, 3, i + 1)\n",
    "        plt.title(f\"output channel {i}\")\n",
    "        plt.imshow(val_output[i, :, :, 70].detach().cpu())\n",
    "    plt.show()"
   ]
  },
  {
   "cell_type": "code",
   "execution_count": null,
   "id": "2d649972-e9ee-47d7-8ca5-5d1bd0445fff",
   "metadata": {},
   "outputs": [],
   "source": []
  }
 ],
 "metadata": {
  "kernelspec": {
   "display_name": "Python 3 (ipykernel)",
   "language": "python",
   "name": "python3"
  },
  "language_info": {
   "codemirror_mode": {
    "name": "ipython",
    "version": 3
   },
   "file_extension": ".py",
   "mimetype": "text/x-python",
   "name": "python",
   "nbconvert_exporter": "python",
   "pygments_lexer": "ipython3",
   "version": "3.10.14"
  }
 },
 "nbformat": 4,
 "nbformat_minor": 5
}
