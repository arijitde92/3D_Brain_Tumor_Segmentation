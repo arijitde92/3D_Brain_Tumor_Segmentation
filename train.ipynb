{
 "cells": [
  {
   "cell_type": "code",
   "execution_count": 1,
   "id": "initial_id",
   "metadata": {
    "ExecuteTime": {
     "end_time": "2024-08-20T07:35:22.507390Z",
     "start_time": "2024-08-20T07:35:17.665088Z"
    }
   },
   "outputs": [
    {
     "name": "stdout",
     "output_type": "stream",
     "text": [
      "MONAI version: 1.3.2\n",
      "Numpy version: 1.26.4\n",
      "Pytorch version: 2.4.0\n",
      "MONAI flags: HAS_EXT = False, USE_COMPILED = False, USE_META_DICT = False\n",
      "MONAI rev id: 59a7211070538586369afd4a01eca0a7fe2e742e\n",
      "MONAI __file__: /home/<username>/anaconda3/envs/med/lib/python3.10/site-packages/monai/__init__.py\n",
      "\n",
      "Optional dependencies:\n",
      "Pytorch Ignite version: NOT INSTALLED or UNKNOWN VERSION.\n",
      "ITK version: 5.4.0\n",
      "Nibabel version: 5.2.1\n",
      "scikit-image version: 0.23.2\n",
      "scipy version: 1.13.1\n",
      "Pillow version: 10.4.0\n",
      "Tensorboard version: NOT INSTALLED or UNKNOWN VERSION.\n",
      "gdown version: NOT INSTALLED or UNKNOWN VERSION.\n",
      "TorchVision version: 0.19.0\n",
      "tqdm version: 4.66.4\n",
      "lmdb version: NOT INSTALLED or UNKNOWN VERSION.\n",
      "psutil version: 6.0.0\n",
      "pandas version: 1.5.3\n",
      "einops version: NOT INSTALLED or UNKNOWN VERSION.\n",
      "transformers version: NOT INSTALLED or UNKNOWN VERSION.\n",
      "mlflow version: NOT INSTALLED or UNKNOWN VERSION.\n",
      "pynrrd version: NOT INSTALLED or UNKNOWN VERSION.\n",
      "clearml version: NOT INSTALLED or UNKNOWN VERSION.\n",
      "\n",
      "For details about installing the optional dependencies, please visit:\n",
      "    https://docs.monai.io/en/latest/installation.html#installing-the-recommended-dependencies\n",
      "\n"
     ]
    }
   ],
   "source": [
    "import os\n",
    "from glob import glob\n",
    "from time import time\n",
    "import SimpleITK as sitk\n",
    "from sklearn.model_selection import train_test_split\n",
    "import numpy as np\n",
    "import matplotlib.pyplot as plt\n",
    "from monai.handlers.utils import from_engine\n",
    "from monai.networks.nets import AttentionUnet\n",
    "from monai.networks.layers import Norm\n",
    "from monai.metrics import DiceMetric\n",
    "from monai.losses import DiceLoss\n",
    "from monai.inferers import sliding_window_inference\n",
    "from monai.data import CacheDataset, DataLoader, Dataset, decollate_batch\n",
    "from monai.config import print_config\n",
    "from monai.apps import download_and_extract\n",
    "from monai.transforms import (\n",
    "    Activations,\n",
    "    Activationsd,\n",
    "    AsDiscrete,\n",
    "    AsDiscreted,\n",
    "    Compose,\n",
    "    Invertd,\n",
    "    CropForegroundd,\n",
    "    LoadImaged,\n",
    "    MapTransform,\n",
    "    NormalizeIntensityd,\n",
    "    Orientationd,\n",
    "    RandFlipd,\n",
    "    RandScaleIntensityd,\n",
    "    RandShiftIntensityd,\n",
    "    RandSpatialCropd,\n",
    "    Spacingd,\n",
    "    EnsureTyped,\n",
    "    EnsureChannelFirstd,\n",
    ")\n",
    "from monai.utils import set_determinism\n",
    "import onnxruntime\n",
    "from tqdm.notebook import tqdm\n",
    "\n",
    "import torch\n",
    "\n",
    "print_config()"
   ]
  },
  {
   "cell_type": "code",
   "execution_count": 2,
   "id": "9089cc113f63ad23",
   "metadata": {
    "ExecuteTime": {
     "end_time": "2024-08-20T07:35:24.195222Z",
     "start_time": "2024-08-20T07:35:24.192966Z"
    }
   },
   "outputs": [],
   "source": [
    "def add_channel_dim(data_path: str):\n",
    "    img = sitk.ReadImage(data_path)\n",
    "    array = sitk.GetArrayFromImage(img)\n",
    "    result = np.expand_dims(array, axis=-1)\n",
    "    return result"
   ]
  },
  {
   "cell_type": "code",
   "execution_count": 3,
   "id": "f41eb34661cb376a",
   "metadata": {
    "ExecuteTime": {
     "end_time": "2024-08-20T07:35:26.267564Z",
     "start_time": "2024-08-20T07:35:26.225879Z"
    }
   },
   "outputs": [
    {
     "name": "stdout",
     "output_type": "stream",
     "text": [
      "Found 369 data and 369 labels\n",
      "Splitting dataset in the ratio 0.2\n",
      "Number of training images: 295\n",
      "Number of validation images: 74\n"
     ]
    }
   ],
   "source": [
    "DATA_ROOT = 'Data/MICCAI_BraTS2020_TrainingData'\n",
    "NUMPY_DATA_ROOT = os.path.join('Data', 'BraTS2020_Training_Numpy')\n",
    "MRI_TYPE = 't1ce'\n",
    "LABEL_SUFFIX = 'seg'\n",
    "TEST_RATIO = 0.2\n",
    "data_paths = sorted(glob(os.path.join(DATA_ROOT, '**', f'*_{MRI_TYPE}.nii.gz'), recursive=True))\n",
    "label_paths = sorted(glob(os.path.join(DATA_ROOT, '**', f'*_{LABEL_SUFFIX}.nii.gz'), recursive=True))\n",
    "\n",
    "print(f\"Found {len(data_paths)} data and {len(label_paths)} labels\")\n",
    "assert len(data_paths) == len(label_paths), \"Number of data and labels do not match\"\n",
    "\n",
    "# np_image_paths = []\n",
    "# np_label_paths = []\n",
    "# \n",
    "# if not os.path.exists(NUMPY_DATA_ROOT):\n",
    "#     os.makedirs(NUMPY_DATA_ROOT + os.sep + 'image', exist_ok=True)\n",
    "#     os.makedirs(NUMPY_DATA_ROOT + os.sep + 'label', exist_ok=True)\n",
    "#     for image, label in tqdm(zip(data_paths, label_paths)):\n",
    "#         img_file_name = os.path.basename(image).split('.')[0]+\".npy\"\n",
    "#         lbl_file_name = os.path.basename(label).split('.')[0]+\".npy\"\n",
    "#         image_path = str(os.path.join(NUMPY_DATA_ROOT, 'image', img_file_name))\n",
    "#         label_path = str(os.path.join(NUMPY_DATA_ROOT, 'label', lbl_file_name))\n",
    "#         np_image_paths.append(image_path)\n",
    "#         np_label_paths.append(label_path)\n",
    "#         np.save(image_path, add_channel_dim(image))\n",
    "#         np.save(label_path, add_channel_dim(label))\n",
    "# else:\n",
    "#     np_image_paths = glob(os.path.join(NUMPY_DATA_ROOT, 'image', '*.npy'))\n",
    "#     np_label_paths = glob(os.path.join(NUMPY_DATA_ROOT, 'label', '*.npy'))\n",
    "#     print(\"Found {} numpy images and {} numpy labels\".format(len(np_image_paths), len(np_label_paths)))\n",
    "    \n",
    "# data_dicts = [\n",
    "#     {\"image\": image_name, \"label\": label_name}\n",
    "#     for image_name, label_name in zip(np_image_paths, np_label_paths)\n",
    "# ]\n",
    "data_dicts = [\n",
    "    {\"image\": image_name, \"label\": label_name}\n",
    "    for image_name, label_name in zip(data_paths, label_paths)\n",
    "]\n",
    "train_data, validation_data = train_test_split(data_dicts, test_size=TEST_RATIO, random_state=42)\n",
    "print(\"Splitting dataset in the ratio {}\".format(TEST_RATIO))\n",
    "print(\"Number of training images: {}\".format(len(train_data)))\n",
    "print(\"Number of validation images: {}\".format(len(validation_data)))"
   ]
  },
  {
   "cell_type": "markdown",
   "id": "a0719c25b94d4b8e",
   "metadata": {},
   "source": [
    "## Define a new transform to convert brain tumor labels\n",
    "Here we convert the multi-classes labels into multi-labels segmentation task in One-Hot format."
   ]
  },
  {
   "cell_type": "code",
   "execution_count": 4,
   "id": "9d9e68e3ae00968a",
   "metadata": {
    "ExecuteTime": {
     "end_time": "2024-08-20T07:35:30.251326Z",
     "start_time": "2024-08-20T07:35:30.246985Z"
    }
   },
   "outputs": [],
   "source": [
    "class ConvertToMultiChannelBasedOnBratsClassesd(MapTransform):\n",
    "    \"\"\"\n",
    "    Convert labels to multi channels based on brats classes:\n",
    "    label 4 is the peritumoral edema\n",
    "    label 2 is the GD-enhancing tumor\n",
    "    label 1 is the necrotic and non-enhancing tumor core\n",
    "    The possible classes are TC (Tumor core), WT (Whole tumor)\n",
    "    and ET (Enhancing tumor).\n",
    "\n",
    "    \"\"\"\n",
    "\n",
    "    def __call__(self, data):\n",
    "        d = dict(data)\n",
    "        for key in self.keys:\n",
    "            # result = []\n",
    "            # merge label 2 and label 3 to construct TC\n",
    "            # whole_tumor = torch.logical_or(d[key] == 2, d[key] == 3)\n",
    "            # result.append(torch.logical_or(d[key] == 2, d[key] == 3))\n",
    "            # merge labels 1, 2 and 3 to construct WT\n",
    "            whole_tumor = torch.logical_or(torch.logical_or(d[key] == 2, d[key] == 4), d[key] == 1)\n",
    "            # label 2 is ET\n",
    "            # result.append(d[key] == 2)\n",
    "            d[key] = whole_tumor.float()\n",
    "        return d"
   ]
  },
  {
   "cell_type": "code",
   "execution_count": 5,
   "id": "f9062315b195c2f1",
   "metadata": {
    "ExecuteTime": {
     "end_time": "2024-08-20T07:35:30.858175Z",
     "start_time": "2024-08-20T07:35:30.848576Z"
    }
   },
   "outputs": [],
   "source": [
    "train_transform = Compose(\n",
    "    [\n",
    "        # load 4 Nifti images and stack them together\n",
    "        # LoadImaged(keys=[\"image\", \"label\"], reader='NumpyReader'),\n",
    "        LoadImaged(keys=[\"image\", \"label\"]),\n",
    "        EnsureChannelFirstd(keys=[\"image\", \"label\"]),\n",
    "        EnsureTyped(keys=[\"image\", \"label\"]),\n",
    "        # CropForegroundd(keys=[\"image\", \"label\"], source_key=\"image\", allow_smaller=False),\n",
    "        ConvertToMultiChannelBasedOnBratsClassesd(keys=\"label\"),\n",
    "        Orientationd(keys=[\"image\", \"label\"], axcodes=\"RAS\"),\n",
    "        Spacingd(\n",
    "            keys=[\"image\", \"label\"],\n",
    "            pixdim=(1.0, 1.0, 1.0),\n",
    "            mode=(\"bilinear\", \"nearest\"),\n",
    "        ),\n",
    "        RandSpatialCropd(keys=[\"image\", \"label\"], roi_size=[224, 224, 144], random_size=False),\n",
    "        RandFlipd(keys=[\"image\", \"label\"], prob=0.5, spatial_axis=0),\n",
    "        RandFlipd(keys=[\"image\", \"label\"], prob=0.5, spatial_axis=1),\n",
    "        RandFlipd(keys=[\"image\", \"label\"], prob=0.5, spatial_axis=2),\n",
    "        NormalizeIntensityd(keys=\"image\", nonzero=True, channel_wise=True),\n",
    "        RandScaleIntensityd(keys=\"image\", factors=0.1, prob=1.0),\n",
    "        RandShiftIntensityd(keys=\"image\", offsets=0.1, prob=1.0),\n",
    "    ]\n",
    ")\n",
    "val_transform = Compose(\n",
    "    [\n",
    "        # LoadImaged(keys=[\"image\", \"label\"], reader='NumpyReader'),\n",
    "        LoadImaged(keys=[\"image\", \"label\"], reader=\"nibabelreader\"),\n",
    "        EnsureChannelFirstd(keys=[\"image\", \"label\"]),\n",
    "        EnsureTyped(keys=[\"image\", \"label\"]),\n",
    "        # CropForegroundd(keys=[\"image\", \"label\"], source_key=\"image\", allow_smaller=False),\n",
    "        ConvertToMultiChannelBasedOnBratsClassesd(keys=\"label\"),\n",
    "        Orientationd(keys=[\"image\", \"label\"], axcodes=\"RAS\"),\n",
    "        Spacingd(\n",
    "            keys=[\"image\", \"label\"],\n",
    "            pixdim=(1.0, 1.0, 1.0),\n",
    "            mode=(\"bilinear\", \"nearest\"),\n",
    "        ),\n",
    "        NormalizeIntensityd(keys=\"image\", nonzero=True, channel_wise=True),\n",
    "    ]\n",
    ")"
   ]
  },
  {
   "cell_type": "code",
   "execution_count": 6,
   "id": "2b140bbe936a1779",
   "metadata": {
    "ExecuteTime": {
     "end_time": "2024-08-20T07:35:32.728684Z",
     "start_time": "2024-08-20T07:35:32.726178Z"
    }
   },
   "outputs": [],
   "source": [
    "# here we don't cache any data in case out of memory issue\n",
    "train_ds = Dataset(data=train_data,transform=train_transform)\n",
    "train_loader = DataLoader(train_ds, batch_size=1, shuffle=True, num_workers=4)\n",
    "val_ds = Dataset(data=validation_data,transform=val_transform)\n",
    "val_loader = DataLoader(val_ds, batch_size=1, shuffle=False, num_workers=4)"
   ]
  },
  {
   "cell_type": "code",
   "execution_count": 7,
   "id": "630e986febec4b34",
   "metadata": {
    "ExecuteTime": {
     "end_time": "2024-08-19T14:41:07.814917Z",
     "start_time": "2024-08-19T14:41:07.445629Z"
    }
   },
   "outputs": [
    {
     "name": "stdout",
     "output_type": "stream",
     "text": [
      "image shape: torch.Size([1, 240, 240, 155])\n"
     ]
    },
    {
     "data": {
      "image/png": "[encoded data removed]",
      "text/plain": [
       "<Figure size 2400x600 with 1 Axes>"
      ]
     },
     "metadata": {},
     "output_type": "display_data"
    },
    {
     "name": "stdout",
     "output_type": "stream",
     "text": [
      "label shape: torch.Size([1, 240, 240, 155])\n"
     ]
    },
    {
     "data": {
      "image/png": "[encoded data removed]",
      "text/plain": [
       "<Figure size 1800x600 with 1 Axes>"
      ]
     },
     "metadata": {},
     "output_type": "display_data"
    }
   ],
   "source": [
    "# pick one image from DecathlonDataset to visualize and check the 4 channels\n",
    "val_data_example = val_ds[9]\n",
    "print(f\"image shape: {val_data_example['image'].shape}\")\n",
    "plt.figure(\"image\", (24, 6))\n",
    "for i in range(1):\n",
    "    plt.subplot(1, 4, i + 1)\n",
    "    plt.title(f\"image channel {i}\")\n",
    "    plt.imshow(val_data_example[\"image\"][i, :, :, 60].detach().cpu(), cmap=\"gray\")\n",
    "plt.show()\n",
    "# also visualize the 3 channels label corresponding to this image\n",
    "print(f\"label shape: {val_data_example['label'].shape}\")\n",
    "plt.figure(\"label\", (18, 6))\n",
    "for i in range(1):\n",
    "    plt.subplot(1, 3, i + 1)\n",
    "    plt.title(f\"label channel {i}\")\n",
    "    plt.imshow(val_data_example[\"label\"][i, :, :, 60].detach().cpu(), cmap='gray')\n",
    "plt.show()"
   ]
  },
  {
   "cell_type": "markdown",
   "id": "fccd16cf103dd4f3",
   "metadata": {},
   "source": [
    "## Create Model, Loss and Optimizer"
   ]
  },
  {
   "cell_type": "code",
   "execution_count": 8,
   "id": "50cbc234d2b119f9",
   "metadata": {
    "ExecuteTime": {
     "end_time": "2024-08-20T07:35:55.289108Z",
     "start_time": "2024-08-20T07:35:55.240718Z"
    }
   },
   "outputs": [],
   "source": [
    "max_epochs = 300\n",
    "val_interval = 2\n",
    "VAL_AMP = True\n",
    "\n",
    "# standard PyTorch program style: create SegResNet, DiceLoss and Adam optimizer\n",
    "device = torch.device(\"cuda:0\")\n",
    "model = AttentionUnet(spatial_dims=3,\n",
    "    in_channels=1,\n",
    "    out_channels=1,\n",
    "    channels=(16, 32, 64, 128, 256),\n",
    "    strides=(2, 2, 2, 2),\n",
    "    dropout=0.2,\n",
    ").to(device)\n",
    "loss_function = DiceLoss(smooth_nr=0, smooth_dr=1e-5, squared_pred=True, to_onehot_y=False, sigmoid=True)\n",
    "optimizer = torch.optim.Adam(model.parameters(), 1e-4, weight_decay=1e-5)\n",
    "lr_scheduler = torch.optim.lr_scheduler.CosineAnnealingLR(optimizer, T_max=max_epochs)\n",
    "\n",
    "dice_metric = DiceMetric(include_background=False, reduction=\"mean\")\n",
    "dice_metric_batch = DiceMetric(include_background=True, reduction=\"mean_batch\")\n",
    "\n",
    "post_trans = Compose([Activations(sigmoid=True), AsDiscrete(threshold=0.5)])\n",
    "\n",
    "\n",
    "# define inference method\n",
    "def inference(input):\n",
    "    def _compute(input):\n",
    "        return sliding_window_inference(\n",
    "            inputs=input,\n",
    "            roi_size=(240, 240, 160),\n",
    "            sw_batch_size=1,\n",
    "            predictor=model,\n",
    "            overlap=0.5,\n",
    "        )\n",
    "\n",
    "    if VAL_AMP:\n",
    "        with torch.amp.autocast(device_type='cuda'):\n",
    "            return _compute(input)\n",
    "    else:\n",
    "        return _compute(input)\n",
    "\n",
    "\n",
    "# use amp to accelerate training\n",
    "scaler = torch.amp.GradScaler()\n",
    "# enable cuDNN benchmark\n",
    "torch.backends.cudnn.benchmark = True"
   ]
  },
  {
   "cell_type": "markdown",
   "id": "3991dbdfd3eb9239",
   "metadata": {},
   "source": [
    "## Train"
   ]
  },
  {
   "cell_type": "code",
   "execution_count": 9,
   "id": "f3e2a9114ca1bdd6",
   "metadata": {
    "ExecuteTime": {
     "end_time": "2024-08-20T07:38:38.299412Z",
     "start_time": "2024-08-20T07:36:01.816298Z"
    }
   },
   "outputs": [
    {
     "name": "stdout",
     "output_type": "stream",
     "text": [
      "----------\n",
      "epoch 1/300\n"
     ]
    },
    {
     "data": {
      "application/vnd.jupyter.widget-view+json": {
       "model_id": "ab6d383e5bbb4e07acb557c1a20fdd3c",
       "version_major": 2,
       "version_minor": 0
      },
      "text/plain": [
       "  0%|          | 0/295 [00:00<?, ?it/s]"
      ]
     },
     "metadata": {},
     "output_type": "display_data"
    },
    {
     "name": "stdout",
     "output_type": "stream",
     "text": [
      "epoch 1 average loss: 0.9214\n",
      "time consuming of epoch 1 is: 131.5714\n",
      "----------\n",
      "epoch 2/300\n"
     ]
    },
    {
     "data": {
      "application/vnd.jupyter.widget-view+json": {
       "model_id": "e917c5e3b4184ca68e33dc08635fab27",
       "version_major": 2,
       "version_minor": 0
      },
      "text/plain": [
       "  0%|          | 0/295 [00:00<?, ?it/s]"
      ]
     },
     "metadata": {},
     "output_type": "display_data"
    },
    {
     "name": "stdout",
     "output_type": "stream",
     "text": [
      "epoch 2 average loss: 0.9062\n",
      "saved new best metric model\n",
      "current epoch: 2 current mean dice: 0.0904 wt: 0.0904\n",
      "best mean dice: 0.0904 at epoch: 2\n",
      "time consuming of epoch 2 is: 144.1007\n",
      "----------\n",
      "epoch 3/300\n"
     ]
    },
    {
     "data": {
      "application/vnd.jupyter.widget-view+json": {
       "model_id": "d193c22e86d84f99b50d4f024ad44c21",
       "version_major": 2,
       "version_minor": 0
      },
      "text/plain": [
       "  0%|          | 0/295 [00:00<?, ?it/s]"
      ]
     },
     "metadata": {},
     "output_type": "display_data"
    },
    {
     "name": "stdout",
     "output_type": "stream",
     "text": [
      "epoch 3 average loss: 0.8949\n",
      "time consuming of epoch 3 is: 123.6968\n",
      "----------\n",
      "epoch 4/300\n"
     ]
    },
    {
     "data": {
      "application/vnd.jupyter.widget-view+json": {
       "model_id": "3d79ba721b2543569c7a28b1d8673171",
       "version_major": 2,
       "version_minor": 0
      },
      "text/plain": [
       "  0%|          | 0/295 [00:00<?, ?it/s]"
      ]
     },
     "metadata": {},
     "output_type": "display_data"
    },
    {
     "name": "stdout",
     "output_type": "stream",
     "text": [
      "epoch 4 average loss: 0.8849\n",
      "current epoch: 4 current mean dice: 0.0888 wt: 0.0888\n",
      "best mean dice: 0.0904 at epoch: 2\n",
      "time consuming of epoch 4 is: 140.9966\n",
      "----------\n",
      "epoch 5/300\n"
     ]
    },
    {
     "data": {
      "application/vnd.jupyter.widget-view+json": {
       "model_id": "2c4e17d1d6a04af68e12aef6fb0ad0dd",
       "version_major": 2,
       "version_minor": 0
      },
      "text/plain": [
       "  0%|          | 0/295 [00:00<?, ?it/s]"
      ]
     },
     "metadata": {},
     "output_type": "display_data"
    },
    {
     "name": "stdout",
     "output_type": "stream",
     "text": [
      "epoch 5 average loss: 0.8735\n",
      "time consuming of epoch 5 is: 123.6901\n",
      "----------\n",
      "epoch 6/300\n"
     ]
    },
    {
     "data": {
      "application/vnd.jupyter.widget-view+json": {
       "model_id": "57d34cd76ddb48178fd2033bf7a0a291",
       "version_major": 2,
       "version_minor": 0
      },
      "text/plain": [
       "  0%|          | 0/295 [00:00<?, ?it/s]"
      ]
     },
     "metadata": {},
     "output_type": "display_data"
    },
    {
     "name": "stdout",
     "output_type": "stream",
     "text": [
      "epoch 6 average loss: 0.8616\n",
      "saved new best metric model\n",
      "current epoch: 6 current mean dice: 0.0995 wt: 0.0995\n",
      "best mean dice: 0.0995 at epoch: 6\n",
      "time consuming of epoch 6 is: 140.5610\n",
      "----------\n",
      "epoch 7/300\n"
     ]
    },
    {
     "data": {
      "application/vnd.jupyter.widget-view+json": {
       "model_id": "8fcc1532136644ffbfbdde2ef575c565",
       "version_major": 2,
       "version_minor": 0
      },
      "text/plain": [
       "  0%|          | 0/295 [00:00<?, ?it/s]"
      ]
     },
     "metadata": {},
     "output_type": "display_data"
    },
    {
     "name": "stdout",
     "output_type": "stream",
     "text": [
      "epoch 7 average loss: 0.8462\n",
      "time consuming of epoch 7 is: 123.8445\n",
      "----------\n",
      "epoch 8/300\n"
     ]
    },
    {
     "data": {
      "application/vnd.jupyter.widget-view+json": {
       "model_id": "0840927165e44290967742db3603a6de",
       "version_major": 2,
       "version_minor": 0
      },
      "text/plain": [
       "  0%|          | 0/295 [00:00<?, ?it/s]"
      ]
     },
     "metadata": {},
     "output_type": "display_data"
    },
    {
     "name": "stdout",
     "output_type": "stream",
     "text": [
      "epoch 8 average loss: 0.8276\n",
      "saved new best metric model\n",
      "current epoch: 8 current mean dice: 0.1114 wt: 0.1114\n",
      "best mean dice: 0.1114 at epoch: 8\n",
      "time consuming of epoch 8 is: 140.8823\n",
      "----------\n",
      "epoch 9/300\n"
     ]
    },
    {
     "data": {
      "application/vnd.jupyter.widget-view+json": {
       "model_id": "7091156c6a0f4ad3b34fd0a7b9fcd43c",
       "version_major": 2,
       "version_minor": 0
      },
      "text/plain": [
       "  0%|          | 0/295 [00:00<?, ?it/s]"
      ]
     },
     "metadata": {},
     "output_type": "display_data"
    },
    {
     "name": "stdout",
     "output_type": "stream",
     "text": [
      "epoch 9 average loss: 0.8028\n",
      "time consuming of epoch 9 is: 123.9430\n",
      "----------\n",
      "epoch 10/300\n"
     ]
    },
    {
     "data": {
      "application/vnd.jupyter.widget-view+json": {
       "model_id": "21f7104695a243bab2528f419c25385d",
       "version_major": 2,
       "version_minor": 0
      },
      "text/plain": [
       "  0%|          | 0/295 [00:00<?, ?it/s]"
      ]
     },
     "metadata": {},
     "output_type": "display_data"
    },
    {
     "name": "stdout",
     "output_type": "stream",
     "text": [
      "epoch 10 average loss: 0.7374\n",
      "saved new best metric model\n",
      "current epoch: 10 current mean dice: 0.6467 wt: 0.6467\n",
      "best mean dice: 0.6467 at epoch: 10\n",
      "time consuming of epoch 10 is: 140.8695\n",
      "----------\n",
      "epoch 11/300\n"
     ]
    },
    {
     "data": {
      "application/vnd.jupyter.widget-view+json": {
       "model_id": "d4cf9f35e5774cdaa33df8c070aee5fb",
       "version_major": 2,
       "version_minor": 0
      },
      "text/plain": [
       "  0%|          | 0/295 [00:00<?, ?it/s]"
      ]
     },
     "metadata": {},
     "output_type": "display_data"
    },
    {
     "name": "stdout",
     "output_type": "stream",
     "text": [
      "epoch 11 average loss: 0.6725\n",
      "time consuming of epoch 11 is: 123.5834\n",
      "----------\n",
      "epoch 12/300\n"
     ]
    },
    {
     "data": {
      "application/vnd.jupyter.widget-view+json": {
       "model_id": "d397c3fc7b014000bd78ac1d2d63c14c",
       "version_major": 2,
       "version_minor": 0
      },
      "text/plain": [
       "  0%|          | 0/295 [00:00<?, ?it/s]"
      ]
     },
     "metadata": {},
     "output_type": "display_data"
    },
    {
     "name": "stdout",
     "output_type": "stream",
     "text": [
      "epoch 12 average loss: 0.6104\n",
      "saved new best metric model\n",
      "current epoch: 12 current mean dice: 0.6624 wt: 0.6624\n",
      "best mean dice: 0.6624 at epoch: 12\n",
      "time consuming of epoch 12 is: 141.1348\n",
      "----------\n",
      "epoch 13/300\n"
     ]
    },
    {
     "data": {
      "application/vnd.jupyter.widget-view+json": {
       "model_id": "289f0d66e9674f2383f73eb7b071b80f",
       "version_major": 2,
       "version_minor": 0
      },
      "text/plain": [
       "  0%|          | 0/295 [00:00<?, ?it/s]"
      ]
     },
     "metadata": {},
     "output_type": "display_data"
    },
    {
     "name": "stdout",
     "output_type": "stream",
     "text": [
      "epoch 13 average loss: 0.5435\n",
      "time consuming of epoch 13 is: 124.4251\n",
      "----------\n",
      "epoch 14/300\n"
     ]
    },
    {
     "data": {
      "application/vnd.jupyter.widget-view+json": {
       "model_id": "fd5a9bfa492540e99fbdd09989af5902",
       "version_major": 2,
       "version_minor": 0
      },
      "text/plain": [
       "  0%|          | 0/295 [00:00<?, ?it/s]"
      ]
     },
     "metadata": {},
     "output_type": "display_data"
    },
    {
     "name": "stdout",
     "output_type": "stream",
     "text": [
      "epoch 14 average loss: 0.4867\n",
      "saved new best metric model\n",
      "current epoch: 14 current mean dice: 0.7075 wt: 0.7075\n",
      "best mean dice: 0.7075 at epoch: 14\n",
      "time consuming of epoch 14 is: 141.1827\n",
      "----------\n",
      "epoch 15/300\n"
     ]
    },
    {
     "data": {
      "application/vnd.jupyter.widget-view+json": {
       "model_id": "7e64ba16afe04b5994f611f0cbaa0cbd",
       "version_major": 2,
       "version_minor": 0
      },
      "text/plain": [
       "  0%|          | 0/295 [00:00<?, ?it/s]"
      ]
     },
     "metadata": {},
     "output_type": "display_data"
    },
    {
     "name": "stdout",
     "output_type": "stream",
     "text": [
      "epoch 15 average loss: 0.4354\n",
      "time consuming of epoch 15 is: 124.3763\n",
      "----------\n",
      "epoch 16/300\n"
     ]
    },
    {
     "data": {
      "application/vnd.jupyter.widget-view+json": {
       "model_id": "d36b638e03a7478f8de5296dcc942b75",
       "version_major": 2,
       "version_minor": 0
      },
      "text/plain": [
       "  0%|          | 0/295 [00:00<?, ?it/s]"
      ]
     },
     "metadata": {},
     "output_type": "display_data"
    },
    {
     "name": "stdout",
     "output_type": "stream",
     "text": [
      "epoch 16 average loss: 0.3931\n",
      "current epoch: 16 current mean dice: 0.7020 wt: 0.7020\n",
      "best mean dice: 0.7075 at epoch: 14\n",
      "time consuming of epoch 16 is: 141.4742\n",
      "----------\n",
      "epoch 17/300\n"
     ]
    },
    {
     "data": {
      "application/vnd.jupyter.widget-view+json": {
       "model_id": "1f87d31c16a943fbac4419d44297b760",
       "version_major": 2,
       "version_minor": 0
      },
      "text/plain": [
       "  0%|          | 0/295 [00:00<?, ?it/s]"
      ]
     },
     "metadata": {},
     "output_type": "display_data"
    },
    {
     "name": "stdout",
     "output_type": "stream",
     "text": [
      "epoch 17 average loss: 0.3644\n",
      "time consuming of epoch 17 is: 123.8576\n",
      "----------\n",
      "epoch 18/300\n"
     ]
    },
    {
     "data": {
      "application/vnd.jupyter.widget-view+json": {
       "model_id": "ee20b06cb21d4851adc0b7e33d35eb00",
       "version_major": 2,
       "version_minor": 0
      },
      "text/plain": [
       "  0%|          | 0/295 [00:00<?, ?it/s]"
      ]
     },
     "metadata": {},
     "output_type": "display_data"
    },
    {
     "name": "stdout",
     "output_type": "stream",
     "text": [
      "epoch 18 average loss: 0.3416\n",
      "saved new best metric model\n",
      "current epoch: 18 current mean dice: 0.7265 wt: 0.7265\n",
      "best mean dice: 0.7265 at epoch: 18\n",
      "time consuming of epoch 18 is: 140.7479\n",
      "----------\n",
      "epoch 19/300\n"
     ]
    },
    {
     "data": {
      "application/vnd.jupyter.widget-view+json": {
       "model_id": "926425777ffb4970a73a3376416172a0",
       "version_major": 2,
       "version_minor": 0
      },
      "text/plain": [
       "  0%|          | 0/295 [00:00<?, ?it/s]"
      ]
     },
     "metadata": {},
     "output_type": "display_data"
    },
    {
     "name": "stdout",
     "output_type": "stream",
     "text": [
      "epoch 19 average loss: 0.3169\n",
      "time consuming of epoch 19 is: 123.9619\n",
      "----------\n",
      "epoch 20/300\n"
     ]
    },
    {
     "data": {
      "application/vnd.jupyter.widget-view+json": {
       "model_id": "200718ccbbb843129218e85d7e31df0c",
       "version_major": 2,
       "version_minor": 0
      },
      "text/plain": [
       "  0%|          | 0/295 [00:00<?, ?it/s]"
      ]
     },
     "metadata": {},
     "output_type": "display_data"
    },
    {
     "name": "stdout",
     "output_type": "stream",
     "text": [
      "epoch 20 average loss: 0.2977\n",
      "saved new best metric model\n",
      "current epoch: 20 current mean dice: 0.7449 wt: 0.7449\n",
      "best mean dice: 0.7449 at epoch: 20\n",
      "time consuming of epoch 20 is: 141.0122\n",
      "----------\n",
      "epoch 21/300\n"
     ]
    },
    {
     "data": {
      "application/vnd.jupyter.widget-view+json": {
       "model_id": "b4312411f8b542689cc4a7e94bffcbee",
       "version_major": 2,
       "version_minor": 0
      },
      "text/plain": [
       "  0%|          | 0/295 [00:00<?, ?it/s]"
      ]
     },
     "metadata": {},
     "output_type": "display_data"
    },
    {
     "name": "stdout",
     "output_type": "stream",
     "text": [
      "epoch 21 average loss: 0.2849\n",
      "time consuming of epoch 21 is: 123.8269\n",
      "----------\n",
      "epoch 22/300\n"
     ]
    },
    {
     "data": {
      "application/vnd.jupyter.widget-view+json": {
       "model_id": "5c48cc4fcfc94e9fb345e708b79f3626",
       "version_major": 2,
       "version_minor": 0
      },
      "text/plain": [
       "  0%|          | 0/295 [00:00<?, ?it/s]"
      ]
     },
     "metadata": {},
     "output_type": "display_data"
    },
    {
     "name": "stdout",
     "output_type": "stream",
     "text": [
      "epoch 22 average loss: 0.2709\n",
      "current epoch: 22 current mean dice: 0.7282 wt: 0.7282\n",
      "best mean dice: 0.7449 at epoch: 20\n",
      "time consuming of epoch 22 is: 141.3296\n",
      "----------\n",
      "epoch 23/300\n"
     ]
    },
    {
     "data": {
      "application/vnd.jupyter.widget-view+json": {
       "model_id": "891038f4e0344381aa245da3e9c88b8f",
       "version_major": 2,
       "version_minor": 0
      },
      "text/plain": [
       "  0%|          | 0/295 [00:00<?, ?it/s]"
      ]
     },
     "metadata": {},
     "output_type": "display_data"
    },
    {
     "name": "stdout",
     "output_type": "stream",
     "text": [
      "epoch 23 average loss: 0.2565\n",
      "time consuming of epoch 23 is: 124.0764\n",
      "----------\n",
      "epoch 24/300\n"
     ]
    },
    {
     "data": {
      "application/vnd.jupyter.widget-view+json": {
       "model_id": "d21f7eb302734604b336a54f0efdfb2c",
       "version_major": 2,
       "version_minor": 0
      },
      "text/plain": [
       "  0%|          | 0/295 [00:00<?, ?it/s]"
      ]
     },
     "metadata": {},
     "output_type": "display_data"
    },
    {
     "name": "stdout",
     "output_type": "stream",
     "text": [
      "epoch 24 average loss: 0.2560\n",
      "current epoch: 24 current mean dice: 0.7245 wt: 0.7245\n",
      "best mean dice: 0.7449 at epoch: 20\n",
      "time consuming of epoch 24 is: 140.7179\n",
      "----------\n",
      "epoch 25/300\n"
     ]
    },
    {
     "data": {
      "application/vnd.jupyter.widget-view+json": {
       "model_id": "360321756386452c8d9c2a778d747c0c",
       "version_major": 2,
       "version_minor": 0
      },
      "text/plain": [
       "  0%|          | 0/295 [00:00<?, ?it/s]"
      ]
     },
     "metadata": {},
     "output_type": "display_data"
    },
    {
     "name": "stdout",
     "output_type": "stream",
     "text": [
      "epoch 25 average loss: 0.2534\n",
      "time consuming of epoch 25 is: 124.1197\n",
      "----------\n",
      "epoch 26/300\n"
     ]
    },
    {
     "data": {
      "application/vnd.jupyter.widget-view+json": {
       "model_id": "3ffb774245fa4be5a048b9c61acb74db",
       "version_major": 2,
       "version_minor": 0
      },
      "text/plain": [
       "  0%|          | 0/295 [00:00<?, ?it/s]"
      ]
     },
     "metadata": {},
     "output_type": "display_data"
    },
    {
     "name": "stdout",
     "output_type": "stream",
     "text": [
      "epoch 26 average loss: 0.2382\n",
      "current epoch: 26 current mean dice: 0.7132 wt: 0.7132\n",
      "best mean dice: 0.7449 at epoch: 20\n",
      "time consuming of epoch 26 is: 140.2767\n",
      "----------\n",
      "epoch 27/300\n"
     ]
    },
    {
     "data": {
      "application/vnd.jupyter.widget-view+json": {
       "model_id": "1935126071614a9fb9a85ab87ecac78b",
       "version_major": 2,
       "version_minor": 0
      },
      "text/plain": [
       "  0%|          | 0/295 [00:00<?, ?it/s]"
      ]
     },
     "metadata": {},
     "output_type": "display_data"
    },
    {
     "name": "stdout",
     "output_type": "stream",
     "text": [
      "epoch 27 average loss: 0.2272\n",
      "time consuming of epoch 27 is: 123.1345\n",
      "----------\n",
      "epoch 28/300\n"
     ]
    },
    {
     "data": {
      "application/vnd.jupyter.widget-view+json": {
       "model_id": "9c01e95d01de4a078633256cbae5ddfd",
       "version_major": 2,
       "version_minor": 0
      },
      "text/plain": [
       "  0%|          | 0/295 [00:00<?, ?it/s]"
      ]
     },
     "metadata": {},
     "output_type": "display_data"
    },
    {
     "name": "stdout",
     "output_type": "stream",
     "text": [
      "epoch 28 average loss: 0.2310\n",
      "saved new best metric model\n",
      "current epoch: 28 current mean dice: 0.7505 wt: 0.7505\n",
      "best mean dice: 0.7505 at epoch: 28\n",
      "time consuming of epoch 28 is: 140.1859\n",
      "----------\n",
      "epoch 29/300\n"
     ]
    },
    {
     "data": {
      "application/vnd.jupyter.widget-view+json": {
       "model_id": "60b3198cccde4851b117df832dafa9a8",
       "version_major": 2,
       "version_minor": 0
      },
      "text/plain": [
       "  0%|          | 0/295 [00:00<?, ?it/s]"
      ]
     },
     "metadata": {},
     "output_type": "display_data"
    },
    {
     "name": "stdout",
     "output_type": "stream",
     "text": [
      "epoch 29 average loss: 0.2180\n",
      "time consuming of epoch 29 is: 123.4007\n",
      "----------\n",
      "epoch 30/300\n"
     ]
    },
    {
     "data": {
      "application/vnd.jupyter.widget-view+json": {
       "model_id": "66d40bdc98e84553aa00abb57629ff37",
       "version_major": 2,
       "version_minor": 0
      },
      "text/plain": [
       "  0%|          | 0/295 [00:00<?, ?it/s]"
      ]
     },
     "metadata": {},
     "output_type": "display_data"
    },
    {
     "name": "stdout",
     "output_type": "stream",
     "text": [
      "epoch 30 average loss: 0.2217\n",
      "saved new best metric model\n",
      "current epoch: 30 current mean dice: 0.7658 wt: 0.7658\n",
      "best mean dice: 0.7658 at epoch: 30\n",
      "time consuming of epoch 30 is: 140.2575\n",
      "----------\n",
      "epoch 31/300\n"
     ]
    },
    {
     "data": {
      "application/vnd.jupyter.widget-view+json": {
       "model_id": "a9856f5f55fd444990696538757f168a",
       "version_major": 2,
       "version_minor": 0
      },
      "text/plain": [
       "  0%|          | 0/295 [00:00<?, ?it/s]"
      ]
     },
     "metadata": {},
     "output_type": "display_data"
    },
    {
     "name": "stdout",
     "output_type": "stream",
     "text": [
      "epoch 31 average loss: 0.2081\n",
      "time consuming of epoch 31 is: 123.4911\n",
      "----------\n",
      "epoch 32/300\n"
     ]
    },
    {
     "data": {
      "application/vnd.jupyter.widget-view+json": {
       "model_id": "18167ef9c57c4bd68db2acb4861e6cb2",
       "version_major": 2,
       "version_minor": 0
      },
      "text/plain": [
       "  0%|          | 0/295 [00:00<?, ?it/s]"
      ]
     },
     "metadata": {},
     "output_type": "display_data"
    },
    {
     "name": "stdout",
     "output_type": "stream",
     "text": [
      "epoch 32 average loss: 0.2116\n",
      "current epoch: 32 current mean dice: 0.7530 wt: 0.7530\n",
      "best mean dice: 0.7658 at epoch: 30\n",
      "time consuming of epoch 32 is: 140.2990\n",
      "----------\n",
      "epoch 33/300\n"
     ]
    },
    {
     "data": {
      "application/vnd.jupyter.widget-view+json": {
       "model_id": "1f419dfafe744187b3f876ab13192a3e",
       "version_major": 2,
       "version_minor": 0
      },
      "text/plain": [
       "  0%|          | 0/295 [00:00<?, ?it/s]"
      ]
     },
     "metadata": {},
     "output_type": "display_data"
    },
    {
     "name": "stdout",
     "output_type": "stream",
     "text": [
      "epoch 33 average loss: 0.2200\n",
      "time consuming of epoch 33 is: 123.5006\n",
      "----------\n",
      "epoch 34/300\n"
     ]
    },
    {
     "data": {
      "application/vnd.jupyter.widget-view+json": {
       "model_id": "d152ac736fbc44cc91757095b9cf08e9",
       "version_major": 2,
       "version_minor": 0
      },
      "text/plain": [
       "  0%|          | 0/295 [00:00<?, ?it/s]"
      ]
     },
     "metadata": {},
     "output_type": "display_data"
    },
    {
     "name": "stdout",
     "output_type": "stream",
     "text": [
      "epoch 34 average loss: 0.2059\n",
      "current epoch: 34 current mean dice: 0.7414 wt: 0.7414\n",
      "best mean dice: 0.7658 at epoch: 30\n",
      "time consuming of epoch 34 is: 140.1203\n",
      "----------\n",
      "epoch 35/300\n"
     ]
    },
    {
     "data": {
      "application/vnd.jupyter.widget-view+json": {
       "model_id": "b5cbd3f86bd3499d936430ddabf786ac",
       "version_major": 2,
       "version_minor": 0
      },
      "text/plain": [
       "  0%|          | 0/295 [00:00<?, ?it/s]"
      ]
     },
     "metadata": {},
     "output_type": "display_data"
    },
    {
     "name": "stdout",
     "output_type": "stream",
     "text": [
      "epoch 35 average loss: 0.2086\n",
      "time consuming of epoch 35 is: 123.8237\n",
      "----------\n",
      "epoch 36/300\n"
     ]
    },
    {
     "data": {
      "application/vnd.jupyter.widget-view+json": {
       "model_id": "c5f5d238369f4e5284637cc469d3cc0f",
       "version_major": 2,
       "version_minor": 0
      },
      "text/plain": [
       "  0%|          | 0/295 [00:00<?, ?it/s]"
      ]
     },
     "metadata": {},
     "output_type": "display_data"
    },
    {
     "name": "stdout",
     "output_type": "stream",
     "text": [
      "epoch 36 average loss: 0.2061\n",
      "current epoch: 36 current mean dice: 0.7489 wt: 0.7489\n",
      "best mean dice: 0.7658 at epoch: 30\n",
      "time consuming of epoch 36 is: 140.3062\n",
      "----------\n",
      "epoch 37/300\n"
     ]
    },
    {
     "data": {
      "application/vnd.jupyter.widget-view+json": {
       "model_id": "7472397ecd9a44e293fc7cb6d72deb04",
       "version_major": 2,
       "version_minor": 0
      },
      "text/plain": [
       "  0%|          | 0/295 [00:00<?, ?it/s]"
      ]
     },
     "metadata": {},
     "output_type": "display_data"
    },
    {
     "name": "stdout",
     "output_type": "stream",
     "text": [
      "epoch 37 average loss: 0.2053\n",
      "time consuming of epoch 37 is: 123.6426\n",
      "----------\n",
      "epoch 38/300\n"
     ]
    },
    {
     "data": {
      "application/vnd.jupyter.widget-view+json": {
       "model_id": "fab3605a3b9644299ad8e8c9c4a3f673",
       "version_major": 2,
       "version_minor": 0
      },
      "text/plain": [
       "  0%|          | 0/295 [00:00<?, ?it/s]"
      ]
     },
     "metadata": {},
     "output_type": "display_data"
    },
    {
     "name": "stdout",
     "output_type": "stream",
     "text": [
      "epoch 38 average loss: 0.2025\n",
      "current epoch: 38 current mean dice: 0.7094 wt: 0.7094\n",
      "best mean dice: 0.7658 at epoch: 30\n",
      "time consuming of epoch 38 is: 140.3306\n",
      "----------\n",
      "epoch 39/300\n"
     ]
    },
    {
     "data": {
      "application/vnd.jupyter.widget-view+json": {
       "model_id": "7d9ed4ab425d4ba5a7a38901f13c3080",
       "version_major": 2,
       "version_minor": 0
      },
      "text/plain": [
       "  0%|          | 0/295 [00:00<?, ?it/s]"
      ]
     },
     "metadata": {},
     "output_type": "display_data"
    },
    {
     "name": "stdout",
     "output_type": "stream",
     "text": [
      "epoch 39 average loss: 0.2041\n",
      "time consuming of epoch 39 is: 123.3972\n",
      "----------\n",
      "epoch 40/300\n"
     ]
    },
    {
     "data": {
      "application/vnd.jupyter.widget-view+json": {
       "model_id": "bb607aa4c7f94c45965648e8ba87c6d4",
       "version_major": 2,
       "version_minor": 0
      },
      "text/plain": [
       "  0%|          | 0/295 [00:00<?, ?it/s]"
      ]
     },
     "metadata": {},
     "output_type": "display_data"
    },
    {
     "name": "stdout",
     "output_type": "stream",
     "text": [
      "epoch 40 average loss: 0.1900\n",
      "current epoch: 40 current mean dice: 0.7529 wt: 0.7529\n",
      "best mean dice: 0.7658 at epoch: 30\n",
      "time consuming of epoch 40 is: 140.2384\n",
      "----------\n",
      "epoch 41/300\n"
     ]
    },
    {
     "data": {
      "application/vnd.jupyter.widget-view+json": {
       "model_id": "264244a8185d4193be60c10eccd6132a",
       "version_major": 2,
       "version_minor": 0
      },
      "text/plain": [
       "  0%|          | 0/295 [00:00<?, ?it/s]"
      ]
     },
     "metadata": {},
     "output_type": "display_data"
    },
    {
     "name": "stdout",
     "output_type": "stream",
     "text": [
      "epoch 41 average loss: 0.1900\n",
      "time consuming of epoch 41 is: 123.6371\n",
      "----------\n",
      "epoch 42/300\n"
     ]
    },
    {
     "data": {
      "application/vnd.jupyter.widget-view+json": {
       "model_id": "942bb3a105014c769734c2367df4b775",
       "version_major": 2,
       "version_minor": 0
      },
      "text/plain": [
       "  0%|          | 0/295 [00:00<?, ?it/s]"
      ]
     },
     "metadata": {},
     "output_type": "display_data"
    },
    {
     "name": "stdout",
     "output_type": "stream",
     "text": [
      "epoch 42 average loss: 0.1855\n",
      "current epoch: 42 current mean dice: 0.7621 wt: 0.7621\n",
      "best mean dice: 0.7658 at epoch: 30\n",
      "time consuming of epoch 42 is: 140.4107\n",
      "----------\n",
      "epoch 43/300\n"
     ]
    },
    {
     "data": {
      "application/vnd.jupyter.widget-view+json": {
       "model_id": "ca7adfe97ddf4874ae3ff2059078a861",
       "version_major": 2,
       "version_minor": 0
      },
      "text/plain": [
       "  0%|          | 0/295 [00:00<?, ?it/s]"
      ]
     },
     "metadata": {},
     "output_type": "display_data"
    },
    {
     "name": "stdout",
     "output_type": "stream",
     "text": [
      "epoch 43 average loss: 0.2003\n",
      "time consuming of epoch 43 is: 123.2234\n",
      "----------\n",
      "epoch 44/300\n"
     ]
    },
    {
     "data": {
      "application/vnd.jupyter.widget-view+json": {
       "model_id": "9f29f72296f844bd9e9653eec3ee0f60",
       "version_major": 2,
       "version_minor": 0
      },
      "text/plain": [
       "  0%|          | 0/295 [00:00<?, ?it/s]"
      ]
     },
     "metadata": {},
     "output_type": "display_data"
    },
    {
     "name": "stdout",
     "output_type": "stream",
     "text": [
      "epoch 44 average loss: 0.2007\n",
      "current epoch: 44 current mean dice: 0.7446 wt: 0.7446\n",
      "best mean dice: 0.7658 at epoch: 30\n",
      "time consuming of epoch 44 is: 140.6053\n",
      "----------\n",
      "epoch 45/300\n"
     ]
    },
    {
     "data": {
      "application/vnd.jupyter.widget-view+json": {
       "model_id": "1a4a7b4336fd439eb252c2c785a7ba42",
       "version_major": 2,
       "version_minor": 0
      },
      "text/plain": [
       "  0%|          | 0/295 [00:00<?, ?it/s]"
      ]
     },
     "metadata": {},
     "output_type": "display_data"
    },
    {
     "name": "stdout",
     "output_type": "stream",
     "text": [
      "epoch 45 average loss: 0.1918\n",
      "time consuming of epoch 45 is: 123.5340\n",
      "----------\n",
      "epoch 46/300\n"
     ]
    },
    {
     "data": {
      "application/vnd.jupyter.widget-view+json": {
       "model_id": "65ce27a314514f6c861b079cddf875fc",
       "version_major": 2,
       "version_minor": 0
      },
      "text/plain": [
       "  0%|          | 0/295 [00:00<?, ?it/s]"
      ]
     },
     "metadata": {},
     "output_type": "display_data"
    },
    {
     "name": "stdout",
     "output_type": "stream",
     "text": [
      "epoch 46 average loss: 0.1851\n",
      "saved new best metric model\n",
      "current epoch: 46 current mean dice: 0.7719 wt: 0.7719\n",
      "best mean dice: 0.7719 at epoch: 46\n",
      "time consuming of epoch 46 is: 140.1976\n",
      "----------\n",
      "epoch 47/300\n"
     ]
    },
    {
     "data": {
      "application/vnd.jupyter.widget-view+json": {
       "model_id": "349c349a13404efb8204c6380b31a907",
       "version_major": 2,
       "version_minor": 0
      },
      "text/plain": [
       "  0%|          | 0/295 [00:00<?, ?it/s]"
      ]
     },
     "metadata": {},
     "output_type": "display_data"
    },
    {
     "name": "stdout",
     "output_type": "stream",
     "text": [
      "epoch 47 average loss: 0.1822\n",
      "time consuming of epoch 47 is: 123.3678\n",
      "----------\n",
      "epoch 48/300\n"
     ]
    },
    {
     "data": {
      "application/vnd.jupyter.widget-view+json": {
       "model_id": "396231241cc74e5e9ff0269db0f5d447",
       "version_major": 2,
       "version_minor": 0
      },
      "text/plain": [
       "  0%|          | 0/295 [00:00<?, ?it/s]"
      ]
     },
     "metadata": {},
     "output_type": "display_data"
    },
    {
     "name": "stdout",
     "output_type": "stream",
     "text": [
      "epoch 48 average loss: 0.1849\n",
      "current epoch: 48 current mean dice: 0.7601 wt: 0.7601\n",
      "best mean dice: 0.7719 at epoch: 46\n",
      "time consuming of epoch 48 is: 140.0844\n",
      "----------\n",
      "epoch 49/300\n"
     ]
    },
    {
     "data": {
      "application/vnd.jupyter.widget-view+json": {
       "model_id": "07950eeb99734b37ab66431719323dfa",
       "version_major": 2,
       "version_minor": 0
      },
      "text/plain": [
       "  0%|          | 0/295 [00:00<?, ?it/s]"
      ]
     },
     "metadata": {},
     "output_type": "display_data"
    },
    {
     "name": "stdout",
     "output_type": "stream",
     "text": [
      "epoch 49 average loss: 0.1805\n",
      "time consuming of epoch 49 is: 123.3171\n",
      "----------\n",
      "epoch 50/300\n"
     ]
    },
    {
     "data": {
      "application/vnd.jupyter.widget-view+json": {
       "model_id": "f7d8c10e2bac443c9ae7187ba2831df1",
       "version_major": 2,
       "version_minor": 0
      },
      "text/plain": [
       "  0%|          | 0/295 [00:00<?, ?it/s]"
      ]
     },
     "metadata": {},
     "output_type": "display_data"
    },
    {
     "name": "stdout",
     "output_type": "stream",
     "text": [
      "epoch 50 average loss: 0.1856\n",
      "current epoch: 50 current mean dice: 0.7450 wt: 0.7450\n",
      "best mean dice: 0.7719 at epoch: 46\n",
      "time consuming of epoch 50 is: 140.2557\n",
      "----------\n",
      "epoch 51/300\n"
     ]
    },
    {
     "data": {
      "application/vnd.jupyter.widget-view+json": {
       "model_id": "c6d1f1907b12423f8c81697341adf9eb",
       "version_major": 2,
       "version_minor": 0
      },
      "text/plain": [
       "  0%|          | 0/295 [00:00<?, ?it/s]"
      ]
     },
     "metadata": {},
     "output_type": "display_data"
    },
    {
     "name": "stdout",
     "output_type": "stream",
     "text": [
      "epoch 51 average loss: 0.1856\n",
      "time consuming of epoch 51 is: 123.2314\n",
      "----------\n",
      "epoch 52/300\n"
     ]
    },
    {
     "data": {
      "application/vnd.jupyter.widget-view+json": {
       "model_id": "5ffdb176c8424af1a01b30eb8d8a8c0c",
       "version_major": 2,
       "version_minor": 0
      },
      "text/plain": [
       "  0%|          | 0/295 [00:00<?, ?it/s]"
      ]
     },
     "metadata": {},
     "output_type": "display_data"
    },
    {
     "name": "stdout",
     "output_type": "stream",
     "text": [
      "epoch 52 average loss: 0.1840\n",
      "current epoch: 52 current mean dice: 0.7706 wt: 0.7706\n",
      "best mean dice: 0.7719 at epoch: 46\n",
      "time consuming of epoch 52 is: 140.1780\n",
      "----------\n",
      "epoch 53/300\n"
     ]
    },
    {
     "data": {
      "application/vnd.jupyter.widget-view+json": {
       "model_id": "3d94baf44cd14c3795be35550c3525ab",
       "version_major": 2,
       "version_minor": 0
      },
      "text/plain": [
       "  0%|          | 0/295 [00:00<?, ?it/s]"
      ]
     },
     "metadata": {},
     "output_type": "display_data"
    },
    {
     "name": "stdout",
     "output_type": "stream",
     "text": [
      "epoch 53 average loss: 0.1736\n",
      "time consuming of epoch 53 is: 123.4687\n",
      "----------\n",
      "epoch 54/300\n"
     ]
    },
    {
     "data": {
      "application/vnd.jupyter.widget-view+json": {
       "model_id": "7f537d527572411d8f59699e12cfe130",
       "version_major": 2,
       "version_minor": 0
      },
      "text/plain": [
       "  0%|          | 0/295 [00:00<?, ?it/s]"
      ]
     },
     "metadata": {},
     "output_type": "display_data"
    },
    {
     "name": "stdout",
     "output_type": "stream",
     "text": [
      "epoch 54 average loss: 0.1723\n",
      "current epoch: 54 current mean dice: 0.7687 wt: 0.7687\n",
      "best mean dice: 0.7719 at epoch: 46\n",
      "time consuming of epoch 54 is: 140.2830\n",
      "----------\n",
      "epoch 55/300\n"
     ]
    },
    {
     "data": {
      "application/vnd.jupyter.widget-view+json": {
       "model_id": "de0925c0c7d843089473ca2ff0ca0361",
       "version_major": 2,
       "version_minor": 0
      },
      "text/plain": [
       "  0%|          | 0/295 [00:00<?, ?it/s]"
      ]
     },
     "metadata": {},
     "output_type": "display_data"
    },
    {
     "name": "stdout",
     "output_type": "stream",
     "text": [
      "epoch 55 average loss: 0.1767\n",
      "time consuming of epoch 55 is: 123.4296\n",
      "----------\n",
      "epoch 56/300\n"
     ]
    },
    {
     "data": {
      "application/vnd.jupyter.widget-view+json": {
       "model_id": "f3cbaa52b275427d9bca862113877143",
       "version_major": 2,
       "version_minor": 0
      },
      "text/plain": [
       "  0%|          | 0/295 [00:00<?, ?it/s]"
      ]
     },
     "metadata": {},
     "output_type": "display_data"
    },
    {
     "name": "stdout",
     "output_type": "stream",
     "text": [
      "epoch 56 average loss: 0.1735\n",
      "saved new best metric model\n",
      "current epoch: 56 current mean dice: 0.7726 wt: 0.7726\n",
      "best mean dice: 0.7726 at epoch: 56\n",
      "time consuming of epoch 56 is: 140.3534\n",
      "----------\n",
      "epoch 57/300\n"
     ]
    },
    {
     "data": {
      "application/vnd.jupyter.widget-view+json": {
       "model_id": "6b7e5b2356dd40608a212b0c90bbec48",
       "version_major": 2,
       "version_minor": 0
      },
      "text/plain": [
       "  0%|          | 0/295 [00:00<?, ?it/s]"
      ]
     },
     "metadata": {},
     "output_type": "display_data"
    },
    {
     "name": "stdout",
     "output_type": "stream",
     "text": [
      "epoch 57 average loss: 0.1760\n",
      "time consuming of epoch 57 is: 123.4146\n",
      "----------\n",
      "epoch 58/300\n"
     ]
    },
    {
     "data": {
      "application/vnd.jupyter.widget-view+json": {
       "model_id": "6b0d9f07e8c348cdbce59f3ef41c9a8e",
       "version_major": 2,
       "version_minor": 0
      },
      "text/plain": [
       "  0%|          | 0/295 [00:00<?, ?it/s]"
      ]
     },
     "metadata": {},
     "output_type": "display_data"
    },
    {
     "name": "stdout",
     "output_type": "stream",
     "text": [
      "epoch 58 average loss: 0.1738\n",
      "current epoch: 58 current mean dice: 0.7384 wt: 0.7384\n",
      "best mean dice: 0.7726 at epoch: 56\n",
      "time consuming of epoch 58 is: 140.1674\n",
      "----------\n",
      "epoch 59/300\n"
     ]
    },
    {
     "data": {
      "application/vnd.jupyter.widget-view+json": {
       "model_id": "f890a2afc14f4cbc9501f09447c6b2d8",
       "version_major": 2,
       "version_minor": 0
      },
      "text/plain": [
       "  0%|          | 0/295 [00:00<?, ?it/s]"
      ]
     },
     "metadata": {},
     "output_type": "display_data"
    },
    {
     "name": "stdout",
     "output_type": "stream",
     "text": [
      "epoch 59 average loss: 0.1758\n",
      "time consuming of epoch 59 is: 123.4221\n",
      "----------\n",
      "epoch 60/300\n"
     ]
    },
    {
     "data": {
      "application/vnd.jupyter.widget-view+json": {
       "model_id": "a437fa1cf6e44272b6a6b579ad779428",
       "version_major": 2,
       "version_minor": 0
      },
      "text/plain": [
       "  0%|          | 0/295 [00:00<?, ?it/s]"
      ]
     },
     "metadata": {},
     "output_type": "display_data"
    },
    {
     "name": "stdout",
     "output_type": "stream",
     "text": [
      "epoch 60 average loss: 0.1752\n",
      "current epoch: 60 current mean dice: 0.7679 wt: 0.7679\n",
      "best mean dice: 0.7726 at epoch: 56\n",
      "time consuming of epoch 60 is: 140.3481\n",
      "----------\n",
      "epoch 61/300\n"
     ]
    },
    {
     "data": {
      "application/vnd.jupyter.widget-view+json": {
       "model_id": "f098e7c3a30c4c589918efb7224ea299",
       "version_major": 2,
       "version_minor": 0
      },
      "text/plain": [
       "  0%|          | 0/295 [00:00<?, ?it/s]"
      ]
     },
     "metadata": {},
     "output_type": "display_data"
    },
    {
     "name": "stdout",
     "output_type": "stream",
     "text": [
      "epoch 61 average loss: 0.1688\n",
      "time consuming of epoch 61 is: 123.3185\n",
      "----------\n",
      "epoch 62/300\n"
     ]
    },
    {
     "data": {
      "application/vnd.jupyter.widget-view+json": {
       "model_id": "9659512389a245a5a9ecfbf4c6a45fcd",
       "version_major": 2,
       "version_minor": 0
      },
      "text/plain": [
       "  0%|          | 0/295 [00:00<?, ?it/s]"
      ]
     },
     "metadata": {},
     "output_type": "display_data"
    },
    {
     "name": "stdout",
     "output_type": "stream",
     "text": [
      "epoch 62 average loss: 0.1737\n",
      "current epoch: 62 current mean dice: 0.7647 wt: 0.7647\n",
      "best mean dice: 0.7726 at epoch: 56\n",
      "time consuming of epoch 62 is: 140.4327\n",
      "----------\n",
      "epoch 63/300\n"
     ]
    },
    {
     "data": {
      "application/vnd.jupyter.widget-view+json": {
       "model_id": "6ca0939471444447afc944b630d231d7",
       "version_major": 2,
       "version_minor": 0
      },
      "text/plain": [
       "  0%|          | 0/295 [00:00<?, ?it/s]"
      ]
     },
     "metadata": {},
     "output_type": "display_data"
    },
    {
     "name": "stdout",
     "output_type": "stream",
     "text": [
      "epoch 63 average loss: 0.1725\n",
      "time consuming of epoch 63 is: 123.2066\n",
      "----------\n",
      "epoch 64/300\n"
     ]
    },
    {
     "data": {
      "application/vnd.jupyter.widget-view+json": {
       "model_id": "8ca77972561847489b104790c831af88",
       "version_major": 2,
       "version_minor": 0
      },
      "text/plain": [
       "  0%|          | 0/295 [00:00<?, ?it/s]"
      ]
     },
     "metadata": {},
     "output_type": "display_data"
    },
    {
     "name": "stdout",
     "output_type": "stream",
     "text": [
      "epoch 64 average loss: 0.1692\n",
      "current epoch: 64 current mean dice: 0.7653 wt: 0.7653\n",
      "best mean dice: 0.7726 at epoch: 56\n",
      "time consuming of epoch 64 is: 140.2845\n",
      "----------\n",
      "epoch 65/300\n"
     ]
    },
    {
     "data": {
      "application/vnd.jupyter.widget-view+json": {
       "model_id": "16ff731aa9c34458a441ba2f08876e4f",
       "version_major": 2,
       "version_minor": 0
      },
      "text/plain": [
       "  0%|          | 0/295 [00:00<?, ?it/s]"
      ]
     },
     "metadata": {},
     "output_type": "display_data"
    },
    {
     "name": "stdout",
     "output_type": "stream",
     "text": [
      "epoch 65 average loss: 0.1688\n",
      "time consuming of epoch 65 is: 123.7561\n",
      "----------\n",
      "epoch 66/300\n"
     ]
    },
    {
     "data": {
      "application/vnd.jupyter.widget-view+json": {
       "model_id": "13d79c1578ac49779cba00b48f06e2f7",
       "version_major": 2,
       "version_minor": 0
      },
      "text/plain": [
       "  0%|          | 0/295 [00:00<?, ?it/s]"
      ]
     },
     "metadata": {},
     "output_type": "display_data"
    },
    {
     "name": "stdout",
     "output_type": "stream",
     "text": [
      "epoch 66 average loss: 0.1700\n",
      "current epoch: 66 current mean dice: 0.7582 wt: 0.7582\n",
      "best mean dice: 0.7726 at epoch: 56\n",
      "time consuming of epoch 66 is: 140.1845\n",
      "----------\n",
      "epoch 67/300\n"
     ]
    },
    {
     "data": {
      "application/vnd.jupyter.widget-view+json": {
       "model_id": "cba75876d9b142ceb84db87505c49fad",
       "version_major": 2,
       "version_minor": 0
      },
      "text/plain": [
       "  0%|          | 0/295 [00:00<?, ?it/s]"
      ]
     },
     "metadata": {},
     "output_type": "display_data"
    },
    {
     "name": "stdout",
     "output_type": "stream",
     "text": [
      "epoch 67 average loss: 0.1652\n",
      "time consuming of epoch 67 is: 123.6464\n",
      "----------\n",
      "epoch 68/300\n"
     ]
    },
    {
     "data": {
      "application/vnd.jupyter.widget-view+json": {
       "model_id": "6f4a6002aa3a433aa7f4a14ea64cfce2",
       "version_major": 2,
       "version_minor": 0
      },
      "text/plain": [
       "  0%|          | 0/295 [00:00<?, ?it/s]"
      ]
     },
     "metadata": {},
     "output_type": "display_data"
    },
    {
     "name": "stdout",
     "output_type": "stream",
     "text": [
      "epoch 68 average loss: 0.1680\n",
      "current epoch: 68 current mean dice: 0.7688 wt: 0.7688\n",
      "best mean dice: 0.7726 at epoch: 56\n",
      "time consuming of epoch 68 is: 140.4066\n",
      "----------\n",
      "epoch 69/300\n"
     ]
    },
    {
     "data": {
      "application/vnd.jupyter.widget-view+json": {
       "model_id": "60badfdd7288403aac26dcee8725447f",
       "version_major": 2,
       "version_minor": 0
      },
      "text/plain": [
       "  0%|          | 0/295 [00:00<?, ?it/s]"
      ]
     },
     "metadata": {},
     "output_type": "display_data"
    },
    {
     "name": "stdout",
     "output_type": "stream",
     "text": [
      "epoch 69 average loss: 0.1633\n",
      "time consuming of epoch 69 is: 123.3695\n",
      "----------\n",
      "epoch 70/300\n"
     ]
    },
    {
     "data": {
      "application/vnd.jupyter.widget-view+json": {
       "model_id": "68651e82fe494ad39c5fabf296f83b7c",
       "version_major": 2,
       "version_minor": 0
      },
      "text/plain": [
       "  0%|          | 0/295 [00:00<?, ?it/s]"
      ]
     },
     "metadata": {},
     "output_type": "display_data"
    },
    {
     "name": "stdout",
     "output_type": "stream",
     "text": [
      "epoch 70 average loss: 0.1620\n",
      "current epoch: 70 current mean dice: 0.7527 wt: 0.7527\n",
      "best mean dice: 0.7726 at epoch: 56\n",
      "time consuming of epoch 70 is: 140.8532\n",
      "----------\n",
      "epoch 71/300\n"
     ]
    },
    {
     "data": {
      "application/vnd.jupyter.widget-view+json": {
       "model_id": "4cc0bff60d1b4ad0a377559f25b122c3",
       "version_major": 2,
       "version_minor": 0
      },
      "text/plain": [
       "  0%|          | 0/295 [00:00<?, ?it/s]"
      ]
     },
     "metadata": {},
     "output_type": "display_data"
    },
    {
     "name": "stdout",
     "output_type": "stream",
     "text": [
      "epoch 71 average loss: 0.1641\n",
      "time consuming of epoch 71 is: 123.6277\n",
      "----------\n",
      "epoch 72/300\n"
     ]
    },
    {
     "data": {
      "application/vnd.jupyter.widget-view+json": {
       "model_id": "18e99726eeb247a1a6efb48e7598da1b",
       "version_major": 2,
       "version_minor": 0
      },
      "text/plain": [
       "  0%|          | 0/295 [00:00<?, ?it/s]"
      ]
     },
     "metadata": {},
     "output_type": "display_data"
    },
    {
     "name": "stdout",
     "output_type": "stream",
     "text": [
      "epoch 72 average loss: 0.1610\n",
      "current epoch: 72 current mean dice: 0.7545 wt: 0.7545\n",
      "best mean dice: 0.7726 at epoch: 56\n",
      "time consuming of epoch 72 is: 140.6562\n",
      "----------\n",
      "epoch 73/300\n"
     ]
    },
    {
     "data": {
      "application/vnd.jupyter.widget-view+json": {
       "model_id": "960b4b71afc9462a8392e8f5272f9790",
       "version_major": 2,
       "version_minor": 0
      },
      "text/plain": [
       "  0%|          | 0/295 [00:00<?, ?it/s]"
      ]
     },
     "metadata": {},
     "output_type": "display_data"
    },
    {
     "name": "stdout",
     "output_type": "stream",
     "text": [
      "epoch 73 average loss: 0.1630\n",
      "time consuming of epoch 73 is: 123.5502\n",
      "----------\n",
      "epoch 74/300\n"
     ]
    },
    {
     "data": {
      "application/vnd.jupyter.widget-view+json": {
       "model_id": "15ea0562ba5b4d53a3cff549881b756a",
       "version_major": 2,
       "version_minor": 0
      },
      "text/plain": [
       "  0%|          | 0/295 [00:00<?, ?it/s]"
      ]
     },
     "metadata": {},
     "output_type": "display_data"
    },
    {
     "name": "stdout",
     "output_type": "stream",
     "text": [
      "epoch 74 average loss: 0.1610\n",
      "current epoch: 74 current mean dice: 0.7517 wt: 0.7517\n",
      "best mean dice: 0.7726 at epoch: 56\n",
      "time consuming of epoch 74 is: 140.0804\n",
      "----------\n",
      "epoch 75/300\n"
     ]
    },
    {
     "data": {
      "application/vnd.jupyter.widget-view+json": {
       "model_id": "2192ad846c144dee958d61d0b35bc299",
       "version_major": 2,
       "version_minor": 0
      },
      "text/plain": [
       "  0%|          | 0/295 [00:00<?, ?it/s]"
      ]
     },
     "metadata": {},
     "output_type": "display_data"
    },
    {
     "name": "stdout",
     "output_type": "stream",
     "text": [
      "epoch 75 average loss: 0.1733\n",
      "time consuming of epoch 75 is: 123.7976\n",
      "----------\n",
      "epoch 76/300\n"
     ]
    },
    {
     "data": {
      "application/vnd.jupyter.widget-view+json": {
       "model_id": "62a4272aca1841b59e816a9a719288e6",
       "version_major": 2,
       "version_minor": 0
      },
      "text/plain": [
       "  0%|          | 0/295 [00:00<?, ?it/s]"
      ]
     },
     "metadata": {},
     "output_type": "display_data"
    },
    {
     "name": "stdout",
     "output_type": "stream",
     "text": [
      "epoch 76 average loss: 0.1626\n",
      "saved new best metric model\n",
      "current epoch: 76 current mean dice: 0.7760 wt: 0.7760\n",
      "best mean dice: 0.7760 at epoch: 76\n",
      "time consuming of epoch 76 is: 140.6411\n",
      "----------\n",
      "epoch 77/300\n"
     ]
    },
    {
     "data": {
      "application/vnd.jupyter.widget-view+json": {
       "model_id": "d9e95401980d4c3d8e4a23e8e6d2e54f",
       "version_major": 2,
       "version_minor": 0
      },
      "text/plain": [
       "  0%|          | 0/295 [00:00<?, ?it/s]"
      ]
     },
     "metadata": {},
     "output_type": "display_data"
    },
    {
     "name": "stdout",
     "output_type": "stream",
     "text": [
      "epoch 77 average loss: 0.1606\n",
      "time consuming of epoch 77 is: 123.4205\n",
      "----------\n",
      "epoch 78/300\n"
     ]
    },
    {
     "data": {
      "application/vnd.jupyter.widget-view+json": {
       "model_id": "5cc6ae5a3276487a857587de18a79d72",
       "version_major": 2,
       "version_minor": 0
      },
      "text/plain": [
       "  0%|          | 0/295 [00:00<?, ?it/s]"
      ]
     },
     "metadata": {},
     "output_type": "display_data"
    },
    {
     "name": "stdout",
     "output_type": "stream",
     "text": [
      "epoch 78 average loss: 0.1594\n",
      "current epoch: 78 current mean dice: 0.7588 wt: 0.7588\n",
      "best mean dice: 0.7760 at epoch: 76\n",
      "time consuming of epoch 78 is: 140.5491\n",
      "----------\n",
      "epoch 79/300\n"
     ]
    },
    {
     "data": {
      "application/vnd.jupyter.widget-view+json": {
       "model_id": "c2623e78d18a4c939ab1ab91d3fd7879",
       "version_major": 2,
       "version_minor": 0
      },
      "text/plain": [
       "  0%|          | 0/295 [00:00<?, ?it/s]"
      ]
     },
     "metadata": {},
     "output_type": "display_data"
    },
    {
     "name": "stdout",
     "output_type": "stream",
     "text": [
      "epoch 79 average loss: 0.1656\n",
      "time consuming of epoch 79 is: 123.3381\n",
      "----------\n",
      "epoch 80/300\n"
     ]
    },
    {
     "data": {
      "application/vnd.jupyter.widget-view+json": {
       "model_id": "1238d901c0f34b3cb4d6441cae41e328",
       "version_major": 2,
       "version_minor": 0
      },
      "text/plain": [
       "  0%|          | 0/295 [00:00<?, ?it/s]"
      ]
     },
     "metadata": {},
     "output_type": "display_data"
    },
    {
     "name": "stdout",
     "output_type": "stream",
     "text": [
      "epoch 80 average loss: 0.1563\n",
      "current epoch: 80 current mean dice: 0.7717 wt: 0.7717\n",
      "best mean dice: 0.7760 at epoch: 76\n",
      "time consuming of epoch 80 is: 140.1090\n",
      "----------\n",
      "epoch 81/300\n"
     ]
    },
    {
     "data": {
      "application/vnd.jupyter.widget-view+json": {
       "model_id": "ba26cd8d8178442a9eb1e9d5c2fbe0f0",
       "version_major": 2,
       "version_minor": 0
      },
      "text/plain": [
       "  0%|          | 0/295 [00:00<?, ?it/s]"
      ]
     },
     "metadata": {},
     "output_type": "display_data"
    },
    {
     "name": "stdout",
     "output_type": "stream",
     "text": [
      "epoch 81 average loss: 0.1570\n",
      "time consuming of epoch 81 is: 123.3151\n",
      "----------\n",
      "epoch 82/300\n"
     ]
    },
    {
     "data": {
      "application/vnd.jupyter.widget-view+json": {
       "model_id": "f475a71392094c319ec90d83ccd2b756",
       "version_major": 2,
       "version_minor": 0
      },
      "text/plain": [
       "  0%|          | 0/295 [00:00<?, ?it/s]"
      ]
     },
     "metadata": {},
     "output_type": "display_data"
    },
    {
     "name": "stdout",
     "output_type": "stream",
     "text": [
      "epoch 82 average loss: 0.1570\n",
      "saved new best metric model\n",
      "current epoch: 82 current mean dice: 0.7766 wt: 0.7766\n",
      "best mean dice: 0.7766 at epoch: 82\n",
      "time consuming of epoch 82 is: 140.2296\n",
      "----------\n",
      "epoch 83/300\n"
     ]
    },
    {
     "data": {
      "application/vnd.jupyter.widget-view+json": {
       "model_id": "2e21e4c68ca049da846e5a1440aaad2b",
       "version_major": 2,
       "version_minor": 0
      },
      "text/plain": [
       "  0%|          | 0/295 [00:00<?, ?it/s]"
      ]
     },
     "metadata": {},
     "output_type": "display_data"
    },
    {
     "name": "stdout",
     "output_type": "stream",
     "text": [
      "epoch 83 average loss: 0.1543\n",
      "time consuming of epoch 83 is: 123.2449\n",
      "----------\n",
      "epoch 84/300\n"
     ]
    },
    {
     "data": {
      "application/vnd.jupyter.widget-view+json": {
       "model_id": "23c3eeca5f604a949e9e6714a062b3f9",
       "version_major": 2,
       "version_minor": 0
      },
      "text/plain": [
       "  0%|          | 0/295 [00:00<?, ?it/s]"
      ]
     },
     "metadata": {},
     "output_type": "display_data"
    },
    {
     "name": "stdout",
     "output_type": "stream",
     "text": [
      "epoch 84 average loss: 0.1623\n",
      "current epoch: 84 current mean dice: 0.7553 wt: 0.7553\n",
      "best mean dice: 0.7766 at epoch: 82\n",
      "time consuming of epoch 84 is: 140.4063\n",
      "----------\n",
      "epoch 85/300\n"
     ]
    },
    {
     "data": {
      "application/vnd.jupyter.widget-view+json": {
       "model_id": "1643d71634da48aea444d5b0b8aa35fb",
       "version_major": 2,
       "version_minor": 0
      },
      "text/plain": [
       "  0%|          | 0/295 [00:00<?, ?it/s]"
      ]
     },
     "metadata": {},
     "output_type": "display_data"
    },
    {
     "name": "stdout",
     "output_type": "stream",
     "text": [
      "epoch 85 average loss: 0.1609\n",
      "time consuming of epoch 85 is: 123.2055\n",
      "----------\n",
      "epoch 86/300\n"
     ]
    },
    {
     "data": {
      "application/vnd.jupyter.widget-view+json": {
       "model_id": "acc0c16f13644a96b2e93005d2f90722",
       "version_major": 2,
       "version_minor": 0
      },
      "text/plain": [
       "  0%|          | 0/295 [00:00<?, ?it/s]"
      ]
     },
     "metadata": {},
     "output_type": "display_data"
    },
    {
     "name": "stdout",
     "output_type": "stream",
     "text": [
      "epoch 86 average loss: 0.1527\n",
      "current epoch: 86 current mean dice: 0.7550 wt: 0.7550\n",
      "best mean dice: 0.7766 at epoch: 82\n",
      "time consuming of epoch 86 is: 140.2952\n",
      "----------\n",
      "epoch 87/300\n"
     ]
    },
    {
     "data": {
      "application/vnd.jupyter.widget-view+json": {
       "model_id": "4aa27c995714462fa5a220272241b265",
       "version_major": 2,
       "version_minor": 0
      },
      "text/plain": [
       "  0%|          | 0/295 [00:00<?, ?it/s]"
      ]
     },
     "metadata": {},
     "output_type": "display_data"
    },
    {
     "name": "stdout",
     "output_type": "stream",
     "text": [
      "epoch 87 average loss: 0.1583\n",
      "time consuming of epoch 87 is: 123.5849\n",
      "----------\n",
      "epoch 88/300\n"
     ]
    },
    {
     "data": {
      "application/vnd.jupyter.widget-view+json": {
       "model_id": "f80e5c3d83114ff6920006e032695c16",
       "version_major": 2,
       "version_minor": 0
      },
      "text/plain": [
       "  0%|          | 0/295 [00:00<?, ?it/s]"
      ]
     },
     "metadata": {},
     "output_type": "display_data"
    },
    {
     "name": "stdout",
     "output_type": "stream",
     "text": [
      "epoch 88 average loss: 0.1604\n",
      "current epoch: 88 current mean dice: 0.7730 wt: 0.7730\n",
      "best mean dice: 0.7766 at epoch: 82\n",
      "time consuming of epoch 88 is: 140.0692\n",
      "----------\n",
      "epoch 89/300\n"
     ]
    },
    {
     "data": {
      "application/vnd.jupyter.widget-view+json": {
       "model_id": "8ec23ec823a14807adc747a91c586b18",
       "version_major": 2,
       "version_minor": 0
      },
      "text/plain": [
       "  0%|          | 0/295 [00:00<?, ?it/s]"
      ]
     },
     "metadata": {},
     "output_type": "display_data"
    },
    {
     "name": "stdout",
     "output_type": "stream",
     "text": [
      "epoch 89 average loss: 0.1514\n",
      "time consuming of epoch 89 is: 123.6453\n",
      "----------\n",
      "epoch 90/300\n"
     ]
    },
    {
     "data": {
      "application/vnd.jupyter.widget-view+json": {
       "model_id": "9924a51deed74dcd9a763ec5b3885e47",
       "version_major": 2,
       "version_minor": 0
      },
      "text/plain": [
       "  0%|          | 0/295 [00:00<?, ?it/s]"
      ]
     },
     "metadata": {},
     "output_type": "display_data"
    },
    {
     "name": "stdout",
     "output_type": "stream",
     "text": [
      "epoch 90 average loss: 0.1539\n",
      "current epoch: 90 current mean dice: 0.7726 wt: 0.7726\n",
      "best mean dice: 0.7766 at epoch: 82\n",
      "time consuming of epoch 90 is: 140.7430\n",
      "----------\n",
      "epoch 91/300\n"
     ]
    },
    {
     "data": {
      "application/vnd.jupyter.widget-view+json": {
       "model_id": "f92cf428c99c461baa436d8ce4481b34",
       "version_major": 2,
       "version_minor": 0
      },
      "text/plain": [
       "  0%|          | 0/295 [00:00<?, ?it/s]"
      ]
     },
     "metadata": {},
     "output_type": "display_data"
    },
    {
     "name": "stdout",
     "output_type": "stream",
     "text": [
      "epoch 91 average loss: 0.1541\n",
      "time consuming of epoch 91 is: 123.2263\n",
      "----------\n",
      "epoch 92/300\n"
     ]
    },
    {
     "data": {
      "application/vnd.jupyter.widget-view+json": {
       "model_id": "863bb7c325c941278c14b251ce4f00b8",
       "version_major": 2,
       "version_minor": 0
      },
      "text/plain": [
       "  0%|          | 0/295 [00:00<?, ?it/s]"
      ]
     },
     "metadata": {},
     "output_type": "display_data"
    },
    {
     "name": "stdout",
     "output_type": "stream",
     "text": [
      "epoch 92 average loss: 0.1536\n",
      "current epoch: 92 current mean dice: 0.7728 wt: 0.7728\n",
      "best mean dice: 0.7766 at epoch: 82\n",
      "time consuming of epoch 92 is: 140.3510\n",
      "----------\n",
      "epoch 93/300\n"
     ]
    },
    {
     "data": {
      "application/vnd.jupyter.widget-view+json": {
       "model_id": "424257bce2fb4a8ba5e4fde47d1596fe",
       "version_major": 2,
       "version_minor": 0
      },
      "text/plain": [
       "  0%|          | 0/295 [00:00<?, ?it/s]"
      ]
     },
     "metadata": {},
     "output_type": "display_data"
    },
    {
     "name": "stdout",
     "output_type": "stream",
     "text": [
      "epoch 93 average loss: 0.1504\n",
      "time consuming of epoch 93 is: 123.5948\n",
      "----------\n",
      "epoch 94/300\n"
     ]
    },
    {
     "data": {
      "application/vnd.jupyter.widget-view+json": {
       "model_id": "c86f89ca15a44efa8536acb09812cf42",
       "version_major": 2,
       "version_minor": 0
      },
      "text/plain": [
       "  0%|          | 0/295 [00:00<?, ?it/s]"
      ]
     },
     "metadata": {},
     "output_type": "display_data"
    },
    {
     "name": "stdout",
     "output_type": "stream",
     "text": [
      "epoch 94 average loss: 0.1482\n",
      "current epoch: 94 current mean dice: 0.7642 wt: 0.7642\n",
      "best mean dice: 0.7766 at epoch: 82\n",
      "time consuming of epoch 94 is: 140.2272\n",
      "----------\n",
      "epoch 95/300\n"
     ]
    },
    {
     "data": {
      "application/vnd.jupyter.widget-view+json": {
       "model_id": "cc5e1baa436e4d0e8aed0e7e9907d2cf",
       "version_major": 2,
       "version_minor": 0
      },
      "text/plain": [
       "  0%|          | 0/295 [00:00<?, ?it/s]"
      ]
     },
     "metadata": {},
     "output_type": "display_data"
    },
    {
     "name": "stdout",
     "output_type": "stream",
     "text": [
      "epoch 95 average loss: 0.1528\n",
      "time consuming of epoch 95 is: 123.2336\n",
      "----------\n",
      "epoch 96/300\n"
     ]
    },
    {
     "data": {
      "application/vnd.jupyter.widget-view+json": {
       "model_id": "a1766a2d76ba496b9f0207d8d0f8ab7f",
       "version_major": 2,
       "version_minor": 0
      },
      "text/plain": [
       "  0%|          | 0/295 [00:00<?, ?it/s]"
      ]
     },
     "metadata": {},
     "output_type": "display_data"
    },
    {
     "name": "stdout",
     "output_type": "stream",
     "text": [
      "epoch 96 average loss: 0.1524\n",
      "saved new best metric model\n",
      "current epoch: 96 current mean dice: 0.7770 wt: 0.7770\n",
      "best mean dice: 0.7770 at epoch: 96\n",
      "time consuming of epoch 96 is: 140.3449\n",
      "----------\n",
      "epoch 97/300\n"
     ]
    },
    {
     "data": {
      "application/vnd.jupyter.widget-view+json": {
       "model_id": "5d6cb03742c04519b6109167f1cf922d",
       "version_major": 2,
       "version_minor": 0
      },
      "text/plain": [
       "  0%|          | 0/295 [00:00<?, ?it/s]"
      ]
     },
     "metadata": {},
     "output_type": "display_data"
    },
    {
     "name": "stdout",
     "output_type": "stream",
     "text": [
      "epoch 97 average loss: 0.1471\n",
      "time consuming of epoch 97 is: 123.1156\n",
      "----------\n",
      "epoch 98/300\n"
     ]
    },
    {
     "data": {
      "application/vnd.jupyter.widget-view+json": {
       "model_id": "72b0e7db3c0c45e79b836bf09ec3dd42",
       "version_major": 2,
       "version_minor": 0
      },
      "text/plain": [
       "  0%|          | 0/295 [00:00<?, ?it/s]"
      ]
     },
     "metadata": {},
     "output_type": "display_data"
    },
    {
     "name": "stdout",
     "output_type": "stream",
     "text": [
      "epoch 98 average loss: 0.1512\n",
      "saved new best metric model\n",
      "current epoch: 98 current mean dice: 0.7786 wt: 0.7786\n",
      "best mean dice: 0.7786 at epoch: 98\n",
      "time consuming of epoch 98 is: 140.2597\n",
      "----------\n",
      "epoch 99/300\n"
     ]
    },
    {
     "data": {
      "application/vnd.jupyter.widget-view+json": {
       "model_id": "62e140ebaaa54d9fab403bff007e61fa",
       "version_major": 2,
       "version_minor": 0
      },
      "text/plain": [
       "  0%|          | 0/295 [00:00<?, ?it/s]"
      ]
     },
     "metadata": {},
     "output_type": "display_data"
    },
    {
     "name": "stdout",
     "output_type": "stream",
     "text": [
      "epoch 99 average loss: 0.1493\n",
      "time consuming of epoch 99 is: 123.5512\n",
      "----------\n",
      "epoch 100/300\n"
     ]
    },
    {
     "data": {
      "application/vnd.jupyter.widget-view+json": {
       "model_id": "95d2a9eaf9b7413dbdab0a62705c3e54",
       "version_major": 2,
       "version_minor": 0
      },
      "text/plain": [
       "  0%|          | 0/295 [00:00<?, ?it/s]"
      ]
     },
     "metadata": {},
     "output_type": "display_data"
    },
    {
     "name": "stdout",
     "output_type": "stream",
     "text": [
      "epoch 100 average loss: 0.1525\n",
      "current epoch: 100 current mean dice: 0.7695 wt: 0.7695\n",
      "best mean dice: 0.7786 at epoch: 98\n",
      "time consuming of epoch 100 is: 140.4083\n",
      "----------\n",
      "epoch 101/300\n"
     ]
    },
    {
     "data": {
      "application/vnd.jupyter.widget-view+json": {
       "model_id": "71ad2d2a1bda4be49641c31df10a87ac",
       "version_major": 2,
       "version_minor": 0
      },
      "text/plain": [
       "  0%|          | 0/295 [00:00<?, ?it/s]"
      ]
     },
     "metadata": {},
     "output_type": "display_data"
    },
    {
     "name": "stdout",
     "output_type": "stream",
     "text": [
      "epoch 101 average loss: 0.1476\n",
      "time consuming of epoch 101 is: 123.5899\n",
      "----------\n",
      "epoch 102/300\n"
     ]
    },
    {
     "data": {
      "application/vnd.jupyter.widget-view+json": {
       "model_id": "e2f51d2a77944e689258826407d13573",
       "version_major": 2,
       "version_minor": 0
      },
      "text/plain": [
       "  0%|          | 0/295 [00:00<?, ?it/s]"
      ]
     },
     "metadata": {},
     "output_type": "display_data"
    },
    {
     "name": "stdout",
     "output_type": "stream",
     "text": [
      "epoch 102 average loss: 0.1480\n",
      "current epoch: 102 current mean dice: 0.7722 wt: 0.7722\n",
      "best mean dice: 0.7786 at epoch: 98\n",
      "time consuming of epoch 102 is: 140.3404\n",
      "----------\n",
      "epoch 103/300\n"
     ]
    },
    {
     "data": {
      "application/vnd.jupyter.widget-view+json": {
       "model_id": "1a5e4f5f140d4dc18a7540e534a8c43d",
       "version_major": 2,
       "version_minor": 0
      },
      "text/plain": [
       "  0%|          | 0/295 [00:00<?, ?it/s]"
      ]
     },
     "metadata": {},
     "output_type": "display_data"
    },
    {
     "name": "stdout",
     "output_type": "stream",
     "text": [
      "epoch 103 average loss: 0.1492\n",
      "time consuming of epoch 103 is: 124.8008\n",
      "----------\n",
      "epoch 104/300\n"
     ]
    },
    {
     "data": {
      "application/vnd.jupyter.widget-view+json": {
       "model_id": "512331dbff9d43549f6d5af42a53337a",
       "version_major": 2,
       "version_minor": 0
      },
      "text/plain": [
       "  0%|          | 0/295 [00:00<?, ?it/s]"
      ]
     },
     "metadata": {},
     "output_type": "display_data"
    },
    {
     "name": "stdout",
     "output_type": "stream",
     "text": [
      "epoch 104 average loss: 0.1472\n",
      "saved new best metric model\n",
      "current epoch: 104 current mean dice: 0.7848 wt: 0.7848\n",
      "best mean dice: 0.7848 at epoch: 104\n",
      "time consuming of epoch 104 is: 142.0756\n",
      "----------\n",
      "epoch 105/300\n"
     ]
    },
    {
     "data": {
      "application/vnd.jupyter.widget-view+json": {
       "model_id": "01e06dbcd2d54a12a13cf1eaea750fe1",
       "version_major": 2,
       "version_minor": 0
      },
      "text/plain": [
       "  0%|          | 0/295 [00:00<?, ?it/s]"
      ]
     },
     "metadata": {},
     "output_type": "display_data"
    },
    {
     "name": "stdout",
     "output_type": "stream",
     "text": [
      "epoch 105 average loss: 0.1515\n",
      "time consuming of epoch 105 is: 124.4418\n",
      "----------\n",
      "epoch 106/300\n"
     ]
    },
    {
     "data": {
      "application/vnd.jupyter.widget-view+json": {
       "model_id": "1dc5a2326eeb4aaebc2072f028828bb6",
       "version_major": 2,
       "version_minor": 0
      },
      "text/plain": [
       "  0%|          | 0/295 [00:00<?, ?it/s]"
      ]
     },
     "metadata": {},
     "output_type": "display_data"
    },
    {
     "name": "stdout",
     "output_type": "stream",
     "text": [
      "epoch 106 average loss: 0.1453\n",
      "current epoch: 106 current mean dice: 0.7731 wt: 0.7731\n",
      "best mean dice: 0.7848 at epoch: 104\n",
      "time consuming of epoch 106 is: 141.9625\n",
      "----------\n",
      "epoch 107/300\n"
     ]
    },
    {
     "data": {
      "application/vnd.jupyter.widget-view+json": {
       "model_id": "ddbe109aa4404785a380e7fab459965d",
       "version_major": 2,
       "version_minor": 0
      },
      "text/plain": [
       "  0%|          | 0/295 [00:00<?, ?it/s]"
      ]
     },
     "metadata": {},
     "output_type": "display_data"
    },
    {
     "name": "stdout",
     "output_type": "stream",
     "text": [
      "epoch 107 average loss: 0.1483\n",
      "time consuming of epoch 107 is: 124.8493\n",
      "----------\n",
      "epoch 108/300\n"
     ]
    },
    {
     "data": {
      "application/vnd.jupyter.widget-view+json": {
       "model_id": "f47697c29db64d5eb01b6907a489eb37",
       "version_major": 2,
       "version_minor": 0
      },
      "text/plain": [
       "  0%|          | 0/295 [00:00<?, ?it/s]"
      ]
     },
     "metadata": {},
     "output_type": "display_data"
    },
    {
     "name": "stdout",
     "output_type": "stream",
     "text": [
      "epoch 108 average loss: 0.1429\n",
      "current epoch: 108 current mean dice: 0.7638 wt: 0.7638\n",
      "best mean dice: 0.7848 at epoch: 104\n",
      "time consuming of epoch 108 is: 140.8690\n",
      "----------\n",
      "epoch 109/300\n"
     ]
    },
    {
     "data": {
      "application/vnd.jupyter.widget-view+json": {
       "model_id": "c0829ac0293e4b6daacfd37b462f1572",
       "version_major": 2,
       "version_minor": 0
      },
      "text/plain": [
       "  0%|          | 0/295 [00:00<?, ?it/s]"
      ]
     },
     "metadata": {},
     "output_type": "display_data"
    },
    {
     "name": "stdout",
     "output_type": "stream",
     "text": [
      "epoch 109 average loss: 0.1411\n",
      "time consuming of epoch 109 is: 124.8237\n",
      "----------\n",
      "epoch 110/300\n"
     ]
    },
    {
     "data": {
      "application/vnd.jupyter.widget-view+json": {
       "model_id": "d6c007e9f81644c3b7f66df092f0a6e2",
       "version_major": 2,
       "version_minor": 0
      },
      "text/plain": [
       "  0%|          | 0/295 [00:00<?, ?it/s]"
      ]
     },
     "metadata": {},
     "output_type": "display_data"
    },
    {
     "name": "stdout",
     "output_type": "stream",
     "text": [
      "epoch 110 average loss: 0.1440\n",
      "current epoch: 110 current mean dice: 0.7486 wt: 0.7486\n",
      "best mean dice: 0.7848 at epoch: 104\n",
      "time consuming of epoch 110 is: 140.9696\n",
      "----------\n",
      "epoch 111/300\n"
     ]
    },
    {
     "data": {
      "application/vnd.jupyter.widget-view+json": {
       "model_id": "4a323429311f47b3a80e6d17f0082e20",
       "version_major": 2,
       "version_minor": 0
      },
      "text/plain": [
       "  0%|          | 0/295 [00:00<?, ?it/s]"
      ]
     },
     "metadata": {},
     "output_type": "display_data"
    },
    {
     "name": "stdout",
     "output_type": "stream",
     "text": [
      "epoch 111 average loss: 0.1444\n",
      "time consuming of epoch 111 is: 124.4799\n",
      "----------\n",
      "epoch 112/300\n"
     ]
    },
    {
     "data": {
      "application/vnd.jupyter.widget-view+json": {
       "model_id": "65f74aa35b90479cadc975f1dab2077c",
       "version_major": 2,
       "version_minor": 0
      },
      "text/plain": [
       "  0%|          | 0/295 [00:00<?, ?it/s]"
      ]
     },
     "metadata": {},
     "output_type": "display_data"
    },
    {
     "name": "stdout",
     "output_type": "stream",
     "text": [
      "epoch 112 average loss: 0.1430\n",
      "current epoch: 112 current mean dice: 0.7820 wt: 0.7820\n",
      "best mean dice: 0.7848 at epoch: 104\n",
      "time consuming of epoch 112 is: 141.7281\n",
      "----------\n",
      "epoch 113/300\n"
     ]
    },
    {
     "data": {
      "application/vnd.jupyter.widget-view+json": {
       "model_id": "e483fdaec3e4405abcce335c4864e4a8",
       "version_major": 2,
       "version_minor": 0
      },
      "text/plain": [
       "  0%|          | 0/295 [00:00<?, ?it/s]"
      ]
     },
     "metadata": {},
     "output_type": "display_data"
    },
    {
     "name": "stdout",
     "output_type": "stream",
     "text": [
      "epoch 113 average loss: 0.1473\n",
      "time consuming of epoch 113 is: 124.2846\n",
      "----------\n",
      "epoch 114/300\n"
     ]
    },
    {
     "data": {
      "application/vnd.jupyter.widget-view+json": {
       "model_id": "d6ef22e9343944a08694dcc2489e3a2a",
       "version_major": 2,
       "version_minor": 0
      },
      "text/plain": [
       "  0%|          | 0/295 [00:00<?, ?it/s]"
      ]
     },
     "metadata": {},
     "output_type": "display_data"
    },
    {
     "name": "stdout",
     "output_type": "stream",
     "text": [
      "epoch 114 average loss: 0.1442\n",
      "current epoch: 114 current mean dice: 0.7773 wt: 0.7773\n",
      "best mean dice: 0.7848 at epoch: 104\n",
      "time consuming of epoch 114 is: 141.3210\n",
      "----------\n",
      "epoch 115/300\n"
     ]
    },
    {
     "data": {
      "application/vnd.jupyter.widget-view+json": {
       "model_id": "be82d541bfa6417887c0e9e6a3a8627e",
       "version_major": 2,
       "version_minor": 0
      },
      "text/plain": [
       "  0%|          | 0/295 [00:00<?, ?it/s]"
      ]
     },
     "metadata": {},
     "output_type": "display_data"
    },
    {
     "name": "stdout",
     "output_type": "stream",
     "text": [
      "epoch 115 average loss: 0.1462\n",
      "time consuming of epoch 115 is: 124.4514\n",
      "----------\n",
      "epoch 116/300\n"
     ]
    },
    {
     "data": {
      "application/vnd.jupyter.widget-view+json": {
       "model_id": "36921673ab2446cdb314c7af96fb14c1",
       "version_major": 2,
       "version_minor": 0
      },
      "text/plain": [
       "  0%|          | 0/295 [00:00<?, ?it/s]"
      ]
     },
     "metadata": {},
     "output_type": "display_data"
    },
    {
     "name": "stdout",
     "output_type": "stream",
     "text": [
      "epoch 116 average loss: 0.1489\n",
      "current epoch: 116 current mean dice: 0.7802 wt: 0.7802\n",
      "best mean dice: 0.7848 at epoch: 104\n",
      "time consuming of epoch 116 is: 141.2493\n",
      "----------\n",
      "epoch 117/300\n"
     ]
    },
    {
     "data": {
      "application/vnd.jupyter.widget-view+json": {
       "model_id": "f70f2f215fe94940accc4ea5fd9ee89b",
       "version_major": 2,
       "version_minor": 0
      },
      "text/plain": [
       "  0%|          | 0/295 [00:00<?, ?it/s]"
      ]
     },
     "metadata": {},
     "output_type": "display_data"
    },
    {
     "name": "stdout",
     "output_type": "stream",
     "text": [
      "epoch 117 average loss: 0.1501\n",
      "time consuming of epoch 117 is: 124.7313\n",
      "----------\n",
      "epoch 118/300\n"
     ]
    },
    {
     "data": {
      "application/vnd.jupyter.widget-view+json": {
       "model_id": "aa3f109b0ebd403d961de7c7680de48c",
       "version_major": 2,
       "version_minor": 0
      },
      "text/plain": [
       "  0%|          | 0/295 [00:00<?, ?it/s]"
      ]
     },
     "metadata": {},
     "output_type": "display_data"
    },
    {
     "name": "stdout",
     "output_type": "stream",
     "text": [
      "epoch 118 average loss: 0.1434\n",
      "current epoch: 118 current mean dice: 0.7794 wt: 0.7794\n",
      "best mean dice: 0.7848 at epoch: 104\n",
      "time consuming of epoch 118 is: 141.7283\n",
      "----------\n",
      "epoch 119/300\n"
     ]
    },
    {
     "data": {
      "application/vnd.jupyter.widget-view+json": {
       "model_id": "e4099d7cbb2240d0a19b818c13539e4e",
       "version_major": 2,
       "version_minor": 0
      },
      "text/plain": [
       "  0%|          | 0/295 [00:00<?, ?it/s]"
      ]
     },
     "metadata": {},
     "output_type": "display_data"
    },
    {
     "name": "stdout",
     "output_type": "stream",
     "text": [
      "epoch 119 average loss: 0.1399\n",
      "time consuming of epoch 119 is: 124.6943\n",
      "----------\n",
      "epoch 120/300\n"
     ]
    },
    {
     "data": {
      "application/vnd.jupyter.widget-view+json": {
       "model_id": "648f66472cd045e4ba16f0302b201428",
       "version_major": 2,
       "version_minor": 0
      },
      "text/plain": [
       "  0%|          | 0/295 [00:00<?, ?it/s]"
      ]
     },
     "metadata": {},
     "output_type": "display_data"
    },
    {
     "name": "stdout",
     "output_type": "stream",
     "text": [
      "epoch 120 average loss: 0.1433\n",
      "saved new best metric model\n",
      "current epoch: 120 current mean dice: 0.7858 wt: 0.7858\n",
      "best mean dice: 0.7858 at epoch: 120\n",
      "time consuming of epoch 120 is: 141.8592\n",
      "----------\n",
      "epoch 121/300\n"
     ]
    },
    {
     "data": {
      "application/vnd.jupyter.widget-view+json": {
       "model_id": "55b5b051ab6c426d9b7bd80424eb6938",
       "version_major": 2,
       "version_minor": 0
      },
      "text/plain": [
       "  0%|          | 0/295 [00:00<?, ?it/s]"
      ]
     },
     "metadata": {},
     "output_type": "display_data"
    },
    {
     "name": "stdout",
     "output_type": "stream",
     "text": [
      "epoch 121 average loss: 0.1406\n",
      "time consuming of epoch 121 is: 124.3172\n",
      "----------\n",
      "epoch 122/300\n"
     ]
    },
    {
     "data": {
      "application/vnd.jupyter.widget-view+json": {
       "model_id": "fea822c5ba5a45a38de5fe87191ab091",
       "version_major": 2,
       "version_minor": 0
      },
      "text/plain": [
       "  0%|          | 0/295 [00:00<?, ?it/s]"
      ]
     },
     "metadata": {},
     "output_type": "display_data"
    },
    {
     "name": "stdout",
     "output_type": "stream",
     "text": [
      "epoch 122 average loss: 0.1419\n",
      "current epoch: 122 current mean dice: 0.7805 wt: 0.7805\n",
      "best mean dice: 0.7858 at epoch: 120\n",
      "time consuming of epoch 122 is: 141.4738\n",
      "----------\n",
      "epoch 123/300\n"
     ]
    },
    {
     "data": {
      "application/vnd.jupyter.widget-view+json": {
       "model_id": "6459161a781043e5b807be0d558564c1",
       "version_major": 2,
       "version_minor": 0
      },
      "text/plain": [
       "  0%|          | 0/295 [00:00<?, ?it/s]"
      ]
     },
     "metadata": {},
     "output_type": "display_data"
    },
    {
     "name": "stdout",
     "output_type": "stream",
     "text": [
      "epoch 123 average loss: 0.1421\n",
      "time consuming of epoch 123 is: 124.8209\n",
      "----------\n",
      "epoch 124/300\n"
     ]
    },
    {
     "data": {
      "application/vnd.jupyter.widget-view+json": {
       "model_id": "29a40b6c764e4f52a13d99236be96ded",
       "version_major": 2,
       "version_minor": 0
      },
      "text/plain": [
       "  0%|          | 0/295 [00:00<?, ?it/s]"
      ]
     },
     "metadata": {},
     "output_type": "display_data"
    },
    {
     "name": "stdout",
     "output_type": "stream",
     "text": [
      "epoch 124 average loss: 0.1364\n",
      "current epoch: 124 current mean dice: 0.7718 wt: 0.7718\n",
      "best mean dice: 0.7858 at epoch: 120\n",
      "time consuming of epoch 124 is: 140.9654\n",
      "----------\n",
      "epoch 125/300\n"
     ]
    },
    {
     "data": {
      "application/vnd.jupyter.widget-view+json": {
       "model_id": "978ef5ec6ea04dc8bc9eba0adc2f829c",
       "version_major": 2,
       "version_minor": 0
      },
      "text/plain": [
       "  0%|          | 0/295 [00:00<?, ?it/s]"
      ]
     },
     "metadata": {},
     "output_type": "display_data"
    },
    {
     "name": "stdout",
     "output_type": "stream",
     "text": [
      "epoch 125 average loss: 0.1374\n",
      "time consuming of epoch 125 is: 124.2156\n",
      "----------\n",
      "epoch 126/300\n"
     ]
    },
    {
     "data": {
      "application/vnd.jupyter.widget-view+json": {
       "model_id": "12f67b8255504dd09e150f42e78182d0",
       "version_major": 2,
       "version_minor": 0
      },
      "text/plain": [
       "  0%|          | 0/295 [00:00<?, ?it/s]"
      ]
     },
     "metadata": {},
     "output_type": "display_data"
    },
    {
     "name": "stdout",
     "output_type": "stream",
     "text": [
      "epoch 126 average loss: 0.1449\n",
      "current epoch: 126 current mean dice: 0.7655 wt: 0.7655\n",
      "best mean dice: 0.7858 at epoch: 120\n",
      "time consuming of epoch 126 is: 141.1978\n",
      "----------\n",
      "epoch 127/300\n"
     ]
    },
    {
     "data": {
      "application/vnd.jupyter.widget-view+json": {
       "model_id": "42af2d29812646509124e310bf6c41f2",
       "version_major": 2,
       "version_minor": 0
      },
      "text/plain": [
       "  0%|          | 0/295 [00:00<?, ?it/s]"
      ]
     },
     "metadata": {},
     "output_type": "display_data"
    },
    {
     "name": "stdout",
     "output_type": "stream",
     "text": [
      "epoch 127 average loss: 0.1375\n",
      "time consuming of epoch 127 is: 124.0519\n",
      "----------\n",
      "epoch 128/300\n"
     ]
    },
    {
     "data": {
      "application/vnd.jupyter.widget-view+json": {
       "model_id": "5a6ce7ba75924d1288fa879d84b5798b",
       "version_major": 2,
       "version_minor": 0
      },
      "text/plain": [
       "  0%|          | 0/295 [00:00<?, ?it/s]"
      ]
     },
     "metadata": {},
     "output_type": "display_data"
    },
    {
     "name": "stdout",
     "output_type": "stream",
     "text": [
      "epoch 128 average loss: 0.1391\n",
      "saved new best metric model\n",
      "current epoch: 128 current mean dice: 0.7899 wt: 0.7899\n",
      "best mean dice: 0.7899 at epoch: 128\n",
      "time consuming of epoch 128 is: 141.1524\n",
      "----------\n",
      "epoch 129/300\n"
     ]
    },
    {
     "data": {
      "application/vnd.jupyter.widget-view+json": {
       "model_id": "4bea73b015694e43b51c11c21432f2c7",
       "version_major": 2,
       "version_minor": 0
      },
      "text/plain": [
       "  0%|          | 0/295 [00:00<?, ?it/s]"
      ]
     },
     "metadata": {},
     "output_type": "display_data"
    },
    {
     "name": "stdout",
     "output_type": "stream",
     "text": [
      "epoch 129 average loss: 0.1379\n",
      "time consuming of epoch 129 is: 124.7236\n",
      "----------\n",
      "epoch 130/300\n"
     ]
    },
    {
     "data": {
      "application/vnd.jupyter.widget-view+json": {
       "model_id": "b02095a5522b4647818a9b5cc2744d6c",
       "version_major": 2,
       "version_minor": 0
      },
      "text/plain": [
       "  0%|          | 0/295 [00:00<?, ?it/s]"
      ]
     },
     "metadata": {},
     "output_type": "display_data"
    },
    {
     "name": "stdout",
     "output_type": "stream",
     "text": [
      "epoch 130 average loss: 0.1363\n",
      "current epoch: 130 current mean dice: 0.7661 wt: 0.7661\n",
      "best mean dice: 0.7899 at epoch: 128\n",
      "time consuming of epoch 130 is: 141.8399\n",
      "----------\n",
      "epoch 131/300\n"
     ]
    },
    {
     "data": {
      "application/vnd.jupyter.widget-view+json": {
       "model_id": "03e2287aa5fa4f308459a34df01a6ca5",
       "version_major": 2,
       "version_minor": 0
      },
      "text/plain": [
       "  0%|          | 0/295 [00:00<?, ?it/s]"
      ]
     },
     "metadata": {},
     "output_type": "display_data"
    },
    {
     "name": "stdout",
     "output_type": "stream",
     "text": [
      "epoch 131 average loss: 0.1359\n",
      "time consuming of epoch 131 is: 124.7691\n",
      "----------\n",
      "epoch 132/300\n"
     ]
    },
    {
     "data": {
      "application/vnd.jupyter.widget-view+json": {
       "model_id": "852916e3e28540d3aac54181ddff214c",
       "version_major": 2,
       "version_minor": 0
      },
      "text/plain": [
       "  0%|          | 0/295 [00:00<?, ?it/s]"
      ]
     },
     "metadata": {},
     "output_type": "display_data"
    },
    {
     "name": "stdout",
     "output_type": "stream",
     "text": [
      "epoch 132 average loss: 0.1354\n",
      "current epoch: 132 current mean dice: 0.7893 wt: 0.7893\n",
      "best mean dice: 0.7899 at epoch: 128\n",
      "time consuming of epoch 132 is: 141.2807\n",
      "----------\n",
      "epoch 133/300\n"
     ]
    },
    {
     "data": {
      "application/vnd.jupyter.widget-view+json": {
       "model_id": "97b71563797e44019cf40717df593d15",
       "version_major": 2,
       "version_minor": 0
      },
      "text/plain": [
       "  0%|          | 0/295 [00:00<?, ?it/s]"
      ]
     },
     "metadata": {},
     "output_type": "display_data"
    },
    {
     "name": "stdout",
     "output_type": "stream",
     "text": [
      "epoch 133 average loss: 0.1366\n",
      "time consuming of epoch 133 is: 124.7635\n",
      "----------\n",
      "epoch 134/300\n"
     ]
    },
    {
     "data": {
      "application/vnd.jupyter.widget-view+json": {
       "model_id": "890ce59ca8dc4d9d9493257d747d523a",
       "version_major": 2,
       "version_minor": 0
      },
      "text/plain": [
       "  0%|          | 0/295 [00:00<?, ?it/s]"
      ]
     },
     "metadata": {},
     "output_type": "display_data"
    },
    {
     "name": "stdout",
     "output_type": "stream",
     "text": [
      "epoch 134 average loss: 0.1356\n",
      "current epoch: 134 current mean dice: 0.7686 wt: 0.7686\n",
      "best mean dice: 0.7899 at epoch: 128\n",
      "time consuming of epoch 134 is: 141.4702\n",
      "----------\n",
      "epoch 135/300\n"
     ]
    },
    {
     "data": {
      "application/vnd.jupyter.widget-view+json": {
       "model_id": "22bf34875de14bfa899e50f7c70a3ad6",
       "version_major": 2,
       "version_minor": 0
      },
      "text/plain": [
       "  0%|          | 0/295 [00:00<?, ?it/s]"
      ]
     },
     "metadata": {},
     "output_type": "display_data"
    },
    {
     "name": "stdout",
     "output_type": "stream",
     "text": [
      "epoch 135 average loss: 0.1353\n",
      "time consuming of epoch 135 is: 124.1023\n",
      "----------\n",
      "epoch 136/300\n"
     ]
    },
    {
     "data": {
      "application/vnd.jupyter.widget-view+json": {
       "model_id": "8abb2c4641964dda81755e1fee325444",
       "version_major": 2,
       "version_minor": 0
      },
      "text/plain": [
       "  0%|          | 0/295 [00:00<?, ?it/s]"
      ]
     },
     "metadata": {},
     "output_type": "display_data"
    },
    {
     "name": "stdout",
     "output_type": "stream",
     "text": [
      "epoch 136 average loss: 0.1331\n",
      "current epoch: 136 current mean dice: 0.7516 wt: 0.7516\n",
      "best mean dice: 0.7899 at epoch: 128\n",
      "time consuming of epoch 136 is: 141.0746\n",
      "----------\n",
      "epoch 137/300\n"
     ]
    },
    {
     "data": {
      "application/vnd.jupyter.widget-view+json": {
       "model_id": "41f675bc275e41c18d337b309647bfcc",
       "version_major": 2,
       "version_minor": 0
      },
      "text/plain": [
       "  0%|          | 0/295 [00:00<?, ?it/s]"
      ]
     },
     "metadata": {},
     "output_type": "display_data"
    },
    {
     "name": "stdout",
     "output_type": "stream",
     "text": [
      "epoch 137 average loss: 0.1347\n",
      "time consuming of epoch 137 is: 124.8259\n",
      "----------\n",
      "epoch 138/300\n"
     ]
    },
    {
     "data": {
      "application/vnd.jupyter.widget-view+json": {
       "model_id": "123692859a4d410f83ed605d33cffad1",
       "version_major": 2,
       "version_minor": 0
      },
      "text/plain": [
       "  0%|          | 0/295 [00:00<?, ?it/s]"
      ]
     },
     "metadata": {},
     "output_type": "display_data"
    },
    {
     "name": "stdout",
     "output_type": "stream",
     "text": [
      "epoch 138 average loss: 0.1340\n",
      "current epoch: 138 current mean dice: 0.7576 wt: 0.7576\n",
      "best mean dice: 0.7899 at epoch: 128\n",
      "time consuming of epoch 138 is: 141.9119\n",
      "----------\n",
      "epoch 139/300\n"
     ]
    },
    {
     "data": {
      "application/vnd.jupyter.widget-view+json": {
       "model_id": "de380e60e1ba437dad78b1dc39c94bc9",
       "version_major": 2,
       "version_minor": 0
      },
      "text/plain": [
       "  0%|          | 0/295 [00:00<?, ?it/s]"
      ]
     },
     "metadata": {},
     "output_type": "display_data"
    },
    {
     "name": "stdout",
     "output_type": "stream",
     "text": [
      "epoch 139 average loss: 0.1398\n",
      "time consuming of epoch 139 is: 124.6236\n",
      "----------\n",
      "epoch 140/300\n"
     ]
    },
    {
     "data": {
      "application/vnd.jupyter.widget-view+json": {
       "model_id": "7a5c576cbe444634915b59142afb4aec",
       "version_major": 2,
       "version_minor": 0
      },
      "text/plain": [
       "  0%|          | 0/295 [00:00<?, ?it/s]"
      ]
     },
     "metadata": {},
     "output_type": "display_data"
    },
    {
     "name": "stdout",
     "output_type": "stream",
     "text": [
      "epoch 140 average loss: 0.1339\n",
      "current epoch: 140 current mean dice: 0.7722 wt: 0.7722\n",
      "best mean dice: 0.7899 at epoch: 128\n",
      "time consuming of epoch 140 is: 141.7263\n",
      "----------\n",
      "epoch 141/300\n"
     ]
    },
    {
     "data": {
      "application/vnd.jupyter.widget-view+json": {
       "model_id": "8ff374d7a0b846ec84a98d4af3f1996d",
       "version_major": 2,
       "version_minor": 0
      },
      "text/plain": [
       "  0%|          | 0/295 [00:00<?, ?it/s]"
      ]
     },
     "metadata": {},
     "output_type": "display_data"
    },
    {
     "name": "stdout",
     "output_type": "stream",
     "text": [
      "epoch 141 average loss: 0.1332\n",
      "time consuming of epoch 141 is: 124.5709\n",
      "----------\n",
      "epoch 142/300\n"
     ]
    },
    {
     "data": {
      "application/vnd.jupyter.widget-view+json": {
       "model_id": "22e53059da004dc3a688a63c8947098b",
       "version_major": 2,
       "version_minor": 0
      },
      "text/plain": [
       "  0%|          | 0/295 [00:00<?, ?it/s]"
      ]
     },
     "metadata": {},
     "output_type": "display_data"
    },
    {
     "name": "stdout",
     "output_type": "stream",
     "text": [
      "epoch 142 average loss: 0.1320\n",
      "current epoch: 142 current mean dice: 0.7708 wt: 0.7708\n",
      "best mean dice: 0.7899 at epoch: 128\n",
      "time consuming of epoch 142 is: 141.4775\n",
      "----------\n",
      "epoch 143/300\n"
     ]
    },
    {
     "data": {
      "application/vnd.jupyter.widget-view+json": {
       "model_id": "65b3037623b146acbcc4c20e124a20de",
       "version_major": 2,
       "version_minor": 0
      },
      "text/plain": [
       "  0%|          | 0/295 [00:00<?, ?it/s]"
      ]
     },
     "metadata": {},
     "output_type": "display_data"
    },
    {
     "name": "stdout",
     "output_type": "stream",
     "text": [
      "epoch 143 average loss: 0.1318\n",
      "time consuming of epoch 143 is: 124.7221\n",
      "----------\n",
      "epoch 144/300\n"
     ]
    },
    {
     "data": {
      "application/vnd.jupyter.widget-view+json": {
       "model_id": "656a853b1c744db59b67f926f5682769",
       "version_major": 2,
       "version_minor": 0
      },
      "text/plain": [
       "  0%|          | 0/295 [00:00<?, ?it/s]"
      ]
     },
     "metadata": {},
     "output_type": "display_data"
    },
    {
     "name": "stdout",
     "output_type": "stream",
     "text": [
      "epoch 144 average loss: 0.1326\n",
      "current epoch: 144 current mean dice: 0.7593 wt: 0.7593\n",
      "best mean dice: 0.7899 at epoch: 128\n",
      "time consuming of epoch 144 is: 141.7049\n",
      "----------\n",
      "epoch 145/300\n"
     ]
    },
    {
     "data": {
      "application/vnd.jupyter.widget-view+json": {
       "model_id": "a90d97486d8a4c1dba40b01d3bb3ce16",
       "version_major": 2,
       "version_minor": 0
      },
      "text/plain": [
       "  0%|          | 0/295 [00:00<?, ?it/s]"
      ]
     },
     "metadata": {},
     "output_type": "display_data"
    },
    {
     "name": "stdout",
     "output_type": "stream",
     "text": [
      "epoch 145 average loss: 0.1312\n",
      "time consuming of epoch 145 is: 124.2025\n",
      "----------\n",
      "epoch 146/300\n"
     ]
    },
    {
     "data": {
      "application/vnd.jupyter.widget-view+json": {
       "model_id": "817a98f532e74d45b4294bb682b93ae5",
       "version_major": 2,
       "version_minor": 0
      },
      "text/plain": [
       "  0%|          | 0/295 [00:00<?, ?it/s]"
      ]
     },
     "metadata": {},
     "output_type": "display_data"
    },
    {
     "name": "stdout",
     "output_type": "stream",
     "text": [
      "epoch 146 average loss: 0.1321\n",
      "current epoch: 146 current mean dice: 0.7641 wt: 0.7641\n",
      "best mean dice: 0.7899 at epoch: 128\n",
      "time consuming of epoch 146 is: 141.2857\n",
      "----------\n",
      "epoch 147/300\n"
     ]
    },
    {
     "data": {
      "application/vnd.jupyter.widget-view+json": {
       "model_id": "ea531828695f4b50b859d73bdbadaf80",
       "version_major": 2,
       "version_minor": 0
      },
      "text/plain": [
       "  0%|          | 0/295 [00:00<?, ?it/s]"
      ]
     },
     "metadata": {},
     "output_type": "display_data"
    },
    {
     "name": "stdout",
     "output_type": "stream",
     "text": [
      "epoch 147 average loss: 0.1321\n",
      "time consuming of epoch 147 is: 124.5573\n",
      "----------\n",
      "epoch 148/300\n"
     ]
    },
    {
     "data": {
      "application/vnd.jupyter.widget-view+json": {
       "model_id": "28e6639fc93745ee901d08079d2ea4d4",
       "version_major": 2,
       "version_minor": 0
      },
      "text/plain": [
       "  0%|          | 0/295 [00:00<?, ?it/s]"
      ]
     },
     "metadata": {},
     "output_type": "display_data"
    },
    {
     "name": "stdout",
     "output_type": "stream",
     "text": [
      "epoch 148 average loss: 0.1294\n",
      "current epoch: 148 current mean dice: 0.7705 wt: 0.7705\n",
      "best mean dice: 0.7899 at epoch: 128\n",
      "time consuming of epoch 148 is: 141.0536\n",
      "----------\n",
      "epoch 149/300\n"
     ]
    },
    {
     "data": {
      "application/vnd.jupyter.widget-view+json": {
       "model_id": "18b93bc7f2104f33b4a45d7175e8c12c",
       "version_major": 2,
       "version_minor": 0
      },
      "text/plain": [
       "  0%|          | 0/295 [00:00<?, ?it/s]"
      ]
     },
     "metadata": {},
     "output_type": "display_data"
    },
    {
     "name": "stdout",
     "output_type": "stream",
     "text": [
      "epoch 149 average loss: 0.1301\n",
      "time consuming of epoch 149 is: 124.2067\n",
      "----------\n",
      "epoch 150/300\n"
     ]
    },
    {
     "data": {
      "application/vnd.jupyter.widget-view+json": {
       "model_id": "999e0703099b481bab10b7c7911a9d91",
       "version_major": 2,
       "version_minor": 0
      },
      "text/plain": [
       "  0%|          | 0/295 [00:00<?, ?it/s]"
      ]
     },
     "metadata": {},
     "output_type": "display_data"
    },
    {
     "name": "stdout",
     "output_type": "stream",
     "text": [
      "epoch 150 average loss: 0.1293\n",
      "current epoch: 150 current mean dice: 0.7684 wt: 0.7684\n",
      "best mean dice: 0.7899 at epoch: 128\n",
      "time consuming of epoch 150 is: 141.4191\n",
      "----------\n",
      "epoch 151/300\n"
     ]
    },
    {
     "data": {
      "application/vnd.jupyter.widget-view+json": {
       "model_id": "0abd933798b5442aadbc2645a3e40154",
       "version_major": 2,
       "version_minor": 0
      },
      "text/plain": [
       "  0%|          | 0/295 [00:00<?, ?it/s]"
      ]
     },
     "metadata": {},
     "output_type": "display_data"
    },
    {
     "name": "stdout",
     "output_type": "stream",
     "text": [
      "epoch 151 average loss: 0.1311\n",
      "time consuming of epoch 151 is: 124.3320\n",
      "----------\n",
      "epoch 152/300\n"
     ]
    },
    {
     "data": {
      "application/vnd.jupyter.widget-view+json": {
       "model_id": "84a4779b355e4b77bfd3228322f936b0",
       "version_major": 2,
       "version_minor": 0
      },
      "text/plain": [
       "  0%|          | 0/295 [00:00<?, ?it/s]"
      ]
     },
     "metadata": {},
     "output_type": "display_data"
    },
    {
     "name": "stdout",
     "output_type": "stream",
     "text": [
      "epoch 152 average loss: 0.1294\n",
      "current epoch: 152 current mean dice: 0.7848 wt: 0.7848\n",
      "best mean dice: 0.7899 at epoch: 128\n",
      "time consuming of epoch 152 is: 141.5319\n",
      "----------\n",
      "epoch 153/300\n"
     ]
    },
    {
     "data": {
      "application/vnd.jupyter.widget-view+json": {
       "model_id": "d261b9890f75461d8b8aee0d94e13b66",
       "version_major": 2,
       "version_minor": 0
      },
      "text/plain": [
       "  0%|          | 0/295 [00:00<?, ?it/s]"
      ]
     },
     "metadata": {},
     "output_type": "display_data"
    },
    {
     "name": "stdout",
     "output_type": "stream",
     "text": [
      "epoch 153 average loss: 0.1282\n",
      "time consuming of epoch 153 is: 124.8780\n",
      "----------\n",
      "epoch 154/300\n"
     ]
    },
    {
     "data": {
      "application/vnd.jupyter.widget-view+json": {
       "model_id": "15f70d4ccb6a487c8bb81fac8f853c21",
       "version_major": 2,
       "version_minor": 0
      },
      "text/plain": [
       "  0%|          | 0/295 [00:00<?, ?it/s]"
      ]
     },
     "metadata": {},
     "output_type": "display_data"
    },
    {
     "name": "stdout",
     "output_type": "stream",
     "text": [
      "epoch 154 average loss: 0.1337\n",
      "current epoch: 154 current mean dice: 0.7686 wt: 0.7686\n",
      "best mean dice: 0.7899 at epoch: 128\n",
      "time consuming of epoch 154 is: 141.4809\n",
      "----------\n",
      "epoch 155/300\n"
     ]
    },
    {
     "data": {
      "application/vnd.jupyter.widget-view+json": {
       "model_id": "f3de6aba44c049b4a034894c7d263b68",
       "version_major": 2,
       "version_minor": 0
      },
      "text/plain": [
       "  0%|          | 0/295 [00:00<?, ?it/s]"
      ]
     },
     "metadata": {},
     "output_type": "display_data"
    },
    {
     "name": "stdout",
     "output_type": "stream",
     "text": [
      "epoch 155 average loss: 0.1286\n",
      "time consuming of epoch 155 is: 124.6079\n",
      "----------\n",
      "epoch 156/300\n"
     ]
    },
    {
     "data": {
      "application/vnd.jupyter.widget-view+json": {
       "model_id": "f3157596050d494c942c640603acada9",
       "version_major": 2,
       "version_minor": 0
      },
      "text/plain": [
       "  0%|          | 0/295 [00:00<?, ?it/s]"
      ]
     },
     "metadata": {},
     "output_type": "display_data"
    },
    {
     "name": "stdout",
     "output_type": "stream",
     "text": [
      "epoch 156 average loss: 0.1280\n",
      "current epoch: 156 current mean dice: 0.7692 wt: 0.7692\n",
      "best mean dice: 0.7899 at epoch: 128\n",
      "time consuming of epoch 156 is: 141.6915\n",
      "----------\n",
      "epoch 157/300\n"
     ]
    },
    {
     "data": {
      "application/vnd.jupyter.widget-view+json": {
       "model_id": "fbb9e8478c2445a5af06b7a23a2ae486",
       "version_major": 2,
       "version_minor": 0
      },
      "text/plain": [
       "  0%|          | 0/295 [00:00<?, ?it/s]"
      ]
     },
     "metadata": {},
     "output_type": "display_data"
    },
    {
     "name": "stdout",
     "output_type": "stream",
     "text": [
      "epoch 157 average loss: 0.1264\n",
      "time consuming of epoch 157 is: 124.6839\n",
      "----------\n",
      "epoch 158/300\n"
     ]
    },
    {
     "data": {
      "application/vnd.jupyter.widget-view+json": {
       "model_id": "a92929cc296c4284aba0dda34966f267",
       "version_major": 2,
       "version_minor": 0
      },
      "text/plain": [
       "  0%|          | 0/295 [00:00<?, ?it/s]"
      ]
     },
     "metadata": {},
     "output_type": "display_data"
    },
    {
     "name": "stdout",
     "output_type": "stream",
     "text": [
      "epoch 158 average loss: 0.1265\n",
      "current epoch: 158 current mean dice: 0.7528 wt: 0.7528\n",
      "best mean dice: 0.7899 at epoch: 128\n",
      "time consuming of epoch 158 is: 141.7588\n",
      "----------\n",
      "epoch 159/300\n"
     ]
    },
    {
     "data": {
      "application/vnd.jupyter.widget-view+json": {
       "model_id": "924cfd29b58f42ccb5fff710cc86a509",
       "version_major": 2,
       "version_minor": 0
      },
      "text/plain": [
       "  0%|          | 0/295 [00:00<?, ?it/s]"
      ]
     },
     "metadata": {},
     "output_type": "display_data"
    },
    {
     "name": "stdout",
     "output_type": "stream",
     "text": [
      "epoch 159 average loss: 0.1267\n",
      "time consuming of epoch 159 is: 124.5272\n",
      "----------\n",
      "epoch 160/300\n"
     ]
    },
    {
     "data": {
      "application/vnd.jupyter.widget-view+json": {
       "model_id": "1b2ab8fb136a4d1089063bee757e192e",
       "version_major": 2,
       "version_minor": 0
      },
      "text/plain": [
       "  0%|          | 0/295 [00:00<?, ?it/s]"
      ]
     },
     "metadata": {},
     "output_type": "display_data"
    },
    {
     "name": "stdout",
     "output_type": "stream",
     "text": [
      "epoch 160 average loss: 0.1277\n",
      "current epoch: 160 current mean dice: 0.7886 wt: 0.7886\n",
      "best mean dice: 0.7899 at epoch: 128\n",
      "time consuming of epoch 160 is: 141.1977\n",
      "----------\n",
      "epoch 161/300\n"
     ]
    },
    {
     "data": {
      "application/vnd.jupyter.widget-view+json": {
       "model_id": "863eb0df76cd4bd4b3802151f8cedf54",
       "version_major": 2,
       "version_minor": 0
      },
      "text/plain": [
       "  0%|          | 0/295 [00:00<?, ?it/s]"
      ]
     },
     "metadata": {},
     "output_type": "display_data"
    },
    {
     "name": "stdout",
     "output_type": "stream",
     "text": [
      "epoch 161 average loss: 0.1245\n",
      "time consuming of epoch 161 is: 124.3662\n",
      "----------\n",
      "epoch 162/300\n"
     ]
    },
    {
     "data": {
      "application/vnd.jupyter.widget-view+json": {
       "model_id": "b21a3b74c27e4c369c6a01582da8b6ab",
       "version_major": 2,
       "version_minor": 0
      },
      "text/plain": [
       "  0%|          | 0/295 [00:00<?, ?it/s]"
      ]
     },
     "metadata": {},
     "output_type": "display_data"
    },
    {
     "name": "stdout",
     "output_type": "stream",
     "text": [
      "epoch 162 average loss: 0.1271\n",
      "current epoch: 162 current mean dice: 0.7713 wt: 0.7713\n",
      "best mean dice: 0.7899 at epoch: 128\n",
      "time consuming of epoch 162 is: 141.0264\n",
      "----------\n",
      "epoch 163/300\n"
     ]
    },
    {
     "data": {
      "application/vnd.jupyter.widget-view+json": {
       "model_id": "f0d94582372e44e8a5ba19d789b077ab",
       "version_major": 2,
       "version_minor": 0
      },
      "text/plain": [
       "  0%|          | 0/295 [00:00<?, ?it/s]"
      ]
     },
     "metadata": {},
     "output_type": "display_data"
    },
    {
     "name": "stdout",
     "output_type": "stream",
     "text": [
      "epoch 163 average loss: 0.1270\n",
      "time consuming of epoch 163 is: 124.3909\n",
      "----------\n",
      "epoch 164/300\n"
     ]
    },
    {
     "data": {
      "application/vnd.jupyter.widget-view+json": {
       "model_id": "20051f1a509c401d93e8c15f32bcad15",
       "version_major": 2,
       "version_minor": 0
      },
      "text/plain": [
       "  0%|          | 0/295 [00:00<?, ?it/s]"
      ]
     },
     "metadata": {},
     "output_type": "display_data"
    },
    {
     "name": "stdout",
     "output_type": "stream",
     "text": [
      "epoch 164 average loss: 0.1255\n",
      "current epoch: 164 current mean dice: 0.7834 wt: 0.7834\n",
      "best mean dice: 0.7899 at epoch: 128\n",
      "time consuming of epoch 164 is: 141.2368\n",
      "----------\n",
      "epoch 165/300\n"
     ]
    },
    {
     "data": {
      "application/vnd.jupyter.widget-view+json": {
       "model_id": "8bfd084cc194438d94dcded1724244bf",
       "version_major": 2,
       "version_minor": 0
      },
      "text/plain": [
       "  0%|          | 0/295 [00:00<?, ?it/s]"
      ]
     },
     "metadata": {},
     "output_type": "display_data"
    },
    {
     "name": "stdout",
     "output_type": "stream",
     "text": [
      "epoch 165 average loss: 0.1252\n",
      "time consuming of epoch 165 is: 124.2659\n",
      "----------\n",
      "epoch 166/300\n"
     ]
    },
    {
     "data": {
      "application/vnd.jupyter.widget-view+json": {
       "model_id": "508175d127044e659d38618cc327f1c1",
       "version_major": 2,
       "version_minor": 0
      },
      "text/plain": [
       "  0%|          | 0/295 [00:00<?, ?it/s]"
      ]
     },
     "metadata": {},
     "output_type": "display_data"
    },
    {
     "name": "stdout",
     "output_type": "stream",
     "text": [
      "epoch 166 average loss: 0.1263\n",
      "current epoch: 166 current mean dice: 0.7855 wt: 0.7855\n",
      "best mean dice: 0.7899 at epoch: 128\n",
      "time consuming of epoch 166 is: 141.5261\n",
      "----------\n",
      "epoch 167/300\n"
     ]
    },
    {
     "data": {
      "application/vnd.jupyter.widget-view+json": {
       "model_id": "ef10a7b51a91441aa1f74e478f235e70",
       "version_major": 2,
       "version_minor": 0
      },
      "text/plain": [
       "  0%|          | 0/295 [00:00<?, ?it/s]"
      ]
     },
     "metadata": {},
     "output_type": "display_data"
    },
    {
     "name": "stdout",
     "output_type": "stream",
     "text": [
      "epoch 167 average loss: 0.1239\n",
      "time consuming of epoch 167 is: 124.1841\n",
      "----------\n",
      "epoch 168/300\n"
     ]
    },
    {
     "data": {
      "application/vnd.jupyter.widget-view+json": {
       "model_id": "0ba81f1b5ff14d78a82a7385a2916239",
       "version_major": 2,
       "version_minor": 0
      },
      "text/plain": [
       "  0%|          | 0/295 [00:00<?, ?it/s]"
      ]
     },
     "metadata": {},
     "output_type": "display_data"
    },
    {
     "name": "stdout",
     "output_type": "stream",
     "text": [
      "epoch 168 average loss: 0.1260\n",
      "current epoch: 168 current mean dice: 0.7698 wt: 0.7698\n",
      "best mean dice: 0.7899 at epoch: 128\n",
      "time consuming of epoch 168 is: 141.6102\n",
      "----------\n",
      "epoch 169/300\n"
     ]
    },
    {
     "data": {
      "application/vnd.jupyter.widget-view+json": {
       "model_id": "771d32c68f9448648450f31c3fda976a",
       "version_major": 2,
       "version_minor": 0
      },
      "text/plain": [
       "  0%|          | 0/295 [00:00<?, ?it/s]"
      ]
     },
     "metadata": {},
     "output_type": "display_data"
    },
    {
     "name": "stdout",
     "output_type": "stream",
     "text": [
      "epoch 169 average loss: 0.1251\n",
      "time consuming of epoch 169 is: 124.9784\n",
      "----------\n",
      "epoch 170/300\n"
     ]
    },
    {
     "data": {
      "application/vnd.jupyter.widget-view+json": {
       "model_id": "0048d5d77f02459e9231c3acdf1882b2",
       "version_major": 2,
       "version_minor": 0
      },
      "text/plain": [
       "  0%|          | 0/295 [00:00<?, ?it/s]"
      ]
     },
     "metadata": {},
     "output_type": "display_data"
    },
    {
     "name": "stdout",
     "output_type": "stream",
     "text": [
      "epoch 170 average loss: 0.1230\n",
      "current epoch: 170 current mean dice: 0.7802 wt: 0.7802\n",
      "best mean dice: 0.7899 at epoch: 128\n",
      "time consuming of epoch 170 is: 141.5633\n",
      "----------\n",
      "epoch 171/300\n"
     ]
    },
    {
     "data": {
      "application/vnd.jupyter.widget-view+json": {
       "model_id": "0301c7401ce94d8f9c53f3717b8c2d8e",
       "version_major": 2,
       "version_minor": 0
      },
      "text/plain": [
       "  0%|          | 0/295 [00:00<?, ?it/s]"
      ]
     },
     "metadata": {},
     "output_type": "display_data"
    },
    {
     "name": "stdout",
     "output_type": "stream",
     "text": [
      "epoch 171 average loss: 0.1240\n",
      "time consuming of epoch 171 is: 124.9235\n",
      "----------\n",
      "epoch 172/300\n"
     ]
    },
    {
     "data": {
      "application/vnd.jupyter.widget-view+json": {
       "model_id": "1cf0b97e77904e11a0c2d9fc3298ea3e",
       "version_major": 2,
       "version_minor": 0
      },
      "text/plain": [
       "  0%|          | 0/295 [00:00<?, ?it/s]"
      ]
     },
     "metadata": {},
     "output_type": "display_data"
    },
    {
     "name": "stdout",
     "output_type": "stream",
     "text": [
      "epoch 172 average loss: 0.1246\n",
      "current epoch: 172 current mean dice: 0.7813 wt: 0.7813\n",
      "best mean dice: 0.7899 at epoch: 128\n",
      "time consuming of epoch 172 is: 141.7408\n",
      "----------\n",
      "epoch 173/300\n"
     ]
    },
    {
     "data": {
      "application/vnd.jupyter.widget-view+json": {
       "model_id": "93336a1c7c23447ab9938eebd00fc163",
       "version_major": 2,
       "version_minor": 0
      },
      "text/plain": [
       "  0%|          | 0/295 [00:00<?, ?it/s]"
      ]
     },
     "metadata": {},
     "output_type": "display_data"
    },
    {
     "name": "stdout",
     "output_type": "stream",
     "text": [
      "epoch 173 average loss: 0.1234\n",
      "time consuming of epoch 173 is: 124.9000\n",
      "----------\n",
      "epoch 174/300\n"
     ]
    },
    {
     "data": {
      "application/vnd.jupyter.widget-view+json": {
       "model_id": "efc3055ee10f44e7bfdd293cd3fcff24",
       "version_major": 2,
       "version_minor": 0
      },
      "text/plain": [
       "  0%|          | 0/295 [00:00<?, ?it/s]"
      ]
     },
     "metadata": {},
     "output_type": "display_data"
    },
    {
     "name": "stdout",
     "output_type": "stream",
     "text": [
      "epoch 174 average loss: 0.1239\n",
      "current epoch: 174 current mean dice: 0.7825 wt: 0.7825\n",
      "best mean dice: 0.7899 at epoch: 128\n",
      "time consuming of epoch 174 is: 141.7706\n",
      "----------\n",
      "epoch 175/300\n"
     ]
    },
    {
     "data": {
      "application/vnd.jupyter.widget-view+json": {
       "model_id": "79df6f909f6a49b483b88bac0a2a3e60",
       "version_major": 2,
       "version_minor": 0
      },
      "text/plain": [
       "  0%|          | 0/295 [00:00<?, ?it/s]"
      ]
     },
     "metadata": {},
     "output_type": "display_data"
    },
    {
     "name": "stdout",
     "output_type": "stream",
     "text": [
      "epoch 175 average loss: 0.1230\n",
      "time consuming of epoch 175 is: 124.5305\n",
      "----------\n",
      "epoch 176/300\n"
     ]
    },
    {
     "data": {
      "application/vnd.jupyter.widget-view+json": {
       "model_id": "43584a54eefa428f81fbe0e9d1adcc0f",
       "version_major": 2,
       "version_minor": 0
      },
      "text/plain": [
       "  0%|          | 0/295 [00:00<?, ?it/s]"
      ]
     },
     "metadata": {},
     "output_type": "display_data"
    },
    {
     "name": "stdout",
     "output_type": "stream",
     "text": [
      "epoch 176 average loss: 0.1223\n",
      "current epoch: 176 current mean dice: 0.7864 wt: 0.7864\n",
      "best mean dice: 0.7899 at epoch: 128\n",
      "time consuming of epoch 176 is: 141.2219\n",
      "----------\n",
      "epoch 177/300\n"
     ]
    },
    {
     "data": {
      "application/vnd.jupyter.widget-view+json": {
       "model_id": "cdff11d56a2b4116b8f5d6772d759482",
       "version_major": 2,
       "version_minor": 0
      },
      "text/plain": [
       "  0%|          | 0/295 [00:00<?, ?it/s]"
      ]
     },
     "metadata": {},
     "output_type": "display_data"
    },
    {
     "name": "stdout",
     "output_type": "stream",
     "text": [
      "epoch 177 average loss: 0.1223\n",
      "time consuming of epoch 177 is: 124.3920\n",
      "----------\n",
      "epoch 178/300\n"
     ]
    },
    {
     "data": {
      "application/vnd.jupyter.widget-view+json": {
       "model_id": "6b56827b06d648248bbeab89da6d7e6c",
       "version_major": 2,
       "version_minor": 0
      },
      "text/plain": [
       "  0%|          | 0/295 [00:00<?, ?it/s]"
      ]
     },
     "metadata": {},
     "output_type": "display_data"
    },
    {
     "name": "stdout",
     "output_type": "stream",
     "text": [
      "epoch 178 average loss: 0.1229\n",
      "current epoch: 178 current mean dice: 0.7801 wt: 0.7801\n",
      "best mean dice: 0.7899 at epoch: 128\n",
      "time consuming of epoch 178 is: 141.4810\n",
      "----------\n",
      "epoch 179/300\n"
     ]
    },
    {
     "data": {
      "application/vnd.jupyter.widget-view+json": {
       "model_id": "21e112712b5542ff9fe31b22578aa035",
       "version_major": 2,
       "version_minor": 0
      },
      "text/plain": [
       "  0%|          | 0/295 [00:00<?, ?it/s]"
      ]
     },
     "metadata": {},
     "output_type": "display_data"
    },
    {
     "name": "stdout",
     "output_type": "stream",
     "text": [
      "epoch 179 average loss: 0.1224\n",
      "time consuming of epoch 179 is: 124.4333\n",
      "----------\n",
      "epoch 180/300\n"
     ]
    },
    {
     "data": {
      "application/vnd.jupyter.widget-view+json": {
       "model_id": "944bd53ed07e41cb9a3764a7c1ba42ed",
       "version_major": 2,
       "version_minor": 0
      },
      "text/plain": [
       "  0%|          | 0/295 [00:00<?, ?it/s]"
      ]
     },
     "metadata": {},
     "output_type": "display_data"
    },
    {
     "name": "stdout",
     "output_type": "stream",
     "text": [
      "epoch 180 average loss: 0.1220\n",
      "current epoch: 180 current mean dice: 0.7689 wt: 0.7689\n",
      "best mean dice: 0.7899 at epoch: 128\n",
      "time consuming of epoch 180 is: 141.3175\n",
      "----------\n",
      "epoch 181/300\n"
     ]
    },
    {
     "data": {
      "application/vnd.jupyter.widget-view+json": {
       "model_id": "97b1cfdce87c443f829a46ea4b2c6579",
       "version_major": 2,
       "version_minor": 0
      },
      "text/plain": [
       "  0%|          | 0/295 [00:00<?, ?it/s]"
      ]
     },
     "metadata": {},
     "output_type": "display_data"
    },
    {
     "name": "stdout",
     "output_type": "stream",
     "text": [
      "epoch 181 average loss: 0.1209\n",
      "time consuming of epoch 181 is: 124.6442\n",
      "----------\n",
      "epoch 182/300\n"
     ]
    },
    {
     "data": {
      "application/vnd.jupyter.widget-view+json": {
       "model_id": "031f82ffef1b454aa685c5df5ae59d0c",
       "version_major": 2,
       "version_minor": 0
      },
      "text/plain": [
       "  0%|          | 0/295 [00:00<?, ?it/s]"
      ]
     },
     "metadata": {},
     "output_type": "display_data"
    },
    {
     "name": "stdout",
     "output_type": "stream",
     "text": [
      "epoch 182 average loss: 0.1206\n",
      "current epoch: 182 current mean dice: 0.7669 wt: 0.7669\n",
      "best mean dice: 0.7899 at epoch: 128\n",
      "time consuming of epoch 182 is: 141.3983\n",
      "----------\n",
      "epoch 183/300\n"
     ]
    },
    {
     "data": {
      "application/vnd.jupyter.widget-view+json": {
       "model_id": "bec18f76ce9c4753bfa1e2a5a1cad9b3",
       "version_major": 2,
       "version_minor": 0
      },
      "text/plain": [
       "  0%|          | 0/295 [00:00<?, ?it/s]"
      ]
     },
     "metadata": {},
     "output_type": "display_data"
    },
    {
     "name": "stdout",
     "output_type": "stream",
     "text": [
      "epoch 183 average loss: 0.1203\n",
      "time consuming of epoch 183 is: 124.7588\n",
      "----------\n",
      "epoch 184/300\n"
     ]
    },
    {
     "data": {
      "application/vnd.jupyter.widget-view+json": {
       "model_id": "648b22c5b03d4ccebd9f4292ca1f8040",
       "version_major": 2,
       "version_minor": 0
      },
      "text/plain": [
       "  0%|          | 0/295 [00:00<?, ?it/s]"
      ]
     },
     "metadata": {},
     "output_type": "display_data"
    },
    {
     "name": "stdout",
     "output_type": "stream",
     "text": [
      "epoch 184 average loss: 0.1223\n",
      "current epoch: 184 current mean dice: 0.7760 wt: 0.7760\n",
      "best mean dice: 0.7899 at epoch: 128\n",
      "time consuming of epoch 184 is: 141.7273\n",
      "----------\n",
      "epoch 185/300\n"
     ]
    },
    {
     "data": {
      "application/vnd.jupyter.widget-view+json": {
       "model_id": "b2958863dd1f408589781888bec613b6",
       "version_major": 2,
       "version_minor": 0
      },
      "text/plain": [
       "  0%|          | 0/295 [00:00<?, ?it/s]"
      ]
     },
     "metadata": {},
     "output_type": "display_data"
    },
    {
     "name": "stdout",
     "output_type": "stream",
     "text": [
      "epoch 185 average loss: 0.1210\n",
      "time consuming of epoch 185 is: 124.8216\n",
      "----------\n",
      "epoch 186/300\n"
     ]
    },
    {
     "data": {
      "application/vnd.jupyter.widget-view+json": {
       "model_id": "bb4f1b50f3e54751942c4831eb9444a2",
       "version_major": 2,
       "version_minor": 0
      },
      "text/plain": [
       "  0%|          | 0/295 [00:00<?, ?it/s]"
      ]
     },
     "metadata": {},
     "output_type": "display_data"
    },
    {
     "name": "stdout",
     "output_type": "stream",
     "text": [
      "epoch 186 average loss: 0.1245\n",
      "current epoch: 186 current mean dice: 0.7801 wt: 0.7801\n",
      "best mean dice: 0.7899 at epoch: 128\n",
      "time consuming of epoch 186 is: 141.7019\n",
      "----------\n",
      "epoch 187/300\n"
     ]
    },
    {
     "data": {
      "application/vnd.jupyter.widget-view+json": {
       "model_id": "653d3ef769da48efa931fc8f8817685a",
       "version_major": 2,
       "version_minor": 0
      },
      "text/plain": [
       "  0%|          | 0/295 [00:00<?, ?it/s]"
      ]
     },
     "metadata": {},
     "output_type": "display_data"
    },
    {
     "name": "stdout",
     "output_type": "stream",
     "text": [
      "epoch 187 average loss: 0.1210\n",
      "time consuming of epoch 187 is: 124.2855\n",
      "----------\n",
      "epoch 188/300\n"
     ]
    },
    {
     "data": {
      "application/vnd.jupyter.widget-view+json": {
       "model_id": "48f7287278154c1c9210e8799422a427",
       "version_major": 2,
       "version_minor": 0
      },
      "text/plain": [
       "  0%|          | 0/295 [00:00<?, ?it/s]"
      ]
     },
     "metadata": {},
     "output_type": "display_data"
    },
    {
     "name": "stdout",
     "output_type": "stream",
     "text": [
      "epoch 188 average loss: 0.1201\n",
      "current epoch: 188 current mean dice: 0.7830 wt: 0.7830\n",
      "best mean dice: 0.7899 at epoch: 128\n",
      "time consuming of epoch 188 is: 141.1840\n",
      "----------\n",
      "epoch 189/300\n"
     ]
    },
    {
     "data": {
      "application/vnd.jupyter.widget-view+json": {
       "model_id": "5205d593da404577abeeb1f276b891c8",
       "version_major": 2,
       "version_minor": 0
      },
      "text/plain": [
       "  0%|          | 0/295 [00:00<?, ?it/s]"
      ]
     },
     "metadata": {},
     "output_type": "display_data"
    },
    {
     "name": "stdout",
     "output_type": "stream",
     "text": [
      "epoch 189 average loss: 0.1191\n",
      "time consuming of epoch 189 is: 124.4838\n",
      "----------\n",
      "epoch 190/300\n"
     ]
    },
    {
     "data": {
      "application/vnd.jupyter.widget-view+json": {
       "model_id": "ef9237228ba44b50a1bf642e0e3f4199",
       "version_major": 2,
       "version_minor": 0
      },
      "text/plain": [
       "  0%|          | 0/295 [00:00<?, ?it/s]"
      ]
     },
     "metadata": {},
     "output_type": "display_data"
    },
    {
     "name": "stdout",
     "output_type": "stream",
     "text": [
      "epoch 190 average loss: 0.1200\n",
      "current epoch: 190 current mean dice: 0.7855 wt: 0.7855\n",
      "best mean dice: 0.7899 at epoch: 128\n",
      "time consuming of epoch 190 is: 141.6436\n",
      "----------\n",
      "epoch 191/300\n"
     ]
    },
    {
     "data": {
      "application/vnd.jupyter.widget-view+json": {
       "model_id": "d9fb74fd687046689ab9c80897817bae",
       "version_major": 2,
       "version_minor": 0
      },
      "text/plain": [
       "  0%|          | 0/295 [00:00<?, ?it/s]"
      ]
     },
     "metadata": {},
     "output_type": "display_data"
    },
    {
     "name": "stdout",
     "output_type": "stream",
     "text": [
      "epoch 191 average loss: 0.1197\n",
      "time consuming of epoch 191 is: 124.3904\n",
      "----------\n",
      "epoch 192/300\n"
     ]
    },
    {
     "data": {
      "application/vnd.jupyter.widget-view+json": {
       "model_id": "7318a1a93d914d45a7d6c8d654832c7a",
       "version_major": 2,
       "version_minor": 0
      },
      "text/plain": [
       "  0%|          | 0/295 [00:00<?, ?it/s]"
      ]
     },
     "metadata": {},
     "output_type": "display_data"
    },
    {
     "name": "stdout",
     "output_type": "stream",
     "text": [
      "epoch 192 average loss: 0.1180\n",
      "current epoch: 192 current mean dice: 0.7791 wt: 0.7791\n",
      "best mean dice: 0.7899 at epoch: 128\n",
      "time consuming of epoch 192 is: 141.7996\n",
      "----------\n",
      "epoch 193/300\n"
     ]
    },
    {
     "data": {
      "application/vnd.jupyter.widget-view+json": {
       "model_id": "9ce6753af0114205932baeb8f06fe45e",
       "version_major": 2,
       "version_minor": 0
      },
      "text/plain": [
       "  0%|          | 0/295 [00:00<?, ?it/s]"
      ]
     },
     "metadata": {},
     "output_type": "display_data"
    },
    {
     "name": "stdout",
     "output_type": "stream",
     "text": [
      "epoch 193 average loss: 0.1184\n",
      "time consuming of epoch 193 is: 124.9289\n",
      "----------\n",
      "epoch 194/300\n"
     ]
    },
    {
     "data": {
      "application/vnd.jupyter.widget-view+json": {
       "model_id": "e109021b1ae24ec7b0208a2ef7e7f2fc",
       "version_major": 2,
       "version_minor": 0
      },
      "text/plain": [
       "  0%|          | 0/295 [00:00<?, ?it/s]"
      ]
     },
     "metadata": {},
     "output_type": "display_data"
    },
    {
     "name": "stdout",
     "output_type": "stream",
     "text": [
      "epoch 194 average loss: 0.1183\n",
      "current epoch: 194 current mean dice: 0.7741 wt: 0.7741\n",
      "best mean dice: 0.7899 at epoch: 128\n",
      "time consuming of epoch 194 is: 141.8167\n",
      "----------\n",
      "epoch 195/300\n"
     ]
    },
    {
     "data": {
      "application/vnd.jupyter.widget-view+json": {
       "model_id": "7666f4239d5940749240419261abca64",
       "version_major": 2,
       "version_minor": 0
      },
      "text/plain": [
       "  0%|          | 0/295 [00:00<?, ?it/s]"
      ]
     },
     "metadata": {},
     "output_type": "display_data"
    },
    {
     "name": "stdout",
     "output_type": "stream",
     "text": [
      "epoch 195 average loss: 0.1178\n",
      "time consuming of epoch 195 is: 124.9351\n",
      "----------\n",
      "epoch 196/300\n"
     ]
    },
    {
     "data": {
      "application/vnd.jupyter.widget-view+json": {
       "model_id": "f20d1e4e226f4aeaa926e6ba3be9b9c5",
       "version_major": 2,
       "version_minor": 0
      },
      "text/plain": [
       "  0%|          | 0/295 [00:00<?, ?it/s]"
      ]
     },
     "metadata": {},
     "output_type": "display_data"
    },
    {
     "name": "stdout",
     "output_type": "stream",
     "text": [
      "epoch 196 average loss: 0.1175\n",
      "current epoch: 196 current mean dice: 0.7722 wt: 0.7722\n",
      "best mean dice: 0.7899 at epoch: 128\n",
      "time consuming of epoch 196 is: 141.4047\n",
      "----------\n",
      "epoch 197/300\n"
     ]
    },
    {
     "data": {
      "application/vnd.jupyter.widget-view+json": {
       "model_id": "ee31614afc59474f805e78028f48c7ef",
       "version_major": 2,
       "version_minor": 0
      },
      "text/plain": [
       "  0%|          | 0/295 [00:00<?, ?it/s]"
      ]
     },
     "metadata": {},
     "output_type": "display_data"
    },
    {
     "name": "stdout",
     "output_type": "stream",
     "text": [
      "epoch 197 average loss: 0.1178\n",
      "time consuming of epoch 197 is: 124.5482\n",
      "----------\n",
      "epoch 198/300\n"
     ]
    },
    {
     "data": {
      "application/vnd.jupyter.widget-view+json": {
       "model_id": "a1822e6f7da74821858d202250cb301a",
       "version_major": 2,
       "version_minor": 0
      },
      "text/plain": [
       "  0%|          | 0/295 [00:00<?, ?it/s]"
      ]
     },
     "metadata": {},
     "output_type": "display_data"
    },
    {
     "name": "stdout",
     "output_type": "stream",
     "text": [
      "epoch 198 average loss: 0.1180\n",
      "current epoch: 198 current mean dice: 0.7817 wt: 0.7817\n",
      "best mean dice: 0.7899 at epoch: 128\n",
      "time consuming of epoch 198 is: 141.4872\n",
      "----------\n",
      "epoch 199/300\n"
     ]
    },
    {
     "data": {
      "application/vnd.jupyter.widget-view+json": {
       "model_id": "59b9b7e5384441ca8fbe8278eaeb5992",
       "version_major": 2,
       "version_minor": 0
      },
      "text/plain": [
       "  0%|          | 0/295 [00:00<?, ?it/s]"
      ]
     },
     "metadata": {},
     "output_type": "display_data"
    },
    {
     "name": "stdout",
     "output_type": "stream",
     "text": [
      "epoch 199 average loss: 0.1171\n",
      "time consuming of epoch 199 is: 124.7261\n",
      "----------\n",
      "epoch 200/300\n"
     ]
    },
    {
     "data": {
      "application/vnd.jupyter.widget-view+json": {
       "model_id": "28e7308824164fefb9ba9c692d36abbf",
       "version_major": 2,
       "version_minor": 0
      },
      "text/plain": [
       "  0%|          | 0/295 [00:00<?, ?it/s]"
      ]
     },
     "metadata": {},
     "output_type": "display_data"
    },
    {
     "name": "stdout",
     "output_type": "stream",
     "text": [
      "epoch 200 average loss: 0.1166\n",
      "current epoch: 200 current mean dice: 0.7658 wt: 0.7658\n",
      "best mean dice: 0.7899 at epoch: 128\n",
      "time consuming of epoch 200 is: 141.7617\n",
      "----------\n",
      "epoch 201/300\n"
     ]
    },
    {
     "data": {
      "application/vnd.jupyter.widget-view+json": {
       "model_id": "c67e659d56ba498e9cef943ab67f00b2",
       "version_major": 2,
       "version_minor": 0
      },
      "text/plain": [
       "  0%|          | 0/295 [00:00<?, ?it/s]"
      ]
     },
     "metadata": {},
     "output_type": "display_data"
    },
    {
     "name": "stdout",
     "output_type": "stream",
     "text": [
      "epoch 201 average loss: 0.1170\n",
      "time consuming of epoch 201 is: 124.5218\n",
      "----------\n",
      "epoch 202/300\n"
     ]
    },
    {
     "data": {
      "application/vnd.jupyter.widget-view+json": {
       "model_id": "5ecc9b34d4084efc8fe30ec6bbc3094a",
       "version_major": 2,
       "version_minor": 0
      },
      "text/plain": [
       "  0%|          | 0/295 [00:00<?, ?it/s]"
      ]
     },
     "metadata": {},
     "output_type": "display_data"
    },
    {
     "name": "stdout",
     "output_type": "stream",
     "text": [
      "epoch 202 average loss: 0.1166\n",
      "current epoch: 202 current mean dice: 0.7706 wt: 0.7706\n",
      "best mean dice: 0.7899 at epoch: 128\n",
      "time consuming of epoch 202 is: 142.1151\n",
      "----------\n",
      "epoch 203/300\n"
     ]
    },
    {
     "data": {
      "application/vnd.jupyter.widget-view+json": {
       "model_id": "2478cdc466974af0b8bfefa14487ca9f",
       "version_major": 2,
       "version_minor": 0
      },
      "text/plain": [
       "  0%|          | 0/295 [00:00<?, ?it/s]"
      ]
     },
     "metadata": {},
     "output_type": "display_data"
    },
    {
     "name": "stdout",
     "output_type": "stream",
     "text": [
      "epoch 203 average loss: 0.1172\n",
      "time consuming of epoch 203 is: 124.9061\n",
      "----------\n",
      "epoch 204/300\n"
     ]
    },
    {
     "data": {
      "application/vnd.jupyter.widget-view+json": {
       "model_id": "77c0c1bf2642438ba57f175d112e29d2",
       "version_major": 2,
       "version_minor": 0
      },
      "text/plain": [
       "  0%|          | 0/295 [00:00<?, ?it/s]"
      ]
     },
     "metadata": {},
     "output_type": "display_data"
    },
    {
     "name": "stdout",
     "output_type": "stream",
     "text": [
      "epoch 204 average loss: 0.1168\n",
      "current epoch: 204 current mean dice: 0.7817 wt: 0.7817\n",
      "best mean dice: 0.7899 at epoch: 128\n",
      "time consuming of epoch 204 is: 141.6311\n",
      "----------\n",
      "epoch 205/300\n"
     ]
    },
    {
     "data": {
      "application/vnd.jupyter.widget-view+json": {
       "model_id": "961796c733ce43c7baf00b4f1e35811a",
       "version_major": 2,
       "version_minor": 0
      },
      "text/plain": [
       "  0%|          | 0/295 [00:00<?, ?it/s]"
      ]
     },
     "metadata": {},
     "output_type": "display_data"
    },
    {
     "name": "stdout",
     "output_type": "stream",
     "text": [
      "epoch 205 average loss: 0.1154\n",
      "time consuming of epoch 205 is: 124.5267\n",
      "----------\n",
      "epoch 206/300\n"
     ]
    },
    {
     "data": {
      "application/vnd.jupyter.widget-view+json": {
       "model_id": "1d087d27a89142399789c85482cac8aa",
       "version_major": 2,
       "version_minor": 0
      },
      "text/plain": [
       "  0%|          | 0/295 [00:00<?, ?it/s]"
      ]
     },
     "metadata": {},
     "output_type": "display_data"
    },
    {
     "name": "stdout",
     "output_type": "stream",
     "text": [
      "epoch 206 average loss: 0.1163\n",
      "current epoch: 206 current mean dice: 0.7801 wt: 0.7801\n",
      "best mean dice: 0.7899 at epoch: 128\n",
      "time consuming of epoch 206 is: 141.3998\n",
      "----------\n",
      "epoch 207/300\n"
     ]
    },
    {
     "data": {
      "application/vnd.jupyter.widget-view+json": {
       "model_id": "f5b13fe0d3fb4aa29054ef59bf3ee5dc",
       "version_major": 2,
       "version_minor": 0
      },
      "text/plain": [
       "  0%|          | 0/295 [00:00<?, ?it/s]"
      ]
     },
     "metadata": {},
     "output_type": "display_data"
    },
    {
     "name": "stdout",
     "output_type": "stream",
     "text": [
      "epoch 207 average loss: 0.1163\n",
      "time consuming of epoch 207 is: 124.7558\n",
      "----------\n",
      "epoch 208/300\n"
     ]
    },
    {
     "data": {
      "application/vnd.jupyter.widget-view+json": {
       "model_id": "9230938498984356bbbfbe41b445af05",
       "version_major": 2,
       "version_minor": 0
      },
      "text/plain": [
       "  0%|          | 0/295 [00:00<?, ?it/s]"
      ]
     },
     "metadata": {},
     "output_type": "display_data"
    },
    {
     "name": "stdout",
     "output_type": "stream",
     "text": [
      "epoch 208 average loss: 0.1152\n",
      "current epoch: 208 current mean dice: 0.7787 wt: 0.7787\n",
      "best mean dice: 0.7899 at epoch: 128\n",
      "time consuming of epoch 208 is: 141.4941\n",
      "----------\n",
      "epoch 209/300\n"
     ]
    },
    {
     "data": {
      "application/vnd.jupyter.widget-view+json": {
       "model_id": "52ae1fc66b8746c3be60d60b1f8de3aa",
       "version_major": 2,
       "version_minor": 0
      },
      "text/plain": [
       "  0%|          | 0/295 [00:00<?, ?it/s]"
      ]
     },
     "metadata": {},
     "output_type": "display_data"
    },
    {
     "name": "stdout",
     "output_type": "stream",
     "text": [
      "epoch 209 average loss: 0.1156\n",
      "time consuming of epoch 209 is: 124.3674\n",
      "----------\n",
      "epoch 210/300\n"
     ]
    },
    {
     "data": {
      "application/vnd.jupyter.widget-view+json": {
       "model_id": "ddd732e578da47a781e504d57ba6a9f8",
       "version_major": 2,
       "version_minor": 0
      },
      "text/plain": [
       "  0%|          | 0/295 [00:00<?, ?it/s]"
      ]
     },
     "metadata": {},
     "output_type": "display_data"
    },
    {
     "name": "stdout",
     "output_type": "stream",
     "text": [
      "epoch 210 average loss: 0.1154\n",
      "current epoch: 210 current mean dice: 0.7772 wt: 0.7772\n",
      "best mean dice: 0.7899 at epoch: 128\n",
      "time consuming of epoch 210 is: 141.4325\n",
      "----------\n",
      "epoch 211/300\n"
     ]
    },
    {
     "data": {
      "application/vnd.jupyter.widget-view+json": {
       "model_id": "4cec3749aca74d618492c8ed8509f61c",
       "version_major": 2,
       "version_minor": 0
      },
      "text/plain": [
       "  0%|          | 0/295 [00:00<?, ?it/s]"
      ]
     },
     "metadata": {},
     "output_type": "display_data"
    },
    {
     "name": "stdout",
     "output_type": "stream",
     "text": [
      "epoch 211 average loss: 0.1155\n",
      "time consuming of epoch 211 is: 124.8281\n",
      "----------\n",
      "epoch 212/300\n"
     ]
    },
    {
     "data": {
      "application/vnd.jupyter.widget-view+json": {
       "model_id": "b2b3695b070e4f39a3ff12964e8e5793",
       "version_major": 2,
       "version_minor": 0
      },
      "text/plain": [
       "  0%|          | 0/295 [00:00<?, ?it/s]"
      ]
     },
     "metadata": {},
     "output_type": "display_data"
    },
    {
     "name": "stdout",
     "output_type": "stream",
     "text": [
      "epoch 212 average loss: 0.1145\n",
      "current epoch: 212 current mean dice: 0.7815 wt: 0.7815\n",
      "best mean dice: 0.7899 at epoch: 128\n",
      "time consuming of epoch 212 is: 141.2832\n",
      "----------\n",
      "epoch 213/300\n"
     ]
    },
    {
     "data": {
      "application/vnd.jupyter.widget-view+json": {
       "model_id": "f43e28c793914cc3bc04a2059200d141",
       "version_major": 2,
       "version_minor": 0
      },
      "text/plain": [
       "  0%|          | 0/295 [00:00<?, ?it/s]"
      ]
     },
     "metadata": {},
     "output_type": "display_data"
    },
    {
     "name": "stdout",
     "output_type": "stream",
     "text": [
      "epoch 213 average loss: 0.1154\n",
      "time consuming of epoch 213 is: 124.3837\n",
      "----------\n",
      "epoch 214/300\n"
     ]
    },
    {
     "data": {
      "application/vnd.jupyter.widget-view+json": {
       "model_id": "a70f0ac086554fb8b4d21b630370211e",
       "version_major": 2,
       "version_minor": 0
      },
      "text/plain": [
       "  0%|          | 0/295 [00:00<?, ?it/s]"
      ]
     },
     "metadata": {},
     "output_type": "display_data"
    },
    {
     "name": "stdout",
     "output_type": "stream",
     "text": [
      "epoch 214 average loss: 0.1152\n",
      "current epoch: 214 current mean dice: 0.7699 wt: 0.7699\n",
      "best mean dice: 0.7899 at epoch: 128\n",
      "time consuming of epoch 214 is: 141.6018\n",
      "----------\n",
      "epoch 215/300\n"
     ]
    },
    {
     "data": {
      "application/vnd.jupyter.widget-view+json": {
       "model_id": "72cc8f43ba9f4880ad67a1596e03ffae",
       "version_major": 2,
       "version_minor": 0
      },
      "text/plain": [
       "  0%|          | 0/295 [00:00<?, ?it/s]"
      ]
     },
     "metadata": {},
     "output_type": "display_data"
    },
    {
     "name": "stdout",
     "output_type": "stream",
     "text": [
      "epoch 215 average loss: 0.1153\n",
      "time consuming of epoch 215 is: 124.8318\n",
      "----------\n",
      "epoch 216/300\n"
     ]
    },
    {
     "data": {
      "application/vnd.jupyter.widget-view+json": {
       "model_id": "9503572675b64ba68e62a123bb2dafbf",
       "version_major": 2,
       "version_minor": 0
      },
      "text/plain": [
       "  0%|          | 0/295 [00:00<?, ?it/s]"
      ]
     },
     "metadata": {},
     "output_type": "display_data"
    },
    {
     "name": "stdout",
     "output_type": "stream",
     "text": [
      "epoch 216 average loss: 0.1144\n",
      "current epoch: 216 current mean dice: 0.7667 wt: 0.7667\n",
      "best mean dice: 0.7899 at epoch: 128\n",
      "time consuming of epoch 216 is: 141.5986\n",
      "----------\n",
      "epoch 217/300\n"
     ]
    },
    {
     "data": {
      "application/vnd.jupyter.widget-view+json": {
       "model_id": "f6959bea9e154eedacd863fb8d449bff",
       "version_major": 2,
       "version_minor": 0
      },
      "text/plain": [
       "  0%|          | 0/295 [00:00<?, ?it/s]"
      ]
     },
     "metadata": {},
     "output_type": "display_data"
    },
    {
     "name": "stdout",
     "output_type": "stream",
     "text": [
      "epoch 217 average loss: 0.1136\n",
      "time consuming of epoch 217 is: 124.9056\n",
      "----------\n",
      "epoch 218/300\n"
     ]
    },
    {
     "data": {
      "application/vnd.jupyter.widget-view+json": {
       "model_id": "6047bd179fd64d919c8d1d4847fc534f",
       "version_major": 2,
       "version_minor": 0
      },
      "text/plain": [
       "  0%|          | 0/295 [00:00<?, ?it/s]"
      ]
     },
     "metadata": {},
     "output_type": "display_data"
    },
    {
     "name": "stdout",
     "output_type": "stream",
     "text": [
      "epoch 218 average loss: 0.1145\n",
      "current epoch: 218 current mean dice: 0.7774 wt: 0.7774\n",
      "best mean dice: 0.7899 at epoch: 128\n",
      "time consuming of epoch 218 is: 141.7596\n",
      "----------\n",
      "epoch 219/300\n"
     ]
    },
    {
     "data": {
      "application/vnd.jupyter.widget-view+json": {
       "model_id": "7fa54e85278e4c74a7e2e5e6f2c65842",
       "version_major": 2,
       "version_minor": 0
      },
      "text/plain": [
       "  0%|          | 0/295 [00:00<?, ?it/s]"
      ]
     },
     "metadata": {},
     "output_type": "display_data"
    },
    {
     "name": "stdout",
     "output_type": "stream",
     "text": [
      "epoch 219 average loss: 0.1144\n",
      "time consuming of epoch 219 is: 124.5333\n",
      "----------\n",
      "epoch 220/300\n"
     ]
    },
    {
     "data": {
      "application/vnd.jupyter.widget-view+json": {
       "model_id": "bceedd6a8e4a457eb4f67f141a1052ef",
       "version_major": 2,
       "version_minor": 0
      },
      "text/plain": [
       "  0%|          | 0/295 [00:00<?, ?it/s]"
      ]
     },
     "metadata": {},
     "output_type": "display_data"
    },
    {
     "name": "stdout",
     "output_type": "stream",
     "text": [
      "epoch 220 average loss: 0.1132\n",
      "current epoch: 220 current mean dice: 0.7732 wt: 0.7732\n",
      "best mean dice: 0.7899 at epoch: 128\n",
      "time consuming of epoch 220 is: 141.4898\n",
      "----------\n",
      "epoch 221/300\n"
     ]
    },
    {
     "data": {
      "application/vnd.jupyter.widget-view+json": {
       "model_id": "8e305006b9b647ae80a2567eee6e2a6f",
       "version_major": 2,
       "version_minor": 0
      },
      "text/plain": [
       "  0%|          | 0/295 [00:00<?, ?it/s]"
      ]
     },
     "metadata": {},
     "output_type": "display_data"
    },
    {
     "name": "stdout",
     "output_type": "stream",
     "text": [
      "epoch 221 average loss: 0.1133\n",
      "time consuming of epoch 221 is: 124.2381\n",
      "----------\n",
      "epoch 222/300\n"
     ]
    },
    {
     "data": {
      "application/vnd.jupyter.widget-view+json": {
       "model_id": "9df15c9b6efa4536b68aede29cf89fee",
       "version_major": 2,
       "version_minor": 0
      },
      "text/plain": [
       "  0%|          | 0/295 [00:00<?, ?it/s]"
      ]
     },
     "metadata": {},
     "output_type": "display_data"
    },
    {
     "name": "stdout",
     "output_type": "stream",
     "text": [
      "epoch 222 average loss: 0.1126\n",
      "current epoch: 222 current mean dice: 0.7724 wt: 0.7724\n",
      "best mean dice: 0.7899 at epoch: 128\n",
      "time consuming of epoch 222 is: 141.3631\n",
      "----------\n",
      "epoch 223/300\n"
     ]
    },
    {
     "data": {
      "application/vnd.jupyter.widget-view+json": {
       "model_id": "7105eace3b3045c5a86f112ac021faad",
       "version_major": 2,
       "version_minor": 0
      },
      "text/plain": [
       "  0%|          | 0/295 [00:00<?, ?it/s]"
      ]
     },
     "metadata": {},
     "output_type": "display_data"
    },
    {
     "name": "stdout",
     "output_type": "stream",
     "text": [
      "epoch 223 average loss: 0.1126\n",
      "time consuming of epoch 223 is: 124.4859\n",
      "----------\n",
      "epoch 224/300\n"
     ]
    },
    {
     "data": {
      "application/vnd.jupyter.widget-view+json": {
       "model_id": "2601bd2346aa4ccebcd06ba5bd1c3136",
       "version_major": 2,
       "version_minor": 0
      },
      "text/plain": [
       "  0%|          | 0/295 [00:00<?, ?it/s]"
      ]
     },
     "metadata": {},
     "output_type": "display_data"
    },
    {
     "name": "stdout",
     "output_type": "stream",
     "text": [
      "epoch 224 average loss: 0.1129\n",
      "current epoch: 224 current mean dice: 0.7679 wt: 0.7679\n",
      "best mean dice: 0.7899 at epoch: 128\n",
      "time consuming of epoch 224 is: 141.7413\n",
      "----------\n",
      "epoch 225/300\n"
     ]
    },
    {
     "data": {
      "application/vnd.jupyter.widget-view+json": {
       "model_id": "4d87836c39874754b2b579f2be37138c",
       "version_major": 2,
       "version_minor": 0
      },
      "text/plain": [
       "  0%|          | 0/295 [00:00<?, ?it/s]"
      ]
     },
     "metadata": {},
     "output_type": "display_data"
    },
    {
     "name": "stdout",
     "output_type": "stream",
     "text": [
      "epoch 225 average loss: 0.1133\n",
      "time consuming of epoch 225 is: 124.5499\n",
      "----------\n",
      "epoch 226/300\n"
     ]
    },
    {
     "data": {
      "application/vnd.jupyter.widget-view+json": {
       "model_id": "758c5d0f889a47c0b8426e75a45e255b",
       "version_major": 2,
       "version_minor": 0
      },
      "text/plain": [
       "  0%|          | 0/295 [00:00<?, ?it/s]"
      ]
     },
     "metadata": {},
     "output_type": "display_data"
    },
    {
     "name": "stdout",
     "output_type": "stream",
     "text": [
      "epoch 226 average loss: 0.1132\n",
      "current epoch: 226 current mean dice: 0.7764 wt: 0.7764\n",
      "best mean dice: 0.7899 at epoch: 128\n",
      "time consuming of epoch 226 is: 141.5005\n",
      "----------\n",
      "epoch 227/300\n"
     ]
    },
    {
     "data": {
      "application/vnd.jupyter.widget-view+json": {
       "model_id": "ca913ff3e32f42c997f893db5c26b8ec",
       "version_major": 2,
       "version_minor": 0
      },
      "text/plain": [
       "  0%|          | 0/295 [00:00<?, ?it/s]"
      ]
     },
     "metadata": {},
     "output_type": "display_data"
    },
    {
     "name": "stdout",
     "output_type": "stream",
     "text": [
      "epoch 227 average loss: 0.1118\n",
      "time consuming of epoch 227 is: 124.5982\n",
      "----------\n",
      "epoch 228/300\n"
     ]
    },
    {
     "data": {
      "application/vnd.jupyter.widget-view+json": {
       "model_id": "694d0d54442e459d8f3b0f97fb47a043",
       "version_major": 2,
       "version_minor": 0
      },
      "text/plain": [
       "  0%|          | 0/295 [00:00<?, ?it/s]"
      ]
     },
     "metadata": {},
     "output_type": "display_data"
    },
    {
     "name": "stdout",
     "output_type": "stream",
     "text": [
      "epoch 228 average loss: 0.1126\n",
      "current epoch: 228 current mean dice: 0.7800 wt: 0.7800\n",
      "best mean dice: 0.7899 at epoch: 128\n",
      "time consuming of epoch 228 is: 141.4120\n",
      "----------\n",
      "epoch 229/300\n"
     ]
    },
    {
     "data": {
      "application/vnd.jupyter.widget-view+json": {
       "model_id": "03988e142dd14d06bab0d0fd11423fc5",
       "version_major": 2,
       "version_minor": 0
      },
      "text/plain": [
       "  0%|          | 0/295 [00:00<?, ?it/s]"
      ]
     },
     "metadata": {},
     "output_type": "display_data"
    },
    {
     "name": "stdout",
     "output_type": "stream",
     "text": [
      "epoch 229 average loss: 0.1123\n",
      "time consuming of epoch 229 is: 124.3756\n",
      "----------\n",
      "epoch 230/300\n"
     ]
    },
    {
     "data": {
      "application/vnd.jupyter.widget-view+json": {
       "model_id": "ccd2726e1c184b3fb1c6204566c5e92b",
       "version_major": 2,
       "version_minor": 0
      },
      "text/plain": [
       "  0%|          | 0/295 [00:00<?, ?it/s]"
      ]
     },
     "metadata": {},
     "output_type": "display_data"
    },
    {
     "name": "stdout",
     "output_type": "stream",
     "text": [
      "epoch 230 average loss: 0.1127\n",
      "current epoch: 230 current mean dice: 0.7743 wt: 0.7743\n",
      "best mean dice: 0.7899 at epoch: 128\n",
      "time consuming of epoch 230 is: 141.5764\n",
      "----------\n",
      "epoch 231/300\n"
     ]
    },
    {
     "data": {
      "application/vnd.jupyter.widget-view+json": {
       "model_id": "4718430cfef546168edee161f92f6db8",
       "version_major": 2,
       "version_minor": 0
      },
      "text/plain": [
       "  0%|          | 0/295 [00:00<?, ?it/s]"
      ]
     },
     "metadata": {},
     "output_type": "display_data"
    },
    {
     "name": "stdout",
     "output_type": "stream",
     "text": [
      "epoch 231 average loss: 0.1116\n",
      "time consuming of epoch 231 is: 124.9560\n",
      "----------\n",
      "epoch 232/300\n"
     ]
    },
    {
     "data": {
      "application/vnd.jupyter.widget-view+json": {
       "model_id": "599e95c6952a4f5a9473192b5fef2693",
       "version_major": 2,
       "version_minor": 0
      },
      "text/plain": [
       "  0%|          | 0/295 [00:00<?, ?it/s]"
      ]
     },
     "metadata": {},
     "output_type": "display_data"
    },
    {
     "name": "stdout",
     "output_type": "stream",
     "text": [
      "epoch 232 average loss: 0.1118\n",
      "current epoch: 232 current mean dice: 0.7685 wt: 0.7685\n",
      "best mean dice: 0.7899 at epoch: 128\n",
      "time consuming of epoch 232 is: 141.8566\n",
      "----------\n",
      "epoch 233/300\n"
     ]
    },
    {
     "data": {
      "application/vnd.jupyter.widget-view+json": {
       "model_id": "af2827457a454688be7592626cca1f8f",
       "version_major": 2,
       "version_minor": 0
      },
      "text/plain": [
       "  0%|          | 0/295 [00:00<?, ?it/s]"
      ]
     },
     "metadata": {},
     "output_type": "display_data"
    },
    {
     "name": "stdout",
     "output_type": "stream",
     "text": [
      "epoch 233 average loss: 0.1119\n",
      "time consuming of epoch 233 is: 125.1833\n",
      "----------\n",
      "epoch 234/300\n"
     ]
    },
    {
     "data": {
      "application/vnd.jupyter.widget-view+json": {
       "model_id": "7d65b4e0dde84e6ebcd786e54f5d7dbb",
       "version_major": 2,
       "version_minor": 0
      },
      "text/plain": [
       "  0%|          | 0/295 [00:00<?, ?it/s]"
      ]
     },
     "metadata": {},
     "output_type": "display_data"
    },
    {
     "name": "stdout",
     "output_type": "stream",
     "text": [
      "epoch 234 average loss: 0.1115\n",
      "current epoch: 234 current mean dice: 0.7761 wt: 0.7761\n",
      "best mean dice: 0.7899 at epoch: 128\n",
      "time consuming of epoch 234 is: 141.7236\n",
      "----------\n",
      "epoch 235/300\n"
     ]
    },
    {
     "data": {
      "application/vnd.jupyter.widget-view+json": {
       "model_id": "e8f2c863c1f042c4a7bea65e16480570",
       "version_major": 2,
       "version_minor": 0
      },
      "text/plain": [
       "  0%|          | 0/295 [00:00<?, ?it/s]"
      ]
     },
     "metadata": {},
     "output_type": "display_data"
    },
    {
     "name": "stdout",
     "output_type": "stream",
     "text": [
      "epoch 235 average loss: 0.1111\n",
      "time consuming of epoch 235 is: 125.1158\n",
      "----------\n",
      "epoch 236/300\n"
     ]
    },
    {
     "data": {
      "application/vnd.jupyter.widget-view+json": {
       "model_id": "252e30d5332b4fb09feda916f7418166",
       "version_major": 2,
       "version_minor": 0
      },
      "text/plain": [
       "  0%|          | 0/295 [00:00<?, ?it/s]"
      ]
     },
     "metadata": {},
     "output_type": "display_data"
    },
    {
     "name": "stdout",
     "output_type": "stream",
     "text": [
      "epoch 236 average loss: 0.1116\n",
      "current epoch: 236 current mean dice: 0.7672 wt: 0.7672\n",
      "best mean dice: 0.7899 at epoch: 128\n",
      "time consuming of epoch 236 is: 142.1294\n",
      "----------\n",
      "epoch 237/300\n"
     ]
    },
    {
     "data": {
      "application/vnd.jupyter.widget-view+json": {
       "model_id": "914b7b61972143e0ba5a3afc0d66262d",
       "version_major": 2,
       "version_minor": 0
      },
      "text/plain": [
       "  0%|          | 0/295 [00:00<?, ?it/s]"
      ]
     },
     "metadata": {},
     "output_type": "display_data"
    },
    {
     "name": "stdout",
     "output_type": "stream",
     "text": [
      "epoch 237 average loss: 0.1110\n",
      "time consuming of epoch 237 is: 124.6170\n",
      "----------\n",
      "epoch 238/300\n"
     ]
    },
    {
     "data": {
      "application/vnd.jupyter.widget-view+json": {
       "model_id": "b572c760be4a48349755cdf28e54247a",
       "version_major": 2,
       "version_minor": 0
      },
      "text/plain": [
       "  0%|          | 0/295 [00:00<?, ?it/s]"
      ]
     },
     "metadata": {},
     "output_type": "display_data"
    },
    {
     "name": "stdout",
     "output_type": "stream",
     "text": [
      "epoch 238 average loss: 0.1115\n",
      "current epoch: 238 current mean dice: 0.7774 wt: 0.7774\n",
      "best mean dice: 0.7899 at epoch: 128\n",
      "time consuming of epoch 238 is: 141.4705\n",
      "----------\n",
      "epoch 239/300\n"
     ]
    },
    {
     "data": {
      "application/vnd.jupyter.widget-view+json": {
       "model_id": "2c9f0779d2fa4b248cd1d42ad544b8b7",
       "version_major": 2,
       "version_minor": 0
      },
      "text/plain": [
       "  0%|          | 0/295 [00:00<?, ?it/s]"
      ]
     },
     "metadata": {},
     "output_type": "display_data"
    },
    {
     "name": "stdout",
     "output_type": "stream",
     "text": [
      "epoch 239 average loss: 0.1116\n",
      "time consuming of epoch 239 is: 124.5707\n",
      "----------\n",
      "epoch 240/300\n"
     ]
    },
    {
     "data": {
      "application/vnd.jupyter.widget-view+json": {
       "model_id": "66bca94661dc48ce8a4f8761617818b2",
       "version_major": 2,
       "version_minor": 0
      },
      "text/plain": [
       "  0%|          | 0/295 [00:00<?, ?it/s]"
      ]
     },
     "metadata": {},
     "output_type": "display_data"
    },
    {
     "name": "stdout",
     "output_type": "stream",
     "text": [
      "epoch 240 average loss: 0.1110\n",
      "current epoch: 240 current mean dice: 0.7886 wt: 0.7886\n",
      "best mean dice: 0.7899 at epoch: 128\n",
      "time consuming of epoch 240 is: 141.6087\n",
      "----------\n",
      "epoch 241/300\n"
     ]
    },
    {
     "data": {
      "application/vnd.jupyter.widget-view+json": {
       "model_id": "d6e96bf5e75642dfa691d9f6466d6883",
       "version_major": 2,
       "version_minor": 0
      },
      "text/plain": [
       "  0%|          | 0/295 [00:00<?, ?it/s]"
      ]
     },
     "metadata": {},
     "output_type": "display_data"
    },
    {
     "name": "stdout",
     "output_type": "stream",
     "text": [
      "epoch 241 average loss: 0.1109\n",
      "time consuming of epoch 241 is: 124.5660\n",
      "----------\n",
      "epoch 242/300\n"
     ]
    },
    {
     "data": {
      "application/vnd.jupyter.widget-view+json": {
       "model_id": "46ed4bb89fb746848a4ae8b25dec1572",
       "version_major": 2,
       "version_minor": 0
      },
      "text/plain": [
       "  0%|          | 0/295 [00:00<?, ?it/s]"
      ]
     },
     "metadata": {},
     "output_type": "display_data"
    },
    {
     "name": "stdout",
     "output_type": "stream",
     "text": [
      "epoch 242 average loss: 0.1111\n",
      "current epoch: 242 current mean dice: 0.7823 wt: 0.7823\n",
      "best mean dice: 0.7899 at epoch: 128\n",
      "time consuming of epoch 242 is: 141.7488\n",
      "----------\n",
      "epoch 243/300\n"
     ]
    },
    {
     "data": {
      "application/vnd.jupyter.widget-view+json": {
       "model_id": "5248d1076726420f93d64720d9d23d67",
       "version_major": 2,
       "version_minor": 0
      },
      "text/plain": [
       "  0%|          | 0/295 [00:00<?, ?it/s]"
      ]
     },
     "metadata": {},
     "output_type": "display_data"
    },
    {
     "name": "stdout",
     "output_type": "stream",
     "text": [
      "epoch 243 average loss: 0.1106\n",
      "time consuming of epoch 243 is: 125.1750\n",
      "----------\n",
      "epoch 244/300\n"
     ]
    },
    {
     "data": {
      "application/vnd.jupyter.widget-view+json": {
       "model_id": "416abf3e0d624c5eb73b2690ae2ca831",
       "version_major": 2,
       "version_minor": 0
      },
      "text/plain": [
       "  0%|          | 0/295 [00:00<?, ?it/s]"
      ]
     },
     "metadata": {},
     "output_type": "display_data"
    },
    {
     "name": "stdout",
     "output_type": "stream",
     "text": [
      "epoch 244 average loss: 0.1102\n",
      "current epoch: 244 current mean dice: 0.7799 wt: 0.7799\n",
      "best mean dice: 0.7899 at epoch: 128\n",
      "time consuming of epoch 244 is: 141.9240\n",
      "----------\n",
      "epoch 245/300\n"
     ]
    },
    {
     "data": {
      "application/vnd.jupyter.widget-view+json": {
       "model_id": "d33c318a0f0e4249be62b159b45fd6be",
       "version_major": 2,
       "version_minor": 0
      },
      "text/plain": [
       "  0%|          | 0/295 [00:00<?, ?it/s]"
      ]
     },
     "metadata": {},
     "output_type": "display_data"
    },
    {
     "name": "stdout",
     "output_type": "stream",
     "text": [
      "epoch 245 average loss: 0.1101\n",
      "time consuming of epoch 245 is: 125.0631\n",
      "----------\n",
      "epoch 246/300\n"
     ]
    },
    {
     "data": {
      "application/vnd.jupyter.widget-view+json": {
       "model_id": "3b7c31b48d7d4721bd478fb4b4504cc4",
       "version_major": 2,
       "version_minor": 0
      },
      "text/plain": [
       "  0%|          | 0/295 [00:00<?, ?it/s]"
      ]
     },
     "metadata": {},
     "output_type": "display_data"
    },
    {
     "name": "stdout",
     "output_type": "stream",
     "text": [
      "epoch 246 average loss: 0.1104\n",
      "current epoch: 246 current mean dice: 0.7792 wt: 0.7792\n",
      "best mean dice: 0.7899 at epoch: 128\n",
      "time consuming of epoch 246 is: 141.9662\n",
      "----------\n",
      "epoch 247/300\n"
     ]
    },
    {
     "data": {
      "application/vnd.jupyter.widget-view+json": {
       "model_id": "58f9411045c748859c1ae8bfc201d288",
       "version_major": 2,
       "version_minor": 0
      },
      "text/plain": [
       "  0%|          | 0/295 [00:00<?, ?it/s]"
      ]
     },
     "metadata": {},
     "output_type": "display_data"
    },
    {
     "name": "stdout",
     "output_type": "stream",
     "text": [
      "epoch 247 average loss: 0.1105\n",
      "time consuming of epoch 247 is: 124.6202\n",
      "----------\n",
      "epoch 248/300\n"
     ]
    },
    {
     "data": {
      "application/vnd.jupyter.widget-view+json": {
       "model_id": "31c58f24d9a8433183a8a0fc728357af",
       "version_major": 2,
       "version_minor": 0
      },
      "text/plain": [
       "  0%|          | 0/295 [00:00<?, ?it/s]"
      ]
     },
     "metadata": {},
     "output_type": "display_data"
    },
    {
     "name": "stdout",
     "output_type": "stream",
     "text": [
      "epoch 248 average loss: 0.1106\n",
      "current epoch: 248 current mean dice: 0.7814 wt: 0.7814\n",
      "best mean dice: 0.7899 at epoch: 128\n",
      "time consuming of epoch 248 is: 141.4642\n",
      "----------\n",
      "epoch 249/300\n"
     ]
    },
    {
     "data": {
      "application/vnd.jupyter.widget-view+json": {
       "model_id": "a98294892386478bac8ce9eb3c5e28dc",
       "version_major": 2,
       "version_minor": 0
      },
      "text/plain": [
       "  0%|          | 0/295 [00:00<?, ?it/s]"
      ]
     },
     "metadata": {},
     "output_type": "display_data"
    },
    {
     "name": "stdout",
     "output_type": "stream",
     "text": [
      "epoch 249 average loss: 0.1100\n",
      "time consuming of epoch 249 is: 124.7316\n",
      "----------\n",
      "epoch 250/300\n"
     ]
    },
    {
     "data": {
      "application/vnd.jupyter.widget-view+json": {
       "model_id": "82cb23d5999f482a94273e4326819504",
       "version_major": 2,
       "version_minor": 0
      },
      "text/plain": [
       "  0%|          | 0/295 [00:00<?, ?it/s]"
      ]
     },
     "metadata": {},
     "output_type": "display_data"
    },
    {
     "name": "stdout",
     "output_type": "stream",
     "text": [
      "epoch 250 average loss: 0.1098\n",
      "current epoch: 250 current mean dice: 0.7756 wt: 0.7756\n",
      "best mean dice: 0.7899 at epoch: 128\n",
      "time consuming of epoch 250 is: 141.7158\n",
      "----------\n",
      "epoch 251/300\n"
     ]
    },
    {
     "data": {
      "application/vnd.jupyter.widget-view+json": {
       "model_id": "341dea2b0f32472abd7299be4dc0678b",
       "version_major": 2,
       "version_minor": 0
      },
      "text/plain": [
       "  0%|          | 0/295 [00:00<?, ?it/s]"
      ]
     },
     "metadata": {},
     "output_type": "display_data"
    },
    {
     "name": "stdout",
     "output_type": "stream",
     "text": [
      "epoch 251 average loss: 0.1102\n",
      "time consuming of epoch 251 is: 124.6753\n",
      "----------\n",
      "epoch 252/300\n"
     ]
    },
    {
     "data": {
      "application/vnd.jupyter.widget-view+json": {
       "model_id": "9f3787166fa54bf9b8e72024745650e2",
       "version_major": 2,
       "version_minor": 0
      },
      "text/plain": [
       "  0%|          | 0/295 [00:00<?, ?it/s]"
      ]
     },
     "metadata": {},
     "output_type": "display_data"
    },
    {
     "name": "stdout",
     "output_type": "stream",
     "text": [
      "epoch 252 average loss: 0.1107\n",
      "current epoch: 252 current mean dice: 0.7777 wt: 0.7777\n",
      "best mean dice: 0.7899 at epoch: 128\n",
      "time consuming of epoch 252 is: 141.7051\n",
      "----------\n",
      "epoch 253/300\n"
     ]
    },
    {
     "data": {
      "application/vnd.jupyter.widget-view+json": {
       "model_id": "91c72c410a784e98b416cd1cf1ceee5b",
       "version_major": 2,
       "version_minor": 0
      },
      "text/plain": [
       "  0%|          | 0/295 [00:00<?, ?it/s]"
      ]
     },
     "metadata": {},
     "output_type": "display_data"
    },
    {
     "name": "stdout",
     "output_type": "stream",
     "text": [
      "epoch 253 average loss: 0.1101\n",
      "time consuming of epoch 253 is: 124.8509\n",
      "----------\n",
      "epoch 254/300\n"
     ]
    },
    {
     "data": {
      "application/vnd.jupyter.widget-view+json": {
       "model_id": "228f10d6c7ef4fd49c709c8d68a4a581",
       "version_major": 2,
       "version_minor": 0
      },
      "text/plain": [
       "  0%|          | 0/295 [00:00<?, ?it/s]"
      ]
     },
     "metadata": {},
     "output_type": "display_data"
    },
    {
     "name": "stdout",
     "output_type": "stream",
     "text": [
      "epoch 254 average loss: 0.1093\n",
      "current epoch: 254 current mean dice: 0.7724 wt: 0.7724\n",
      "best mean dice: 0.7899 at epoch: 128\n",
      "time consuming of epoch 254 is: 141.7340\n",
      "----------\n",
      "epoch 255/300\n"
     ]
    },
    {
     "data": {
      "application/vnd.jupyter.widget-view+json": {
       "model_id": "734a20fc573a40cdb88d05b9393140d8",
       "version_major": 2,
       "version_minor": 0
      },
      "text/plain": [
       "  0%|          | 0/295 [00:00<?, ?it/s]"
      ]
     },
     "metadata": {},
     "output_type": "display_data"
    },
    {
     "name": "stdout",
     "output_type": "stream",
     "text": [
      "epoch 255 average loss: 0.1100\n",
      "time consuming of epoch 255 is: 124.5160\n",
      "----------\n",
      "epoch 256/300\n"
     ]
    },
    {
     "data": {
      "application/vnd.jupyter.widget-view+json": {
       "model_id": "50bdf85214fb4b398eb5b6d3aa115ce2",
       "version_major": 2,
       "version_minor": 0
      },
      "text/plain": [
       "  0%|          | 0/295 [00:00<?, ?it/s]"
      ]
     },
     "metadata": {},
     "output_type": "display_data"
    },
    {
     "name": "stdout",
     "output_type": "stream",
     "text": [
      "epoch 256 average loss: 0.1090\n",
      "current epoch: 256 current mean dice: 0.7829 wt: 0.7829\n",
      "best mean dice: 0.7899 at epoch: 128\n",
      "time consuming of epoch 256 is: 141.8480\n",
      "----------\n",
      "epoch 257/300\n"
     ]
    },
    {
     "data": {
      "application/vnd.jupyter.widget-view+json": {
       "model_id": "a117c7120acb4cc48f89e52f37aab7b4",
       "version_major": 2,
       "version_minor": 0
      },
      "text/plain": [
       "  0%|          | 0/295 [00:00<?, ?it/s]"
      ]
     },
     "metadata": {},
     "output_type": "display_data"
    },
    {
     "name": "stdout",
     "output_type": "stream",
     "text": [
      "epoch 257 average loss: 0.1098\n",
      "time consuming of epoch 257 is: 124.6480\n",
      "----------\n",
      "epoch 258/300\n"
     ]
    },
    {
     "data": {
      "application/vnd.jupyter.widget-view+json": {
       "model_id": "32f2a0b28d9347a38bf72b5ad942bc6e",
       "version_major": 2,
       "version_minor": 0
      },
      "text/plain": [
       "  0%|          | 0/295 [00:00<?, ?it/s]"
      ]
     },
     "metadata": {},
     "output_type": "display_data"
    },
    {
     "name": "stdout",
     "output_type": "stream",
     "text": [
      "epoch 258 average loss: 0.1096\n",
      "current epoch: 258 current mean dice: 0.7856 wt: 0.7856\n",
      "best mean dice: 0.7899 at epoch: 128\n",
      "time consuming of epoch 258 is: 141.6353\n",
      "----------\n",
      "epoch 259/300\n"
     ]
    },
    {
     "data": {
      "application/vnd.jupyter.widget-view+json": {
       "model_id": "58286d86a917498a9700ca02be6fb617",
       "version_major": 2,
       "version_minor": 0
      },
      "text/plain": [
       "  0%|          | 0/295 [00:00<?, ?it/s]"
      ]
     },
     "metadata": {},
     "output_type": "display_data"
    },
    {
     "name": "stdout",
     "output_type": "stream",
     "text": [
      "epoch 259 average loss: 0.1097\n",
      "time consuming of epoch 259 is: 124.7113\n",
      "----------\n",
      "epoch 260/300\n"
     ]
    },
    {
     "data": {
      "application/vnd.jupyter.widget-view+json": {
       "model_id": "dc7dfdb4b06c4f6a9ba69ded119779ff",
       "version_major": 2,
       "version_minor": 0
      },
      "text/plain": [
       "  0%|          | 0/295 [00:00<?, ?it/s]"
      ]
     },
     "metadata": {},
     "output_type": "display_data"
    },
    {
     "name": "stdout",
     "output_type": "stream",
     "text": [
      "epoch 260 average loss: 0.1100\n",
      "current epoch: 260 current mean dice: 0.7715 wt: 0.7715\n",
      "best mean dice: 0.7899 at epoch: 128\n",
      "time consuming of epoch 260 is: 141.6343\n",
      "----------\n",
      "epoch 261/300\n"
     ]
    },
    {
     "data": {
      "application/vnd.jupyter.widget-view+json": {
       "model_id": "1a153667980d4635a45ad8cb42d3b1c8",
       "version_major": 2,
       "version_minor": 0
      },
      "text/plain": [
       "  0%|          | 0/295 [00:00<?, ?it/s]"
      ]
     },
     "metadata": {},
     "output_type": "display_data"
    },
    {
     "name": "stdout",
     "output_type": "stream",
     "text": [
      "epoch 261 average loss: 0.1093\n",
      "time consuming of epoch 261 is: 124.6049\n",
      "----------\n",
      "epoch 262/300\n"
     ]
    },
    {
     "data": {
      "application/vnd.jupyter.widget-view+json": {
       "model_id": "f3d07344fffa4aacbbb871708ab1f87e",
       "version_major": 2,
       "version_minor": 0
      },
      "text/plain": [
       "  0%|          | 0/295 [00:00<?, ?it/s]"
      ]
     },
     "metadata": {},
     "output_type": "display_data"
    },
    {
     "name": "stdout",
     "output_type": "stream",
     "text": [
      "epoch 262 average loss: 0.1088\n",
      "current epoch: 262 current mean dice: 0.7815 wt: 0.7815\n",
      "best mean dice: 0.7899 at epoch: 128\n",
      "time consuming of epoch 262 is: 142.1836\n",
      "----------\n",
      "epoch 263/300\n"
     ]
    },
    {
     "data": {
      "application/vnd.jupyter.widget-view+json": {
       "model_id": "112bd725a9d6402d903b33e505917f31",
       "version_major": 2,
       "version_minor": 0
      },
      "text/plain": [
       "  0%|          | 0/295 [00:00<?, ?it/s]"
      ]
     },
     "metadata": {},
     "output_type": "display_data"
    },
    {
     "name": "stdout",
     "output_type": "stream",
     "text": [
      "epoch 263 average loss: 0.1094\n",
      "time consuming of epoch 263 is: 124.5202\n",
      "----------\n",
      "epoch 264/300\n"
     ]
    },
    {
     "data": {
      "application/vnd.jupyter.widget-view+json": {
       "model_id": "1dbadcdb3dbd4966aeef26456bb5852c",
       "version_major": 2,
       "version_minor": 0
      },
      "text/plain": [
       "  0%|          | 0/295 [00:00<?, ?it/s]"
      ]
     },
     "metadata": {},
     "output_type": "display_data"
    },
    {
     "name": "stdout",
     "output_type": "stream",
     "text": [
      "epoch 264 average loss: 0.1089\n",
      "current epoch: 264 current mean dice: 0.7659 wt: 0.7659\n",
      "best mean dice: 0.7899 at epoch: 128\n",
      "time consuming of epoch 264 is: 141.2651\n",
      "----------\n",
      "epoch 265/300\n"
     ]
    },
    {
     "data": {
      "application/vnd.jupyter.widget-view+json": {
       "model_id": "c37223c82c7941a5b5d6a23df87f34e6",
       "version_major": 2,
       "version_minor": 0
      },
      "text/plain": [
       "  0%|          | 0/295 [00:00<?, ?it/s]"
      ]
     },
     "metadata": {},
     "output_type": "display_data"
    },
    {
     "name": "stdout",
     "output_type": "stream",
     "text": [
      "epoch 265 average loss: 0.1087\n",
      "time consuming of epoch 265 is: 124.8120\n",
      "----------\n",
      "epoch 266/300\n"
     ]
    },
    {
     "data": {
      "application/vnd.jupyter.widget-view+json": {
       "model_id": "bb808aac452b4b0399b68f5c6ed1fca6",
       "version_major": 2,
       "version_minor": 0
      },
      "text/plain": [
       "  0%|          | 0/295 [00:00<?, ?it/s]"
      ]
     },
     "metadata": {},
     "output_type": "display_data"
    },
    {
     "name": "stdout",
     "output_type": "stream",
     "text": [
      "epoch 266 average loss: 0.1087\n",
      "current epoch: 266 current mean dice: 0.7715 wt: 0.7715\n",
      "best mean dice: 0.7899 at epoch: 128\n",
      "time consuming of epoch 266 is: 141.7482\n",
      "----------\n",
      "epoch 267/300\n"
     ]
    },
    {
     "data": {
      "application/vnd.jupyter.widget-view+json": {
       "model_id": "3332834e316e45dfa7b741a7d966a629",
       "version_major": 2,
       "version_minor": 0
      },
      "text/plain": [
       "  0%|          | 0/295 [00:00<?, ?it/s]"
      ]
     },
     "metadata": {},
     "output_type": "display_data"
    },
    {
     "name": "stdout",
     "output_type": "stream",
     "text": [
      "epoch 267 average loss: 0.1088\n",
      "time consuming of epoch 267 is: 125.1018\n",
      "----------\n",
      "epoch 268/300\n"
     ]
    },
    {
     "data": {
      "application/vnd.jupyter.widget-view+json": {
       "model_id": "4d1e1e44a4254cbf90d8027d0acf164d",
       "version_major": 2,
       "version_minor": 0
      },
      "text/plain": [
       "  0%|          | 0/295 [00:00<?, ?it/s]"
      ]
     },
     "metadata": {},
     "output_type": "display_data"
    },
    {
     "name": "stdout",
     "output_type": "stream",
     "text": [
      "epoch 268 average loss: 0.1083\n",
      "current epoch: 268 current mean dice: 0.7823 wt: 0.7823\n",
      "best mean dice: 0.7899 at epoch: 128\n",
      "time consuming of epoch 268 is: 141.8377\n",
      "----------\n",
      "epoch 269/300\n"
     ]
    },
    {
     "data": {
      "application/vnd.jupyter.widget-view+json": {
       "model_id": "d31e2e12d52045db95cac4ecf8c0a7b1",
       "version_major": 2,
       "version_minor": 0
      },
      "text/plain": [
       "  0%|          | 0/295 [00:00<?, ?it/s]"
      ]
     },
     "metadata": {},
     "output_type": "display_data"
    },
    {
     "name": "stdout",
     "output_type": "stream",
     "text": [
      "epoch 269 average loss: 0.1084\n",
      "time consuming of epoch 269 is: 125.2603\n",
      "----------\n",
      "epoch 270/300\n"
     ]
    },
    {
     "data": {
      "application/vnd.jupyter.widget-view+json": {
       "model_id": "dd1ea27487d0415c86a0016d8e22e5fa",
       "version_major": 2,
       "version_minor": 0
      },
      "text/plain": [
       "  0%|          | 0/295 [00:00<?, ?it/s]"
      ]
     },
     "metadata": {},
     "output_type": "display_data"
    },
    {
     "name": "stdout",
     "output_type": "stream",
     "text": [
      "epoch 270 average loss: 0.1086\n",
      "current epoch: 270 current mean dice: 0.7745 wt: 0.7745\n",
      "best mean dice: 0.7899 at epoch: 128\n",
      "time consuming of epoch 270 is: 142.1397\n",
      "----------\n",
      "epoch 271/300\n"
     ]
    },
    {
     "data": {
      "application/vnd.jupyter.widget-view+json": {
       "model_id": "b202d69b6aa54bcb9eb31058a72e1c19",
       "version_major": 2,
       "version_minor": 0
      },
      "text/plain": [
       "  0%|          | 0/295 [00:00<?, ?it/s]"
      ]
     },
     "metadata": {},
     "output_type": "display_data"
    },
    {
     "name": "stdout",
     "output_type": "stream",
     "text": [
      "epoch 271 average loss: 0.1087\n",
      "time consuming of epoch 271 is: 124.8915\n",
      "----------\n",
      "epoch 272/300\n"
     ]
    },
    {
     "data": {
      "application/vnd.jupyter.widget-view+json": {
       "model_id": "0f65af5ca7174164a3027cef89cbe2be",
       "version_major": 2,
       "version_minor": 0
      },
      "text/plain": [
       "  0%|          | 0/295 [00:00<?, ?it/s]"
      ]
     },
     "metadata": {},
     "output_type": "display_data"
    },
    {
     "name": "stdout",
     "output_type": "stream",
     "text": [
      "epoch 272 average loss: 0.1074\n",
      "current epoch: 272 current mean dice: 0.7775 wt: 0.7775\n",
      "best mean dice: 0.7899 at epoch: 128\n",
      "time consuming of epoch 272 is: 141.7644\n",
      "----------\n",
      "epoch 273/300\n"
     ]
    },
    {
     "data": {
      "application/vnd.jupyter.widget-view+json": {
       "model_id": "3ecc0abb234b4f7e9b79c9c12a63e167",
       "version_major": 2,
       "version_minor": 0
      },
      "text/plain": [
       "  0%|          | 0/295 [00:00<?, ?it/s]"
      ]
     },
     "metadata": {},
     "output_type": "display_data"
    },
    {
     "name": "stdout",
     "output_type": "stream",
     "text": [
      "epoch 273 average loss: 0.1085\n",
      "time consuming of epoch 273 is: 125.1077\n",
      "----------\n",
      "epoch 274/300\n"
     ]
    },
    {
     "data": {
      "application/vnd.jupyter.widget-view+json": {
       "model_id": "02a0c4cbcd064eddaa7831a253cd9771",
       "version_major": 2,
       "version_minor": 0
      },
      "text/plain": [
       "  0%|          | 0/295 [00:00<?, ?it/s]"
      ]
     },
     "metadata": {},
     "output_type": "display_data"
    },
    {
     "name": "stdout",
     "output_type": "stream",
     "text": [
      "epoch 274 average loss: 0.1082\n",
      "current epoch: 274 current mean dice: 0.7779 wt: 0.7779\n",
      "best mean dice: 0.7899 at epoch: 128\n",
      "time consuming of epoch 274 is: 141.5671\n",
      "----------\n",
      "epoch 275/300\n"
     ]
    },
    {
     "data": {
      "application/vnd.jupyter.widget-view+json": {
       "model_id": "55038eacccf74437ba01bc5fcf315378",
       "version_major": 2,
       "version_minor": 0
      },
      "text/plain": [
       "  0%|          | 0/295 [00:00<?, ?it/s]"
      ]
     },
     "metadata": {},
     "output_type": "display_data"
    },
    {
     "name": "stdout",
     "output_type": "stream",
     "text": [
      "epoch 275 average loss: 0.1080\n",
      "time consuming of epoch 275 is: 125.3157\n",
      "----------\n",
      "epoch 276/300\n"
     ]
    },
    {
     "data": {
      "application/vnd.jupyter.widget-view+json": {
       "model_id": "384261648b20404ab495e0d6c57717fe",
       "version_major": 2,
       "version_minor": 0
      },
      "text/plain": [
       "  0%|          | 0/295 [00:00<?, ?it/s]"
      ]
     },
     "metadata": {},
     "output_type": "display_data"
    },
    {
     "name": "stdout",
     "output_type": "stream",
     "text": [
      "epoch 276 average loss: 0.1083\n",
      "current epoch: 276 current mean dice: 0.7785 wt: 0.7785\n",
      "best mean dice: 0.7899 at epoch: 128\n",
      "time consuming of epoch 276 is: 141.7260\n",
      "----------\n",
      "epoch 277/300\n"
     ]
    },
    {
     "data": {
      "application/vnd.jupyter.widget-view+json": {
       "model_id": "358a57bf34114bed9601910f0d2d5b91",
       "version_major": 2,
       "version_minor": 0
      },
      "text/plain": [
       "  0%|          | 0/295 [00:00<?, ?it/s]"
      ]
     },
     "metadata": {},
     "output_type": "display_data"
    },
    {
     "name": "stdout",
     "output_type": "stream",
     "text": [
      "epoch 277 average loss: 0.1086\n",
      "time consuming of epoch 277 is: 124.8172\n",
      "----------\n",
      "epoch 278/300\n"
     ]
    },
    {
     "data": {
      "application/vnd.jupyter.widget-view+json": {
       "model_id": "66fd54af3b3c400f998966281eca96a5",
       "version_major": 2,
       "version_minor": 0
      },
      "text/plain": [
       "  0%|          | 0/295 [00:00<?, ?it/s]"
      ]
     },
     "metadata": {},
     "output_type": "display_data"
    },
    {
     "name": "stdout",
     "output_type": "stream",
     "text": [
      "epoch 278 average loss: 0.1077\n",
      "current epoch: 278 current mean dice: 0.7617 wt: 0.7617\n",
      "best mean dice: 0.7899 at epoch: 128\n",
      "time consuming of epoch 278 is: 142.1905\n",
      "----------\n",
      "epoch 279/300\n"
     ]
    },
    {
     "data": {
      "application/vnd.jupyter.widget-view+json": {
       "model_id": "bc140787fecc481685286558b1fab523",
       "version_major": 2,
       "version_minor": 0
      },
      "text/plain": [
       "  0%|          | 0/295 [00:00<?, ?it/s]"
      ]
     },
     "metadata": {},
     "output_type": "display_data"
    },
    {
     "name": "stdout",
     "output_type": "stream",
     "text": [
      "epoch 279 average loss: 0.1079\n",
      "time consuming of epoch 279 is: 125.1196\n",
      "----------\n",
      "epoch 280/300\n"
     ]
    },
    {
     "data": {
      "application/vnd.jupyter.widget-view+json": {
       "model_id": "fd36ac96e4654cf289dc5b694f997ebb",
       "version_major": 2,
       "version_minor": 0
      },
      "text/plain": [
       "  0%|          | 0/295 [00:00<?, ?it/s]"
      ]
     },
     "metadata": {},
     "output_type": "display_data"
    },
    {
     "name": "stdout",
     "output_type": "stream",
     "text": [
      "epoch 280 average loss: 0.1085\n",
      "current epoch: 280 current mean dice: 0.7791 wt: 0.7791\n",
      "best mean dice: 0.7899 at epoch: 128\n",
      "time consuming of epoch 280 is: 142.1550\n",
      "----------\n",
      "epoch 281/300\n"
     ]
    },
    {
     "data": {
      "application/vnd.jupyter.widget-view+json": {
       "model_id": "22c2dee867ae40d3b8f5a754a751d76b",
       "version_major": 2,
       "version_minor": 0
      },
      "text/plain": [
       "  0%|          | 0/295 [00:00<?, ?it/s]"
      ]
     },
     "metadata": {},
     "output_type": "display_data"
    },
    {
     "name": "stdout",
     "output_type": "stream",
     "text": [
      "epoch 281 average loss: 0.1081\n",
      "time consuming of epoch 281 is: 124.7632\n",
      "----------\n",
      "epoch 282/300\n"
     ]
    },
    {
     "data": {
      "application/vnd.jupyter.widget-view+json": {
       "model_id": "f7e83cf63e57431d892d789294fc7996",
       "version_major": 2,
       "version_minor": 0
      },
      "text/plain": [
       "  0%|          | 0/295 [00:00<?, ?it/s]"
      ]
     },
     "metadata": {},
     "output_type": "display_data"
    },
    {
     "name": "stdout",
     "output_type": "stream",
     "text": [
      "epoch 282 average loss: 0.1080\n",
      "current epoch: 282 current mean dice: 0.7809 wt: 0.7809\n",
      "best mean dice: 0.7899 at epoch: 128\n",
      "time consuming of epoch 282 is: 141.7564\n",
      "----------\n",
      "epoch 283/300\n"
     ]
    },
    {
     "data": {
      "application/vnd.jupyter.widget-view+json": {
       "model_id": "41ecc14c83c745c2b5376dee632eabf2",
       "version_major": 2,
       "version_minor": 0
      },
      "text/plain": [
       "  0%|          | 0/295 [00:00<?, ?it/s]"
      ]
     },
     "metadata": {},
     "output_type": "display_data"
    },
    {
     "name": "stdout",
     "output_type": "stream",
     "text": [
      "epoch 283 average loss: 0.1086\n",
      "time consuming of epoch 283 is: 125.1014\n",
      "----------\n",
      "epoch 284/300\n"
     ]
    },
    {
     "data": {
      "application/vnd.jupyter.widget-view+json": {
       "model_id": "c14eef5c8894436990f71e3faf929c2c",
       "version_major": 2,
       "version_minor": 0
      },
      "text/plain": [
       "  0%|          | 0/295 [00:00<?, ?it/s]"
      ]
     },
     "metadata": {},
     "output_type": "display_data"
    },
    {
     "name": "stdout",
     "output_type": "stream",
     "text": [
      "epoch 284 average loss: 0.1076\n",
      "current epoch: 284 current mean dice: 0.7804 wt: 0.7804\n",
      "best mean dice: 0.7899 at epoch: 128\n",
      "time consuming of epoch 284 is: 142.2092\n",
      "----------\n",
      "epoch 285/300\n"
     ]
    },
    {
     "data": {
      "application/vnd.jupyter.widget-view+json": {
       "model_id": "062f23295a114a72b2b0f2696529b904",
       "version_major": 2,
       "version_minor": 0
      },
      "text/plain": [
       "  0%|          | 0/295 [00:00<?, ?it/s]"
      ]
     },
     "metadata": {},
     "output_type": "display_data"
    },
    {
     "name": "stdout",
     "output_type": "stream",
     "text": [
      "epoch 285 average loss: 0.1080\n",
      "time consuming of epoch 285 is: 125.3254\n",
      "----------\n",
      "epoch 286/300\n"
     ]
    },
    {
     "data": {
      "application/vnd.jupyter.widget-view+json": {
       "model_id": "7f525e138c5343008471c3781fd29d6b",
       "version_major": 2,
       "version_minor": 0
      },
      "text/plain": [
       "  0%|          | 0/295 [00:00<?, ?it/s]"
      ]
     },
     "metadata": {},
     "output_type": "display_data"
    },
    {
     "name": "stdout",
     "output_type": "stream",
     "text": [
      "epoch 286 average loss: 0.1076\n",
      "current epoch: 286 current mean dice: 0.7801 wt: 0.7801\n",
      "best mean dice: 0.7899 at epoch: 128\n",
      "time consuming of epoch 286 is: 141.6047\n",
      "----------\n",
      "epoch 287/300\n"
     ]
    },
    {
     "data": {
      "application/vnd.jupyter.widget-view+json": {
       "model_id": "c879e2e9bc0a4464a6d05a76d1b9a5a8",
       "version_major": 2,
       "version_minor": 0
      },
      "text/plain": [
       "  0%|          | 0/295 [00:00<?, ?it/s]"
      ]
     },
     "metadata": {},
     "output_type": "display_data"
    },
    {
     "name": "stdout",
     "output_type": "stream",
     "text": [
      "epoch 287 average loss: 0.1077\n",
      "time consuming of epoch 287 is: 124.7427\n",
      "----------\n",
      "epoch 288/300\n"
     ]
    },
    {
     "data": {
      "application/vnd.jupyter.widget-view+json": {
       "model_id": "79dfe8e6e9bd4557b09e59bbe2d8df9c",
       "version_major": 2,
       "version_minor": 0
      },
      "text/plain": [
       "  0%|          | 0/295 [00:00<?, ?it/s]"
      ]
     },
     "metadata": {},
     "output_type": "display_data"
    },
    {
     "name": "stdout",
     "output_type": "stream",
     "text": [
      "epoch 288 average loss: 0.1079\n",
      "current epoch: 288 current mean dice: 0.7757 wt: 0.7757\n",
      "best mean dice: 0.7899 at epoch: 128\n",
      "time consuming of epoch 288 is: 141.9419\n",
      "----------\n",
      "epoch 289/300\n"
     ]
    },
    {
     "data": {
      "application/vnd.jupyter.widget-view+json": {
       "model_id": "de930c1b1ae54d0eb32dec9643055a57",
       "version_major": 2,
       "version_minor": 0
      },
      "text/plain": [
       "  0%|          | 0/295 [00:00<?, ?it/s]"
      ]
     },
     "metadata": {},
     "output_type": "display_data"
    },
    {
     "name": "stdout",
     "output_type": "stream",
     "text": [
      "epoch 289 average loss: 0.1082\n",
      "time consuming of epoch 289 is: 124.7433\n",
      "----------\n",
      "epoch 290/300\n"
     ]
    },
    {
     "data": {
      "application/vnd.jupyter.widget-view+json": {
       "model_id": "d0130e510491404d874a7cd3eeb8bea7",
       "version_major": 2,
       "version_minor": 0
      },
      "text/plain": [
       "  0%|          | 0/295 [00:00<?, ?it/s]"
      ]
     },
     "metadata": {},
     "output_type": "display_data"
    },
    {
     "name": "stdout",
     "output_type": "stream",
     "text": [
      "epoch 290 average loss: 0.1077\n",
      "current epoch: 290 current mean dice: 0.7800 wt: 0.7800\n",
      "best mean dice: 0.7899 at epoch: 128\n",
      "time consuming of epoch 290 is: 141.7083\n",
      "----------\n",
      "epoch 291/300\n"
     ]
    },
    {
     "data": {
      "application/vnd.jupyter.widget-view+json": {
       "model_id": "25c4b34bc93a42a981d227859a2306b3",
       "version_major": 2,
       "version_minor": 0
      },
      "text/plain": [
       "  0%|          | 0/295 [00:00<?, ?it/s]"
      ]
     },
     "metadata": {},
     "output_type": "display_data"
    },
    {
     "name": "stdout",
     "output_type": "stream",
     "text": [
      "epoch 291 average loss: 0.1084\n",
      "time consuming of epoch 291 is: 125.0028\n",
      "----------\n",
      "epoch 292/300\n"
     ]
    },
    {
     "data": {
      "application/vnd.jupyter.widget-view+json": {
       "model_id": "0dd0c81d36254ef49c00c5c103fb599d",
       "version_major": 2,
       "version_minor": 0
      },
      "text/plain": [
       "  0%|          | 0/295 [00:00<?, ?it/s]"
      ]
     },
     "metadata": {},
     "output_type": "display_data"
    },
    {
     "name": "stdout",
     "output_type": "stream",
     "text": [
      "epoch 292 average loss: 0.1088\n",
      "current epoch: 292 current mean dice: 0.7836 wt: 0.7836\n",
      "best mean dice: 0.7899 at epoch: 128\n",
      "time consuming of epoch 292 is: 141.8854\n",
      "----------\n",
      "epoch 293/300\n"
     ]
    },
    {
     "data": {
      "application/vnd.jupyter.widget-view+json": {
       "model_id": "ea72e289f6134b57b2e9d8f418b5cbee",
       "version_major": 2,
       "version_minor": 0
      },
      "text/plain": [
       "  0%|          | 0/295 [00:00<?, ?it/s]"
      ]
     },
     "metadata": {},
     "output_type": "display_data"
    },
    {
     "name": "stdout",
     "output_type": "stream",
     "text": [
      "epoch 293 average loss: 0.1078\n",
      "time consuming of epoch 293 is: 125.3407\n",
      "----------\n",
      "epoch 294/300\n"
     ]
    },
    {
     "data": {
      "application/vnd.jupyter.widget-view+json": {
       "model_id": "f1485287c20e42af955f8a6943170e39",
       "version_major": 2,
       "version_minor": 0
      },
      "text/plain": [
       "  0%|          | 0/295 [00:00<?, ?it/s]"
      ]
     },
     "metadata": {},
     "output_type": "display_data"
    },
    {
     "name": "stdout",
     "output_type": "stream",
     "text": [
      "epoch 294 average loss: 0.1081\n",
      "current epoch: 294 current mean dice: 0.7806 wt: 0.7806\n",
      "best mean dice: 0.7899 at epoch: 128\n",
      "time consuming of epoch 294 is: 142.2911\n",
      "----------\n",
      "epoch 295/300\n"
     ]
    },
    {
     "data": {
      "application/vnd.jupyter.widget-view+json": {
       "model_id": "0e8d1588d8914cb98620f6f1a1ef1a3a",
       "version_major": 2,
       "version_minor": 0
      },
      "text/plain": [
       "  0%|          | 0/295 [00:00<?, ?it/s]"
      ]
     },
     "metadata": {},
     "output_type": "display_data"
    },
    {
     "name": "stdout",
     "output_type": "stream",
     "text": [
      "epoch 295 average loss: 0.1076\n",
      "time consuming of epoch 295 is: 125.3735\n",
      "----------\n",
      "epoch 296/300\n"
     ]
    },
    {
     "data": {
      "application/vnd.jupyter.widget-view+json": {
       "model_id": "622af46999004e59adcd1fc6e64ffefc",
       "version_major": 2,
       "version_minor": 0
      },
      "text/plain": [
       "  0%|          | 0/295 [00:00<?, ?it/s]"
      ]
     },
     "metadata": {},
     "output_type": "display_data"
    },
    {
     "name": "stdout",
     "output_type": "stream",
     "text": [
      "epoch 296 average loss: 0.1080\n",
      "current epoch: 296 current mean dice: 0.7749 wt: 0.7749\n",
      "best mean dice: 0.7899 at epoch: 128\n",
      "time consuming of epoch 296 is: 142.1438\n",
      "----------\n",
      "epoch 297/300\n"
     ]
    },
    {
     "data": {
      "application/vnd.jupyter.widget-view+json": {
       "model_id": "818663ba116f452b91a9b2ac052b243d",
       "version_major": 2,
       "version_minor": 0
      },
      "text/plain": [
       "  0%|          | 0/295 [00:00<?, ?it/s]"
      ]
     },
     "metadata": {},
     "output_type": "display_data"
    },
    {
     "name": "stdout",
     "output_type": "stream",
     "text": [
      "epoch 297 average loss: 0.1076\n",
      "time consuming of epoch 297 is: 125.2893\n",
      "----------\n",
      "epoch 298/300\n"
     ]
    },
    {
     "data": {
      "application/vnd.jupyter.widget-view+json": {
       "model_id": "35f26c6e70284eb397094076282d0b5d",
       "version_major": 2,
       "version_minor": 0
      },
      "text/plain": [
       "  0%|          | 0/295 [00:00<?, ?it/s]"
      ]
     },
     "metadata": {},
     "output_type": "display_data"
    },
    {
     "name": "stdout",
     "output_type": "stream",
     "text": [
      "epoch 298 average loss: 0.1078\n",
      "current epoch: 298 current mean dice: 0.7755 wt: 0.7755\n",
      "best mean dice: 0.7899 at epoch: 128\n",
      "time consuming of epoch 298 is: 142.3577\n",
      "----------\n",
      "epoch 299/300\n"
     ]
    },
    {
     "data": {
      "application/vnd.jupyter.widget-view+json": {
       "model_id": "a8bdc06bcdeb4d6486c2f35ca51eb2d9",
       "version_major": 2,
       "version_minor": 0
      },
      "text/plain": [
       "  0%|          | 0/295 [00:00<?, ?it/s]"
      ]
     },
     "metadata": {},
     "output_type": "display_data"
    },
    {
     "name": "stdout",
     "output_type": "stream",
     "text": [
      "epoch 299 average loss: 0.1079\n",
      "time consuming of epoch 299 is: 124.9602\n",
      "----------\n",
      "epoch 300/300\n"
     ]
    },
    {
     "data": {
      "application/vnd.jupyter.widget-view+json": {
       "model_id": "9026581571094246b1f91fa0d731aaa7",
       "version_major": 2,
       "version_minor": 0
      },
      "text/plain": [
       "  0%|          | 0/295 [00:00<?, ?it/s]"
      ]
     },
     "metadata": {},
     "output_type": "display_data"
    },
    {
     "name": "stdout",
     "output_type": "stream",
     "text": [
      "epoch 300 average loss: 0.1081\n",
      "current epoch: 300 current mean dice: 0.7775 wt: 0.7775\n",
      "best mean dice: 0.7899 at epoch: 128\n",
      "time consuming of epoch 300 is: 141.7673\n"
     ]
    }
   ],
   "source": [
    "best_metric = -1\n",
    "best_metric_epoch = -1\n",
    "best_metrics_epochs_and_time = [[], [], []]\n",
    "epoch_loss_values = []\n",
    "metric_values = []\n",
    "metric_values_wt = []\n",
    "\n",
    "total_start = time()\n",
    "for epoch in range(max_epochs):\n",
    "    epoch_start = time()\n",
    "    print(\"-\" * 10)\n",
    "    print(f\"epoch {epoch + 1}/{max_epochs}\")\n",
    "    model.train()\n",
    "    epoch_loss = 0\n",
    "    step = 0\n",
    "    for batch_data in (pbar:= tqdm(train_loader)):\n",
    "        step_start = time()\n",
    "        step += 1\n",
    "        inputs, labels = (\n",
    "            batch_data[\"image\"].to(device),\n",
    "            batch_data[\"label\"].to(device),\n",
    "        )\n",
    "        optimizer.zero_grad()\n",
    "        with torch.amp.autocast(device_type='cuda'):\n",
    "            outputs = model(inputs)\n",
    "            loss = loss_function(outputs, labels)\n",
    "        scaler.scale(loss).backward()\n",
    "        scaler.step(optimizer)\n",
    "        scaler.update()\n",
    "        epoch_loss += loss.item()\n",
    "        pbar.set_description(\n",
    "            f\"{step}/{len(train_ds) // train_loader.batch_size}\"\n",
    "            f\", train_loss: {loss.item():.4f}\"\n",
    "            f\", step time: {(time() - step_start):.4f}\"\n",
    "        )\n",
    "    lr_scheduler.step()\n",
    "    epoch_loss /= step\n",
    "    epoch_loss_values.append(epoch_loss)\n",
    "    print(f\"epoch {epoch + 1} average loss: {epoch_loss:.4f}\")\n",
    "\n",
    "    if (epoch + 1) % val_interval == 0:\n",
    "        model.eval()\n",
    "        with torch.no_grad():\n",
    "            for val_data in val_loader:\n",
    "                val_inputs, val_labels = (\n",
    "                    val_data[\"image\"].to(device),\n",
    "                    val_data[\"label\"].to(device),\n",
    "                )\n",
    "                val_outputs = inference(val_inputs)\n",
    "                val_outputs = [post_trans(i) for i in decollate_batch(val_outputs)]\n",
    "                dice_metric(y_pred=val_outputs, y=val_labels)\n",
    "                dice_metric_batch(y_pred=val_outputs, y=val_labels)\n",
    "\n",
    "            metric = dice_metric.aggregate().item()\n",
    "            metric_values.append(metric)\n",
    "            metric_batch = dice_metric_batch.aggregate()\n",
    "            metric_wt = metric_batch[0].item()\n",
    "            metric_values_wt.append(metric_wt)\n",
    "            dice_metric.reset()\n",
    "            dice_metric_batch.reset()\n",
    "\n",
    "            if metric > best_metric:\n",
    "                best_metric = metric\n",
    "                best_metric_epoch = epoch + 1\n",
    "                best_metrics_epochs_and_time[0].append(best_metric)\n",
    "                best_metrics_epochs_and_time[1].append(best_metric_epoch)\n",
    "                best_metrics_epochs_and_time[2].append(time() - total_start)\n",
    "                torch.save(\n",
    "                    model.state_dict(),\n",
    "                    os.path.join('Checkpoints', \"best_metric_model.pth\"),\n",
    "                )\n",
    "                print(\"saved new best metric model\")\n",
    "            print(\n",
    "                f\"current epoch: {epoch + 1} current mean dice: {metric:.4f}\"\n",
    "                f\" wt: {metric_wt:.4f}\"\n",
    "                f\"\\nbest mean dice: {best_metric:.4f}\"\n",
    "                f\" at epoch: {best_metric_epoch}\"\n",
    "            )\n",
    "    print(f\"time consuming of epoch {epoch + 1} is: {(time() - epoch_start):.4f}\")\n",
    "total_time = time() - total_start"
   ]
  },
  {
   "cell_type": "markdown",
   "id": "f563a63e6f4a3a39",
   "metadata": {},
   "source": [
    "## Plot Loss and Acuracy"
   ]
  },
  {
   "cell_type": "code",
   "execution_count": 10,
   "id": "2af0d3043cced787",
   "metadata": {},
   "outputs": [
    {
     "data": {
      "image/png": "[encoded data removed]",
      "text/plain": [
       "<Figure size 1200x600 with 2 Axes>"
      ]
     },
     "metadata": {},
     "output_type": "display_data"
    },
    {
     "ename": "NameError",
     "evalue": "name 'metric_values_tc' is not defined",
     "output_type": "error",
     "traceback": [
      "\u001b[0;31m---------------------------------------------------------------------------\u001b[0m",
      "\u001b[0;31mNameError\u001b[0m                                 Traceback (most recent call last)",
      "Cell \u001b[0;32mIn[10], line 19\u001b[0m\n\u001b[1;32m     17\u001b[0m plt\u001b[38;5;241m.\u001b[39msubplot(\u001b[38;5;241m1\u001b[39m, \u001b[38;5;241m3\u001b[39m, \u001b[38;5;241m1\u001b[39m)\n\u001b[1;32m     18\u001b[0m plt\u001b[38;5;241m.\u001b[39mtitle(\u001b[38;5;124m\"\u001b[39m\u001b[38;5;124mVal Mean Dice TC\u001b[39m\u001b[38;5;124m\"\u001b[39m)\n\u001b[0;32m---> 19\u001b[0m x \u001b[38;5;241m=\u001b[39m [val_interval \u001b[38;5;241m*\u001b[39m (i \u001b[38;5;241m+\u001b[39m \u001b[38;5;241m1\u001b[39m) \u001b[38;5;28;01mfor\u001b[39;00m i \u001b[38;5;129;01min\u001b[39;00m \u001b[38;5;28mrange\u001b[39m(\u001b[38;5;28mlen\u001b[39m(\u001b[43mmetric_values_tc\u001b[49m))]\n\u001b[1;32m     20\u001b[0m y \u001b[38;5;241m=\u001b[39m metric_values_tc\n\u001b[1;32m     21\u001b[0m plt\u001b[38;5;241m.\u001b[39mxlabel(\u001b[38;5;124m\"\u001b[39m\u001b[38;5;124mepoch\u001b[39m\u001b[38;5;124m\"\u001b[39m)\n",
      "\u001b[0;31mNameError\u001b[0m: name 'metric_values_tc' is not defined"
     ]
    },
    {
     "data": {
      "image/png": "[encoded data removed]",
      "text/plain": [
       "<Figure size 1800x600 with 1 Axes>"
      ]
     },
     "metadata": {},
     "output_type": "display_data"
    }
   ],
   "source": [
    "plt.figure(\"train\", (12, 6))\n",
    "plt.subplot(1, 2, 1)\n",
    "plt.title(\"Epoch Average Loss\")\n",
    "x = [i + 1 for i in range(len(epoch_loss_values))]\n",
    "y = epoch_loss_values\n",
    "plt.xlabel(\"epoch\")\n",
    "plt.plot(x, y, color=\"red\")\n",
    "plt.subplot(1, 2, 2)\n",
    "plt.title(\"Val Mean Dice\")\n",
    "x = [val_interval * (i + 1) for i in range(len(metric_values))]\n",
    "y = metric_values\n",
    "plt.xlabel(\"epoch\")\n",
    "plt.plot(x, y, color=\"green\")\n",
    "plt.show()\n",
    "\n",
    "plt.figure(\"train\", (18, 6))\n",
    "plt.subplot(1, 3, 1)\n",
    "plt.title(\"Val Mean Dice TC\")\n",
    "x = [val_interval * (i + 1) for i in range(len(metric_values_tc))]\n",
    "y = metric_values_tc\n",
    "plt.xlabel(\"epoch\")\n",
    "plt.plot(x, y, color=\"blue\")\n",
    "plt.subplot(1, 3, 2)\n",
    "plt.title(\"Val Mean Dice WT\")\n",
    "x = [val_interval * (i + 1) for i in range(len(metric_values_wt))]\n",
    "y = metric_values_wt\n",
    "plt.xlabel(\"epoch\")\n",
    "plt.plot(x, y, color=\"brown\")\n",
    "plt.subplot(1, 3, 3)\n",
    "plt.title(\"Val Mean Dice ET\")\n",
    "x = [val_interval * (i + 1) for i in range(len(metric_values_et))]\n",
    "y = metric_values_et\n",
    "plt.xlabel(\"epoch\")\n",
    "plt.plot(x, y, color=\"purple\")\n",
    "plt.show()"
   ]
  },
  {
   "cell_type": "markdown",
   "id": "b7865429669545e2",
   "metadata": {},
   "source": [
    "## Test"
   ]
  },
  {
   "cell_type": "code",
   "execution_count": 11,
   "id": "adbcee3452809100",
   "metadata": {},
   "outputs": [
    {
     "name": "stderr",
     "output_type": "stream",
     "text": [
      "You are using `torch.load` with `weights_only=False` (the current default value), which uses the default pickle module implicitly. It is possible to construct malicious pickle data which will execute arbitrary code during unpickling (See https://github.com/pytorch/pytorch/blob/main/SECURITY.md#untrusted-models for more details). In a future release, the default value for `weights_only` will be flipped to `True`. This limits the functions that could be executed during unpickling. Arbitrary objects will no longer be allowed to be loaded via this mode unless they are explicitly allowlisted by the user via `torch.serialization.add_safe_globals`. We recommend you start setting `weights_only=True` for any use case where you don't have full control of the loaded file. Please open an issue on GitHub for any issues related to this experimental feature.\n"
     ]
    },
    {
     "data": {
      "image/png": "[encoded data removed]",
      "text/plain": [
       "<Figure size 2400x600 with 1 Axes>"
      ]
     },
     "metadata": {},
     "output_type": "display_data"
    },
    {
     "data": {
      "image/png": "[encoded data removed]",
      "text/plain": [
       "<Figure size 1800x600 with 1 Axes>"
      ]
     },
     "metadata": {},
     "output_type": "display_data"
    },
    {
     "data": {
      "image/png": "[encoded data removed]",
      "text/plain": [
       "<Figure size 1800x600 with 1 Axes>"
      ]
     },
     "metadata": {},
     "output_type": "display_data"
    }
   ],
   "source": [
    "model.load_state_dict(torch.load(os.path.join('Checkpoints', \"best_metric_model.pth\")))\n",
    "model.eval()\n",
    "with torch.no_grad():\n",
    "    # select one image to evaluate and visualize the model output\n",
    "    val_input = val_ds[6][\"image\"].unsqueeze(0).to(device)\n",
    "    roi_size = (128, 128, 64)\n",
    "    sw_batch_size = 4\n",
    "    val_output = inference(val_input)\n",
    "    val_output = post_trans(val_output[0])\n",
    "    plt.figure(\"image\", (24, 6))\n",
    "    for i in range(1):\n",
    "        plt.subplot(1, 4, i + 1)\n",
    "        plt.title(f\"image channel {i}\")\n",
    "        plt.imshow(val_ds[6][\"image\"][i, :, :, 70].detach().cpu(), cmap=\"gray\")\n",
    "    plt.show()\n",
    "    # visualize the 3 channels label corresponding to this image\n",
    "    plt.figure(\"label\", (18, 6))\n",
    "    for i in range(1):\n",
    "        plt.subplot(1, 3, i + 1)\n",
    "        plt.title(f\"label channel {i}\")\n",
    "        plt.imshow(val_ds[6][\"label\"][i, :, :, 70].detach().cpu())\n",
    "    plt.show()\n",
    "    # visualize the 3 channels model output corresponding to this image\n",
    "    plt.figure(\"output\", (18, 6))\n",
    "    for i in range(1):\n",
    "        plt.subplot(1, 3, i + 1)\n",
    "        plt.title(f\"output channel {i}\")\n",
    "        plt.imshow(val_output[i, :, :, 70].detach().cpu())\n",
    "    plt.show()"
   ]
  },
  {
   "cell_type": "code",
   "execution_count": null,
   "id": "2d649972-e9ee-47d7-8ca5-5d1bd0445fff",
   "metadata": {},
   "outputs": [],
   "source": []
  }
 ],
 "metadata": {
  "kernelspec": {
   "display_name": "Python 3 (ipykernel)",
   "language": "python",
   "name": "python3"
  },
  "language_info": {
   "codemirror_mode": {
    "name": "ipython",
    "version": 3
   },
   "file_extension": ".py",
   "mimetype": "text/x-python",
   "name": "python",
   "nbconvert_exporter": "python",
   "pygments_lexer": "ipython3",
   "version": "3.10.14"
  }
 },
 "nbformat": 4,
 "nbformat_minor": 5
}
